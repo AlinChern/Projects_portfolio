{
 "cells": [
  {
   "cell_type": "markdown",
   "id": "bdadac92-2a55-4103-80d5-47419ef0ab83",
   "metadata": {},
   "source": [
    "# Прототип модели машинного обучения для предприятий золотодобывающей отрасли"
   ]
  },
  {
   "cell_type": "markdown",
   "id": "5345fc7d-96d8-4182-86db-1db294e9ab2d",
   "metadata": {},
   "source": [
    "**Данные для исследования** — данные с параметрами добычи и очистки (данные находятся в трёх файлах).\n",
    "\n",
    "**Цель исследования** - подготовить прототип модели машинного обучения для компании «Цифры». Компания разрабатывает решения для эффективной работы промышленных предприятий. \n",
    "Модель должна предсказать коэффициент восстановления золота из золотосодержащей руды. Модель поможет оптимизировать производство, чтобы не запускать предприятие с убыточными характеристиками. \n",
    "\n",
    "**Ход исследования**\n",
    "\n",
    "- подготовить данные;\n",
    "- провести исследовательский анализ данных;\n",
    "- построить и обучить модель.\n",
    "\n",
    "\n",
    "**Известно:**\n",
    "\n",
    "Процесс получения золота из руды: когда добытая руда проходит первичную обработку, получается дроблёная смесь. Её отправляют на флотацию (обогащение) и двухэтапную очистку.\n",
    "\n",
    "**Стадии получения золота из руды:**\n",
    "\n",
    "**-  Флотация**\n",
    " \n",
    "Во флотационную установку подаётся смесь золотосодержащей руды. После обогащения получается черновой концентрат и «отвальные хвосты», то есть остатки продукта с низкой концентрацией ценных металлов.\n",
    "На стабильность этого процесса влияет непостоянное и неоптимальное физико-химическое состояние флотационной пульпы (смеси твёрдых частиц и жидкости).\n",
    "\n",
    "**- Очистка**\n",
    "  \n",
    "Черновой концентрат проходит две очистки. На выходе получается финальный концентрат и новые отвальные хвосты."
   ]
  },
  {
   "cell_type": "code",
   "execution_count": 1,
   "id": "b3a4f774",
   "metadata": {},
   "outputs": [
    {
     "name": "stdout",
     "output_type": "stream",
     "text": [
      "Requirement already satisfied: jupyter-black in c:\\programdata\\anaconda3\\lib\\site-packages (0.3.4)\n",
      "Requirement already satisfied: black>=21 in c:\\programdata\\anaconda3\\lib\\site-packages (from jupyter-black) (24.4.2)\n",
      "Requirement already satisfied: ipython>=7 in c:\\programdata\\anaconda3\\lib\\site-packages (from jupyter-black) (8.25.0)\n",
      "Requirement already satisfied: tokenize-rt>=4 in c:\\programdata\\anaconda3\\lib\\site-packages (from jupyter-black) (6.0.0)\n",
      "Requirement already satisfied: click>=8.0.0 in c:\\programdata\\anaconda3\\lib\\site-packages (from black>=21->jupyter-black) (8.1.7)\n",
      "Requirement already satisfied: mypy-extensions>=0.4.3 in c:\\programdata\\anaconda3\\lib\\site-packages (from black>=21->jupyter-black) (1.0.0)\n",
      "Requirement already satisfied: packaging>=22.0 in c:\\programdata\\anaconda3\\lib\\site-packages (from black>=21->jupyter-black) (23.2)\n",
      "Requirement already satisfied: pathspec>=0.9.0 in c:\\programdata\\anaconda3\\lib\\site-packages (from black>=21->jupyter-black) (0.10.3)\n",
      "Requirement already satisfied: platformdirs>=2 in c:\\programdata\\anaconda3\\lib\\site-packages (from black>=21->jupyter-black) (3.10.0)\n",
      "Requirement already satisfied: decorator in c:\\programdata\\anaconda3\\lib\\site-packages (from ipython>=7->jupyter-black) (5.1.1)\n",
      "Requirement already satisfied: jedi>=0.16 in c:\\programdata\\anaconda3\\lib\\site-packages (from ipython>=7->jupyter-black) (0.18.1)\n",
      "Requirement already satisfied: matplotlib-inline in c:\\programdata\\anaconda3\\lib\\site-packages (from ipython>=7->jupyter-black) (0.1.6)\n",
      "Requirement already satisfied: prompt-toolkit<3.1.0,>=3.0.41 in c:\\programdata\\anaconda3\\lib\\site-packages (from ipython>=7->jupyter-black) (3.0.43)\n",
      "Requirement already satisfied: pygments>=2.4.0 in c:\\programdata\\anaconda3\\lib\\site-packages (from ipython>=7->jupyter-black) (2.15.1)\n",
      "Requirement already satisfied: stack-data in c:\\programdata\\anaconda3\\lib\\site-packages (from ipython>=7->jupyter-black) (0.2.0)\n",
      "Requirement already satisfied: traitlets>=5.13.0 in c:\\programdata\\anaconda3\\lib\\site-packages (from ipython>=7->jupyter-black) (5.14.3)\n",
      "Requirement already satisfied: colorama in c:\\programdata\\anaconda3\\lib\\site-packages (from ipython>=7->jupyter-black) (0.4.6)\n",
      "Requirement already satisfied: parso<0.9.0,>=0.8.0 in c:\\programdata\\anaconda3\\lib\\site-packages (from jedi>=0.16->ipython>=7->jupyter-black) (0.8.3)\n",
      "Requirement already satisfied: wcwidth in c:\\programdata\\anaconda3\\lib\\site-packages (from prompt-toolkit<3.1.0,>=3.0.41->ipython>=7->jupyter-black) (0.2.5)\n",
      "Requirement already satisfied: executing in c:\\programdata\\anaconda3\\lib\\site-packages (from stack-data->ipython>=7->jupyter-black) (0.8.3)\n",
      "Requirement already satisfied: asttokens in c:\\programdata\\anaconda3\\lib\\site-packages (from stack-data->ipython>=7->jupyter-black) (2.0.5)\n",
      "Requirement already satisfied: pure-eval in c:\\programdata\\anaconda3\\lib\\site-packages (from stack-data->ipython>=7->jupyter-black) (0.2.2)\n",
      "Requirement already satisfied: six in c:\\programdata\\anaconda3\\lib\\site-packages (from asttokens->stack-data->ipython>=7->jupyter-black) (1.16.0)\n"
     ]
    },
    {
     "data": {
      "text/html": [
       "\n",
       "                <script type=\"application/javascript\" id=\"jupyter_black\">\n",
       "                (function() {\n",
       "                    if (window.IPython === undefined) {\n",
       "                        return\n",
       "                    }\n",
       "                    var msg = \"WARNING: it looks like you might have loaded \" +\n",
       "                        \"jupyter_black in a non-lab notebook with \" +\n",
       "                        \"`is_lab=True`. Please double check, and if \" +\n",
       "                        \"loading with `%load_ext` please review the README!\"\n",
       "                    console.log(msg)\n",
       "                    alert(msg)\n",
       "                })()\n",
       "                </script>\n",
       "                "
      ],
      "text/plain": [
       "<IPython.core.display.HTML object>"
      ]
     },
     "metadata": {},
     "output_type": "display_data"
    }
   ],
   "source": [
    "import pandas as pd\n",
    "import numpy as np\n",
    "import seaborn as sns\n",
    "import matplotlib.pyplot as plt\n",
    "import missingno as msno\n",
    "import os\n",
    "from sklearn.model_selection import train_test_split, cross_val_score\n",
    "from sklearn.tree import DecisionTreeRegressor\n",
    "from sklearn.ensemble import RandomForestRegressor\n",
    "from sklearn.linear_model import LinearRegression\n",
    "from numpy.random import RandomState\n",
    "from sklearn.metrics import make_scorer, mean_absolute_error\n",
    "from sklearn.dummy import DummyRegressor\n",
    "from sklearn.model_selection import GridSearchCV\n",
    "from scipy import stats as st\n",
    "\n",
    "!pip install jupyter-black\n",
    "import jupyter_black\n",
    "\n",
    "jupyter_black.load()"
   ]
  },
  {
   "cell_type": "code",
   "execution_count": 2,
   "id": "f47d78c8-6e29-43f3-98bf-29471335279e",
   "metadata": {},
   "outputs": [],
   "source": [
    "try:\n",
    "    df_full = pd.read_csv(\n",
    "        \"f:/Users/user/Desktop/Learn/project_FINAL/gold_recovery_full_new.csv\"\n",
    "    )\n",
    "    df_test = pd.read_csv(\n",
    "        \"f:/Users/user/Desktop/Learn/project_FINAL/gold_recovery_test_new.csv\"\n",
    "    )\n",
    "    df_train = pd.read_csv(\n",
    "        \"f:/Users/user/Desktop/Learn/project_FINAL/gold_recovery_train_new.csv\"\n",
    "    )\n",
    "except:\n",
    "    df_full = pd.read_csv(\n",
    "        \"https://code.s3.yandex.net/datasets/gold_recovery_full_new.csv\"\n",
    "    )\n",
    "    df_test = pd.read_csv(\n",
    "        \"https://code.s3.yandex.net/datasets/gold_recovery_test_new.csv\"\n",
    "    )\n",
    "    df_train = pd.read_csv(\n",
    "        \"https://code.s3.yandex.net/datasets/gold_recovery_train_new.csv\"\n",
    "    )"
   ]
  },
  {
   "cell_type": "markdown",
   "id": "7fa95eca-7478-47a1-bd9d-3c5e9e30bc85",
   "metadata": {},
   "source": [
    "## Подготовка данных"
   ]
  },
  {
   "cell_type": "markdown",
   "id": "6ea3bc55-7e46-4e98-922d-3354b5d3edec",
   "metadata": {},
   "source": [
    "### Общая информация о датафреймах"
   ]
  },
  {
   "cell_type": "markdown",
   "id": "7ae00d96-4c33-4c19-87dc-266fc9099d82",
   "metadata": {},
   "source": [
    "**Ознакомимся с общей информацией о полученных датафреймах.**"
   ]
  },
  {
   "cell_type": "code",
   "execution_count": 4,
   "id": "8b7cdad2-ff2a-439f-b9f8-81adcbdc7965",
   "metadata": {},
   "outputs": [
    {
     "name": "stdout",
     "output_type": "stream",
     "text": [
      "<class 'pandas.core.frame.DataFrame'>\n",
      "RangeIndex: 19439 entries, 0 to 19438\n",
      "Data columns (total 87 columns):\n",
      " #   Column                                              Non-Null Count  Dtype  \n",
      "---  ------                                              --------------  -----  \n",
      " 0   date                                                19439 non-null  object \n",
      " 1   final.output.concentrate_ag                         19438 non-null  float64\n",
      " 2   final.output.concentrate_pb                         19438 non-null  float64\n",
      " 3   final.output.concentrate_sol                        19228 non-null  float64\n",
      " 4   final.output.concentrate_au                         19439 non-null  float64\n",
      " 5   final.output.recovery                               19439 non-null  float64\n",
      " 6   final.output.tail_ag                                19438 non-null  float64\n",
      " 7   final.output.tail_pb                                19338 non-null  float64\n",
      " 8   final.output.tail_sol                               19433 non-null  float64\n",
      " 9   final.output.tail_au                                19439 non-null  float64\n",
      " 10  primary_cleaner.input.sulfate                       19415 non-null  float64\n",
      " 11  primary_cleaner.input.depressant                    19402 non-null  float64\n",
      " 12  primary_cleaner.input.feed_size                     19439 non-null  float64\n",
      " 13  primary_cleaner.input.xanthate                      19335 non-null  float64\n",
      " 14  primary_cleaner.output.concentrate_ag               19439 non-null  float64\n",
      " 15  primary_cleaner.output.concentrate_pb               19323 non-null  float64\n",
      " 16  primary_cleaner.output.concentrate_sol              19069 non-null  float64\n",
      " 17  primary_cleaner.output.concentrate_au               19439 non-null  float64\n",
      " 18  primary_cleaner.output.tail_ag                      19435 non-null  float64\n",
      " 19  primary_cleaner.output.tail_pb                      19418 non-null  float64\n",
      " 20  primary_cleaner.output.tail_sol                     19377 non-null  float64\n",
      " 21  primary_cleaner.output.tail_au                      19439 non-null  float64\n",
      " 22  primary_cleaner.state.floatbank8_a_air              19435 non-null  float64\n",
      " 23  primary_cleaner.state.floatbank8_a_level            19438 non-null  float64\n",
      " 24  primary_cleaner.state.floatbank8_b_air              19435 non-null  float64\n",
      " 25  primary_cleaner.state.floatbank8_b_level            19438 non-null  float64\n",
      " 26  primary_cleaner.state.floatbank8_c_air              19437 non-null  float64\n",
      " 27  primary_cleaner.state.floatbank8_c_level            19438 non-null  float64\n",
      " 28  primary_cleaner.state.floatbank8_d_air              19436 non-null  float64\n",
      " 29  primary_cleaner.state.floatbank8_d_level            19438 non-null  float64\n",
      " 30  rougher.calculation.sulfate_to_au_concentrate       19437 non-null  float64\n",
      " 31  rougher.calculation.floatbank10_sulfate_to_au_feed  19437 non-null  float64\n",
      " 32  rougher.calculation.floatbank11_sulfate_to_au_feed  19437 non-null  float64\n",
      " 33  rougher.calculation.au_pb_ratio                     19439 non-null  float64\n",
      " 34  rougher.input.feed_ag                               19439 non-null  float64\n",
      " 35  rougher.input.feed_pb                               19339 non-null  float64\n",
      " 36  rougher.input.feed_rate                             19428 non-null  float64\n",
      " 37  rougher.input.feed_size                             19294 non-null  float64\n",
      " 38  rougher.input.feed_sol                              19340 non-null  float64\n",
      " 39  rougher.input.feed_au                               19439 non-null  float64\n",
      " 40  rougher.input.floatbank10_sulfate                   19405 non-null  float64\n",
      " 41  rougher.input.floatbank10_xanthate                  19431 non-null  float64\n",
      " 42  rougher.input.floatbank11_sulfate                   19395 non-null  float64\n",
      " 43  rougher.input.floatbank11_xanthate                  18986 non-null  float64\n",
      " 44  rougher.output.concentrate_ag                       19439 non-null  float64\n",
      " 45  rougher.output.concentrate_pb                       19439 non-null  float64\n",
      " 46  rougher.output.concentrate_sol                      19416 non-null  float64\n",
      " 47  rougher.output.concentrate_au                       19439 non-null  float64\n",
      " 48  rougher.output.recovery                             19439 non-null  float64\n",
      " 49  rougher.output.tail_ag                              19438 non-null  float64\n",
      " 50  rougher.output.tail_pb                              19439 non-null  float64\n",
      " 51  rougher.output.tail_sol                             19439 non-null  float64\n",
      " 52  rougher.output.tail_au                              19439 non-null  float64\n",
      " 53  rougher.state.floatbank10_a_air                     19438 non-null  float64\n",
      " 54  rougher.state.floatbank10_a_level                   19438 non-null  float64\n",
      " 55  rougher.state.floatbank10_b_air                     19438 non-null  float64\n",
      " 56  rougher.state.floatbank10_b_level                   19438 non-null  float64\n",
      " 57  rougher.state.floatbank10_c_air                     19438 non-null  float64\n",
      " 58  rougher.state.floatbank10_c_level                   19438 non-null  float64\n",
      " 59  rougher.state.floatbank10_d_air                     19439 non-null  float64\n",
      " 60  rougher.state.floatbank10_d_level                   19439 non-null  float64\n",
      " 61  rougher.state.floatbank10_e_air                     19003 non-null  float64\n",
      " 62  rougher.state.floatbank10_e_level                   19439 non-null  float64\n",
      " 63  rougher.state.floatbank10_f_air                     19439 non-null  float64\n",
      " 64  rougher.state.floatbank10_f_level                   19439 non-null  float64\n",
      " 65  secondary_cleaner.output.tail_ag                    19437 non-null  float64\n",
      " 66  secondary_cleaner.output.tail_pb                    19427 non-null  float64\n",
      " 67  secondary_cleaner.output.tail_sol                   17691 non-null  float64\n",
      " 68  secondary_cleaner.output.tail_au                    19439 non-null  float64\n",
      " 69  secondary_cleaner.state.floatbank2_a_air            19219 non-null  float64\n",
      " 70  secondary_cleaner.state.floatbank2_a_level          19438 non-null  float64\n",
      " 71  secondary_cleaner.state.floatbank2_b_air            19416 non-null  float64\n",
      " 72  secondary_cleaner.state.floatbank2_b_level          19438 non-null  float64\n",
      " 73  secondary_cleaner.state.floatbank3_a_air            19426 non-null  float64\n",
      " 74  secondary_cleaner.state.floatbank3_a_level          19438 non-null  float64\n",
      " 75  secondary_cleaner.state.floatbank3_b_air            19438 non-null  float64\n",
      " 76  secondary_cleaner.state.floatbank3_b_level          19438 non-null  float64\n",
      " 77  secondary_cleaner.state.floatbank4_a_air            19433 non-null  float64\n",
      " 78  secondary_cleaner.state.floatbank4_a_level          19438 non-null  float64\n",
      " 79  secondary_cleaner.state.floatbank4_b_air            19438 non-null  float64\n",
      " 80  secondary_cleaner.state.floatbank4_b_level          19438 non-null  float64\n",
      " 81  secondary_cleaner.state.floatbank5_a_air            19438 non-null  float64\n",
      " 82  secondary_cleaner.state.floatbank5_a_level          19438 non-null  float64\n",
      " 83  secondary_cleaner.state.floatbank5_b_air            19438 non-null  float64\n",
      " 84  secondary_cleaner.state.floatbank5_b_level          19438 non-null  float64\n",
      " 85  secondary_cleaner.state.floatbank6_a_air            19437 non-null  float64\n",
      " 86  secondary_cleaner.state.floatbank6_a_level          19438 non-null  float64\n",
      "dtypes: float64(86), object(1)\n",
      "memory usage: 12.9+ MB\n"
     ]
    }
   ],
   "source": [
    "df_full.info()"
   ]
  },
  {
   "cell_type": "markdown",
   "id": "3f056468-b0f0-4317-b29d-fdf82ce82366",
   "metadata": {},
   "source": [
    "**В датафрейме `df_full` 87 cтолбцов и 19439 строк.\n",
    "У столбца `data` указан типа данных object.\n",
    "В данных присутствуют пропущенные значения.**"
   ]
  },
  {
   "cell_type": "code",
   "execution_count": 5,
   "id": "faf636b3-b7c5-4db6-9f98-b81df3b0b431",
   "metadata": {},
   "outputs": [
    {
     "name": "stdout",
     "output_type": "stream",
     "text": [
      "<class 'pandas.core.frame.DataFrame'>\n",
      "RangeIndex: 5290 entries, 0 to 5289\n",
      "Data columns (total 53 columns):\n",
      " #   Column                                      Non-Null Count  Dtype  \n",
      "---  ------                                      --------------  -----  \n",
      " 0   date                                        5290 non-null   object \n",
      " 1   primary_cleaner.input.sulfate               5286 non-null   float64\n",
      " 2   primary_cleaner.input.depressant            5285 non-null   float64\n",
      " 3   primary_cleaner.input.feed_size             5290 non-null   float64\n",
      " 4   primary_cleaner.input.xanthate              5286 non-null   float64\n",
      " 5   primary_cleaner.state.floatbank8_a_air      5290 non-null   float64\n",
      " 6   primary_cleaner.state.floatbank8_a_level    5290 non-null   float64\n",
      " 7   primary_cleaner.state.floatbank8_b_air      5290 non-null   float64\n",
      " 8   primary_cleaner.state.floatbank8_b_level    5290 non-null   float64\n",
      " 9   primary_cleaner.state.floatbank8_c_air      5290 non-null   float64\n",
      " 10  primary_cleaner.state.floatbank8_c_level    5290 non-null   float64\n",
      " 11  primary_cleaner.state.floatbank8_d_air      5290 non-null   float64\n",
      " 12  primary_cleaner.state.floatbank8_d_level    5290 non-null   float64\n",
      " 13  rougher.input.feed_ag                       5290 non-null   float64\n",
      " 14  rougher.input.feed_pb                       5290 non-null   float64\n",
      " 15  rougher.input.feed_rate                     5287 non-null   float64\n",
      " 16  rougher.input.feed_size                     5289 non-null   float64\n",
      " 17  rougher.input.feed_sol                      5269 non-null   float64\n",
      " 18  rougher.input.feed_au                       5290 non-null   float64\n",
      " 19  rougher.input.floatbank10_sulfate           5285 non-null   float64\n",
      " 20  rougher.input.floatbank10_xanthate          5290 non-null   float64\n",
      " 21  rougher.input.floatbank11_sulfate           5282 non-null   float64\n",
      " 22  rougher.input.floatbank11_xanthate          5265 non-null   float64\n",
      " 23  rougher.state.floatbank10_a_air             5290 non-null   float64\n",
      " 24  rougher.state.floatbank10_a_level           5290 non-null   float64\n",
      " 25  rougher.state.floatbank10_b_air             5290 non-null   float64\n",
      " 26  rougher.state.floatbank10_b_level           5290 non-null   float64\n",
      " 27  rougher.state.floatbank10_c_air             5290 non-null   float64\n",
      " 28  rougher.state.floatbank10_c_level           5290 non-null   float64\n",
      " 29  rougher.state.floatbank10_d_air             5290 non-null   float64\n",
      " 30  rougher.state.floatbank10_d_level           5290 non-null   float64\n",
      " 31  rougher.state.floatbank10_e_air             5290 non-null   float64\n",
      " 32  rougher.state.floatbank10_e_level           5290 non-null   float64\n",
      " 33  rougher.state.floatbank10_f_air             5290 non-null   float64\n",
      " 34  rougher.state.floatbank10_f_level           5290 non-null   float64\n",
      " 35  secondary_cleaner.state.floatbank2_a_air    5287 non-null   float64\n",
      " 36  secondary_cleaner.state.floatbank2_a_level  5290 non-null   float64\n",
      " 37  secondary_cleaner.state.floatbank2_b_air    5288 non-null   float64\n",
      " 38  secondary_cleaner.state.floatbank2_b_level  5290 non-null   float64\n",
      " 39  secondary_cleaner.state.floatbank3_a_air    5281 non-null   float64\n",
      " 40  secondary_cleaner.state.floatbank3_a_level  5290 non-null   float64\n",
      " 41  secondary_cleaner.state.floatbank3_b_air    5290 non-null   float64\n",
      " 42  secondary_cleaner.state.floatbank3_b_level  5290 non-null   float64\n",
      " 43  secondary_cleaner.state.floatbank4_a_air    5290 non-null   float64\n",
      " 44  secondary_cleaner.state.floatbank4_a_level  5290 non-null   float64\n",
      " 45  secondary_cleaner.state.floatbank4_b_air    5290 non-null   float64\n",
      " 46  secondary_cleaner.state.floatbank4_b_level  5290 non-null   float64\n",
      " 47  secondary_cleaner.state.floatbank5_a_air    5290 non-null   float64\n",
      " 48  secondary_cleaner.state.floatbank5_a_level  5290 non-null   float64\n",
      " 49  secondary_cleaner.state.floatbank5_b_air    5290 non-null   float64\n",
      " 50  secondary_cleaner.state.floatbank5_b_level  5290 non-null   float64\n",
      " 51  secondary_cleaner.state.floatbank6_a_air    5290 non-null   float64\n",
      " 52  secondary_cleaner.state.floatbank6_a_level  5290 non-null   float64\n",
      "dtypes: float64(52), object(1)\n",
      "memory usage: 2.1+ MB\n"
     ]
    }
   ],
   "source": [
    "df_test.info()"
   ]
  },
  {
   "cell_type": "markdown",
   "id": "c5861486-d0cf-40e6-b58c-839397ef9c23",
   "metadata": {},
   "source": [
    "**В датафрейме `df_test` 53 столбца и 5290 строк.\n",
    "У столбца `data` указан типа данных object.\n",
    "В данных присутствуют пропущенные значения.**"
   ]
  },
  {
   "cell_type": "code",
   "execution_count": 6,
   "id": "31bfd1a4-6619-4950-816f-1be9f6e288eb",
   "metadata": {},
   "outputs": [
    {
     "name": "stdout",
     "output_type": "stream",
     "text": [
      "<class 'pandas.core.frame.DataFrame'>\n",
      "RangeIndex: 14149 entries, 0 to 14148\n",
      "Data columns (total 87 columns):\n",
      " #   Column                                              Non-Null Count  Dtype  \n",
      "---  ------                                              --------------  -----  \n",
      " 0   date                                                14149 non-null  object \n",
      " 1   final.output.concentrate_ag                         14148 non-null  float64\n",
      " 2   final.output.concentrate_pb                         14148 non-null  float64\n",
      " 3   final.output.concentrate_sol                        13938 non-null  float64\n",
      " 4   final.output.concentrate_au                         14149 non-null  float64\n",
      " 5   final.output.recovery                               14149 non-null  float64\n",
      " 6   final.output.tail_ag                                14149 non-null  float64\n",
      " 7   final.output.tail_pb                                14049 non-null  float64\n",
      " 8   final.output.tail_sol                               14144 non-null  float64\n",
      " 9   final.output.tail_au                                14149 non-null  float64\n",
      " 10  primary_cleaner.input.sulfate                       14129 non-null  float64\n",
      " 11  primary_cleaner.input.depressant                    14117 non-null  float64\n",
      " 12  primary_cleaner.input.feed_size                     14149 non-null  float64\n",
      " 13  primary_cleaner.input.xanthate                      14049 non-null  float64\n",
      " 14  primary_cleaner.output.concentrate_ag               14149 non-null  float64\n",
      " 15  primary_cleaner.output.concentrate_pb               14063 non-null  float64\n",
      " 16  primary_cleaner.output.concentrate_sol              13863 non-null  float64\n",
      " 17  primary_cleaner.output.concentrate_au               14149 non-null  float64\n",
      " 18  primary_cleaner.output.tail_ag                      14148 non-null  float64\n",
      " 19  primary_cleaner.output.tail_pb                      14134 non-null  float64\n",
      " 20  primary_cleaner.output.tail_sol                     14103 non-null  float64\n",
      " 21  primary_cleaner.output.tail_au                      14149 non-null  float64\n",
      " 22  primary_cleaner.state.floatbank8_a_air              14145 non-null  float64\n",
      " 23  primary_cleaner.state.floatbank8_a_level            14148 non-null  float64\n",
      " 24  primary_cleaner.state.floatbank8_b_air              14145 non-null  float64\n",
      " 25  primary_cleaner.state.floatbank8_b_level            14148 non-null  float64\n",
      " 26  primary_cleaner.state.floatbank8_c_air              14147 non-null  float64\n",
      " 27  primary_cleaner.state.floatbank8_c_level            14148 non-null  float64\n",
      " 28  primary_cleaner.state.floatbank8_d_air              14146 non-null  float64\n",
      " 29  primary_cleaner.state.floatbank8_d_level            14148 non-null  float64\n",
      " 30  rougher.calculation.sulfate_to_au_concentrate       14148 non-null  float64\n",
      " 31  rougher.calculation.floatbank10_sulfate_to_au_feed  14148 non-null  float64\n",
      " 32  rougher.calculation.floatbank11_sulfate_to_au_feed  14148 non-null  float64\n",
      " 33  rougher.calculation.au_pb_ratio                     14149 non-null  float64\n",
      " 34  rougher.input.feed_ag                               14149 non-null  float64\n",
      " 35  rougher.input.feed_pb                               14049 non-null  float64\n",
      " 36  rougher.input.feed_rate                             14141 non-null  float64\n",
      " 37  rougher.input.feed_size                             14005 non-null  float64\n",
      " 38  rougher.input.feed_sol                              14071 non-null  float64\n",
      " 39  rougher.input.feed_au                               14149 non-null  float64\n",
      " 40  rougher.input.floatbank10_sulfate                   14120 non-null  float64\n",
      " 41  rougher.input.floatbank10_xanthate                  14141 non-null  float64\n",
      " 42  rougher.input.floatbank11_sulfate                   14113 non-null  float64\n",
      " 43  rougher.input.floatbank11_xanthate                  13721 non-null  float64\n",
      " 44  rougher.output.concentrate_ag                       14149 non-null  float64\n",
      " 45  rougher.output.concentrate_pb                       14149 non-null  float64\n",
      " 46  rougher.output.concentrate_sol                      14127 non-null  float64\n",
      " 47  rougher.output.concentrate_au                       14149 non-null  float64\n",
      " 48  rougher.output.recovery                             14149 non-null  float64\n",
      " 49  rougher.output.tail_ag                              14148 non-null  float64\n",
      " 50  rougher.output.tail_pb                              14149 non-null  float64\n",
      " 51  rougher.output.tail_sol                             14149 non-null  float64\n",
      " 52  rougher.output.tail_au                              14149 non-null  float64\n",
      " 53  rougher.state.floatbank10_a_air                     14148 non-null  float64\n",
      " 54  rougher.state.floatbank10_a_level                   14148 non-null  float64\n",
      " 55  rougher.state.floatbank10_b_air                     14148 non-null  float64\n",
      " 56  rougher.state.floatbank10_b_level                   14148 non-null  float64\n",
      " 57  rougher.state.floatbank10_c_air                     14148 non-null  float64\n",
      " 58  rougher.state.floatbank10_c_level                   14148 non-null  float64\n",
      " 59  rougher.state.floatbank10_d_air                     14149 non-null  float64\n",
      " 60  rougher.state.floatbank10_d_level                   14149 non-null  float64\n",
      " 61  rougher.state.floatbank10_e_air                     13713 non-null  float64\n",
      " 62  rougher.state.floatbank10_e_level                   14149 non-null  float64\n",
      " 63  rougher.state.floatbank10_f_air                     14149 non-null  float64\n",
      " 64  rougher.state.floatbank10_f_level                   14149 non-null  float64\n",
      " 65  secondary_cleaner.output.tail_ag                    14147 non-null  float64\n",
      " 66  secondary_cleaner.output.tail_pb                    14139 non-null  float64\n",
      " 67  secondary_cleaner.output.tail_sol                   12544 non-null  float64\n",
      " 68  secondary_cleaner.output.tail_au                    14149 non-null  float64\n",
      " 69  secondary_cleaner.state.floatbank2_a_air            13932 non-null  float64\n",
      " 70  secondary_cleaner.state.floatbank2_a_level          14148 non-null  float64\n",
      " 71  secondary_cleaner.state.floatbank2_b_air            14128 non-null  float64\n",
      " 72  secondary_cleaner.state.floatbank2_b_level          14148 non-null  float64\n",
      " 73  secondary_cleaner.state.floatbank3_a_air            14145 non-null  float64\n",
      " 74  secondary_cleaner.state.floatbank3_a_level          14148 non-null  float64\n",
      " 75  secondary_cleaner.state.floatbank3_b_air            14148 non-null  float64\n",
      " 76  secondary_cleaner.state.floatbank3_b_level          14148 non-null  float64\n",
      " 77  secondary_cleaner.state.floatbank4_a_air            14143 non-null  float64\n",
      " 78  secondary_cleaner.state.floatbank4_a_level          14148 non-null  float64\n",
      " 79  secondary_cleaner.state.floatbank4_b_air            14148 non-null  float64\n",
      " 80  secondary_cleaner.state.floatbank4_b_level          14148 non-null  float64\n",
      " 81  secondary_cleaner.state.floatbank5_a_air            14148 non-null  float64\n",
      " 82  secondary_cleaner.state.floatbank5_a_level          14148 non-null  float64\n",
      " 83  secondary_cleaner.state.floatbank5_b_air            14148 non-null  float64\n",
      " 84  secondary_cleaner.state.floatbank5_b_level          14148 non-null  float64\n",
      " 85  secondary_cleaner.state.floatbank6_a_air            14147 non-null  float64\n",
      " 86  secondary_cleaner.state.floatbank6_a_level          14148 non-null  float64\n",
      "dtypes: float64(86), object(1)\n",
      "memory usage: 9.4+ MB\n"
     ]
    }
   ],
   "source": [
    "df_train.info()"
   ]
  },
  {
   "cell_type": "markdown",
   "id": "f4dc3aa8-8d74-4df0-93f2-c12674fddb1b",
   "metadata": {},
   "source": [
    "**В датафрейме `df_train` 87 столбцов и 14148 строк.\n",
    "У столбца `data` указан типа данных object.\n",
    "В данных присутствуют пропущенные значения.**"
   ]
  },
  {
   "cell_type": "markdown",
   "id": "5d980ee0-6e2b-4995-8e0a-9bbff4766eea",
   "metadata": {},
   "source": [
    "Посмотрим на первые пять строк датафреймов."
   ]
  },
  {
   "cell_type": "code",
   "execution_count": 7,
   "id": "a7ae692b-8b60-4074-9670-5f9f5ac320ed",
   "metadata": {},
   "outputs": [
    {
     "data": {
      "text/html": [
       "<div>\n",
       "<style scoped>\n",
       "    .dataframe tbody tr th:only-of-type {\n",
       "        vertical-align: middle;\n",
       "    }\n",
       "\n",
       "    .dataframe tbody tr th {\n",
       "        vertical-align: top;\n",
       "    }\n",
       "\n",
       "    .dataframe thead th {\n",
       "        text-align: right;\n",
       "    }\n",
       "</style>\n",
       "<table border=\"1\" class=\"dataframe\">\n",
       "  <thead>\n",
       "    <tr style=\"text-align: right;\">\n",
       "      <th></th>\n",
       "      <th>date</th>\n",
       "      <th>final.output.concentrate_ag</th>\n",
       "      <th>final.output.concentrate_pb</th>\n",
       "      <th>final.output.concentrate_sol</th>\n",
       "      <th>final.output.concentrate_au</th>\n",
       "      <th>final.output.recovery</th>\n",
       "      <th>final.output.tail_ag</th>\n",
       "      <th>final.output.tail_pb</th>\n",
       "      <th>final.output.tail_sol</th>\n",
       "      <th>final.output.tail_au</th>\n",
       "      <th>...</th>\n",
       "      <th>secondary_cleaner.state.floatbank4_a_air</th>\n",
       "      <th>secondary_cleaner.state.floatbank4_a_level</th>\n",
       "      <th>secondary_cleaner.state.floatbank4_b_air</th>\n",
       "      <th>secondary_cleaner.state.floatbank4_b_level</th>\n",
       "      <th>secondary_cleaner.state.floatbank5_a_air</th>\n",
       "      <th>secondary_cleaner.state.floatbank5_a_level</th>\n",
       "      <th>secondary_cleaner.state.floatbank5_b_air</th>\n",
       "      <th>secondary_cleaner.state.floatbank5_b_level</th>\n",
       "      <th>secondary_cleaner.state.floatbank6_a_air</th>\n",
       "      <th>secondary_cleaner.state.floatbank6_a_level</th>\n",
       "    </tr>\n",
       "  </thead>\n",
       "  <tbody>\n",
       "    <tr>\n",
       "      <th>0</th>\n",
       "      <td>2016-01-15 00:00:00</td>\n",
       "      <td>6.055403</td>\n",
       "      <td>9.889648</td>\n",
       "      <td>5.507324</td>\n",
       "      <td>42.192020</td>\n",
       "      <td>70.541216</td>\n",
       "      <td>10.411962</td>\n",
       "      <td>0.895447</td>\n",
       "      <td>16.904297</td>\n",
       "      <td>2.143149</td>\n",
       "      <td>...</td>\n",
       "      <td>14.016835</td>\n",
       "      <td>-502.488007</td>\n",
       "      <td>12.099931</td>\n",
       "      <td>-504.715942</td>\n",
       "      <td>9.925633</td>\n",
       "      <td>-498.310211</td>\n",
       "      <td>8.079666</td>\n",
       "      <td>-500.470978</td>\n",
       "      <td>14.151341</td>\n",
       "      <td>-605.841980</td>\n",
       "    </tr>\n",
       "    <tr>\n",
       "      <th>1</th>\n",
       "      <td>2016-01-15 01:00:00</td>\n",
       "      <td>6.029369</td>\n",
       "      <td>9.968944</td>\n",
       "      <td>5.257781</td>\n",
       "      <td>42.701629</td>\n",
       "      <td>69.266198</td>\n",
       "      <td>10.462676</td>\n",
       "      <td>0.927452</td>\n",
       "      <td>16.634514</td>\n",
       "      <td>2.224930</td>\n",
       "      <td>...</td>\n",
       "      <td>13.992281</td>\n",
       "      <td>-505.503262</td>\n",
       "      <td>11.950531</td>\n",
       "      <td>-501.331529</td>\n",
       "      <td>10.039245</td>\n",
       "      <td>-500.169983</td>\n",
       "      <td>7.984757</td>\n",
       "      <td>-500.582168</td>\n",
       "      <td>13.998353</td>\n",
       "      <td>-599.787184</td>\n",
       "    </tr>\n",
       "    <tr>\n",
       "      <th>2</th>\n",
       "      <td>2016-01-15 02:00:00</td>\n",
       "      <td>6.055926</td>\n",
       "      <td>10.213995</td>\n",
       "      <td>5.383759</td>\n",
       "      <td>42.657501</td>\n",
       "      <td>68.116445</td>\n",
       "      <td>10.507046</td>\n",
       "      <td>0.953716</td>\n",
       "      <td>16.208849</td>\n",
       "      <td>2.257889</td>\n",
       "      <td>...</td>\n",
       "      <td>14.015015</td>\n",
       "      <td>-502.520901</td>\n",
       "      <td>11.912783</td>\n",
       "      <td>-501.133383</td>\n",
       "      <td>10.070913</td>\n",
       "      <td>-500.129135</td>\n",
       "      <td>8.013877</td>\n",
       "      <td>-500.517572</td>\n",
       "      <td>14.028663</td>\n",
       "      <td>-601.427363</td>\n",
       "    </tr>\n",
       "    <tr>\n",
       "      <th>3</th>\n",
       "      <td>2016-01-15 03:00:00</td>\n",
       "      <td>6.047977</td>\n",
       "      <td>9.977019</td>\n",
       "      <td>4.858634</td>\n",
       "      <td>42.689819</td>\n",
       "      <td>68.347543</td>\n",
       "      <td>10.422762</td>\n",
       "      <td>0.883763</td>\n",
       "      <td>16.532835</td>\n",
       "      <td>2.146849</td>\n",
       "      <td>...</td>\n",
       "      <td>14.036510</td>\n",
       "      <td>-500.857308</td>\n",
       "      <td>11.999550</td>\n",
       "      <td>-501.193686</td>\n",
       "      <td>9.970366</td>\n",
       "      <td>-499.201640</td>\n",
       "      <td>7.977324</td>\n",
       "      <td>-500.255908</td>\n",
       "      <td>14.005551</td>\n",
       "      <td>-599.996129</td>\n",
       "    </tr>\n",
       "    <tr>\n",
       "      <th>4</th>\n",
       "      <td>2016-01-15 04:00:00</td>\n",
       "      <td>6.148599</td>\n",
       "      <td>10.142511</td>\n",
       "      <td>4.939416</td>\n",
       "      <td>42.774141</td>\n",
       "      <td>66.927016</td>\n",
       "      <td>10.360302</td>\n",
       "      <td>0.792826</td>\n",
       "      <td>16.525686</td>\n",
       "      <td>2.055292</td>\n",
       "      <td>...</td>\n",
       "      <td>14.027298</td>\n",
       "      <td>-499.838632</td>\n",
       "      <td>11.953070</td>\n",
       "      <td>-501.053894</td>\n",
       "      <td>9.925709</td>\n",
       "      <td>-501.686727</td>\n",
       "      <td>7.894242</td>\n",
       "      <td>-500.356035</td>\n",
       "      <td>13.996647</td>\n",
       "      <td>-601.496691</td>\n",
       "    </tr>\n",
       "  </tbody>\n",
       "</table>\n",
       "<p>5 rows × 87 columns</p>\n",
       "</div>"
      ],
      "text/plain": [
       "                  date  final.output.concentrate_ag  \\\n",
       "0  2016-01-15 00:00:00                     6.055403   \n",
       "1  2016-01-15 01:00:00                     6.029369   \n",
       "2  2016-01-15 02:00:00                     6.055926   \n",
       "3  2016-01-15 03:00:00                     6.047977   \n",
       "4  2016-01-15 04:00:00                     6.148599   \n",
       "\n",
       "   final.output.concentrate_pb  final.output.concentrate_sol  \\\n",
       "0                     9.889648                      5.507324   \n",
       "1                     9.968944                      5.257781   \n",
       "2                    10.213995                      5.383759   \n",
       "3                     9.977019                      4.858634   \n",
       "4                    10.142511                      4.939416   \n",
       "\n",
       "   final.output.concentrate_au  final.output.recovery  final.output.tail_ag  \\\n",
       "0                    42.192020              70.541216             10.411962   \n",
       "1                    42.701629              69.266198             10.462676   \n",
       "2                    42.657501              68.116445             10.507046   \n",
       "3                    42.689819              68.347543             10.422762   \n",
       "4                    42.774141              66.927016             10.360302   \n",
       "\n",
       "   final.output.tail_pb  final.output.tail_sol  final.output.tail_au  ...  \\\n",
       "0              0.895447              16.904297              2.143149  ...   \n",
       "1              0.927452              16.634514              2.224930  ...   \n",
       "2              0.953716              16.208849              2.257889  ...   \n",
       "3              0.883763              16.532835              2.146849  ...   \n",
       "4              0.792826              16.525686              2.055292  ...   \n",
       "\n",
       "   secondary_cleaner.state.floatbank4_a_air  \\\n",
       "0                                 14.016835   \n",
       "1                                 13.992281   \n",
       "2                                 14.015015   \n",
       "3                                 14.036510   \n",
       "4                                 14.027298   \n",
       "\n",
       "   secondary_cleaner.state.floatbank4_a_level  \\\n",
       "0                                 -502.488007   \n",
       "1                                 -505.503262   \n",
       "2                                 -502.520901   \n",
       "3                                 -500.857308   \n",
       "4                                 -499.838632   \n",
       "\n",
       "   secondary_cleaner.state.floatbank4_b_air  \\\n",
       "0                                 12.099931   \n",
       "1                                 11.950531   \n",
       "2                                 11.912783   \n",
       "3                                 11.999550   \n",
       "4                                 11.953070   \n",
       "\n",
       "   secondary_cleaner.state.floatbank4_b_level  \\\n",
       "0                                 -504.715942   \n",
       "1                                 -501.331529   \n",
       "2                                 -501.133383   \n",
       "3                                 -501.193686   \n",
       "4                                 -501.053894   \n",
       "\n",
       "   secondary_cleaner.state.floatbank5_a_air  \\\n",
       "0                                  9.925633   \n",
       "1                                 10.039245   \n",
       "2                                 10.070913   \n",
       "3                                  9.970366   \n",
       "4                                  9.925709   \n",
       "\n",
       "   secondary_cleaner.state.floatbank5_a_level  \\\n",
       "0                                 -498.310211   \n",
       "1                                 -500.169983   \n",
       "2                                 -500.129135   \n",
       "3                                 -499.201640   \n",
       "4                                 -501.686727   \n",
       "\n",
       "   secondary_cleaner.state.floatbank5_b_air  \\\n",
       "0                                  8.079666   \n",
       "1                                  7.984757   \n",
       "2                                  8.013877   \n",
       "3                                  7.977324   \n",
       "4                                  7.894242   \n",
       "\n",
       "   secondary_cleaner.state.floatbank5_b_level  \\\n",
       "0                                 -500.470978   \n",
       "1                                 -500.582168   \n",
       "2                                 -500.517572   \n",
       "3                                 -500.255908   \n",
       "4                                 -500.356035   \n",
       "\n",
       "   secondary_cleaner.state.floatbank6_a_air  \\\n",
       "0                                 14.151341   \n",
       "1                                 13.998353   \n",
       "2                                 14.028663   \n",
       "3                                 14.005551   \n",
       "4                                 13.996647   \n",
       "\n",
       "   secondary_cleaner.state.floatbank6_a_level  \n",
       "0                                 -605.841980  \n",
       "1                                 -599.787184  \n",
       "2                                 -601.427363  \n",
       "3                                 -599.996129  \n",
       "4                                 -601.496691  \n",
       "\n",
       "[5 rows x 87 columns]"
      ]
     },
     "execution_count": 7,
     "metadata": {},
     "output_type": "execute_result"
    }
   ],
   "source": [
    "df_full.head(5)"
   ]
  },
  {
   "cell_type": "code",
   "execution_count": 8,
   "id": "d8154601-642d-4a2c-9be1-5fa6cd784d9c",
   "metadata": {},
   "outputs": [
    {
     "data": {
      "text/html": [
       "<div>\n",
       "<style scoped>\n",
       "    .dataframe tbody tr th:only-of-type {\n",
       "        vertical-align: middle;\n",
       "    }\n",
       "\n",
       "    .dataframe tbody tr th {\n",
       "        vertical-align: top;\n",
       "    }\n",
       "\n",
       "    .dataframe thead th {\n",
       "        text-align: right;\n",
       "    }\n",
       "</style>\n",
       "<table border=\"1\" class=\"dataframe\">\n",
       "  <thead>\n",
       "    <tr style=\"text-align: right;\">\n",
       "      <th></th>\n",
       "      <th>date</th>\n",
       "      <th>final.output.concentrate_ag</th>\n",
       "      <th>final.output.concentrate_pb</th>\n",
       "      <th>final.output.concentrate_sol</th>\n",
       "      <th>final.output.concentrate_au</th>\n",
       "      <th>final.output.recovery</th>\n",
       "      <th>final.output.tail_ag</th>\n",
       "      <th>final.output.tail_pb</th>\n",
       "      <th>final.output.tail_sol</th>\n",
       "      <th>final.output.tail_au</th>\n",
       "      <th>...</th>\n",
       "      <th>secondary_cleaner.state.floatbank4_a_air</th>\n",
       "      <th>secondary_cleaner.state.floatbank4_a_level</th>\n",
       "      <th>secondary_cleaner.state.floatbank4_b_air</th>\n",
       "      <th>secondary_cleaner.state.floatbank4_b_level</th>\n",
       "      <th>secondary_cleaner.state.floatbank5_a_air</th>\n",
       "      <th>secondary_cleaner.state.floatbank5_a_level</th>\n",
       "      <th>secondary_cleaner.state.floatbank5_b_air</th>\n",
       "      <th>secondary_cleaner.state.floatbank5_b_level</th>\n",
       "      <th>secondary_cleaner.state.floatbank6_a_air</th>\n",
       "      <th>secondary_cleaner.state.floatbank6_a_level</th>\n",
       "    </tr>\n",
       "  </thead>\n",
       "  <tbody>\n",
       "    <tr>\n",
       "      <th>0</th>\n",
       "      <td>2016-01-15 00:00:00</td>\n",
       "      <td>6.055403</td>\n",
       "      <td>9.889648</td>\n",
       "      <td>5.507324</td>\n",
       "      <td>42.192020</td>\n",
       "      <td>70.541216</td>\n",
       "      <td>10.411962</td>\n",
       "      <td>0.895447</td>\n",
       "      <td>16.904297</td>\n",
       "      <td>2.143149</td>\n",
       "      <td>...</td>\n",
       "      <td>14.016835</td>\n",
       "      <td>-502.488007</td>\n",
       "      <td>12.099931</td>\n",
       "      <td>-504.715942</td>\n",
       "      <td>9.925633</td>\n",
       "      <td>-498.310211</td>\n",
       "      <td>8.079666</td>\n",
       "      <td>-500.470978</td>\n",
       "      <td>14.151341</td>\n",
       "      <td>-605.841980</td>\n",
       "    </tr>\n",
       "    <tr>\n",
       "      <th>1</th>\n",
       "      <td>2016-01-15 01:00:00</td>\n",
       "      <td>6.029369</td>\n",
       "      <td>9.968944</td>\n",
       "      <td>5.257781</td>\n",
       "      <td>42.701629</td>\n",
       "      <td>69.266198</td>\n",
       "      <td>10.462676</td>\n",
       "      <td>0.927452</td>\n",
       "      <td>16.634514</td>\n",
       "      <td>2.224930</td>\n",
       "      <td>...</td>\n",
       "      <td>13.992281</td>\n",
       "      <td>-505.503262</td>\n",
       "      <td>11.950531</td>\n",
       "      <td>-501.331529</td>\n",
       "      <td>10.039245</td>\n",
       "      <td>-500.169983</td>\n",
       "      <td>7.984757</td>\n",
       "      <td>-500.582168</td>\n",
       "      <td>13.998353</td>\n",
       "      <td>-599.787184</td>\n",
       "    </tr>\n",
       "    <tr>\n",
       "      <th>2</th>\n",
       "      <td>2016-01-15 02:00:00</td>\n",
       "      <td>6.055926</td>\n",
       "      <td>10.213995</td>\n",
       "      <td>5.383759</td>\n",
       "      <td>42.657501</td>\n",
       "      <td>68.116445</td>\n",
       "      <td>10.507046</td>\n",
       "      <td>0.953716</td>\n",
       "      <td>16.208849</td>\n",
       "      <td>2.257889</td>\n",
       "      <td>...</td>\n",
       "      <td>14.015015</td>\n",
       "      <td>-502.520901</td>\n",
       "      <td>11.912783</td>\n",
       "      <td>-501.133383</td>\n",
       "      <td>10.070913</td>\n",
       "      <td>-500.129135</td>\n",
       "      <td>8.013877</td>\n",
       "      <td>-500.517572</td>\n",
       "      <td>14.028663</td>\n",
       "      <td>-601.427363</td>\n",
       "    </tr>\n",
       "    <tr>\n",
       "      <th>3</th>\n",
       "      <td>2016-01-15 03:00:00</td>\n",
       "      <td>6.047977</td>\n",
       "      <td>9.977019</td>\n",
       "      <td>4.858634</td>\n",
       "      <td>42.689819</td>\n",
       "      <td>68.347543</td>\n",
       "      <td>10.422762</td>\n",
       "      <td>0.883763</td>\n",
       "      <td>16.532835</td>\n",
       "      <td>2.146849</td>\n",
       "      <td>...</td>\n",
       "      <td>14.036510</td>\n",
       "      <td>-500.857308</td>\n",
       "      <td>11.999550</td>\n",
       "      <td>-501.193686</td>\n",
       "      <td>9.970366</td>\n",
       "      <td>-499.201640</td>\n",
       "      <td>7.977324</td>\n",
       "      <td>-500.255908</td>\n",
       "      <td>14.005551</td>\n",
       "      <td>-599.996129</td>\n",
       "    </tr>\n",
       "    <tr>\n",
       "      <th>4</th>\n",
       "      <td>2016-01-15 04:00:00</td>\n",
       "      <td>6.148599</td>\n",
       "      <td>10.142511</td>\n",
       "      <td>4.939416</td>\n",
       "      <td>42.774141</td>\n",
       "      <td>66.927016</td>\n",
       "      <td>10.360302</td>\n",
       "      <td>0.792826</td>\n",
       "      <td>16.525686</td>\n",
       "      <td>2.055292</td>\n",
       "      <td>...</td>\n",
       "      <td>14.027298</td>\n",
       "      <td>-499.838632</td>\n",
       "      <td>11.953070</td>\n",
       "      <td>-501.053894</td>\n",
       "      <td>9.925709</td>\n",
       "      <td>-501.686727</td>\n",
       "      <td>7.894242</td>\n",
       "      <td>-500.356035</td>\n",
       "      <td>13.996647</td>\n",
       "      <td>-601.496691</td>\n",
       "    </tr>\n",
       "  </tbody>\n",
       "</table>\n",
       "<p>5 rows × 87 columns</p>\n",
       "</div>"
      ],
      "text/plain": [
       "                  date  final.output.concentrate_ag  \\\n",
       "0  2016-01-15 00:00:00                     6.055403   \n",
       "1  2016-01-15 01:00:00                     6.029369   \n",
       "2  2016-01-15 02:00:00                     6.055926   \n",
       "3  2016-01-15 03:00:00                     6.047977   \n",
       "4  2016-01-15 04:00:00                     6.148599   \n",
       "\n",
       "   final.output.concentrate_pb  final.output.concentrate_sol  \\\n",
       "0                     9.889648                      5.507324   \n",
       "1                     9.968944                      5.257781   \n",
       "2                    10.213995                      5.383759   \n",
       "3                     9.977019                      4.858634   \n",
       "4                    10.142511                      4.939416   \n",
       "\n",
       "   final.output.concentrate_au  final.output.recovery  final.output.tail_ag  \\\n",
       "0                    42.192020              70.541216             10.411962   \n",
       "1                    42.701629              69.266198             10.462676   \n",
       "2                    42.657501              68.116445             10.507046   \n",
       "3                    42.689819              68.347543             10.422762   \n",
       "4                    42.774141              66.927016             10.360302   \n",
       "\n",
       "   final.output.tail_pb  final.output.tail_sol  final.output.tail_au  ...  \\\n",
       "0              0.895447              16.904297              2.143149  ...   \n",
       "1              0.927452              16.634514              2.224930  ...   \n",
       "2              0.953716              16.208849              2.257889  ...   \n",
       "3              0.883763              16.532835              2.146849  ...   \n",
       "4              0.792826              16.525686              2.055292  ...   \n",
       "\n",
       "   secondary_cleaner.state.floatbank4_a_air  \\\n",
       "0                                 14.016835   \n",
       "1                                 13.992281   \n",
       "2                                 14.015015   \n",
       "3                                 14.036510   \n",
       "4                                 14.027298   \n",
       "\n",
       "   secondary_cleaner.state.floatbank4_a_level  \\\n",
       "0                                 -502.488007   \n",
       "1                                 -505.503262   \n",
       "2                                 -502.520901   \n",
       "3                                 -500.857308   \n",
       "4                                 -499.838632   \n",
       "\n",
       "   secondary_cleaner.state.floatbank4_b_air  \\\n",
       "0                                 12.099931   \n",
       "1                                 11.950531   \n",
       "2                                 11.912783   \n",
       "3                                 11.999550   \n",
       "4                                 11.953070   \n",
       "\n",
       "   secondary_cleaner.state.floatbank4_b_level  \\\n",
       "0                                 -504.715942   \n",
       "1                                 -501.331529   \n",
       "2                                 -501.133383   \n",
       "3                                 -501.193686   \n",
       "4                                 -501.053894   \n",
       "\n",
       "   secondary_cleaner.state.floatbank5_a_air  \\\n",
       "0                                  9.925633   \n",
       "1                                 10.039245   \n",
       "2                                 10.070913   \n",
       "3                                  9.970366   \n",
       "4                                  9.925709   \n",
       "\n",
       "   secondary_cleaner.state.floatbank5_a_level  \\\n",
       "0                                 -498.310211   \n",
       "1                                 -500.169983   \n",
       "2                                 -500.129135   \n",
       "3                                 -499.201640   \n",
       "4                                 -501.686727   \n",
       "\n",
       "   secondary_cleaner.state.floatbank5_b_air  \\\n",
       "0                                  8.079666   \n",
       "1                                  7.984757   \n",
       "2                                  8.013877   \n",
       "3                                  7.977324   \n",
       "4                                  7.894242   \n",
       "\n",
       "   secondary_cleaner.state.floatbank5_b_level  \\\n",
       "0                                 -500.470978   \n",
       "1                                 -500.582168   \n",
       "2                                 -500.517572   \n",
       "3                                 -500.255908   \n",
       "4                                 -500.356035   \n",
       "\n",
       "   secondary_cleaner.state.floatbank6_a_air  \\\n",
       "0                                 14.151341   \n",
       "1                                 13.998353   \n",
       "2                                 14.028663   \n",
       "3                                 14.005551   \n",
       "4                                 13.996647   \n",
       "\n",
       "   secondary_cleaner.state.floatbank6_a_level  \n",
       "0                                 -605.841980  \n",
       "1                                 -599.787184  \n",
       "2                                 -601.427363  \n",
       "3                                 -599.996129  \n",
       "4                                 -601.496691  \n",
       "\n",
       "[5 rows x 87 columns]"
      ]
     },
     "execution_count": 8,
     "metadata": {},
     "output_type": "execute_result"
    }
   ],
   "source": [
    "df_train.head(5)"
   ]
  },
  {
   "cell_type": "code",
   "execution_count": 9,
   "id": "f4a6df13-eee7-43d1-b0c9-da5a17260d0c",
   "metadata": {},
   "outputs": [
    {
     "data": {
      "text/html": [
       "<div>\n",
       "<style scoped>\n",
       "    .dataframe tbody tr th:only-of-type {\n",
       "        vertical-align: middle;\n",
       "    }\n",
       "\n",
       "    .dataframe tbody tr th {\n",
       "        vertical-align: top;\n",
       "    }\n",
       "\n",
       "    .dataframe thead th {\n",
       "        text-align: right;\n",
       "    }\n",
       "</style>\n",
       "<table border=\"1\" class=\"dataframe\">\n",
       "  <thead>\n",
       "    <tr style=\"text-align: right;\">\n",
       "      <th></th>\n",
       "      <th>date</th>\n",
       "      <th>primary_cleaner.input.sulfate</th>\n",
       "      <th>primary_cleaner.input.depressant</th>\n",
       "      <th>primary_cleaner.input.feed_size</th>\n",
       "      <th>primary_cleaner.input.xanthate</th>\n",
       "      <th>primary_cleaner.state.floatbank8_a_air</th>\n",
       "      <th>primary_cleaner.state.floatbank8_a_level</th>\n",
       "      <th>primary_cleaner.state.floatbank8_b_air</th>\n",
       "      <th>primary_cleaner.state.floatbank8_b_level</th>\n",
       "      <th>primary_cleaner.state.floatbank8_c_air</th>\n",
       "      <th>...</th>\n",
       "      <th>secondary_cleaner.state.floatbank4_a_air</th>\n",
       "      <th>secondary_cleaner.state.floatbank4_a_level</th>\n",
       "      <th>secondary_cleaner.state.floatbank4_b_air</th>\n",
       "      <th>secondary_cleaner.state.floatbank4_b_level</th>\n",
       "      <th>secondary_cleaner.state.floatbank5_a_air</th>\n",
       "      <th>secondary_cleaner.state.floatbank5_a_level</th>\n",
       "      <th>secondary_cleaner.state.floatbank5_b_air</th>\n",
       "      <th>secondary_cleaner.state.floatbank5_b_level</th>\n",
       "      <th>secondary_cleaner.state.floatbank6_a_air</th>\n",
       "      <th>secondary_cleaner.state.floatbank6_a_level</th>\n",
       "    </tr>\n",
       "  </thead>\n",
       "  <tbody>\n",
       "    <tr>\n",
       "      <th>0</th>\n",
       "      <td>2016-09-01 00:59:59</td>\n",
       "      <td>210.800909</td>\n",
       "      <td>14.993118</td>\n",
       "      <td>8.080000</td>\n",
       "      <td>1.005021</td>\n",
       "      <td>1398.981301</td>\n",
       "      <td>-500.225577</td>\n",
       "      <td>1399.144926</td>\n",
       "      <td>-499.919735</td>\n",
       "      <td>1400.102998</td>\n",
       "      <td>...</td>\n",
       "      <td>12.023554</td>\n",
       "      <td>-497.795834</td>\n",
       "      <td>8.016656</td>\n",
       "      <td>-501.289139</td>\n",
       "      <td>7.946562</td>\n",
       "      <td>-432.317850</td>\n",
       "      <td>4.872511</td>\n",
       "      <td>-500.037437</td>\n",
       "      <td>26.705889</td>\n",
       "      <td>-499.709414</td>\n",
       "    </tr>\n",
       "    <tr>\n",
       "      <th>1</th>\n",
       "      <td>2016-09-01 01:59:59</td>\n",
       "      <td>215.392455</td>\n",
       "      <td>14.987471</td>\n",
       "      <td>8.080000</td>\n",
       "      <td>0.990469</td>\n",
       "      <td>1398.777912</td>\n",
       "      <td>-500.057435</td>\n",
       "      <td>1398.055362</td>\n",
       "      <td>-499.778182</td>\n",
       "      <td>1396.151033</td>\n",
       "      <td>...</td>\n",
       "      <td>12.058140</td>\n",
       "      <td>-498.695773</td>\n",
       "      <td>8.130979</td>\n",
       "      <td>-499.634209</td>\n",
       "      <td>7.958270</td>\n",
       "      <td>-525.839648</td>\n",
       "      <td>4.878850</td>\n",
       "      <td>-500.162375</td>\n",
       "      <td>25.019940</td>\n",
       "      <td>-499.819438</td>\n",
       "    </tr>\n",
       "    <tr>\n",
       "      <th>2</th>\n",
       "      <td>2016-09-01 02:59:59</td>\n",
       "      <td>215.259946</td>\n",
       "      <td>12.884934</td>\n",
       "      <td>7.786667</td>\n",
       "      <td>0.996043</td>\n",
       "      <td>1398.493666</td>\n",
       "      <td>-500.868360</td>\n",
       "      <td>1398.860436</td>\n",
       "      <td>-499.764529</td>\n",
       "      <td>1398.075709</td>\n",
       "      <td>...</td>\n",
       "      <td>11.962366</td>\n",
       "      <td>-498.767484</td>\n",
       "      <td>8.096893</td>\n",
       "      <td>-500.827423</td>\n",
       "      <td>8.071056</td>\n",
       "      <td>-500.801673</td>\n",
       "      <td>4.905125</td>\n",
       "      <td>-499.828510</td>\n",
       "      <td>24.994862</td>\n",
       "      <td>-500.622559</td>\n",
       "    </tr>\n",
       "    <tr>\n",
       "      <th>3</th>\n",
       "      <td>2016-09-01 03:59:59</td>\n",
       "      <td>215.336236</td>\n",
       "      <td>12.006805</td>\n",
       "      <td>7.640000</td>\n",
       "      <td>0.863514</td>\n",
       "      <td>1399.618111</td>\n",
       "      <td>-498.863574</td>\n",
       "      <td>1397.440120</td>\n",
       "      <td>-499.211024</td>\n",
       "      <td>1400.129303</td>\n",
       "      <td>...</td>\n",
       "      <td>12.033091</td>\n",
       "      <td>-498.350935</td>\n",
       "      <td>8.074946</td>\n",
       "      <td>-499.474407</td>\n",
       "      <td>7.897085</td>\n",
       "      <td>-500.868509</td>\n",
       "      <td>4.931400</td>\n",
       "      <td>-499.963623</td>\n",
       "      <td>24.948919</td>\n",
       "      <td>-498.709987</td>\n",
       "    </tr>\n",
       "    <tr>\n",
       "      <th>4</th>\n",
       "      <td>2016-09-01 04:59:59</td>\n",
       "      <td>199.099327</td>\n",
       "      <td>10.682530</td>\n",
       "      <td>7.530000</td>\n",
       "      <td>0.805575</td>\n",
       "      <td>1401.268123</td>\n",
       "      <td>-500.808305</td>\n",
       "      <td>1398.128818</td>\n",
       "      <td>-499.504543</td>\n",
       "      <td>1402.172226</td>\n",
       "      <td>...</td>\n",
       "      <td>12.025367</td>\n",
       "      <td>-500.786497</td>\n",
       "      <td>8.054678</td>\n",
       "      <td>-500.397500</td>\n",
       "      <td>8.107890</td>\n",
       "      <td>-509.526725</td>\n",
       "      <td>4.957674</td>\n",
       "      <td>-500.360026</td>\n",
       "      <td>25.003331</td>\n",
       "      <td>-500.856333</td>\n",
       "    </tr>\n",
       "  </tbody>\n",
       "</table>\n",
       "<p>5 rows × 53 columns</p>\n",
       "</div>"
      ],
      "text/plain": [
       "                  date  primary_cleaner.input.sulfate  \\\n",
       "0  2016-09-01 00:59:59                     210.800909   \n",
       "1  2016-09-01 01:59:59                     215.392455   \n",
       "2  2016-09-01 02:59:59                     215.259946   \n",
       "3  2016-09-01 03:59:59                     215.336236   \n",
       "4  2016-09-01 04:59:59                     199.099327   \n",
       "\n",
       "   primary_cleaner.input.depressant  primary_cleaner.input.feed_size  \\\n",
       "0                         14.993118                         8.080000   \n",
       "1                         14.987471                         8.080000   \n",
       "2                         12.884934                         7.786667   \n",
       "3                         12.006805                         7.640000   \n",
       "4                         10.682530                         7.530000   \n",
       "\n",
       "   primary_cleaner.input.xanthate  primary_cleaner.state.floatbank8_a_air  \\\n",
       "0                        1.005021                             1398.981301   \n",
       "1                        0.990469                             1398.777912   \n",
       "2                        0.996043                             1398.493666   \n",
       "3                        0.863514                             1399.618111   \n",
       "4                        0.805575                             1401.268123   \n",
       "\n",
       "   primary_cleaner.state.floatbank8_a_level  \\\n",
       "0                               -500.225577   \n",
       "1                               -500.057435   \n",
       "2                               -500.868360   \n",
       "3                               -498.863574   \n",
       "4                               -500.808305   \n",
       "\n",
       "   primary_cleaner.state.floatbank8_b_air  \\\n",
       "0                             1399.144926   \n",
       "1                             1398.055362   \n",
       "2                             1398.860436   \n",
       "3                             1397.440120   \n",
       "4                             1398.128818   \n",
       "\n",
       "   primary_cleaner.state.floatbank8_b_level  \\\n",
       "0                               -499.919735   \n",
       "1                               -499.778182   \n",
       "2                               -499.764529   \n",
       "3                               -499.211024   \n",
       "4                               -499.504543   \n",
       "\n",
       "   primary_cleaner.state.floatbank8_c_air  ...  \\\n",
       "0                             1400.102998  ...   \n",
       "1                             1396.151033  ...   \n",
       "2                             1398.075709  ...   \n",
       "3                             1400.129303  ...   \n",
       "4                             1402.172226  ...   \n",
       "\n",
       "   secondary_cleaner.state.floatbank4_a_air  \\\n",
       "0                                 12.023554   \n",
       "1                                 12.058140   \n",
       "2                                 11.962366   \n",
       "3                                 12.033091   \n",
       "4                                 12.025367   \n",
       "\n",
       "   secondary_cleaner.state.floatbank4_a_level  \\\n",
       "0                                 -497.795834   \n",
       "1                                 -498.695773   \n",
       "2                                 -498.767484   \n",
       "3                                 -498.350935   \n",
       "4                                 -500.786497   \n",
       "\n",
       "   secondary_cleaner.state.floatbank4_b_air  \\\n",
       "0                                  8.016656   \n",
       "1                                  8.130979   \n",
       "2                                  8.096893   \n",
       "3                                  8.074946   \n",
       "4                                  8.054678   \n",
       "\n",
       "   secondary_cleaner.state.floatbank4_b_level  \\\n",
       "0                                 -501.289139   \n",
       "1                                 -499.634209   \n",
       "2                                 -500.827423   \n",
       "3                                 -499.474407   \n",
       "4                                 -500.397500   \n",
       "\n",
       "   secondary_cleaner.state.floatbank5_a_air  \\\n",
       "0                                  7.946562   \n",
       "1                                  7.958270   \n",
       "2                                  8.071056   \n",
       "3                                  7.897085   \n",
       "4                                  8.107890   \n",
       "\n",
       "   secondary_cleaner.state.floatbank5_a_level  \\\n",
       "0                                 -432.317850   \n",
       "1                                 -525.839648   \n",
       "2                                 -500.801673   \n",
       "3                                 -500.868509   \n",
       "4                                 -509.526725   \n",
       "\n",
       "   secondary_cleaner.state.floatbank5_b_air  \\\n",
       "0                                  4.872511   \n",
       "1                                  4.878850   \n",
       "2                                  4.905125   \n",
       "3                                  4.931400   \n",
       "4                                  4.957674   \n",
       "\n",
       "   secondary_cleaner.state.floatbank5_b_level  \\\n",
       "0                                 -500.037437   \n",
       "1                                 -500.162375   \n",
       "2                                 -499.828510   \n",
       "3                                 -499.963623   \n",
       "4                                 -500.360026   \n",
       "\n",
       "   secondary_cleaner.state.floatbank6_a_air  \\\n",
       "0                                 26.705889   \n",
       "1                                 25.019940   \n",
       "2                                 24.994862   \n",
       "3                                 24.948919   \n",
       "4                                 25.003331   \n",
       "\n",
       "   secondary_cleaner.state.floatbank6_a_level  \n",
       "0                                 -499.709414  \n",
       "1                                 -499.819438  \n",
       "2                                 -500.622559  \n",
       "3                                 -498.709987  \n",
       "4                                 -500.856333  \n",
       "\n",
       "[5 rows x 53 columns]"
      ]
     },
     "execution_count": 9,
     "metadata": {},
     "output_type": "execute_result"
    }
   ],
   "source": [
    "df_test.head(5)"
   ]
  },
  {
   "cell_type": "markdown",
   "id": "1e925d6e-9852-49b6-a688-3b9f796c1259",
   "metadata": {},
   "source": [
    "**Проверим наличие явных дубликатов в данных.**"
   ]
  },
  {
   "cell_type": "code",
   "execution_count": 10,
   "id": "d79ff50b-592a-4aa1-8369-413c39cd54ea",
   "metadata": {},
   "outputs": [
    {
     "data": {
      "text/plain": [
       "0"
      ]
     },
     "execution_count": 10,
     "metadata": {},
     "output_type": "execute_result"
    }
   ],
   "source": [
    "df_full.duplicated().sum()"
   ]
  },
  {
   "cell_type": "code",
   "execution_count": 11,
   "id": "bd5fced9-c7cd-4cf0-b248-4e9400796c1d",
   "metadata": {},
   "outputs": [
    {
     "data": {
      "text/plain": [
       "0"
      ]
     },
     "execution_count": 11,
     "metadata": {},
     "output_type": "execute_result"
    }
   ],
   "source": [
    "df_test.duplicated().sum()"
   ]
  },
  {
   "cell_type": "code",
   "execution_count": 12,
   "id": "931e96c4-a3ab-4943-93bd-b11f84837910",
   "metadata": {},
   "outputs": [
    {
     "data": {
      "text/plain": [
       "0"
      ]
     },
     "execution_count": 12,
     "metadata": {},
     "output_type": "execute_result"
    }
   ],
   "source": [
    "df_train.duplicated().sum()"
   ]
  },
  {
   "cell_type": "markdown",
   "id": "2eabbd85-b063-4bf7-a6ea-7896880e9c6f",
   "metadata": {},
   "source": [
    "Явные дубликаты не выявлены."
   ]
  },
  {
   "cell_type": "markdown",
   "id": "424853f0-74d9-445a-a4f1-05609b4ebf7d",
   "metadata": {},
   "source": [
    "**Найдем пропущенные значения в данных.**"
   ]
  },
  {
   "cell_type": "code",
   "execution_count": 13,
   "id": "afa03291-8fad-44c1-9ce4-688be3ab45b8",
   "metadata": {},
   "outputs": [
    {
     "data": {
      "text/plain": [
       "secondary_cleaner.output.tail_sol           1748\n",
       "rougher.input.floatbank11_xanthate           453\n",
       "rougher.state.floatbank10_e_air              436\n",
       "primary_cleaner.output.concentrate_sol       370\n",
       "secondary_cleaner.state.floatbank2_a_air     220\n",
       "                                            ... \n",
       "rougher.state.floatbank10_d_level              0\n",
       "rougher.state.floatbank10_d_air                0\n",
       "rougher.output.tail_pb                         0\n",
       "rougher.output.tail_sol                        0\n",
       "date                                           0\n",
       "Length: 87, dtype: int64"
      ]
     },
     "execution_count": 13,
     "metadata": {},
     "output_type": "execute_result"
    }
   ],
   "source": [
    "# посчитаем количество пропусков\n",
    "df_full.isna().sum().sort_values(ascending=False)"
   ]
  },
  {
   "cell_type": "code",
   "execution_count": 14,
   "id": "22d59bba-728e-4bac-9278-4e4b8efe5530",
   "metadata": {},
   "outputs": [
    {
     "data": {
      "text/plain": [
       "rougher.input.floatbank11_xanthate            25\n",
       "rougher.input.feed_sol                        21\n",
       "secondary_cleaner.state.floatbank3_a_air       9\n",
       "rougher.input.floatbank11_sulfate              8\n",
       "primary_cleaner.input.depressant               5\n",
       "rougher.input.floatbank10_sulfate              5\n",
       "primary_cleaner.input.xanthate                 4\n",
       "primary_cleaner.input.sulfate                  4\n",
       "rougher.input.feed_rate                        3\n",
       "secondary_cleaner.state.floatbank2_a_air       3\n",
       "secondary_cleaner.state.floatbank2_b_air       2\n",
       "rougher.input.feed_size                        1\n",
       "secondary_cleaner.state.floatbank2_b_level     0\n",
       "rougher.state.floatbank10_f_level              0\n",
       "rougher.state.floatbank10_f_air                0\n",
       "secondary_cleaner.state.floatbank3_a_level     0\n",
       "secondary_cleaner.state.floatbank2_a_level     0\n",
       "date                                           0\n",
       "rougher.state.floatbank10_e_air                0\n",
       "secondary_cleaner.state.floatbank3_b_air       0\n",
       "secondary_cleaner.state.floatbank3_b_level     0\n",
       "secondary_cleaner.state.floatbank4_a_air       0\n",
       "secondary_cleaner.state.floatbank4_a_level     0\n",
       "secondary_cleaner.state.floatbank4_b_air       0\n",
       "secondary_cleaner.state.floatbank4_b_level     0\n",
       "secondary_cleaner.state.floatbank5_a_air       0\n",
       "secondary_cleaner.state.floatbank5_a_level     0\n",
       "secondary_cleaner.state.floatbank5_b_air       0\n",
       "secondary_cleaner.state.floatbank5_b_level     0\n",
       "secondary_cleaner.state.floatbank6_a_air       0\n",
       "rougher.state.floatbank10_e_level              0\n",
       "rougher.state.floatbank10_b_level              0\n",
       "rougher.state.floatbank10_d_level              0\n",
       "primary_cleaner.state.floatbank8_d_level       0\n",
       "primary_cleaner.input.feed_size                0\n",
       "primary_cleaner.state.floatbank8_a_air         0\n",
       "primary_cleaner.state.floatbank8_a_level       0\n",
       "primary_cleaner.state.floatbank8_b_air         0\n",
       "primary_cleaner.state.floatbank8_b_level       0\n",
       "primary_cleaner.state.floatbank8_c_air         0\n",
       "primary_cleaner.state.floatbank8_c_level       0\n",
       "primary_cleaner.state.floatbank8_d_air         0\n",
       "rougher.input.feed_ag                          0\n",
       "rougher.state.floatbank10_d_air                0\n",
       "rougher.input.feed_pb                          0\n",
       "rougher.input.feed_au                          0\n",
       "rougher.input.floatbank10_xanthate             0\n",
       "rougher.state.floatbank10_a_air                0\n",
       "rougher.state.floatbank10_a_level              0\n",
       "rougher.state.floatbank10_b_air                0\n",
       "rougher.state.floatbank10_c_air                0\n",
       "rougher.state.floatbank10_c_level              0\n",
       "secondary_cleaner.state.floatbank6_a_level     0\n",
       "dtype: int64"
      ]
     },
     "execution_count": 14,
     "metadata": {},
     "output_type": "execute_result"
    }
   ],
   "source": [
    "# посчитаем количество пропусков\n",
    "df_test.isna().sum().sort_values(ascending=False)"
   ]
  },
  {
   "cell_type": "code",
   "execution_count": 15,
   "id": "788e2d25-55fa-48ab-9050-0fd67d83b0aa",
   "metadata": {},
   "outputs": [
    {
     "data": {
      "text/plain": [
       "secondary_cleaner.output.tail_sol           1605\n",
       "rougher.state.floatbank10_e_air              436\n",
       "rougher.input.floatbank11_xanthate           428\n",
       "primary_cleaner.output.concentrate_sol       286\n",
       "secondary_cleaner.state.floatbank2_a_air     217\n",
       "                                            ... \n",
       "rougher.output.concentrate_pb                  0\n",
       "rougher.output.concentrate_au                  0\n",
       "rougher.output.recovery                        0\n",
       "rougher.output.tail_pb                         0\n",
       "date                                           0\n",
       "Length: 87, dtype: int64"
      ]
     },
     "execution_count": 15,
     "metadata": {},
     "output_type": "execute_result"
    }
   ],
   "source": [
    "# посчитаем количество пропусков\n",
    "df_train.isna().sum().sort_values(ascending=False)"
   ]
  },
  {
   "cell_type": "code",
   "execution_count": 16,
   "id": "98d06c7f-7bef-4fa4-a822-89caf0cffb75",
   "metadata": {},
   "outputs": [
    {
     "data": {
      "text/plain": [
       "secondary_cleaner.output.tail_sol           8.992232\n",
       "rougher.input.floatbank11_xanthate          2.330367\n",
       "rougher.state.floatbank10_e_air             2.242914\n",
       "primary_cleaner.output.concentrate_sol      1.903390\n",
       "secondary_cleaner.state.floatbank2_a_air    1.131745\n",
       "                                              ...   \n",
       "rougher.state.floatbank10_d_level           0.000000\n",
       "rougher.state.floatbank10_d_air             0.000000\n",
       "rougher.output.tail_pb                      0.000000\n",
       "rougher.output.tail_sol                     0.000000\n",
       "date                                        0.000000\n",
       "Length: 87, dtype: float64"
      ]
     },
     "execution_count": 16,
     "metadata": {},
     "output_type": "execute_result"
    }
   ],
   "source": [
    "# оценим пропущенные значения в процентах\n",
    "df_full.isna().mean().sort_values(ascending=False) * 100"
   ]
  },
  {
   "cell_type": "code",
   "execution_count": 17,
   "id": "ffe812e2-300a-4899-9ade-b7d8ad23f559",
   "metadata": {},
   "outputs": [
    {
     "data": {
      "text/plain": [
       "rougher.input.floatbank11_xanthate            0.472590\n",
       "rougher.input.feed_sol                        0.396975\n",
       "secondary_cleaner.state.floatbank3_a_air      0.170132\n",
       "rougher.input.floatbank11_sulfate             0.151229\n",
       "primary_cleaner.input.depressant              0.094518\n",
       "rougher.input.floatbank10_sulfate             0.094518\n",
       "primary_cleaner.input.xanthate                0.075614\n",
       "primary_cleaner.input.sulfate                 0.075614\n",
       "rougher.input.feed_rate                       0.056711\n",
       "secondary_cleaner.state.floatbank2_a_air      0.056711\n",
       "secondary_cleaner.state.floatbank2_b_air      0.037807\n",
       "rougher.input.feed_size                       0.018904\n",
       "secondary_cleaner.state.floatbank2_b_level    0.000000\n",
       "rougher.state.floatbank10_f_level             0.000000\n",
       "rougher.state.floatbank10_f_air               0.000000\n",
       "secondary_cleaner.state.floatbank3_a_level    0.000000\n",
       "secondary_cleaner.state.floatbank2_a_level    0.000000\n",
       "date                                          0.000000\n",
       "rougher.state.floatbank10_e_air               0.000000\n",
       "secondary_cleaner.state.floatbank3_b_air      0.000000\n",
       "secondary_cleaner.state.floatbank3_b_level    0.000000\n",
       "secondary_cleaner.state.floatbank4_a_air      0.000000\n",
       "secondary_cleaner.state.floatbank4_a_level    0.000000\n",
       "secondary_cleaner.state.floatbank4_b_air      0.000000\n",
       "secondary_cleaner.state.floatbank4_b_level    0.000000\n",
       "secondary_cleaner.state.floatbank5_a_air      0.000000\n",
       "secondary_cleaner.state.floatbank5_a_level    0.000000\n",
       "secondary_cleaner.state.floatbank5_b_air      0.000000\n",
       "secondary_cleaner.state.floatbank5_b_level    0.000000\n",
       "secondary_cleaner.state.floatbank6_a_air      0.000000\n",
       "rougher.state.floatbank10_e_level             0.000000\n",
       "rougher.state.floatbank10_b_level             0.000000\n",
       "rougher.state.floatbank10_d_level             0.000000\n",
       "primary_cleaner.state.floatbank8_d_level      0.000000\n",
       "primary_cleaner.input.feed_size               0.000000\n",
       "primary_cleaner.state.floatbank8_a_air        0.000000\n",
       "primary_cleaner.state.floatbank8_a_level      0.000000\n",
       "primary_cleaner.state.floatbank8_b_air        0.000000\n",
       "primary_cleaner.state.floatbank8_b_level      0.000000\n",
       "primary_cleaner.state.floatbank8_c_air        0.000000\n",
       "primary_cleaner.state.floatbank8_c_level      0.000000\n",
       "primary_cleaner.state.floatbank8_d_air        0.000000\n",
       "rougher.input.feed_ag                         0.000000\n",
       "rougher.state.floatbank10_d_air               0.000000\n",
       "rougher.input.feed_pb                         0.000000\n",
       "rougher.input.feed_au                         0.000000\n",
       "rougher.input.floatbank10_xanthate            0.000000\n",
       "rougher.state.floatbank10_a_air               0.000000\n",
       "rougher.state.floatbank10_a_level             0.000000\n",
       "rougher.state.floatbank10_b_air               0.000000\n",
       "rougher.state.floatbank10_c_air               0.000000\n",
       "rougher.state.floatbank10_c_level             0.000000\n",
       "secondary_cleaner.state.floatbank6_a_level    0.000000\n",
       "dtype: float64"
      ]
     },
     "execution_count": 17,
     "metadata": {},
     "output_type": "execute_result"
    }
   ],
   "source": [
    "# оценим пропущенные значения в процентах\n",
    "df_test.isna().mean().sort_values(ascending=False) * 100"
   ]
  },
  {
   "cell_type": "code",
   "execution_count": 18,
   "id": "1d11fe5d-a8b4-4b58-9aa7-59f32506dba3",
   "metadata": {},
   "outputs": [
    {
     "data": {
      "text/plain": [
       "secondary_cleaner.output.tail_sol           11.343558\n",
       "rougher.state.floatbank10_e_air              3.081490\n",
       "rougher.input.floatbank11_xanthate           3.024949\n",
       "primary_cleaner.output.concentrate_sol       2.021344\n",
       "secondary_cleaner.state.floatbank2_a_air     1.533677\n",
       "                                              ...    \n",
       "rougher.output.concentrate_pb                0.000000\n",
       "rougher.output.concentrate_au                0.000000\n",
       "rougher.output.recovery                      0.000000\n",
       "rougher.output.tail_pb                       0.000000\n",
       "date                                         0.000000\n",
       "Length: 87, dtype: float64"
      ]
     },
     "execution_count": 18,
     "metadata": {},
     "output_type": "execute_result"
    }
   ],
   "source": [
    "# оценим пропущенные значения в процентах\n",
    "df_train.isna().mean().sort_values(ascending=False) * 100"
   ]
  },
  {
   "cell_type": "markdown",
   "id": "f12a8bf3-2eb8-4cda-80a5-e45f85f9a690",
   "metadata": {},
   "source": [
    "**Визуализируем пропуски с помощью библиотеки missingno.**"
   ]
  },
  {
   "cell_type": "code",
   "execution_count": 19,
   "id": "1130b2da-bf08-4f28-9d8a-cd82521093b0",
   "metadata": {},
   "outputs": [
    {
     "data": {
      "image/png": "[encoded data removed]",
      "text/plain": [
       "<Figure size 2500x1000 with 2 Axes>"
      ]
     },
     "metadata": {},
     "output_type": "display_data"
    }
   ],
   "source": [
    "%matplotlib inline\n",
    "msno.matrix(df_full.sample(300))\n",
    "plt.title(\"Нулевая матрица\")\n",
    "plt.show()"
   ]
  },
  {
   "cell_type": "markdown",
   "id": "946e2913-8f90-4b48-9221-adfc6e2691c8",
   "metadata": {},
   "source": [
    "**При первом знакомстве с данными выявлено:**\n",
    "\n",
    "- в датафрейме `df_full` 87 cтолбцов и 19439 строк;\n",
    "- в датафрейме `df_train` 87 столбцов и 14148 строк;\n",
    "- в датафрейме `df_test` 53 столбца и 5290 строк;\n",
    "- в столбца data указан типа данных object;\n",
    "- явные дубликаты не выявлены;\n",
    "- в данных присутствуют пропущенные значения: большая часть в `df_full` и в `df_train`."
   ]
  },
  {
   "cell_type": "markdown",
   "id": "a63cb760-8bb7-4ab0-8517-ee9b89d74ef2",
   "metadata": {},
   "source": [
    "### Проверка эффективности обогащения"
   ]
  },
  {
   "cell_type": "markdown",
   "id": "1532d1c9-74be-4254-bf4d-e3bfb9bffcf5",
   "metadata": {},
   "source": [
    "Проверим данные эффективности обогащения в столбце `df_train['rougher.output.recovery']` на корректность. Их можно рассчитать по формуле из прочих имеющихся у нас данных:\n",
    "\n",
    "\n",
    "**Recovery = C×(F−T) / F×(C−T) ×100**\n",
    "\n",
    "\n",
    "С — это столбец  `df_train['rougher.output.concentrate_au']`,\n",
    "\n",
    "F — это столбец `df_train['rougher.input.feed_au]`,\n",
    "\n",
    "T — это столбец `df_train['rougher.output.tail_au']`.\n"
   ]
  },
  {
   "cell_type": "code",
   "execution_count": 20,
   "id": "8e210230-7ea9-42b3-b8b5-99454198bba1",
   "metadata": {},
   "outputs": [],
   "source": [
    "# подставим значения в формулу\n",
    "calculated_values = (\n",
    "    (\n",
    "        df_train[\"rougher.output.concentrate_au\"]\n",
    "        * (df_train[\"rougher.input.feed_au\"] - df_train[\"rougher.output.tail_au\"])\n",
    "    )\n",
    "    / (\n",
    "        df_train[\"rougher.input.feed_au\"]\n",
    "        * (\n",
    "            df_train[\"rougher.output.concentrate_au\"]\n",
    "            - df_train[\"rougher.output.tail_au\"]\n",
    "        )\n",
    "    )\n",
    "    * 100\n",
    ")"
   ]
  },
  {
   "cell_type": "code",
   "execution_count": 21,
   "id": "8d727584-556f-422a-bf10-cd7d9989fc15",
   "metadata": {},
   "outputs": [
    {
     "data": {
      "text/plain": [
       "0        87.107763\n",
       "1        86.843261\n",
       "2        86.842308\n",
       "3        87.226430\n",
       "4        86.688794\n",
       "           ...    \n",
       "14144    89.574376\n",
       "14145    87.724007\n",
       "14146    88.890579\n",
       "14147    89.858126\n",
       "14148    89.514960\n",
       "Length: 14149, dtype: float64"
      ]
     },
     "execution_count": 21,
     "metadata": {},
     "output_type": "execute_result"
    }
   ],
   "source": [
    "# проверим результат\n",
    "calculated_values"
   ]
  },
  {
   "cell_type": "markdown",
   "id": "270ce641-33d8-4a42-9b41-a770be8debee",
   "metadata": {},
   "source": [
    "Найдем среднее абсолютное отклонение (MAE) между расчётами и значением признака."
   ]
  },
  {
   "cell_type": "code",
   "execution_count": 22,
   "id": "3da37c7a-b977-4a46-a0ba-951971a5834b",
   "metadata": {},
   "outputs": [
    {
     "name": "stdout",
     "output_type": "stream",
     "text": [
      "MAE =  9.73512347450521e-15\n"
     ]
    }
   ],
   "source": [
    "# используем функцию mean_absolute_error из библиотеки sklearn.metrics\n",
    "print(\n",
    "    \"MAE = \",\n",
    "    mean_absolute_error(df_train[\"rougher.output.recovery\"], calculated_values),\n",
    ")"
   ]
  },
  {
   "cell_type": "markdown",
   "id": "7ab42e69-e5c1-41ab-b8b0-72b63448f262",
   "metadata": {},
   "source": [
    "**В ходе проверки полученное значение MAE (средней абсолютной ошибки) достаточно мало. Это говорит о том, что формула расчета эффективности обогащения верна.**"
   ]
  },
  {
   "cell_type": "markdown",
   "id": "a023ec7d-9e85-40d7-8821-7a961f789411",
   "metadata": {},
   "source": [
    "### Анализ признаков"
   ]
  },
  {
   "cell_type": "markdown",
   "id": "4f9fca02-8c1a-4cc5-bac1-eea3c8460a19",
   "metadata": {},
   "source": [
    "**Проанализируем признаки, недоступные в тестовой выборке. Выясним, что это за параметры и к какому типу относятся.**"
   ]
  },
  {
   "cell_type": "code",
   "execution_count": 23,
   "id": "d4ae2783-0e36-416b-b1ac-5e27bb8cadc0",
   "metadata": {},
   "outputs": [],
   "source": [
    "# сохраним недостающие столбцы в переменную\n",
    "columns_not_in_test = set(df_train.columns) - set(df_test.columns)"
   ]
  },
  {
   "cell_type": "code",
   "execution_count": 24,
   "id": "131fa56f-36ad-4bdf-a1d6-2c2e30cd35d9",
   "metadata": {},
   "outputs": [
    {
     "data": {
      "text/plain": [
       "{'final.output.concentrate_ag',\n",
       " 'final.output.concentrate_au',\n",
       " 'final.output.concentrate_pb',\n",
       " 'final.output.concentrate_sol',\n",
       " 'final.output.recovery',\n",
       " 'final.output.tail_ag',\n",
       " 'final.output.tail_au',\n",
       " 'final.output.tail_pb',\n",
       " 'final.output.tail_sol',\n",
       " 'primary_cleaner.output.concentrate_ag',\n",
       " 'primary_cleaner.output.concentrate_au',\n",
       " 'primary_cleaner.output.concentrate_pb',\n",
       " 'primary_cleaner.output.concentrate_sol',\n",
       " 'primary_cleaner.output.tail_ag',\n",
       " 'primary_cleaner.output.tail_au',\n",
       " 'primary_cleaner.output.tail_pb',\n",
       " 'primary_cleaner.output.tail_sol',\n",
       " 'rougher.calculation.au_pb_ratio',\n",
       " 'rougher.calculation.floatbank10_sulfate_to_au_feed',\n",
       " 'rougher.calculation.floatbank11_sulfate_to_au_feed',\n",
       " 'rougher.calculation.sulfate_to_au_concentrate',\n",
       " 'rougher.output.concentrate_ag',\n",
       " 'rougher.output.concentrate_au',\n",
       " 'rougher.output.concentrate_pb',\n",
       " 'rougher.output.concentrate_sol',\n",
       " 'rougher.output.recovery',\n",
       " 'rougher.output.tail_ag',\n",
       " 'rougher.output.tail_au',\n",
       " 'rougher.output.tail_pb',\n",
       " 'rougher.output.tail_sol',\n",
       " 'secondary_cleaner.output.tail_ag',\n",
       " 'secondary_cleaner.output.tail_au',\n",
       " 'secondary_cleaner.output.tail_pb',\n",
       " 'secondary_cleaner.output.tail_sol'}"
      ]
     },
     "execution_count": 24,
     "metadata": {},
     "output_type": "execute_result"
    }
   ],
   "source": [
    "# посмотрим на признаки, которых нет в тестовой выборке\n",
    "columns_not_in_test"
   ]
  },
  {
   "cell_type": "code",
   "execution_count": 25,
   "id": "54c4cd07-c5c7-4c39-956d-f0c2366d60cb",
   "metadata": {},
   "outputs": [
    {
     "name": "stdout",
     "output_type": "stream",
     "text": [
      "Количество отсутствующих признаков - 34\n"
     ]
    }
   ],
   "source": [
    "print(\"Количество отсутствующих признаков -\", len(columns_not_in_test))"
   ]
  },
  {
   "cell_type": "markdown",
   "id": "17a287ec-e16e-4e33-aa7c-5a41237cf88c",
   "metadata": {},
   "source": [
    "**Некоторые параметры недоступны, потому что замеряются и/или рассчитываются значительно позже. Из-за этого в тестовой выборке отсутствуют некоторые признаки: в основном это выходные показатели после каждого этапа по каждому из четырех веществ. Также в тестовом наборе нет целевых признаков.**"
   ]
  },
  {
   "cell_type": "markdown",
   "id": "b21cfbff-08a3-4306-ba59-664267ec042c",
   "metadata": {},
   "source": [
    "### Предобработка данных"
   ]
  },
  {
   "cell_type": "markdown",
   "id": "3bd83650-2b56-443b-b729-0a5048cd25a2",
   "metadata": {},
   "source": [
    "**В ходе предобработки приведем столбцы `date`к типу to_datetime. Заменим пропущенные значения там, где это необходимо.**"
   ]
  },
  {
   "cell_type": "code",
   "execution_count": 26,
   "id": "af4aff52-f6fa-46be-9626-bf4531774da2",
   "metadata": {},
   "outputs": [],
   "source": [
    "# создадим функцию, которая изменит тип данных в `date`\n",
    "def date_columns(df_full, df_train, df_test):\n",
    "    for df in [df_full, df_train, df_test]:\n",
    "        for column in df:\n",
    "            if \"date\" in column:\n",
    "                df[column] = pd.to_datetime(df[column])\n",
    "\n",
    "    return df_full, df_train, df_test"
   ]
  },
  {
   "cell_type": "code",
   "execution_count": 27,
   "id": "5460ca9d-04e1-4f7f-a311-d2931fb6d825",
   "metadata": {},
   "outputs": [],
   "source": [
    "df_full, df_train, df_test = date_columns(df_full, df_train, df_test)"
   ]
  },
  {
   "cell_type": "markdown",
   "id": "1a3cc1ad-21c1-4a51-aa2e-f026253cd152",
   "metadata": {},
   "source": [
    "**Соседние по времени параметры часто похожи, поэтому заменим пропущенные значения в датафреймах методом ffil(). Он берёт последнее значение, предшествующее нулевому, и заполняет им пропуски.**"
   ]
  },
  {
   "cell_type": "code",
   "execution_count": 28,
   "id": "bea04b1c-e615-4795-89a3-a40d96d46154",
   "metadata": {},
   "outputs": [],
   "source": [
    "df_train = df_train.ffill()\n",
    "df_test = df_test.ffill()\n",
    "df_full = df_full.ffill()"
   ]
  },
  {
   "cell_type": "code",
   "execution_count": 29,
   "id": "4c6e0fd9-afc5-4bb7-9a29-91cda0b3df02",
   "metadata": {},
   "outputs": [
    {
     "data": {
      "text/plain": [
       "date                                          0\n",
       "rougher.state.floatbank10_b_air               0\n",
       "rougher.state.floatbank10_f_air               0\n",
       "rougher.state.floatbank10_e_level             0\n",
       "rougher.state.floatbank10_e_air               0\n",
       "                                             ..\n",
       "primary_cleaner.state.floatbank8_c_level      0\n",
       "primary_cleaner.state.floatbank8_c_air        0\n",
       "primary_cleaner.state.floatbank8_b_level      0\n",
       "primary_cleaner.state.floatbank8_b_air        0\n",
       "secondary_cleaner.state.floatbank6_a_level    0\n",
       "Length: 87, dtype: int64"
      ]
     },
     "execution_count": 29,
     "metadata": {},
     "output_type": "execute_result"
    }
   ],
   "source": [
    "# проверим результат\n",
    "df_full.isna().sum().sort_values(ascending=False)"
   ]
  },
  {
   "cell_type": "code",
   "execution_count": 30,
   "id": "4140128d-6223-4f96-9d73-1094343eb579",
   "metadata": {},
   "outputs": [
    {
     "data": {
      "text/plain": [
       "date                                          0\n",
       "rougher.state.floatbank10_b_air               0\n",
       "rougher.state.floatbank10_f_air               0\n",
       "rougher.state.floatbank10_e_level             0\n",
       "rougher.state.floatbank10_e_air               0\n",
       "                                             ..\n",
       "primary_cleaner.state.floatbank8_c_level      0\n",
       "primary_cleaner.state.floatbank8_c_air        0\n",
       "primary_cleaner.state.floatbank8_b_level      0\n",
       "primary_cleaner.state.floatbank8_b_air        0\n",
       "secondary_cleaner.state.floatbank6_a_level    0\n",
       "Length: 87, dtype: int64"
      ]
     },
     "execution_count": 30,
     "metadata": {},
     "output_type": "execute_result"
    }
   ],
   "source": [
    "# проверим результат\n",
    "df_train.isna().sum().sort_values(ascending=False)"
   ]
  },
  {
   "cell_type": "code",
   "execution_count": 31,
   "id": "f3e970cb-7975-4799-aac7-843b276f25a6",
   "metadata": {},
   "outputs": [
    {
     "data": {
      "text/plain": [
       "date                                          0\n",
       "rougher.state.floatbank10_c_air               0\n",
       "rougher.state.floatbank10_d_air               0\n",
       "rougher.state.floatbank10_d_level             0\n",
       "rougher.state.floatbank10_e_air               0\n",
       "rougher.state.floatbank10_e_level             0\n",
       "rougher.state.floatbank10_f_air               0\n",
       "rougher.state.floatbank10_f_level             0\n",
       "secondary_cleaner.state.floatbank2_a_air      0\n",
       "secondary_cleaner.state.floatbank2_a_level    0\n",
       "secondary_cleaner.state.floatbank2_b_air      0\n",
       "secondary_cleaner.state.floatbank2_b_level    0\n",
       "secondary_cleaner.state.floatbank3_a_air      0\n",
       "secondary_cleaner.state.floatbank3_a_level    0\n",
       "secondary_cleaner.state.floatbank3_b_air      0\n",
       "secondary_cleaner.state.floatbank3_b_level    0\n",
       "secondary_cleaner.state.floatbank4_a_air      0\n",
       "secondary_cleaner.state.floatbank4_a_level    0\n",
       "secondary_cleaner.state.floatbank4_b_air      0\n",
       "secondary_cleaner.state.floatbank4_b_level    0\n",
       "secondary_cleaner.state.floatbank5_a_air      0\n",
       "secondary_cleaner.state.floatbank5_a_level    0\n",
       "secondary_cleaner.state.floatbank5_b_air      0\n",
       "secondary_cleaner.state.floatbank5_b_level    0\n",
       "secondary_cleaner.state.floatbank6_a_air      0\n",
       "rougher.state.floatbank10_c_level             0\n",
       "rougher.state.floatbank10_b_level             0\n",
       "primary_cleaner.input.sulfate                 0\n",
       "rougher.state.floatbank10_b_air               0\n",
       "primary_cleaner.input.depressant              0\n",
       "primary_cleaner.input.feed_size               0\n",
       "primary_cleaner.input.xanthate                0\n",
       "primary_cleaner.state.floatbank8_a_air        0\n",
       "primary_cleaner.state.floatbank8_a_level      0\n",
       "primary_cleaner.state.floatbank8_b_air        0\n",
       "primary_cleaner.state.floatbank8_b_level      0\n",
       "primary_cleaner.state.floatbank8_c_air        0\n",
       "primary_cleaner.state.floatbank8_c_level      0\n",
       "primary_cleaner.state.floatbank8_d_air        0\n",
       "primary_cleaner.state.floatbank8_d_level      0\n",
       "rougher.input.feed_ag                         0\n",
       "rougher.input.feed_pb                         0\n",
       "rougher.input.feed_rate                       0\n",
       "rougher.input.feed_size                       0\n",
       "rougher.input.feed_sol                        0\n",
       "rougher.input.feed_au                         0\n",
       "rougher.input.floatbank10_sulfate             0\n",
       "rougher.input.floatbank10_xanthate            0\n",
       "rougher.input.floatbank11_sulfate             0\n",
       "rougher.input.floatbank11_xanthate            0\n",
       "rougher.state.floatbank10_a_air               0\n",
       "rougher.state.floatbank10_a_level             0\n",
       "secondary_cleaner.state.floatbank6_a_level    0\n",
       "dtype: int64"
      ]
     },
     "execution_count": 31,
     "metadata": {},
     "output_type": "execute_result"
    }
   ],
   "source": [
    "# проверим результат\n",
    "df_test.isna().sum().sort_values(ascending=False)"
   ]
  },
  {
   "cell_type": "markdown",
   "id": "016c6e72-9607-477a-a9f6-50e45b654fec",
   "metadata": {},
   "source": [
    "**В ходе предобработки:**\n",
    "\n",
    "- столбцы `date`в датафреймах приведены к типу to_datetime;\n",
    "- пропущенные значения заменены методом ffil()."
   ]
  },
  {
   "cell_type": "markdown",
   "id": "f87b69d5-ac6a-4721-a7de-445f5556f3be",
   "metadata": {},
   "source": [
    "## Анализ данных"
   ]
  },
  {
   "cell_type": "markdown",
   "id": "1b0fdb07-0dca-4dad-9614-bed4ee3a62d9",
   "metadata": {},
   "source": [
    "**Проанализируем имеющиеся данные о концентрации металлов на различных этапах процесса очистки. Сравним распределение размеров гранул сырья. Выясним концентрацию всех веществ на разных этапах очистки.**"
   ]
  },
  {
   "cell_type": "markdown",
   "id": "338382e0-8579-446c-aea7-661b95ab904e",
   "metadata": {},
   "source": [
    "### Концентрация металлов на различных этапах очистки"
   ]
  },
  {
   "cell_type": "markdown",
   "id": "6e9eae66-0307-4c4c-aaaf-2ac9bda9c7c8",
   "metadata": {},
   "source": [
    "Выясним, как меняется концентрация металлов (Au, Ag, Pb) на различных этапах очистки."
   ]
  },
  {
   "cell_type": "markdown",
   "id": "5b5ead4d-03b5-450d-ab42-46d20cc940eb",
   "metadata": {},
   "source": [
    "**Построим график распределения доли золота (Au) после этапов флотации, первичной очистки и в финальном концентрате.**"
   ]
  },
  {
   "cell_type": "code",
   "execution_count": 32,
   "id": "283bb22a-7bf0-43a8-a999-f0a952beb8fb",
   "metadata": {},
   "outputs": [
    {
     "data": {
      "image/png": "[encoded data removed]",
      "text/plain": [
       "<Figure size 800x700 with 1 Axes>"
      ]
     },
     "metadata": {},
     "output_type": "display_data"
    }
   ],
   "source": [
    "plt.figure(figsize=(8, 7))\n",
    "sns.set_style(\"whitegrid\")\n",
    "sns.histplot(\n",
    "    df_train[\"rougher.input.feed_au\"],\n",
    "    bins=80,\n",
    "    label=\"В сырье\",\n",
    "    alpha=0.5,\n",
    ")\n",
    "sns.histplot(\n",
    "    df_train[\"rougher.output.concentrate_au\"],\n",
    "    bins=80,\n",
    "    label=\"После флотации\",\n",
    "    alpha=0.5,\n",
    ")\n",
    "sns.histplot(\n",
    "    df_train[\"primary_cleaner.output.concentrate_au\"],\n",
    "    bins=80,\n",
    "    label=\"После первичной очистки\",\n",
    "    alpha=0.5,\n",
    ")\n",
    "sns.histplot(\n",
    "    df_train[\"final.output.concentrate_au\"],\n",
    "    bins=80,\n",
    "    label=\"Финальный концентрат\",\n",
    "    alpha=0.5,\n",
    ")\n",
    "\n",
    "\n",
    "plt.title(\"Изменение концентрации золота\")\n",
    "plt.legend(loc=\"upper left\", fontsize=\"medium\")\n",
    "plt.xlabel(\"Концентрация вещества\")\n",
    "plt.ylabel(\"Количество наблюдений\")\n",
    "plt.show()"
   ]
  },
  {
   "cell_type": "markdown",
   "id": "ad3f79a6-b2d3-4a82-befc-cfe864b6e4c9",
   "metadata": {},
   "source": [
    "**Из графика видно, что с каждым этапом концентрация золота увеличивается и достигает максимальных значений в финальном концентрате.**\n",
    "Так же на графике заметны выбросы с нулевыми значениями."
   ]
  },
  {
   "cell_type": "markdown",
   "id": "e20f1c23-cd79-4b6e-9a3f-bc2b3b9568ee",
   "metadata": {},
   "source": [
    "**Построим график распределения доли серебра (Ag) после этапов флотации, первичной очистки и в финальном концентрате.**"
   ]
  },
  {
   "cell_type": "code",
   "execution_count": 33,
   "id": "74bffd3b-998d-445f-ba78-7209a7a67b34",
   "metadata": {},
   "outputs": [
    {
     "data": {
      "image/png": "[encoded data removed]",
      "text/plain": [
       "<Figure size 800x700 with 1 Axes>"
      ]
     },
     "metadata": {},
     "output_type": "display_data"
    }
   ],
   "source": [
    "plt.figure(figsize=(8, 7))\n",
    "sns.set_style(\"whitegrid\")\n",
    "sns.histplot(\n",
    "    df_train[\"rougher.input.feed_ag\"],\n",
    "    bins=80,\n",
    "    label=\"В сырье\",\n",
    "    alpha=0.5,\n",
    ")\n",
    "sns.histplot(\n",
    "    df_train[\"rougher.output.concentrate_ag\"],\n",
    "    bins=80,\n",
    "    label=\"После флотации\",\n",
    "    alpha=0.5,\n",
    ")\n",
    "sns.histplot(\n",
    "    df_train[\"primary_cleaner.output.concentrate_ag\"],\n",
    "    bins=80,\n",
    "    label=\"После первичной очистки\",\n",
    "    alpha=0.5,\n",
    ")\n",
    "sns.histplot(\n",
    "    df_train[\"final.output.concentrate_ag\"],\n",
    "    bins=80,\n",
    "    label=\"Финальный концентрат\",\n",
    "    alpha=0.5,\n",
    ")\n",
    "\n",
    "plt.title(\"Изменение концентрации серебра\")\n",
    "plt.legend(loc=\"upper right\", fontsize=\"medium\")\n",
    "plt.xlabel(\"Концентрация вещества\")\n",
    "plt.ylabel(\"Количество наблюдений\")\n",
    "plt.show()"
   ]
  },
  {
   "cell_type": "markdown",
   "id": "b844cedc-0b59-4c38-9e8e-3700060ce716",
   "metadata": {},
   "source": [
    "**Из графика видно, что концентрация серебра в сырье примерно на том же уровне, что и после первичной очистки. Затем заметно снижается после каждого этапа очистки и в финальном концентрате доля серебра ниже, чем после предыдущих этапов.**\n",
    "Так же на графике заметны выбросы с нулевыми значениями."
   ]
  },
  {
   "cell_type": "markdown",
   "id": "457a9e3c-f9b4-4693-bc63-3e1e72e398e9",
   "metadata": {},
   "source": [
    "**Построим график распределения доли свинца (Pb) после этапов флотации, первичной очистки и в финальном концентрате.**"
   ]
  },
  {
   "cell_type": "code",
   "execution_count": 34,
   "id": "812d6fd7-448f-4e95-9402-a8c96c131dfe",
   "metadata": {},
   "outputs": [
    {
     "data": {
      "image/png": "[encoded data removed]",
      "text/plain": [
       "<Figure size 800x700 with 1 Axes>"
      ]
     },
     "metadata": {},
     "output_type": "display_data"
    }
   ],
   "source": [
    "plt.figure(figsize=(8, 7))\n",
    "sns.set_style(\"whitegrid\")\n",
    "sns.histplot(\n",
    "    df_train[\"rougher.input.feed_pb\"],\n",
    "    bins=80,\n",
    "    label=\"В сырье\",\n",
    "    alpha=0.5,\n",
    ")\n",
    "sns.histplot(\n",
    "    df_train[\"rougher.output.concentrate_pb\"],\n",
    "    bins=80,\n",
    "    label=\"После флотации\",\n",
    "    alpha=0.5,\n",
    ")\n",
    "sns.histplot(\n",
    "    df_train[\"primary_cleaner.output.concentrate_pb\"],\n",
    "    bins=80,\n",
    "    label=\"После первичной очистки\",\n",
    "    alpha=0.5,\n",
    ")\n",
    "sns.histplot(\n",
    "    df_train[\"final.output.concentrate_pb\"],\n",
    "    bins=80,\n",
    "    label=\"Финальный концентрат\",\n",
    "    alpha=0.5,\n",
    ")\n",
    "\n",
    "plt.title(\"Изменение концентрации свинца\")\n",
    "plt.legend(loc=\"upper left\", fontsize=\"medium\")\n",
    "plt.xlabel(\"Концентрация вещества\")\n",
    "plt.ylabel(\"Количество наблюдений\")\n",
    "plt.show()"
   ]
  },
  {
   "cell_type": "markdown",
   "id": "354a5862-faa1-410a-8f84-95afa1e7ad6b",
   "metadata": {},
   "source": [
    "**Из графика видно, что концентрация свинца в сырье достаточно низкая, после первичной очистки и в финальном концентрате практически одинаковая.**\n",
    "Так же на графике заметны выбросы с нулевыми значениями."
   ]
  },
  {
   "cell_type": "markdown",
   "id": "3dfa3cdb-0450-4cd4-9867-67ec52d26b21",
   "metadata": {},
   "source": [
    "**Анализа концетрации всех веществ на разных этапах очистки показал, что у каждого вещества свои особенности в ходе обработки (от сырья до финального концентрата):**\n",
    "\n",
    "- концентрация золота увеличивается и достигает максимальных значений в финальном концентрате;\n",
    "- концентрация серебра заметно снижается после каждого этапа очистки и в финальном концентрате доля серебра ниже, чем после предыдущих этапов;\n",
    "- концентрация свинца после первичной очистки и в финальном концентрате практически одинаковая."
   ]
  },
  {
   "cell_type": "markdown",
   "id": "74cf32b3-18d8-40ab-bc04-4a92d2c68de7",
   "metadata": {},
   "source": [
    "**Удалим все нулевые значения в столбцах обучающей выборки.**"
   ]
  },
  {
   "cell_type": "code",
   "execution_count": 35,
   "id": "e12a8aa9-0a9c-4ef3-ab44-26148c9813d7",
   "metadata": {},
   "outputs": [],
   "source": [
    "df_train = df_train[\n",
    "    (df_train[\"rougher.output.concentrate_au\"] != 0)\n",
    "    & (df_train[\"final.output.concentrate_au\"] != 0)\n",
    "    & (df_train[\"primary_cleaner.output.concentrate_au\"] != 0)\n",
    "]"
   ]
  },
  {
   "cell_type": "code",
   "execution_count": 36,
   "id": "635f8bcc-98f0-49ac-853a-027dfe47d0a7",
   "metadata": {},
   "outputs": [],
   "source": [
    "df_train = df_train[\n",
    "    (df_train[\"rougher.output.concentrate_ag\"] != 0)\n",
    "    & (df_train[\"final.output.concentrate_ag\"] != 0)\n",
    "    & (df_train[\"primary_cleaner.output.concentrate_ag\"] != 0)\n",
    "]"
   ]
  },
  {
   "cell_type": "code",
   "execution_count": 37,
   "id": "14a3d7dd-dd4d-4539-b35a-172c3cca80f9",
   "metadata": {},
   "outputs": [],
   "source": [
    "df_train = df_train[\n",
    "    (df_train[\"rougher.output.concentrate_sol\"] != 0)\n",
    "    & (df_train[\"final.output.concentrate_sol\"] != 0)\n",
    "    & (df_train[\"primary_cleaner.output.concentrate_sol\"] != 0)\n",
    "]"
   ]
  },
  {
   "cell_type": "code",
   "execution_count": 38,
   "id": "a2d06a4f-b69e-477e-a396-50e393100da9",
   "metadata": {},
   "outputs": [],
   "source": [
    "df_train = df_train[\n",
    "    (df_train[\"rougher.output.concentrate_pb\"] != 0)\n",
    "    & (df_train[\"final.output.concentrate_pb\"] != 0)\n",
    "    & (df_train[\"primary_cleaner.output.concentrate_pb\"] != 0)\n",
    "]"
   ]
  },
  {
   "cell_type": "code",
   "execution_count": 39,
   "id": "17a5fbf8-e0ba-4614-8a13-76230d375b80",
   "metadata": {},
   "outputs": [
    {
     "name": "stdout",
     "output_type": "stream",
     "text": [
      "<class 'pandas.core.frame.DataFrame'>\n",
      "Index: 13716 entries, 0 to 14148\n",
      "Data columns (total 87 columns):\n",
      " #   Column                                              Non-Null Count  Dtype         \n",
      "---  ------                                              --------------  -----         \n",
      " 0   date                                                13716 non-null  datetime64[ns]\n",
      " 1   final.output.concentrate_ag                         13716 non-null  float64       \n",
      " 2   final.output.concentrate_pb                         13716 non-null  float64       \n",
      " 3   final.output.concentrate_sol                        13716 non-null  float64       \n",
      " 4   final.output.concentrate_au                         13716 non-null  float64       \n",
      " 5   final.output.recovery                               13716 non-null  float64       \n",
      " 6   final.output.tail_ag                                13716 non-null  float64       \n",
      " 7   final.output.tail_pb                                13716 non-null  float64       \n",
      " 8   final.output.tail_sol                               13716 non-null  float64       \n",
      " 9   final.output.tail_au                                13716 non-null  float64       \n",
      " 10  primary_cleaner.input.sulfate                       13716 non-null  float64       \n",
      " 11  primary_cleaner.input.depressant                    13716 non-null  float64       \n",
      " 12  primary_cleaner.input.feed_size                     13716 non-null  float64       \n",
      " 13  primary_cleaner.input.xanthate                      13716 non-null  float64       \n",
      " 14  primary_cleaner.output.concentrate_ag               13716 non-null  float64       \n",
      " 15  primary_cleaner.output.concentrate_pb               13716 non-null  float64       \n",
      " 16  primary_cleaner.output.concentrate_sol              13716 non-null  float64       \n",
      " 17  primary_cleaner.output.concentrate_au               13716 non-null  float64       \n",
      " 18  primary_cleaner.output.tail_ag                      13716 non-null  float64       \n",
      " 19  primary_cleaner.output.tail_pb                      13716 non-null  float64       \n",
      " 20  primary_cleaner.output.tail_sol                     13716 non-null  float64       \n",
      " 21  primary_cleaner.output.tail_au                      13716 non-null  float64       \n",
      " 22  primary_cleaner.state.floatbank8_a_air              13716 non-null  float64       \n",
      " 23  primary_cleaner.state.floatbank8_a_level            13716 non-null  float64       \n",
      " 24  primary_cleaner.state.floatbank8_b_air              13716 non-null  float64       \n",
      " 25  primary_cleaner.state.floatbank8_b_level            13716 non-null  float64       \n",
      " 26  primary_cleaner.state.floatbank8_c_air              13716 non-null  float64       \n",
      " 27  primary_cleaner.state.floatbank8_c_level            13716 non-null  float64       \n",
      " 28  primary_cleaner.state.floatbank8_d_air              13716 non-null  float64       \n",
      " 29  primary_cleaner.state.floatbank8_d_level            13716 non-null  float64       \n",
      " 30  rougher.calculation.sulfate_to_au_concentrate       13716 non-null  float64       \n",
      " 31  rougher.calculation.floatbank10_sulfate_to_au_feed  13716 non-null  float64       \n",
      " 32  rougher.calculation.floatbank11_sulfate_to_au_feed  13716 non-null  float64       \n",
      " 33  rougher.calculation.au_pb_ratio                     13716 non-null  float64       \n",
      " 34  rougher.input.feed_ag                               13716 non-null  float64       \n",
      " 35  rougher.input.feed_pb                               13716 non-null  float64       \n",
      " 36  rougher.input.feed_rate                             13716 non-null  float64       \n",
      " 37  rougher.input.feed_size                             13716 non-null  float64       \n",
      " 38  rougher.input.feed_sol                              13716 non-null  float64       \n",
      " 39  rougher.input.feed_au                               13716 non-null  float64       \n",
      " 40  rougher.input.floatbank10_sulfate                   13716 non-null  float64       \n",
      " 41  rougher.input.floatbank10_xanthate                  13716 non-null  float64       \n",
      " 42  rougher.input.floatbank11_sulfate                   13716 non-null  float64       \n",
      " 43  rougher.input.floatbank11_xanthate                  13716 non-null  float64       \n",
      " 44  rougher.output.concentrate_ag                       13716 non-null  float64       \n",
      " 45  rougher.output.concentrate_pb                       13716 non-null  float64       \n",
      " 46  rougher.output.concentrate_sol                      13716 non-null  float64       \n",
      " 47  rougher.output.concentrate_au                       13716 non-null  float64       \n",
      " 48  rougher.output.recovery                             13716 non-null  float64       \n",
      " 49  rougher.output.tail_ag                              13716 non-null  float64       \n",
      " 50  rougher.output.tail_pb                              13716 non-null  float64       \n",
      " 51  rougher.output.tail_sol                             13716 non-null  float64       \n",
      " 52  rougher.output.tail_au                              13716 non-null  float64       \n",
      " 53  rougher.state.floatbank10_a_air                     13716 non-null  float64       \n",
      " 54  rougher.state.floatbank10_a_level                   13716 non-null  float64       \n",
      " 55  rougher.state.floatbank10_b_air                     13716 non-null  float64       \n",
      " 56  rougher.state.floatbank10_b_level                   13716 non-null  float64       \n",
      " 57  rougher.state.floatbank10_c_air                     13716 non-null  float64       \n",
      " 58  rougher.state.floatbank10_c_level                   13716 non-null  float64       \n",
      " 59  rougher.state.floatbank10_d_air                     13716 non-null  float64       \n",
      " 60  rougher.state.floatbank10_d_level                   13716 non-null  float64       \n",
      " 61  rougher.state.floatbank10_e_air                     13716 non-null  float64       \n",
      " 62  rougher.state.floatbank10_e_level                   13716 non-null  float64       \n",
      " 63  rougher.state.floatbank10_f_air                     13716 non-null  float64       \n",
      " 64  rougher.state.floatbank10_f_level                   13716 non-null  float64       \n",
      " 65  secondary_cleaner.output.tail_ag                    13716 non-null  float64       \n",
      " 66  secondary_cleaner.output.tail_pb                    13716 non-null  float64       \n",
      " 67  secondary_cleaner.output.tail_sol                   13716 non-null  float64       \n",
      " 68  secondary_cleaner.output.tail_au                    13716 non-null  float64       \n",
      " 69  secondary_cleaner.state.floatbank2_a_air            13716 non-null  float64       \n",
      " 70  secondary_cleaner.state.floatbank2_a_level          13716 non-null  float64       \n",
      " 71  secondary_cleaner.state.floatbank2_b_air            13716 non-null  float64       \n",
      " 72  secondary_cleaner.state.floatbank2_b_level          13716 non-null  float64       \n",
      " 73  secondary_cleaner.state.floatbank3_a_air            13716 non-null  float64       \n",
      " 74  secondary_cleaner.state.floatbank3_a_level          13716 non-null  float64       \n",
      " 75  secondary_cleaner.state.floatbank3_b_air            13716 non-null  float64       \n",
      " 76  secondary_cleaner.state.floatbank3_b_level          13716 non-null  float64       \n",
      " 77  secondary_cleaner.state.floatbank4_a_air            13716 non-null  float64       \n",
      " 78  secondary_cleaner.state.floatbank4_a_level          13716 non-null  float64       \n",
      " 79  secondary_cleaner.state.floatbank4_b_air            13716 non-null  float64       \n",
      " 80  secondary_cleaner.state.floatbank4_b_level          13716 non-null  float64       \n",
      " 81  secondary_cleaner.state.floatbank5_a_air            13716 non-null  float64       \n",
      " 82  secondary_cleaner.state.floatbank5_a_level          13716 non-null  float64       \n",
      " 83  secondary_cleaner.state.floatbank5_b_air            13716 non-null  float64       \n",
      " 84  secondary_cleaner.state.floatbank5_b_level          13716 non-null  float64       \n",
      " 85  secondary_cleaner.state.floatbank6_a_air            13716 non-null  float64       \n",
      " 86  secondary_cleaner.state.floatbank6_a_level          13716 non-null  float64       \n",
      "dtypes: datetime64[ns](1), float64(86)\n",
      "memory usage: 9.2 MB\n"
     ]
    }
   ],
   "source": [
    "# проверим результат\n",
    "df_train.info()"
   ]
  },
  {
   "cell_type": "markdown",
   "id": "1ef3c184-cce0-4e10-a574-f8119d016325",
   "metadata": {},
   "source": [
    "### Сравнение распределения размеров гранул сырья"
   ]
  },
  {
   "cell_type": "markdown",
   "id": "5eaaaffb-fa2a-4dca-a467-95e0518be7ce",
   "metadata": {},
   "source": [
    "**Сравним распределения размеров гранул сырья на обучающей и тестовой выборках. Если распределения сильно отличаются друг от друга, оценка модели будет \n",
    "неправильной.**\n",
    "\n",
    "Построим нормированные гистограммы для столбца `rougher.input.feed_size` в обучающей и тествовой выборках."
   ]
  },
  {
   "cell_type": "code",
   "execution_count": 40,
   "id": "481c256f-0dc8-494d-a724-4b103b635ea5",
   "metadata": {},
   "outputs": [
    {
     "data": {
      "image/png": "[encoded data removed]",
      "text/plain": [
       "<Figure size 1500x1000 with 1 Axes>"
      ]
     },
     "metadata": {},
     "output_type": "display_data"
    }
   ],
   "source": [
    "plt.figure(figsize=(15, 10))\n",
    "sns.set_style(\"whitegrid\")\n",
    "sns.histplot(\n",
    "    df_train[\"rougher.input.feed_size\"],\n",
    "    bins=50,\n",
    "    label=\"Обучающая выборка\",\n",
    "    alpha=0.5,\n",
    "    stat=\"density\",\n",
    "    common_norm=False,\n",
    ")\n",
    "sns.histplot(\n",
    "    df_test[\"rougher.input.feed_size\"],\n",
    "    bins=50,\n",
    "    label=\"Тестовая выборка\",\n",
    "    alpha=0.5,\n",
    "    stat=\"density\",\n",
    "    common_norm=False,\n",
    ")\n",
    "plt.legend(loc=\"upper right\", fontsize=\"medium\")\n",
    "plt.title(\"Распределение размеров гранул сырья на этапе флотации\")\n",
    "plt.xlabel(\"Размер гранул\")\n",
    "plt.ylabel(\"Плотность распределения\")\n",
    "plt.show()"
   ]
  },
  {
   "cell_type": "markdown",
   "id": "2f10575f-3ed6-4419-a9b0-caefd79af7be",
   "metadata": {},
   "source": [
    "**Из графика видно, что на этапе флотации распределения не столь значительно отличаются друг от друга.**\n",
    "\n",
    "\n",
    "Для подтверждения найдем разность средних значений и относительную разность размера гранул на этапе флотации в обучающей и тестовой выборках."
   ]
  },
  {
   "cell_type": "code",
   "execution_count": 41,
   "id": "f29bf0a7-47b2-444d-9d70-952b0d183f9a",
   "metadata": {},
   "outputs": [],
   "source": [
    "dif_avg = (\n",
    "    df_train[\"rougher.input.feed_size\"].mean()\n",
    "    - df_test[\"rougher.input.feed_size\"].mean()\n",
    ")"
   ]
  },
  {
   "cell_type": "code",
   "execution_count": 42,
   "id": "d5ec233e-5a43-4509-bccf-6afaffd1e98b",
   "metadata": {},
   "outputs": [],
   "source": [
    "rel_dif_avg = dif_avg / df_train[\"rougher.input.feed_size\"].mean()"
   ]
  },
  {
   "cell_type": "code",
   "execution_count": 43,
   "id": "31986eac-20c3-4da1-a8fc-d53b07af9d78",
   "metadata": {},
   "outputs": [
    {
     "name": "stdout",
     "output_type": "stream",
     "text": [
      "Разность средних 4.37\n",
      "Относительная разность средних 0.07\n"
     ]
    }
   ],
   "source": [
    "print(\"Разность средних\", dif_avg.round(2))\n",
    "print(\"Относительная разность средних\", rel_dif_avg.round(2))"
   ]
  },
  {
   "cell_type": "markdown",
   "id": "ff0635af-e30e-469b-966a-7346ec9765ec",
   "metadata": {},
   "source": [
    "**Так же построим нормированные гистограммы для столбца `primary_cleaner.input.feed_size` в обучающей и тествовой выборках.**"
   ]
  },
  {
   "cell_type": "code",
   "execution_count": 44,
   "id": "b409553d-8fea-452b-8b2d-74c840e9b4fc",
   "metadata": {},
   "outputs": [
    {
     "data": {
      "image/png": "[encoded data removed]",
      "text/plain": [
       "<Figure size 1500x1000 with 1 Axes>"
      ]
     },
     "metadata": {},
     "output_type": "display_data"
    }
   ],
   "source": [
    "plt.figure(figsize=(15, 10))\n",
    "sns.set_style(\"whitegrid\")\n",
    "sns.histplot(\n",
    "    df_train[\"primary_cleaner.input.feed_size\"],\n",
    "    bins=50,\n",
    "    label=\"Обучающая выборка\",\n",
    "    alpha=0.5,\n",
    "    stat=\"density\",\n",
    "    common_norm=False,\n",
    ")\n",
    "sns.histplot(\n",
    "    df_test[\"primary_cleaner.input.feed_size\"],\n",
    "    bins=50,\n",
    "    label=\"Тестовая выборка\",\n",
    "    alpha=0.5,\n",
    "    stat=\"density\",\n",
    "    common_norm=False,\n",
    ")\n",
    "plt.legend(loc=\"upper right\", fontsize=\"medium\")\n",
    "plt.title(\"Распределение размеров гранул сырья на этапе первичной очистки\")\n",
    "plt.xlabel(\"Размер гранул\")\n",
    "plt.ylabel(\"Плотность распределения\")\n",
    "plt.show()"
   ]
  },
  {
   "cell_type": "markdown",
   "id": "092dc945-f53c-4231-8d3c-ae9212dd77e0",
   "metadata": {},
   "source": [
    "**Из графика видно, что на этапе первичной очистки распределения практически не отличаются друг от друга.**\n",
    "\n",
    "\n",
    "Для подтверждения найдем разность средних значений и относительную разность размера гранул на этапе первичной очистки в обучающей и тестовой выборках."
   ]
  },
  {
   "cell_type": "code",
   "execution_count": 45,
   "id": "fddcf135-376f-482a-b92c-34ea2cd48999",
   "metadata": {},
   "outputs": [],
   "source": [
    "dif_avg = (\n",
    "    df_train[\"primary_cleaner.input.feed_size\"].mean()\n",
    "    - df_test[\"primary_cleaner.input.feed_size\"].mean()\n",
    ")"
   ]
  },
  {
   "cell_type": "code",
   "execution_count": 46,
   "id": "0a9d252f-b102-48e4-8584-37ec0c35c6fc",
   "metadata": {},
   "outputs": [],
   "source": [
    "rel_dif_avg = dif_avg / df_train[\"primary_cleaner.input.feed_size\"].mean()"
   ]
  },
  {
   "cell_type": "code",
   "execution_count": 47,
   "id": "2ac799ca-d9fe-4684-a78d-13f8bceef6b2",
   "metadata": {},
   "outputs": [
    {
     "name": "stdout",
     "output_type": "stream",
     "text": [
      "Разность средних 0.06\n",
      "Относительная разность средних 0.01\n"
     ]
    }
   ],
   "source": [
    "print(\"Разность средних\", dif_avg.round(2))\n",
    "print(\"Относительная разность средних\", rel_dif_avg.round(2))"
   ]
  },
  {
   "cell_type": "markdown",
   "id": "e13b704e-c9b8-4867-8752-9cc8c173087a",
   "metadata": {},
   "source": [
    "**Распределения отличаются незначительно, что дает право предполагать, что оценка модели будет правильной.**\n",
    "\n",
    "Вычисления разности средних и относительной разности показало, что средний размер гранул в выборках на этапе флотации различается примерно на 7%, а на этапе первичной очистки всего в 1%. Поскольку уточнить этото показатель у нас нет возможности, будем полагать, что эта разница допустима."
   ]
  },
  {
   "cell_type": "markdown",
   "id": "1a2d6ce4-fde7-42d5-8031-3cb142e9046b",
   "metadata": {},
   "source": [
    "### Cуммарная концентрация всех веществ"
   ]
  },
  {
   "cell_type": "markdown",
   "id": "85a8f1ce-f67c-4d4f-bffe-231f7b60422a",
   "metadata": {},
   "source": [
    "**Исследуем суммарную концентрацию всех веществ на разных стадиях: в сырье, в черновом и финальном концентратах.**"
   ]
  },
  {
   "cell_type": "markdown",
   "id": "ed507059-d8b8-4377-afc3-e435348e3992",
   "metadata": {},
   "source": [
    "Для определения суммарной концентрации найдем все столбцы, содержащие данные `[этап].output.concentrate_[элемент]`."
   ]
  },
  {
   "cell_type": "code",
   "execution_count": 48,
   "id": "380ce22d-0815-4829-931b-484deadd5489",
   "metadata": {},
   "outputs": [],
   "source": [
    "# Найдем столбцы, в названиях которых есть \"output.concentrate\"\n",
    "sum_columns = df_train.columns[df_train.columns.str.contains(\"output.concentrate\")]"
   ]
  },
  {
   "cell_type": "code",
   "execution_count": 49,
   "id": "eecebab0-7af6-464f-b819-dadc9139875c",
   "metadata": {},
   "outputs": [
    {
     "data": {
      "text/plain": [
       "Index(['final.output.concentrate_ag', 'final.output.concentrate_pb',\n",
       "       'final.output.concentrate_sol', 'final.output.concentrate_au',\n",
       "       'primary_cleaner.output.concentrate_ag',\n",
       "       'primary_cleaner.output.concentrate_pb',\n",
       "       'primary_cleaner.output.concentrate_sol',\n",
       "       'primary_cleaner.output.concentrate_au',\n",
       "       'rougher.output.concentrate_ag', 'rougher.output.concentrate_pb',\n",
       "       'rougher.output.concentrate_sol', 'rougher.output.concentrate_au'],\n",
       "      dtype='object')"
      ]
     },
     "execution_count": 49,
     "metadata": {},
     "output_type": "execute_result"
    }
   ],
   "source": [
    "sum_columns"
   ]
  },
  {
   "cell_type": "markdown",
   "id": "aad4e2e2-ce41-4bec-9181-eb3e787b8cc4",
   "metadata": {},
   "source": [
    "**Создадим переменные по каждому этапу и веществам.**"
   ]
  },
  {
   "cell_type": "code",
   "execution_count": 50,
   "id": "2bd50b29-3231-47b0-a979-d8547d0e8256",
   "metadata": {},
   "outputs": [],
   "source": [
    "# добавим столбцы с содержанием веществ в сырье\n",
    "sum_rougher_input = (\n",
    "    df_train[\"rougher.input.feed_ag\"]\n",
    "    + df_train[\"rougher.input.feed_pb\"]\n",
    "    + df_train[\"rougher.input.feed_au\"]\n",
    "    + df_train[\"rougher.input.feed_sol\"]\n",
    ")"
   ]
  },
  {
   "cell_type": "code",
   "execution_count": 51,
   "id": "3ab1f861-e912-42b2-8324-b419125ea56f",
   "metadata": {},
   "outputs": [],
   "source": [
    "sum_rougher = (\n",
    "    df_train[\"rougher.output.concentrate_ag\"]\n",
    "    + df_train[\"rougher.output.concentrate_pb\"]\n",
    "    + df_train[\"rougher.output.concentrate_sol\"]\n",
    "    + df_train[\"rougher.output.concentrate_au\"]\n",
    ")"
   ]
  },
  {
   "cell_type": "code",
   "execution_count": 52,
   "id": "906e812d-1c0f-4d50-8a1a-511c1916bf90",
   "metadata": {},
   "outputs": [],
   "source": [
    "sum_primary = (\n",
    "    df_train[\"primary_cleaner.output.concentrate_ag\"]\n",
    "    + df_train[\"primary_cleaner.output.concentrate_pb\"]\n",
    "    + df_train[\"primary_cleaner.output.concentrate_sol\"]\n",
    "    + df_train[\"primary_cleaner.output.concentrate_au\"]\n",
    ")"
   ]
  },
  {
   "cell_type": "code",
   "execution_count": 53,
   "id": "0dce2825-00a8-4a0a-b1cd-203dd922f91d",
   "metadata": {},
   "outputs": [],
   "source": [
    "sum_final = (\n",
    "    df_train[\"final.output.concentrate_ag\"]\n",
    "    + df_train[\"final.output.concentrate_pb\"]\n",
    "    + df_train[\"final.output.concentrate_sol\"]\n",
    "    + df_train[\"final.output.concentrate_au\"]\n",
    ")"
   ]
  },
  {
   "cell_type": "markdown",
   "id": "b14dcf09-5a3b-449a-a700-b7f08fef8ee6",
   "metadata": {},
   "source": [
    "**Построим график распределения суммарной концентрации всех веществ.**"
   ]
  },
  {
   "cell_type": "code",
   "execution_count": 54,
   "id": "a1fbe439-4704-4e3c-a558-7610f42c50e8",
   "metadata": {},
   "outputs": [
    {
     "data": {
      "image/png": "[encoded data removed]",
      "text/plain": [
       "<Figure size 1500x1000 with 1 Axes>"
      ]
     },
     "metadata": {},
     "output_type": "display_data"
    }
   ],
   "source": [
    "plt.figure(figsize=(15, 10))\n",
    "sns.set_style(\"whitegrid\")\n",
    "sns.histplot(sum_rougher_input, bins=80, label=\"В сырье\", alpha=0.5)\n",
    "sns.histplot(sum_rougher, bins=80, label=\"После флотации\", alpha=0.5)\n",
    "sns.histplot(sum_primary, bins=80, label=\"После первичной очистки\", alpha=0.5)\n",
    "sns.histplot(sum_final, bins=80, label=\"Финальный концентрат\", alpha=0.5)\n",
    "plt.title(\"Изменение концентрации суммарной концентрации всех веществ на разных этапах\")\n",
    "plt.legend(loc=\"upper left\", fontsize=\"medium\")\n",
    "plt.xlabel(\"Концентрация веществ\")\n",
    "plt.ylabel(\"Количество наблюдений\")\n",
    "plt.show()"
   ]
  },
  {
   "cell_type": "markdown",
   "id": "956f3730",
   "metadata": {},
   "source": [
    "**Из графика видим, что суммарная концентрация всех веществ наиболее высокая после флотации и в финальном концентрате.**"
   ]
  },
  {
   "cell_type": "markdown",
   "id": "168abef4-2a4d-4373-8f77-4f766d82e327",
   "metadata": {},
   "source": [
    "## Построение модели"
   ]
  },
  {
   "cell_type": "markdown",
   "id": "0444d09d-7ea6-46c9-8fa7-a09ce7efa637",
   "metadata": {},
   "source": [
    "**Подготовим данные для обучения. Обучим разные модели эффективности обогащения чернового и финального этапов, оценим их качество. Выберем лучшую модель и проверим её на тестовой выборке.**"
   ]
  },
  {
   "cell_type": "markdown",
   "id": "bb9a48ec-d867-4e18-bf06-906c3579ad9e",
   "metadata": {},
   "source": [
    "### Подготовка данных для построения модели"
   ]
  },
  {
   "cell_type": "markdown",
   "id": "74a61184-1cde-47d1-bf70-406076a34886",
   "metadata": {},
   "source": [
    "**На этапе предобработки было обнаружено, что в тестовой выборке отсутствуют целевые признаки и стобец `date`, по которому можно произвести объединение. Добавим их в `df_test` методом merge().**"
   ]
  },
  {
   "cell_type": "code",
   "execution_count": 55,
   "id": "09202e59-1a32-499b-879b-08e362b39eea",
   "metadata": {},
   "outputs": [],
   "source": [
    "# добавим к тестовой выборке целевые признаки по столбцу с датой\n",
    "df_test = df_test.merge(\n",
    "    df_full[[\"date\", \"rougher.output.recovery\", \"final.output.recovery\"]],\n",
    "    how=\"left\",\n",
    "    on=\"date\",\n",
    ")"
   ]
  },
  {
   "cell_type": "code",
   "execution_count": 56,
   "id": "35dcc754-7350-41ea-82b7-842d9ef32352",
   "metadata": {},
   "outputs": [],
   "source": [
    "# проверим результат\n",
    "columns_not_in_test2 = set(df_train.columns) - set(df_test.columns)"
   ]
  },
  {
   "cell_type": "code",
   "execution_count": 57,
   "id": "c9663566-2fc3-4c88-870b-5d0cb61585e9",
   "metadata": {},
   "outputs": [
    {
     "data": {
      "text/plain": [
       "32"
      ]
     },
     "execution_count": 57,
     "metadata": {},
     "output_type": "execute_result"
    }
   ],
   "source": [
    "len(columns_not_in_test2)"
   ]
  },
  {
   "cell_type": "markdown",
   "id": "06f7e337-5d7c-4cfa-8404-1e60bacbbe3e",
   "metadata": {},
   "source": [
    "**Все верно: в тестовой выборке отсутствует уже 32 признака. Удалим их из обучающего датасета.**"
   ]
  },
  {
   "cell_type": "code",
   "execution_count": 58,
   "id": "3fc84767-a776-4195-a939-dcf39864dd99",
   "metadata": {},
   "outputs": [],
   "source": [
    "df_train = df_train.drop(columns=columns_not_in_test2, axis=1)"
   ]
  },
  {
   "cell_type": "code",
   "execution_count": 59,
   "id": "20ad08c0-524c-416d-99d9-5132b331f757",
   "metadata": {},
   "outputs": [
    {
     "name": "stdout",
     "output_type": "stream",
     "text": [
      "<class 'pandas.core.frame.DataFrame'>\n",
      "Index: 13716 entries, 0 to 14148\n",
      "Data columns (total 55 columns):\n",
      " #   Column                                      Non-Null Count  Dtype         \n",
      "---  ------                                      --------------  -----         \n",
      " 0   date                                        13716 non-null  datetime64[ns]\n",
      " 1   final.output.recovery                       13716 non-null  float64       \n",
      " 2   primary_cleaner.input.sulfate               13716 non-null  float64       \n",
      " 3   primary_cleaner.input.depressant            13716 non-null  float64       \n",
      " 4   primary_cleaner.input.feed_size             13716 non-null  float64       \n",
      " 5   primary_cleaner.input.xanthate              13716 non-null  float64       \n",
      " 6   primary_cleaner.state.floatbank8_a_air      13716 non-null  float64       \n",
      " 7   primary_cleaner.state.floatbank8_a_level    13716 non-null  float64       \n",
      " 8   primary_cleaner.state.floatbank8_b_air      13716 non-null  float64       \n",
      " 9   primary_cleaner.state.floatbank8_b_level    13716 non-null  float64       \n",
      " 10  primary_cleaner.state.floatbank8_c_air      13716 non-null  float64       \n",
      " 11  primary_cleaner.state.floatbank8_c_level    13716 non-null  float64       \n",
      " 12  primary_cleaner.state.floatbank8_d_air      13716 non-null  float64       \n",
      " 13  primary_cleaner.state.floatbank8_d_level    13716 non-null  float64       \n",
      " 14  rougher.input.feed_ag                       13716 non-null  float64       \n",
      " 15  rougher.input.feed_pb                       13716 non-null  float64       \n",
      " 16  rougher.input.feed_rate                     13716 non-null  float64       \n",
      " 17  rougher.input.feed_size                     13716 non-null  float64       \n",
      " 18  rougher.input.feed_sol                      13716 non-null  float64       \n",
      " 19  rougher.input.feed_au                       13716 non-null  float64       \n",
      " 20  rougher.input.floatbank10_sulfate           13716 non-null  float64       \n",
      " 21  rougher.input.floatbank10_xanthate          13716 non-null  float64       \n",
      " 22  rougher.input.floatbank11_sulfate           13716 non-null  float64       \n",
      " 23  rougher.input.floatbank11_xanthate          13716 non-null  float64       \n",
      " 24  rougher.output.recovery                     13716 non-null  float64       \n",
      " 25  rougher.state.floatbank10_a_air             13716 non-null  float64       \n",
      " 26  rougher.state.floatbank10_a_level           13716 non-null  float64       \n",
      " 27  rougher.state.floatbank10_b_air             13716 non-null  float64       \n",
      " 28  rougher.state.floatbank10_b_level           13716 non-null  float64       \n",
      " 29  rougher.state.floatbank10_c_air             13716 non-null  float64       \n",
      " 30  rougher.state.floatbank10_c_level           13716 non-null  float64       \n",
      " 31  rougher.state.floatbank10_d_air             13716 non-null  float64       \n",
      " 32  rougher.state.floatbank10_d_level           13716 non-null  float64       \n",
      " 33  rougher.state.floatbank10_e_air             13716 non-null  float64       \n",
      " 34  rougher.state.floatbank10_e_level           13716 non-null  float64       \n",
      " 35  rougher.state.floatbank10_f_air             13716 non-null  float64       \n",
      " 36  rougher.state.floatbank10_f_level           13716 non-null  float64       \n",
      " 37  secondary_cleaner.state.floatbank2_a_air    13716 non-null  float64       \n",
      " 38  secondary_cleaner.state.floatbank2_a_level  13716 non-null  float64       \n",
      " 39  secondary_cleaner.state.floatbank2_b_air    13716 non-null  float64       \n",
      " 40  secondary_cleaner.state.floatbank2_b_level  13716 non-null  float64       \n",
      " 41  secondary_cleaner.state.floatbank3_a_air    13716 non-null  float64       \n",
      " 42  secondary_cleaner.state.floatbank3_a_level  13716 non-null  float64       \n",
      " 43  secondary_cleaner.state.floatbank3_b_air    13716 non-null  float64       \n",
      " 44  secondary_cleaner.state.floatbank3_b_level  13716 non-null  float64       \n",
      " 45  secondary_cleaner.state.floatbank4_a_air    13716 non-null  float64       \n",
      " 46  secondary_cleaner.state.floatbank4_a_level  13716 non-null  float64       \n",
      " 47  secondary_cleaner.state.floatbank4_b_air    13716 non-null  float64       \n",
      " 48  secondary_cleaner.state.floatbank4_b_level  13716 non-null  float64       \n",
      " 49  secondary_cleaner.state.floatbank5_a_air    13716 non-null  float64       \n",
      " 50  secondary_cleaner.state.floatbank5_a_level  13716 non-null  float64       \n",
      " 51  secondary_cleaner.state.floatbank5_b_air    13716 non-null  float64       \n",
      " 52  secondary_cleaner.state.floatbank5_b_level  13716 non-null  float64       \n",
      " 53  secondary_cleaner.state.floatbank6_a_air    13716 non-null  float64       \n",
      " 54  secondary_cleaner.state.floatbank6_a_level  13716 non-null  float64       \n",
      "dtypes: datetime64[ns](1), float64(54)\n",
      "memory usage: 5.9 MB\n"
     ]
    }
   ],
   "source": [
    "# проверим результат\n",
    "df_train.info()"
   ]
  },
  {
   "cell_type": "markdown",
   "id": "54469cc6-94ea-4915-8667-a5ddddd5ae3d",
   "metadata": {},
   "source": [
    "В обучающей выборке осталось 55 столбцов вместо 87."
   ]
  },
  {
   "cell_type": "code",
   "execution_count": 60,
   "id": "d1446956-b5b2-4af5-8324-ce032a8d86c8",
   "metadata": {},
   "outputs": [],
   "source": [
    "# проверим результат: еще раз сравним столбцы обучающей и тестовой выборок\n",
    "columns_not_in_test = set(df_train.columns) - set(df_test.columns)"
   ]
  },
  {
   "cell_type": "code",
   "execution_count": 61,
   "id": "399fd856-8c0a-4e2d-a746-1343745bab50",
   "metadata": {},
   "outputs": [
    {
     "data": {
      "text/plain": [
       "0"
      ]
     },
     "execution_count": 61,
     "metadata": {},
     "output_type": "execute_result"
    }
   ],
   "source": [
    "len(columns_not_in_test)"
   ]
  },
  {
   "cell_type": "markdown",
   "id": "9772fb2b-b859-4c1b-9387-3d46b3241f15",
   "metadata": {},
   "source": [
    "Удалим из всех датафреймов столбец с датой."
   ]
  },
  {
   "cell_type": "code",
   "execution_count": 62,
   "id": "da3ebcae-c9c4-46c9-add7-b005d21485d4",
   "metadata": {},
   "outputs": [],
   "source": [
    "# удалим столбцы date из всех датафреймов\n",
    "df_full = df_full.drop(\"date\", axis=1)\n",
    "df_train = df_train.drop(\"date\", axis=1)\n",
    "df_test = df_test.drop(\"date\", axis=1)"
   ]
  },
  {
   "cell_type": "markdown",
   "id": "8d284bfc-9214-4471-b6a9-287fa4e15533",
   "metadata": {},
   "source": [
    "**Подготовили данные к обучению:**\n",
    "\n",
    "\n",
    "- добавили к тестовой выборке целевые признаки из df_full;\n",
    "- удалили признаки из обучающего датасета, которых нет в тестовой выборке;\n",
    "- удалили столбец `date` из всех датафреймов."
   ]
  },
  {
   "cell_type": "markdown",
   "id": "abb2aac2-2fb2-44b3-b534-476fa9c6e6db",
   "metadata": {},
   "source": [
    "### Функция для вычисления итоговой sMAPE"
   ]
  },
  {
   "cell_type": "markdown",
   "id": "2f50433b-b5e6-472d-ac6a-33d447dd2cc9",
   "metadata": {},
   "source": [
    "**Введём новую метрику качества — sMAPE (англ. Symmetric Mean Absolute Percentage Error, «симметричное среднее абсолютное процентное отклонение»).**\n",
    "\n",
    "Она одинаково учитывает масштаб и целевого признака, и предсказания."
   ]
  },
  {
   "cell_type": "code",
   "execution_count": 63,
   "id": "3fa602c4-c588-439d-a6f1-0c3db14bcf43",
   "metadata": {},
   "outputs": [],
   "source": [
    "# напишем функцию для вычисления sMAPE\n",
    "def smape(target, predict):\n",
    "    smape = (\n",
    "        (1 / len(target))\n",
    "        * np.sum((np.abs(target - predict)) / ((np.abs(target) + np.abs(predict)) / 2))\n",
    "        * 100\n",
    "    )\n",
    "    return smape"
   ]
  },
  {
   "cell_type": "code",
   "execution_count": 64,
   "id": "bd5b8025-5943-4ed5-9650-09e2292003f9",
   "metadata": {},
   "outputs": [],
   "source": [
    "# с помощью функции make_scorer() создадим метрику для оценки точности предсказания\n",
    "smape_scorer = make_scorer(smape, greater_is_better=False)"
   ]
  },
  {
   "cell_type": "code",
   "execution_count": 65,
   "id": "deaaffa2-053d-405f-8130-e1efde1074db",
   "metadata": {},
   "outputs": [],
   "source": [
    "# напишем функцию для вычисления итоговой sMAPE\n",
    "def final_smape(rougher, final):\n",
    "    final = 0.25 * rougher + 0.75 * final\n",
    "    return final"
   ]
  },
  {
   "cell_type": "markdown",
   "id": "f4e3a7cc-89c0-4316-9fa8-44795c67ca63",
   "metadata": {},
   "source": [
    "**Подготовили функцию для будущего вычисления итоговой метрики качества sMAPE.**"
   ]
  },
  {
   "cell_type": "markdown",
   "id": "25679de1-4565-4cd0-a1b7-28b00688b7a4",
   "metadata": {},
   "source": [
    "### Построение моделей"
   ]
  },
  {
   "cell_type": "markdown",
   "id": "63d96d2a-5a4a-4d51-b10c-56c1a0b3acb3",
   "metadata": {},
   "source": [
    "**Напомним, что целевых признаков два:** \n",
    "\n",
    "1. Эффективность обогащения чернового концентрата `rougher.output.recovery`\n",
    "\n",
    "2. Эффективность обогащения финального концентрата `final.output.recovery`\n",
    "\n",
    "   \n",
    "\n",
    "Для обучения и теста будут использоваться одни и те же признаки, но разные целевые признаки."
   ]
  },
  {
   "cell_type": "code",
   "execution_count": 66,
   "id": "9d7ced34-2c5b-4f5f-b21a-eca86ab59270",
   "metadata": {},
   "outputs": [],
   "source": [
    "# запишем в переменные\n",
    "features_x_train = df_train.drop(\n",
    "    [\"rougher.output.recovery\", \"final.output.recovery\"], axis=1\n",
    ")\n",
    "target_for_rougher_y_train = df_train[\"rougher.output.recovery\"]\n",
    "target_for_final_y_train = df_train[\"final.output.recovery\"]"
   ]
  },
  {
   "cell_type": "code",
   "execution_count": 67,
   "id": "dbedd019-1d26-45b2-981b-96ad154fa715",
   "metadata": {},
   "outputs": [
    {
     "data": {
      "text/plain": [
       "((13716, 52), (13716,), (13716,))"
      ]
     },
     "execution_count": 67,
     "metadata": {},
     "output_type": "execute_result"
    }
   ],
   "source": [
    "# проверим результат\n",
    "features_x_train.shape, target_for_rougher_y_train.shape, target_for_final_y_train.shape"
   ]
  },
  {
   "cell_type": "markdown",
   "id": "fb9be06c-894b-40e1-8772-31ea6c7f1e54",
   "metadata": {},
   "source": [
    "В переменной **features_x_train** сохранили все признаки, за исключением целевого.\n",
    "\n",
    "В переменных **target_for_rougher_y_train** и **target_for_final_y_train** сохранили целевые признаки.\n",
    "\n",
    "Данные готовы для построения моделей."
   ]
  },
  {
   "cell_type": "markdown",
   "id": "a94b6363-e800-4274-a743-735cb0526bdd",
   "metadata": {},
   "source": [
    "### Модель Дерево решений"
   ]
  },
  {
   "cell_type": "markdown",
   "id": "5244a3a7-d7c8-4388-91a1-4523a57c84d6",
   "metadata": {},
   "source": [
    "**Дерево решений (DecisionTreeRegressor)**\n",
    "\n",
    "Построим модель Дерево решений и оценим качество модели метрикой sMAPE с помощью кросс-валидации."
   ]
  },
  {
   "cell_type": "code",
   "execution_count": 68,
   "id": "8d39c533-a0ee-47ac-b6c4-b18df633a0ea",
   "metadata": {},
   "outputs": [
    {
     "name": "stdout",
     "output_type": "stream",
     "text": [
      "sMAPE наилучшей модели Дерева решений по кросс-валидации: 8.89 Глубина дерева: 3\n"
     ]
    }
   ],
   "source": [
    "best_result_dectree = 1000\n",
    "best_depth_dectree = 0\n",
    "\n",
    "for depth in range(1, 15, 2):  # максимальная глубина от 1 до 15 с шагом 2\n",
    "\n",
    "    model_dectree_rougher = DecisionTreeRegressor(\n",
    "        random_state=12345, max_depth=depth\n",
    "    )  # cоздаем модель, указав max_depth=depth\n",
    "    smape_rougher = cross_val_score(\n",
    "        model_dectree_rougher,\n",
    "        features_x_train,\n",
    "        target_for_rougher_y_train,\n",
    "        scoring=smape_scorer,\n",
    "        cv=5,\n",
    "    ).mean()  # проверим качество модели эффективности обогащения чернового концентрата кросс-валидацией\n",
    "\n",
    "    model_dectree_final = DecisionTreeRegressor(random_state=12345, max_depth=depth)\n",
    "    smape_final = cross_val_score(\n",
    "        model_dectree_final,\n",
    "        features_x_train,\n",
    "        target_for_final_y_train,\n",
    "        scoring=smape_scorer,\n",
    "        cv=5,\n",
    "    ).mean()  # проверим качество модели эффективности обогащения финального концентрата кросс-валидацией\n",
    "\n",
    "    result_smape = final_smape(smape_rougher, smape_final) * (\n",
    "        -1\n",
    "    )  # передадим полученные sMAPE по каждому целевому признаку в функцию подсчета итогового sMAPE\n",
    "\n",
    "    if result_smape < best_result_dectree:\n",
    "        best_result_dectree = result_smape\n",
    "        best_depth_dectree = depth\n",
    "\n",
    "print(\n",
    "    \"sMAPE наилучшей модели Дерева решений по кросс-валидации:\",\n",
    "    best_result_dectree.round(2),\n",
    "    \"Глубина дерева:\",\n",
    "    best_depth_dectree,\n",
    ")"
   ]
  },
  {
   "cell_type": "markdown",
   "id": "47fee9b0-e408-42ca-9be5-2849c6a4537c",
   "metadata": {},
   "source": [
    "Оценим качество модели метрикой sMAPE с помощью инструмента автоматизированного подбора гиперпараметров GridSearchCV."
   ]
  },
  {
   "cell_type": "code",
   "execution_count": 69,
   "id": "0f6dfc50-8968-44ed-a8bb-d86fa197137b",
   "metadata": {},
   "outputs": [
    {
     "name": "stdout",
     "output_type": "stream",
     "text": [
      "sMAPE наилучшей модели Дерева решений: 8.89 Глубина дерева для rougher: 3 Глубина дерева для final: 3\n"
     ]
    }
   ],
   "source": [
    "# параметры для GridSearchCV\n",
    "param_grid = {\"max_depth\": range(1, 15, 2)}  # максимальная глубина от 1 до 15 с шагом 2\n",
    "\n",
    "# создаем модель\n",
    "model_dectree = DecisionTreeRegressor(random_state=12345)\n",
    "\n",
    "# создаем объект GridSearchCV для подбора гиперпараметров rougher\n",
    "grid_search_rougher = GridSearchCV(\n",
    "    model_dectree,\n",
    "    param_grid,\n",
    "    scoring=smape_scorer,\n",
    "    cv=5,\n",
    "    n_jobs=-1,\n",
    ")\n",
    "\n",
    "# подбор гиперпараметров для модели rougher\n",
    "grid_search_rougher.fit(features_x_train, target_for_rougher_y_train)\n",
    "\n",
    "# получаем лучшие параметры и результат для rougher\n",
    "best_depth_dectree_rougher = grid_search_rougher.best_params_[\"max_depth\"]\n",
    "best_result_dectree_rougher = -grid_search_rougher.best_score_\n",
    "\n",
    "# создаем объект GridSearchCV для подбора гиперпараметров final\n",
    "grid_search_final = GridSearchCV(\n",
    "    model_dectree, param_grid, scoring=smape_scorer, cv=5, n_jobs=-1\n",
    ")\n",
    "\n",
    "# подбор гиперпараметров для final\n",
    "grid_search_final.fit(features_x_train, target_for_final_y_train)\n",
    "\n",
    "# получаем лучшие параметры и результат для final\n",
    "best_depth_dectree_final = grid_search_final.best_params_[\"max_depth\"]\n",
    "best_result_dectree_final = -grid_search_final.best_score_\n",
    "\n",
    "# подсчет итогового sMAPE\n",
    "result_smape = final_smape(best_result_dectree_rougher, best_result_dectree_final)\n",
    "\n",
    "print(\n",
    "    \"sMAPE наилучшей модели Дерева решений:\",\n",
    "    result_smape.round(2),\n",
    "    \"Глубина дерева для rougher:\",\n",
    "    best_depth_dectree_rougher,\n",
    "    \"Глубина дерева для final:\",\n",
    "    best_depth_dectree_final,\n",
    ")"
   ]
  },
  {
   "cell_type": "markdown",
   "id": "4f111f12-de1b-4f89-8956-fc73e8eb40d9",
   "metadata": {},
   "source": [
    "### Модель Случайный лес "
   ]
  },
  {
   "cell_type": "markdown",
   "id": "80e71806-32f2-4400-b2c9-52459ba07ac3",
   "metadata": {},
   "source": [
    "**Случайный лес (RandomForestRegressor)**\n",
    "\n",
    "Постороим модель Случайный лес и оценим качество модели метрикой sMAPE с помощью кросс-валидации."
   ]
  },
  {
   "cell_type": "code",
   "execution_count": 70,
   "id": "afa00394-b83b-47dc-b260-2eab221b6b0b",
   "metadata": {},
   "outputs": [
    {
     "name": "stdout",
     "output_type": "stream",
     "text": [
      "sMAPE наилучшей модели Случайный лес по кросс-валидации: 8.44 Количество деревьев: 10 Максимальная глубина: 4\n"
     ]
    }
   ],
   "source": [
    "best_result_ranfor = 1000\n",
    "best_est_ranfor = 0\n",
    "best_depth_ranfor = 0\n",
    "\n",
    "for est in range(10, 31, 10):  # количество деревьев: от 10 до 30 с шагом 10\n",
    "    for depth in range(2, 11, 2):  # максимальная глубина от 2 до 10 с шагом 2\n",
    "\n",
    "        model_ranfor_rougher = RandomForestRegressor(\n",
    "            random_state=12345, n_estimators=est, max_depth=depth\n",
    "        )\n",
    "        smape_rougher = cross_val_score(\n",
    "            model_ranfor_rougher,\n",
    "            features_x_train,\n",
    "            target_for_rougher_y_train,\n",
    "            scoring=smape_scorer,\n",
    "            cv=5,\n",
    "        ).mean()  # проверим качество модели эффективности обогащения чернового концентрата кросс-валидацией\n",
    "\n",
    "        model_ranfor_final = RandomForestRegressor(\n",
    "            random_state=12345, n_estimators=est, max_depth=depth\n",
    "        )\n",
    "        smape_final = cross_val_score(\n",
    "            model_ranfor_final,\n",
    "            features_x_train,\n",
    "            target_for_final_y_train,\n",
    "            scoring=smape_scorer,\n",
    "            cv=5,\n",
    "        ).mean()  # проверим качество модели эффективности обогащения финального концентрата кросс-валидацией\n",
    "\n",
    "        result_smape = final_smape(smape_rougher, smape_final) * (\n",
    "            -1\n",
    "        )  # передадим полученные sMAPE по каждому целевому признаку в функцию подсчета итогового sMAPE\n",
    "\n",
    "        if result_smape < best_result_ranfor:\n",
    "            best_result_ranfor = result_smape\n",
    "            best_est_ranfor = est\n",
    "            best_depth_ranfor = depth\n",
    "\n",
    "print(\n",
    "    \"sMAPE наилучшей модели Случайный лес по кросс-валидации:\",\n",
    "    best_result_ranfor.round(2),\n",
    "    \"Количество деревьев:\",\n",
    "    best_est_ranfor,\n",
    "    \"Максимальная глубина:\",\n",
    "    best_depth_ranfor,\n",
    ")"
   ]
  },
  {
   "cell_type": "markdown",
   "id": "2a684aa1-23c4-4e03-8370-0673fc02bf45",
   "metadata": {},
   "source": [
    "Оценим качество модели метрикой sMAPE с помощью инструмента автоматизированного подбора гиперпараметров GridSearchCV."
   ]
  },
  {
   "cell_type": "code",
   "execution_count": 71,
   "id": "799075ef-91a0-4607-bac6-54672a342915",
   "metadata": {},
   "outputs": [
    {
     "name": "stdout",
     "output_type": "stream",
     "text": [
      "sMAPE наилучшей модели Случайного леса: 8.42 Количество деревьев: 10 Максимальная глубина: 4\n"
     ]
    }
   ],
   "source": [
    "# Определяем параметры для GridSearchCV\n",
    "param_grid = {\n",
    "    \"n_estimators\": range(10, 31, 10),  # количество деревьев: от 10 до 30 с шагом 10\n",
    "    \"max_depth\": range(2, 11, 2),  # максимальная глубина от 2 до 10 с шагом 2\n",
    "}\n",
    "\n",
    "# Создаем модель\n",
    "model_ranfor = RandomForestRegressor(random_state=12345)\n",
    "\n",
    "# Создаем объект GridSearchCV для подбора гиперпараметров\n",
    "grid_search_rougher = GridSearchCV(\n",
    "    model_ranfor,\n",
    "    param_grid,\n",
    "    scoring=smape_scorer,\n",
    "    cv=5,\n",
    "    n_jobs=-1,  # Используем все доступные ядра для ускорения процесса\n",
    ")\n",
    "\n",
    "# Подбор гиперпараметров для модели rougher\n",
    "grid_search_rougher.fit(features_x_train, target_for_rougher_y_train)\n",
    "\n",
    "# Получаем лучшие параметры и результат для rougher\n",
    "best_est_ranfor = grid_search_rougher.best_params_[\"n_estimators\"]\n",
    "best_depth_ranfor = grid_search_rougher.best_params_[\"max_depth\"]\n",
    "best_result_ranfor_rougher = -grid_search_rougher.best_score_\n",
    "\n",
    "# Повторяем процесс для финальной модели\n",
    "grid_search_final = GridSearchCV(\n",
    "    model_ranfor, param_grid, scoring=smape_scorer, cv=5, n_jobs=-1\n",
    ")\n",
    "\n",
    "# Подбор гиперпараметров для финальной модели\n",
    "grid_search_final.fit(features_x_train, target_for_final_y_train)\n",
    "\n",
    "# Получаем лучшие параметры и результат для final\n",
    "best_est_ranfor_final = grid_search_final.best_params_[\"n_estimators\"]\n",
    "best_depth_ranfor_final = grid_search_final.best_params_[\"max_depth\"]\n",
    "best_result_ranfor_final = -grid_search_final.best_score_\n",
    "\n",
    "# Подсчет итогового sMAPE\n",
    "result_smape = final_smape(best_result_ranfor_rougher, best_result_ranfor_final)\n",
    "\n",
    "print(\n",
    "    \"sMAPE наилучшей модели Случайного леса:\",\n",
    "    result_smape.round(2),\n",
    "    \"Количество деревьев:\",\n",
    "    best_est_ranfor,\n",
    "    \"Максимальная глубина:\",\n",
    "    best_depth_ranfor,\n",
    ")"
   ]
  },
  {
   "cell_type": "markdown",
   "id": "8d369780-35be-4e71-9379-451b66dca915",
   "metadata": {},
   "source": [
    "### Модель Линейная регрессия"
   ]
  },
  {
   "cell_type": "markdown",
   "id": "c938e4a1-c482-400c-96a9-5c75d8097a58",
   "metadata": {},
   "source": [
    "**Линейная регрессия (LinearRegression)**\n",
    "\n",
    "Постороим модель Линейная регрессия и оценим качество модели метрикой sMAPE с помощью кросс-валидации."
   ]
  },
  {
   "cell_type": "code",
   "execution_count": 72,
   "id": "0cb13fe7-154b-4b5a-a9c3-4b5916ed6e62",
   "metadata": {},
   "outputs": [
    {
     "name": "stdout",
     "output_type": "stream",
     "text": [
      "sMAPE наилучшей модели линейной регрессии по кросс-валидации: 10.76\n"
     ]
    }
   ],
   "source": [
    "model_linreg_rougher = (\n",
    "    LinearRegression()\n",
    ")  # cоздаем модель эффективности обогащения чернового концентрата\n",
    "smape_rougher = cross_val_score(\n",
    "    model_linreg_rougher,\n",
    "    features_x_train,\n",
    "    target_for_rougher_y_train,\n",
    "    scoring=smape_scorer,\n",
    "    cv=3,\n",
    ").mean()  # проверим качество модели эффективности обогащения чернового концентрата кросс-валидацией\n",
    "\n",
    "\n",
    "model_linreg_final = (\n",
    "    LinearRegression()\n",
    ")  # cоздаем модель для эффективности обогащения финального концентрата\n",
    "smape_final = cross_val_score(\n",
    "    model_linreg_final,\n",
    "    features_x_train,\n",
    "    target_for_final_y_train,\n",
    "    scoring=smape_scorer,\n",
    "    cv=6,\n",
    ").mean()  # проверим качество модели эффективности обогащения финального концентрата кросс-валидацией\n",
    "\n",
    "\n",
    "result_smape = final_smape(smape_rougher, smape_final) * (\n",
    "    -1\n",
    ")  # передадим полученные sMAPE по каждому целевому признаку в функцию подсчета итогового sMAPE\n",
    "print(\n",
    "    \"sMAPE наилучшей модели линейной регрессии по кросс-валидации:\",\n",
    "    result_smape.round(2),\n",
    ")"
   ]
  },
  {
   "cell_type": "markdown",
   "id": "04e4eab5-33ff-4626-9c09-8630bf090754",
   "metadata": {},
   "source": [
    "**Выводы:**\n",
    "\n",
    "**Качество наилучшей модели Дерево решений по кросс-валидации: 8.89 Глубина дерева: 3;**\n",
    "\n",
    "**Качество наилучшей модели Случайный лес по кросс-валидации: 8.44 Количество деревьев: 10 Максимальная глубина: 4;**\n",
    "\n",
    "**Качество наилучшей модели Логическая регрессия по кросс-валидации: 10.76.**\n",
    "\n",
    "Лучший результ показала модель Случайный лес, затем Дерево решений.\n",
    "\n",
    "Модель Случайный лес не столь оперативна в рассчетах, поэтому остановимся на моделе Дерево решений."
   ]
  },
  {
   "cell_type": "markdown",
   "id": "40f6298a-3f77-4506-b8ec-c3ba33db01e1",
   "metadata": {},
   "source": [
    "### Проверка на тестовой выборке"
   ]
  },
  {
   "cell_type": "markdown",
   "id": "ef7d9116-434a-4e5b-bcb5-8bb796b8a43f",
   "metadata": {},
   "source": [
    "**Проверим на тестовой выборке модель Дерево решений, которая показала лучший результат с глубиной дерева=3.**"
   ]
  },
  {
   "cell_type": "markdown",
   "id": "f10e3bf9-5332-4777-81c4-78b36dbcc80b",
   "metadata": {},
   "source": [
    "В переменной **features_x_test** сохраним все признаки, за исключением целевого.\n",
    "\n",
    "В переменных **target_for_rougher_y_test** и **target_for_final_y_test** сохраним целевые признаки."
   ]
  },
  {
   "cell_type": "code",
   "execution_count": 73,
   "id": "efcbc248-f899-48ac-8893-a30db2aae85e",
   "metadata": {},
   "outputs": [],
   "source": [
    "features_x_test = df_test.drop(\n",
    "    [\"rougher.output.recovery\", \"final.output.recovery\"], axis=1\n",
    ")\n",
    "target_for_rougher_y_test = df_test[\"rougher.output.recovery\"]\n",
    "target_for_final_y_test = df_test[\"final.output.recovery\"]"
   ]
  },
  {
   "cell_type": "code",
   "execution_count": 74,
   "id": "5952d7ff-63dc-42c4-b543-b11cc9084342",
   "metadata": {},
   "outputs": [
    {
     "data": {
      "text/plain": [
       "((5290, 52), (5290,), (5290,))"
      ]
     },
     "execution_count": 74,
     "metadata": {},
     "output_type": "execute_result"
    }
   ],
   "source": [
    "# проверим результат\n",
    "features_x_test.shape, target_for_rougher_y_test.shape, target_for_final_y_test.shape"
   ]
  },
  {
   "cell_type": "code",
   "execution_count": 75,
   "id": "7e7292fc-1c9a-4aaf-b198-153da1836835",
   "metadata": {},
   "outputs": [
    {
     "name": "stdout",
     "output_type": "stream",
     "text": [
      "sMAPE по тестовой выборке: 8.04\n"
     ]
    }
   ],
   "source": [
    "model_test_rougher = DecisionTreeRegressor(random_state=12345, max_depth=3)\n",
    "model_test_rougher.fit(features_x_test, target_for_rougher_y_test)\n",
    "predicted_rougher = model_test_rougher.predict(features_x_test)\n",
    "\n",
    "model_test_final = DecisionTreeRegressor(random_state=12345, max_depth=3)\n",
    "model_test_final.fit(features_x_test, target_for_final_y_test)\n",
    "predicted_final = model_test_final.predict(features_x_test)\n",
    "\n",
    "smape_test_rougher = smape(target_for_rougher_y_test, predicted_rougher)\n",
    "smape_test_final = smape(target_for_final_y_test, predicted_final)\n",
    "final_smape_test = final_smape(smape_test_rougher, smape_test_final)\n",
    "\n",
    "print(\n",
    "    \"sMAPE по тестовой выборке:\",\n",
    "    final_smape_test.round(2),\n",
    ")"
   ]
  },
  {
   "cell_type": "markdown",
   "id": "e4ef019b-8461-4f80-a880-f79e4fe63e43",
   "metadata": {},
   "source": [
    "**В результате проверки получена sMAPE по тестовой выборке: 8.04.**"
   ]
  },
  {
   "cell_type": "markdown",
   "id": "b5605b2b-af3e-43d9-a5a4-01674c2c15cd",
   "metadata": {},
   "source": [
    "**Проверим модель на константной модели с помощью инструмента DummyRegressor.**"
   ]
  },
  {
   "cell_type": "code",
   "execution_count": 76,
   "id": "e661ff36-b846-4e42-8a5e-21d825ded29f",
   "metadata": {},
   "outputs": [],
   "source": [
    "dummy_regr_for_rougher = DummyRegressor(strategy=\"mean\")\n",
    "dummy_regr_for_final = DummyRegressor(strategy=\"mean\")\n",
    "\n",
    "dummy_regr_for_rougher.fit(features_x_train, target_for_rougher_y_train)\n",
    "dummy_regr_for_final.fit(features_x_train, target_for_final_y_train)\n",
    "\n",
    "dummy_predicted_rougher = dummy_regr_for_rougher.predict(features_x_test)\n",
    "dummy_predicted_final = dummy_regr_for_final.predict(features_x_test)\n",
    "\n",
    "smape_for_const_rougher = smape(target_for_rougher_y_test, dummy_predicted_rougher)\n",
    "smape_for_const_final = smape(target_for_final_y_test, dummy_predicted_final)\n",
    "\n",
    "final_smape_for_const = final_smape(smape_for_const_rougher, smape_for_const_final)"
   ]
  },
  {
   "cell_type": "code",
   "execution_count": 77,
   "id": "308923a4-1b4f-43a9-b304-1472caddf657",
   "metadata": {},
   "outputs": [
    {
     "name": "stdout",
     "output_type": "stream",
     "text": [
      "sMAPE для константной модели: 9.83\n"
     ]
    }
   ],
   "source": [
    "print(\"sMAPE для константной модели:\", final_smape_for_const.round(2))"
   ]
  },
  {
   "cell_type": "markdown",
   "id": "6828fa92-6fdd-4447-8c3d-631080ed038a",
   "metadata": {},
   "source": [
    "**Анализ результатов обучения:**\n",
    "\n",
    "**sMAPE по кросс-валидации: 8.44**\n",
    "Показатель указывает на то, что модель в процессе кросс-валидации демонстрировала достаточно высокую точность предсказаний.\n",
    "\n",
    "\n",
    "**sMAPE по тестовой выборке: 8.04**\n",
    "Значение sMAPE на тестовой выборке ниже, чем на этапе кросс-валидации, что может указывать на то, что модель хорошо адаптирована к данным тестовой выборки. \n",
    "\n",
    "\n",
    "**sMAPE для константной модели: 9.83**\n",
    "Сравнение с константной моделью показывает, что полученная модель Дерева решений значительно лучше справляется с задачей предсказания. Значение sMAPE для константной модели выше, что подтверждает эффективность модели."
   ]
  },
  {
   "cell_type": "markdown",
   "id": "f8594808-65a9-438b-aa63-d7418b4bf71c",
   "metadata": {},
   "source": [
    "## Общие выводы"
   ]
  },
  {
   "cell_type": "markdown",
   "id": "f91e9b9a-5339-4fbe-99fd-33f9c69d03ad",
   "metadata": {},
   "source": [
    "**В ходе исследования данных с параметрами добычи и очистки золотоносной руды:**\n",
    "\n",
    "\n",
    "- были загружены и изучены исходные данные;\n",
    "- проведена предобработка данных;\n",
    "- проверены данные эффективности обогащения;\n",
    "- проанализированы данные о концентрации металлов на различных этапах процесса очистки;\n",
    "- изучено распределение размеров гранул сырья;\n",
    "- исследована суммарная концентрация всех веществ на разных стадиях: в сырье, в черновом и финальном концентратах;\n",
    "- построены три модели машинного обучения: Дерево решений, Случайный лес и Логическая регрессия;\n",
    "- качество моделей оценены кросс-валидацией с помощью метрики — sMAPE;\n",
    "- качество выбранной модели проверено на тестовой выборке и константной модели.\n",
    "\n",
    "  \n",
    "**В результате исследования подготовлен прототип модели машинного обучения для эффективной работы промышленных предприятий. Модель поможет оптимизировать производство, чтобы не запускать предприятие с убыточными характеристиками. Модель Дерево решений продемонстрировала наиболее высокий показатель качества. Именно ее следует рекомендовать компании «Цифра» для построения системы, способной анализировать поставленные задачи.**"
   ]
  },
  {
   "cell_type": "code",
   "execution_count": null,
   "id": "770b50cc-a620-4e9d-8497-5ca34a7ab5e9",
   "metadata": {},
   "outputs": [],
   "source": []
  }
 ],
 "metadata": {
  "ExecuteTimeLog": [
   {
    "duration": 9,
    "start_time": "2024-11-12T19:24:55.897Z"
   },
   {
    "duration": 201,
    "start_time": "2024-11-12T19:25:01.499Z"
   }
  ],
  "kernelspec": {
   "display_name": "Python 3 (ipykernel)",
   "language": "python",
   "name": "python3"
  },
  "language_info": {
   "codemirror_mode": {
    "name": "ipython",
    "version": 3
   },
   "file_extension": ".py",
   "mimetype": "text/x-python",
   "name": "python",
   "nbconvert_exporter": "python",
   "pygments_lexer": "ipython3",
   "version": "3.12.4"
  },
  "toc": {
   "base_numbering": 1,
   "nav_menu": {},
   "number_sections": true,
   "sideBar": true,
   "skip_h1_title": true,
   "title_cell": "Table of Contents",
   "title_sidebar": "Contents",
   "toc_cell": false,
   "toc_position": {},
   "toc_section_display": true,
   "toc_window_display": false
  }
 },
 "nbformat": 4,
 "nbformat_minor": 5
}
