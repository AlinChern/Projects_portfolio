{
 "cells": [
  {
   "cell_type": "markdown",
   "id": "8cd809f7-5143-44bc-9ed0-5ed2799996e6",
   "metadata": {},
   "source": [
    "# Исследование продаж компьютерных игр по всему миру"
   ]
  },
  {
   "cell_type": "markdown",
   "id": "002d3489-8833-462c-aa7e-a6926074a58f",
   "metadata": {},
   "source": [
    "**Данные для исследования** — исторические данные из открытых источников о продажах игр, оценки пользователей и экспертов, жанры и платформы.\n",
    "\n",
    "**Цель исследования** — выявить определяющие успешность игры закономерности. Это позволит сделать ставку на потенциально популярный продукт и спланировать рекламные кампании.\n",
    "\n",
    "Данные в таблице представлены до 2016 года. Данные за 2016 год могут быть неполными.\n",
    "\n",
    "**Ход исследования** — выполним предобработку данных и изучим их, чтобы найти интересные особенности и зависимости, которые существуют на рынке компьютерных игр."
   ]
  },
  {
   "cell_type": "markdown",
   "id": "6c8c0609-9ada-4ada-aff3-0751aa493975",
   "metadata": {},
   "source": [
    "## Общая информация о данных"
   ]
  },
  {
   "cell_type": "code",
   "execution_count": 1,
   "id": "6ce57c44",
   "metadata": {},
   "outputs": [
    {
     "name": "stdout",
     "output_type": "stream",
     "text": [
      "Collecting missingno\n",
      "  Downloading missingno-0.5.2-py3-none-any.whl (8.7 kB)\n",
      "Requirement already satisfied: seaborn in /opt/conda/lib/python3.9/site-packages (from missingno) (0.11.1)\n",
      "Requirement already satisfied: matplotlib in /opt/conda/lib/python3.9/site-packages (from missingno) (3.3.4)\n",
      "Requirement already satisfied: numpy in /opt/conda/lib/python3.9/site-packages (from missingno) (1.21.1)\n",
      "Requirement already satisfied: scipy in /opt/conda/lib/python3.9/site-packages (from missingno) (1.9.1)\n",
      "Requirement already satisfied: python-dateutil>=2.1 in /opt/conda/lib/python3.9/site-packages (from matplotlib->missingno) (2.8.1)\n",
      "Requirement already satisfied: cycler>=0.10 in /opt/conda/lib/python3.9/site-packages (from matplotlib->missingno) (0.11.0)\n",
      "Requirement already satisfied: pillow>=6.2.0 in /opt/conda/lib/python3.9/site-packages (from matplotlib->missingno) (8.4.0)\n",
      "Requirement already satisfied: kiwisolver>=1.0.1 in /opt/conda/lib/python3.9/site-packages (from matplotlib->missingno) (1.4.4)\n",
      "Requirement already satisfied: pyparsing!=2.0.4,!=2.1.2,!=2.1.6,>=2.0.3 in /opt/conda/lib/python3.9/site-packages (from matplotlib->missingno) (2.4.7)\n",
      "Requirement already satisfied: six>=1.5 in /opt/conda/lib/python3.9/site-packages (from python-dateutil>=2.1->matplotlib->missingno) (1.16.0)\n",
      "Requirement already satisfied: pandas>=0.23 in /opt/conda/lib/python3.9/site-packages (from seaborn->missingno) (1.2.4)\n",
      "Requirement already satisfied: pytz>=2017.3 in /opt/conda/lib/python3.9/site-packages (from pandas>=0.23->seaborn->missingno) (2021.1)\n",
      "Installing collected packages: missingno\n",
      "Successfully installed missingno-0.5.2\n"
     ]
    }
   ],
   "source": [
    "!pip install missingno"
   ]
  },
  {
   "cell_type": "code",
   "execution_count": 2,
   "id": "425e52a6-3ca2-4614-8691-a08352369f41",
   "metadata": {},
   "outputs": [
    {
     "name": "stdout",
     "output_type": "stream",
     "text": [
      "Collecting jupyter-black\n",
      "  Downloading jupyter_black-0.4.0-py3-none-any.whl (7.6 kB)\n",
      "Collecting black[jupyter]>=21\n",
      "  Downloading black-24.8.0-cp39-cp39-manylinux_2_17_x86_64.manylinux2014_x86_64.manylinux_2_28_x86_64.whl (1.8 MB)\n",
      "\u001b[K     |████████████████████████████████| 1.8 MB 1.1 MB/s eta 0:00:01\n",
      "\u001b[?25hCollecting platformdirs>=2\n",
      "  Downloading platformdirs-4.2.2-py3-none-any.whl (18 kB)\n",
      "Collecting mypy-extensions>=0.4.3\n",
      "  Downloading mypy_extensions-1.0.0-py3-none-any.whl (4.7 kB)\n",
      "Collecting tomli>=1.1.0\n",
      "  Downloading tomli-2.0.1-py3-none-any.whl (12 kB)\n",
      "Requirement already satisfied: typing-extensions>=4.0.1 in /opt/conda/lib/python3.9/site-packages (from black[jupyter]>=21->jupyter-black) (4.3.0)\n",
      "Collecting packaging>=22.0\n",
      "  Downloading packaging-24.1-py3-none-any.whl (53 kB)\n",
      "\u001b[K     |████████████████████████████████| 53 kB 542 kB/s  eta 0:00:01\n",
      "\u001b[?25hCollecting pathspec>=0.9.0\n",
      "  Downloading pathspec-0.12.1-py3-none-any.whl (31 kB)\n",
      "Requirement already satisfied: click>=8.0.0 in /opt/conda/lib/python3.9/site-packages (from black[jupyter]>=21->jupyter-black) (8.1.3)\n",
      "Requirement already satisfied: ipython>=7.8.0 in /opt/conda/lib/python3.9/site-packages (from black[jupyter]>=21->jupyter-black) (7.25.0)\n",
      "Collecting tokenize-rt>=3.2.0\n",
      "  Downloading tokenize_rt-6.0.0-py2.py3-none-any.whl (5.9 kB)\n",
      "Requirement already satisfied: pygments in /opt/conda/lib/python3.9/site-packages (from ipython>=7.8.0->black[jupyter]>=21->jupyter-black) (2.9.0)\n",
      "Requirement already satisfied: decorator in /opt/conda/lib/python3.9/site-packages (from ipython>=7.8.0->black[jupyter]>=21->jupyter-black) (5.0.9)\n",
      "Requirement already satisfied: prompt-toolkit!=3.0.0,!=3.0.1,<3.1.0,>=2.0.0 in /opt/conda/lib/python3.9/site-packages (from ipython>=7.8.0->black[jupyter]>=21->jupyter-black) (3.0.19)\n",
      "Requirement already satisfied: matplotlib-inline in /opt/conda/lib/python3.9/site-packages (from ipython>=7.8.0->black[jupyter]>=21->jupyter-black) (0.1.2)\n",
      "Requirement already satisfied: traitlets>=4.2 in /opt/conda/lib/python3.9/site-packages (from ipython>=7.8.0->black[jupyter]>=21->jupyter-black) (5.0.5)\n",
      "Requirement already satisfied: setuptools>=18.5 in /opt/conda/lib/python3.9/site-packages (from ipython>=7.8.0->black[jupyter]>=21->jupyter-black) (49.6.0.post20210108)\n",
      "Requirement already satisfied: backcall in /opt/conda/lib/python3.9/site-packages (from ipython>=7.8.0->black[jupyter]>=21->jupyter-black) (0.2.0)\n",
      "Requirement already satisfied: pexpect>4.3 in /opt/conda/lib/python3.9/site-packages (from ipython>=7.8.0->black[jupyter]>=21->jupyter-black) (4.8.0)\n",
      "Requirement already satisfied: jedi>=0.16 in /opt/conda/lib/python3.9/site-packages (from ipython>=7.8.0->black[jupyter]>=21->jupyter-black) (0.18.0)\n",
      "Requirement already satisfied: pickleshare in /opt/conda/lib/python3.9/site-packages (from ipython>=7.8.0->black[jupyter]>=21->jupyter-black) (0.7.5)\n",
      "Requirement already satisfied: parso<0.9.0,>=0.8.0 in /opt/conda/lib/python3.9/site-packages (from jedi>=0.16->ipython>=7.8.0->black[jupyter]>=21->jupyter-black) (0.8.2)\n",
      "Requirement already satisfied: ptyprocess>=0.5 in /opt/conda/lib/python3.9/site-packages (from pexpect>4.3->ipython>=7.8.0->black[jupyter]>=21->jupyter-black) (0.7.0)\n",
      "Requirement already satisfied: wcwidth in /opt/conda/lib/python3.9/site-packages (from prompt-toolkit!=3.0.0,!=3.0.1,<3.1.0,>=2.0.0->ipython>=7.8.0->black[jupyter]>=21->jupyter-black) (0.2.5)\n",
      "Requirement already satisfied: ipython-genutils in /opt/conda/lib/python3.9/site-packages (from traitlets>=4.2->ipython>=7.8.0->black[jupyter]>=21->jupyter-black) (0.2.0)\n",
      "Installing collected packages: tomli, platformdirs, pathspec, packaging, mypy-extensions, tokenize-rt, black, jupyter-black\n",
      "  Attempting uninstall: packaging\n",
      "    Found existing installation: packaging 21.3\n",
      "    Uninstalling packaging-21.3:\n",
      "      Successfully uninstalled packaging-21.3\n",
      "Successfully installed black-24.8.0 jupyter-black-0.4.0 mypy-extensions-1.0.0 packaging-24.1 pathspec-0.12.1 platformdirs-4.2.2 tokenize-rt-6.0.0 tomli-2.0.1\n"
     ]
    }
   ],
   "source": [
    "import pandas as pd\n",
    "import numpy as np\n",
    "import matplotlib.pyplot as plt\n",
    "import seaborn as sns\n",
    "import missingno as msno\n",
    "from IPython.display import display\n",
    "\n",
    "!pip install jupyter-black\n",
    "import jupyter_black\n",
    "\n",
    "jupyter_black.load()\n",
    "try:\n",
    "    data = pd.read_csv(\"f:/Users/user/Desktop/Learn/project_4/games.csv\")\n",
    "except:\n",
    "    data = pd.read_csv(\"https://code.s3.yandex.net/datasets/games.csv\")"
   ]
  },
  {
   "cell_type": "markdown",
   "id": "9907275f-1bd9-4de4-a41e-43b422ef21dd",
   "metadata": {},
   "source": [
    "**Ознакомимся с общей информацией о полученном датафрейме.**"
   ]
  },
  {
   "cell_type": "code",
   "execution_count": 3,
   "id": "c524d42a-0b64-406c-b441-4d1f8a1a5130",
   "metadata": {},
   "outputs": [
    {
     "name": "stdout",
     "output_type": "stream",
     "text": [
      "<class 'pandas.core.frame.DataFrame'>\n",
      "RangeIndex: 16715 entries, 0 to 16714\n",
      "Data columns (total 11 columns):\n",
      " #   Column           Non-Null Count  Dtype  \n",
      "---  ------           --------------  -----  \n",
      " 0   Name             16713 non-null  object \n",
      " 1   Platform         16715 non-null  object \n",
      " 2   Year_of_Release  16446 non-null  float64\n",
      " 3   Genre            16713 non-null  object \n",
      " 4   NA_sales         16715 non-null  float64\n",
      " 5   EU_sales         16715 non-null  float64\n",
      " 6   JP_sales         16715 non-null  float64\n",
      " 7   Other_sales      16715 non-null  float64\n",
      " 8   Critic_Score     8137 non-null   float64\n",
      " 9   User_Score       10014 non-null  object \n",
      " 10  Rating           9949 non-null   object \n",
      "dtypes: float64(6), object(5)\n",
      "memory usage: 1.4+ MB\n"
     ]
    }
   ],
   "source": [
    "data.info()"
   ]
  },
  {
   "cell_type": "markdown",
   "id": "25ab7bee-7a0d-41aa-9a89-40dbffe9e089",
   "metadata": {},
   "source": [
    "**В датафрейме 16715 строк и 11 столбцов. В некоторых столбцах количество значений различается. Значит, в данных есть пропуски.**"
   ]
  },
  {
   "cell_type": "markdown",
   "id": "10222668-6559-4c99-84aa-76badb10b8cb",
   "metadata": {},
   "source": [
    "**Посмотрим первые 10 строк таблицы.**"
   ]
  },
  {
   "cell_type": "code",
   "execution_count": 4,
   "id": "84cbfda3-613e-46f1-bfff-9e3ed31ee028",
   "metadata": {},
   "outputs": [
    {
     "data": {
      "text/html": [
       "<div>\n",
       "<style scoped>\n",
       "    .dataframe tbody tr th:only-of-type {\n",
       "        vertical-align: middle;\n",
       "    }\n",
       "\n",
       "    .dataframe tbody tr th {\n",
       "        vertical-align: top;\n",
       "    }\n",
       "\n",
       "    .dataframe thead th {\n",
       "        text-align: right;\n",
       "    }\n",
       "</style>\n",
       "<table border=\"1\" class=\"dataframe\">\n",
       "  <thead>\n",
       "    <tr style=\"text-align: right;\">\n",
       "      <th></th>\n",
       "      <th>Name</th>\n",
       "      <th>Platform</th>\n",
       "      <th>Year_of_Release</th>\n",
       "      <th>Genre</th>\n",
       "      <th>NA_sales</th>\n",
       "      <th>EU_sales</th>\n",
       "      <th>JP_sales</th>\n",
       "      <th>Other_sales</th>\n",
       "      <th>Critic_Score</th>\n",
       "      <th>User_Score</th>\n",
       "      <th>Rating</th>\n",
       "    </tr>\n",
       "  </thead>\n",
       "  <tbody>\n",
       "    <tr>\n",
       "      <th>0</th>\n",
       "      <td>Wii Sports</td>\n",
       "      <td>Wii</td>\n",
       "      <td>2006.0</td>\n",
       "      <td>Sports</td>\n",
       "      <td>41.36</td>\n",
       "      <td>28.96</td>\n",
       "      <td>3.77</td>\n",
       "      <td>8.45</td>\n",
       "      <td>76.0</td>\n",
       "      <td>8</td>\n",
       "      <td>E</td>\n",
       "    </tr>\n",
       "    <tr>\n",
       "      <th>1</th>\n",
       "      <td>Super Mario Bros.</td>\n",
       "      <td>NES</td>\n",
       "      <td>1985.0</td>\n",
       "      <td>Platform</td>\n",
       "      <td>29.08</td>\n",
       "      <td>3.58</td>\n",
       "      <td>6.81</td>\n",
       "      <td>0.77</td>\n",
       "      <td>NaN</td>\n",
       "      <td>NaN</td>\n",
       "      <td>NaN</td>\n",
       "    </tr>\n",
       "    <tr>\n",
       "      <th>2</th>\n",
       "      <td>Mario Kart Wii</td>\n",
       "      <td>Wii</td>\n",
       "      <td>2008.0</td>\n",
       "      <td>Racing</td>\n",
       "      <td>15.68</td>\n",
       "      <td>12.76</td>\n",
       "      <td>3.79</td>\n",
       "      <td>3.29</td>\n",
       "      <td>82.0</td>\n",
       "      <td>8.3</td>\n",
       "      <td>E</td>\n",
       "    </tr>\n",
       "    <tr>\n",
       "      <th>3</th>\n",
       "      <td>Wii Sports Resort</td>\n",
       "      <td>Wii</td>\n",
       "      <td>2009.0</td>\n",
       "      <td>Sports</td>\n",
       "      <td>15.61</td>\n",
       "      <td>10.93</td>\n",
       "      <td>3.28</td>\n",
       "      <td>2.95</td>\n",
       "      <td>80.0</td>\n",
       "      <td>8</td>\n",
       "      <td>E</td>\n",
       "    </tr>\n",
       "    <tr>\n",
       "      <th>4</th>\n",
       "      <td>Pokemon Red/Pokemon Blue</td>\n",
       "      <td>GB</td>\n",
       "      <td>1996.0</td>\n",
       "      <td>Role-Playing</td>\n",
       "      <td>11.27</td>\n",
       "      <td>8.89</td>\n",
       "      <td>10.22</td>\n",
       "      <td>1.00</td>\n",
       "      <td>NaN</td>\n",
       "      <td>NaN</td>\n",
       "      <td>NaN</td>\n",
       "    </tr>\n",
       "    <tr>\n",
       "      <th>5</th>\n",
       "      <td>Tetris</td>\n",
       "      <td>GB</td>\n",
       "      <td>1989.0</td>\n",
       "      <td>Puzzle</td>\n",
       "      <td>23.20</td>\n",
       "      <td>2.26</td>\n",
       "      <td>4.22</td>\n",
       "      <td>0.58</td>\n",
       "      <td>NaN</td>\n",
       "      <td>NaN</td>\n",
       "      <td>NaN</td>\n",
       "    </tr>\n",
       "    <tr>\n",
       "      <th>6</th>\n",
       "      <td>New Super Mario Bros.</td>\n",
       "      <td>DS</td>\n",
       "      <td>2006.0</td>\n",
       "      <td>Platform</td>\n",
       "      <td>11.28</td>\n",
       "      <td>9.14</td>\n",
       "      <td>6.50</td>\n",
       "      <td>2.88</td>\n",
       "      <td>89.0</td>\n",
       "      <td>8.5</td>\n",
       "      <td>E</td>\n",
       "    </tr>\n",
       "    <tr>\n",
       "      <th>7</th>\n",
       "      <td>Wii Play</td>\n",
       "      <td>Wii</td>\n",
       "      <td>2006.0</td>\n",
       "      <td>Misc</td>\n",
       "      <td>13.96</td>\n",
       "      <td>9.18</td>\n",
       "      <td>2.93</td>\n",
       "      <td>2.84</td>\n",
       "      <td>58.0</td>\n",
       "      <td>6.6</td>\n",
       "      <td>E</td>\n",
       "    </tr>\n",
       "    <tr>\n",
       "      <th>8</th>\n",
       "      <td>New Super Mario Bros. Wii</td>\n",
       "      <td>Wii</td>\n",
       "      <td>2009.0</td>\n",
       "      <td>Platform</td>\n",
       "      <td>14.44</td>\n",
       "      <td>6.94</td>\n",
       "      <td>4.70</td>\n",
       "      <td>2.24</td>\n",
       "      <td>87.0</td>\n",
       "      <td>8.4</td>\n",
       "      <td>E</td>\n",
       "    </tr>\n",
       "    <tr>\n",
       "      <th>9</th>\n",
       "      <td>Duck Hunt</td>\n",
       "      <td>NES</td>\n",
       "      <td>1984.0</td>\n",
       "      <td>Shooter</td>\n",
       "      <td>26.93</td>\n",
       "      <td>0.63</td>\n",
       "      <td>0.28</td>\n",
       "      <td>0.47</td>\n",
       "      <td>NaN</td>\n",
       "      <td>NaN</td>\n",
       "      <td>NaN</td>\n",
       "    </tr>\n",
       "  </tbody>\n",
       "</table>\n",
       "</div>"
      ],
      "text/plain": [
       "                        Name Platform  Year_of_Release         Genre  \\\n",
       "0                 Wii Sports      Wii           2006.0        Sports   \n",
       "1          Super Mario Bros.      NES           1985.0      Platform   \n",
       "2             Mario Kart Wii      Wii           2008.0        Racing   \n",
       "3          Wii Sports Resort      Wii           2009.0        Sports   \n",
       "4   Pokemon Red/Pokemon Blue       GB           1996.0  Role-Playing   \n",
       "5                     Tetris       GB           1989.0        Puzzle   \n",
       "6      New Super Mario Bros.       DS           2006.0      Platform   \n",
       "7                   Wii Play      Wii           2006.0          Misc   \n",
       "8  New Super Mario Bros. Wii      Wii           2009.0      Platform   \n",
       "9                  Duck Hunt      NES           1984.0       Shooter   \n",
       "\n",
       "   NA_sales  EU_sales  JP_sales  Other_sales  Critic_Score User_Score Rating  \n",
       "0     41.36     28.96      3.77         8.45          76.0          8      E  \n",
       "1     29.08      3.58      6.81         0.77           NaN        NaN    NaN  \n",
       "2     15.68     12.76      3.79         3.29          82.0        8.3      E  \n",
       "3     15.61     10.93      3.28         2.95          80.0          8      E  \n",
       "4     11.27      8.89     10.22         1.00           NaN        NaN    NaN  \n",
       "5     23.20      2.26      4.22         0.58           NaN        NaN    NaN  \n",
       "6     11.28      9.14      6.50         2.88          89.0        8.5      E  \n",
       "7     13.96      9.18      2.93         2.84          58.0        6.6      E  \n",
       "8     14.44      6.94      4.70         2.24          87.0        8.4      E  \n",
       "9     26.93      0.63      0.28         0.47           NaN        NaN    NaN  "
      ]
     },
     "execution_count": 4,
     "metadata": {},
     "output_type": "execute_result"
    }
   ],
   "source": [
    "data.head(10)"
   ]
  },
  {
   "cell_type": "markdown",
   "id": "d1f3a5bf-91c1-4746-a012-941a7f694fea",
   "metadata": {},
   "source": [
    "**Посмотрим последние 10 строк таблицы.**"
   ]
  },
  {
   "cell_type": "code",
   "execution_count": 5,
   "id": "c7865e6f-f283-4d6f-8b95-49f796f9b622",
   "metadata": {},
   "outputs": [
    {
     "data": {
      "text/html": [
       "<div>\n",
       "<style scoped>\n",
       "    .dataframe tbody tr th:only-of-type {\n",
       "        vertical-align: middle;\n",
       "    }\n",
       "\n",
       "    .dataframe tbody tr th {\n",
       "        vertical-align: top;\n",
       "    }\n",
       "\n",
       "    .dataframe thead th {\n",
       "        text-align: right;\n",
       "    }\n",
       "</style>\n",
       "<table border=\"1\" class=\"dataframe\">\n",
       "  <thead>\n",
       "    <tr style=\"text-align: right;\">\n",
       "      <th></th>\n",
       "      <th>Name</th>\n",
       "      <th>Platform</th>\n",
       "      <th>Year_of_Release</th>\n",
       "      <th>Genre</th>\n",
       "      <th>NA_sales</th>\n",
       "      <th>EU_sales</th>\n",
       "      <th>JP_sales</th>\n",
       "      <th>Other_sales</th>\n",
       "      <th>Critic_Score</th>\n",
       "      <th>User_Score</th>\n",
       "      <th>Rating</th>\n",
       "    </tr>\n",
       "  </thead>\n",
       "  <tbody>\n",
       "    <tr>\n",
       "      <th>16705</th>\n",
       "      <td>15 Days</td>\n",
       "      <td>PC</td>\n",
       "      <td>2009.0</td>\n",
       "      <td>Adventure</td>\n",
       "      <td>0.00</td>\n",
       "      <td>0.01</td>\n",
       "      <td>0.00</td>\n",
       "      <td>0.0</td>\n",
       "      <td>63.0</td>\n",
       "      <td>5.8</td>\n",
       "      <td>NaN</td>\n",
       "    </tr>\n",
       "    <tr>\n",
       "      <th>16706</th>\n",
       "      <td>Men in Black II: Alien Escape</td>\n",
       "      <td>GC</td>\n",
       "      <td>2003.0</td>\n",
       "      <td>Shooter</td>\n",
       "      <td>0.01</td>\n",
       "      <td>0.00</td>\n",
       "      <td>0.00</td>\n",
       "      <td>0.0</td>\n",
       "      <td>NaN</td>\n",
       "      <td>tbd</td>\n",
       "      <td>T</td>\n",
       "    </tr>\n",
       "    <tr>\n",
       "      <th>16707</th>\n",
       "      <td>Aiyoku no Eustia</td>\n",
       "      <td>PSV</td>\n",
       "      <td>2014.0</td>\n",
       "      <td>Misc</td>\n",
       "      <td>0.00</td>\n",
       "      <td>0.00</td>\n",
       "      <td>0.01</td>\n",
       "      <td>0.0</td>\n",
       "      <td>NaN</td>\n",
       "      <td>NaN</td>\n",
       "      <td>NaN</td>\n",
       "    </tr>\n",
       "    <tr>\n",
       "      <th>16708</th>\n",
       "      <td>Woody Woodpecker in Crazy Castle 5</td>\n",
       "      <td>GBA</td>\n",
       "      <td>2002.0</td>\n",
       "      <td>Platform</td>\n",
       "      <td>0.01</td>\n",
       "      <td>0.00</td>\n",
       "      <td>0.00</td>\n",
       "      <td>0.0</td>\n",
       "      <td>NaN</td>\n",
       "      <td>NaN</td>\n",
       "      <td>NaN</td>\n",
       "    </tr>\n",
       "    <tr>\n",
       "      <th>16709</th>\n",
       "      <td>SCORE International Baja 1000: The Official Game</td>\n",
       "      <td>PS2</td>\n",
       "      <td>2008.0</td>\n",
       "      <td>Racing</td>\n",
       "      <td>0.00</td>\n",
       "      <td>0.00</td>\n",
       "      <td>0.00</td>\n",
       "      <td>0.0</td>\n",
       "      <td>NaN</td>\n",
       "      <td>NaN</td>\n",
       "      <td>NaN</td>\n",
       "    </tr>\n",
       "    <tr>\n",
       "      <th>16710</th>\n",
       "      <td>Samurai Warriors: Sanada Maru</td>\n",
       "      <td>PS3</td>\n",
       "      <td>2016.0</td>\n",
       "      <td>Action</td>\n",
       "      <td>0.00</td>\n",
       "      <td>0.00</td>\n",
       "      <td>0.01</td>\n",
       "      <td>0.0</td>\n",
       "      <td>NaN</td>\n",
       "      <td>NaN</td>\n",
       "      <td>NaN</td>\n",
       "    </tr>\n",
       "    <tr>\n",
       "      <th>16711</th>\n",
       "      <td>LMA Manager 2007</td>\n",
       "      <td>X360</td>\n",
       "      <td>2006.0</td>\n",
       "      <td>Sports</td>\n",
       "      <td>0.00</td>\n",
       "      <td>0.01</td>\n",
       "      <td>0.00</td>\n",
       "      <td>0.0</td>\n",
       "      <td>NaN</td>\n",
       "      <td>NaN</td>\n",
       "      <td>NaN</td>\n",
       "    </tr>\n",
       "    <tr>\n",
       "      <th>16712</th>\n",
       "      <td>Haitaka no Psychedelica</td>\n",
       "      <td>PSV</td>\n",
       "      <td>2016.0</td>\n",
       "      <td>Adventure</td>\n",
       "      <td>0.00</td>\n",
       "      <td>0.00</td>\n",
       "      <td>0.01</td>\n",
       "      <td>0.0</td>\n",
       "      <td>NaN</td>\n",
       "      <td>NaN</td>\n",
       "      <td>NaN</td>\n",
       "    </tr>\n",
       "    <tr>\n",
       "      <th>16713</th>\n",
       "      <td>Spirits &amp; Spells</td>\n",
       "      <td>GBA</td>\n",
       "      <td>2003.0</td>\n",
       "      <td>Platform</td>\n",
       "      <td>0.01</td>\n",
       "      <td>0.00</td>\n",
       "      <td>0.00</td>\n",
       "      <td>0.0</td>\n",
       "      <td>NaN</td>\n",
       "      <td>NaN</td>\n",
       "      <td>NaN</td>\n",
       "    </tr>\n",
       "    <tr>\n",
       "      <th>16714</th>\n",
       "      <td>Winning Post 8 2016</td>\n",
       "      <td>PSV</td>\n",
       "      <td>2016.0</td>\n",
       "      <td>Simulation</td>\n",
       "      <td>0.00</td>\n",
       "      <td>0.00</td>\n",
       "      <td>0.01</td>\n",
       "      <td>0.0</td>\n",
       "      <td>NaN</td>\n",
       "      <td>NaN</td>\n",
       "      <td>NaN</td>\n",
       "    </tr>\n",
       "  </tbody>\n",
       "</table>\n",
       "</div>"
      ],
      "text/plain": [
       "                                                   Name Platform  \\\n",
       "16705                                           15 Days       PC   \n",
       "16706                     Men in Black II: Alien Escape       GC   \n",
       "16707                                  Aiyoku no Eustia      PSV   \n",
       "16708                Woody Woodpecker in Crazy Castle 5      GBA   \n",
       "16709  SCORE International Baja 1000: The Official Game      PS2   \n",
       "16710                     Samurai Warriors: Sanada Maru      PS3   \n",
       "16711                                  LMA Manager 2007     X360   \n",
       "16712                           Haitaka no Psychedelica      PSV   \n",
       "16713                                  Spirits & Spells      GBA   \n",
       "16714                               Winning Post 8 2016      PSV   \n",
       "\n",
       "       Year_of_Release       Genre  NA_sales  EU_sales  JP_sales  Other_sales  \\\n",
       "16705           2009.0   Adventure      0.00      0.01      0.00          0.0   \n",
       "16706           2003.0     Shooter      0.01      0.00      0.00          0.0   \n",
       "16707           2014.0        Misc      0.00      0.00      0.01          0.0   \n",
       "16708           2002.0    Platform      0.01      0.00      0.00          0.0   \n",
       "16709           2008.0      Racing      0.00      0.00      0.00          0.0   \n",
       "16710           2016.0      Action      0.00      0.00      0.01          0.0   \n",
       "16711           2006.0      Sports      0.00      0.01      0.00          0.0   \n",
       "16712           2016.0   Adventure      0.00      0.00      0.01          0.0   \n",
       "16713           2003.0    Platform      0.01      0.00      0.00          0.0   \n",
       "16714           2016.0  Simulation      0.00      0.00      0.01          0.0   \n",
       "\n",
       "       Critic_Score User_Score Rating  \n",
       "16705          63.0        5.8    NaN  \n",
       "16706           NaN        tbd      T  \n",
       "16707           NaN        NaN    NaN  \n",
       "16708           NaN        NaN    NaN  \n",
       "16709           NaN        NaN    NaN  \n",
       "16710           NaN        NaN    NaN  \n",
       "16711           NaN        NaN    NaN  \n",
       "16712           NaN        NaN    NaN  \n",
       "16713           NaN        NaN    NaN  \n",
       "16714           NaN        NaN    NaN  "
      ]
     },
     "execution_count": 5,
     "metadata": {},
     "output_type": "execute_result"
    }
   ],
   "source": [
    "data.tail(10)"
   ]
  },
  {
   "cell_type": "markdown",
   "id": "f312819d-7a12-4f29-aef0-0b317c66dbbf",
   "metadata": {},
   "source": [
    "**Обратимся к статистическим характеристикам числовых данных.**"
   ]
  },
  {
   "cell_type": "code",
   "execution_count": 6,
   "id": "146f8e48-be76-4968-8fab-9b0944f71f46",
   "metadata": {},
   "outputs": [
    {
     "data": {
      "text/html": [
       "<div>\n",
       "<style scoped>\n",
       "    .dataframe tbody tr th:only-of-type {\n",
       "        vertical-align: middle;\n",
       "    }\n",
       "\n",
       "    .dataframe tbody tr th {\n",
       "        vertical-align: top;\n",
       "    }\n",
       "\n",
       "    .dataframe thead th {\n",
       "        text-align: right;\n",
       "    }\n",
       "</style>\n",
       "<table border=\"1\" class=\"dataframe\">\n",
       "  <thead>\n",
       "    <tr style=\"text-align: right;\">\n",
       "      <th></th>\n",
       "      <th>count</th>\n",
       "      <th>mean</th>\n",
       "      <th>std</th>\n",
       "      <th>min</th>\n",
       "      <th>25%</th>\n",
       "      <th>50%</th>\n",
       "      <th>75%</th>\n",
       "      <th>max</th>\n",
       "    </tr>\n",
       "  </thead>\n",
       "  <tbody>\n",
       "    <tr>\n",
       "      <th>Year_of_Release</th>\n",
       "      <td>16446.0</td>\n",
       "      <td>2006.484616</td>\n",
       "      <td>5.877050</td>\n",
       "      <td>1980.0</td>\n",
       "      <td>2003.0</td>\n",
       "      <td>2007.00</td>\n",
       "      <td>2010.00</td>\n",
       "      <td>2016.00</td>\n",
       "    </tr>\n",
       "    <tr>\n",
       "      <th>NA_sales</th>\n",
       "      <td>16715.0</td>\n",
       "      <td>0.263377</td>\n",
       "      <td>0.813604</td>\n",
       "      <td>0.0</td>\n",
       "      <td>0.0</td>\n",
       "      <td>0.08</td>\n",
       "      <td>0.24</td>\n",
       "      <td>41.36</td>\n",
       "    </tr>\n",
       "    <tr>\n",
       "      <th>EU_sales</th>\n",
       "      <td>16715.0</td>\n",
       "      <td>0.145060</td>\n",
       "      <td>0.503339</td>\n",
       "      <td>0.0</td>\n",
       "      <td>0.0</td>\n",
       "      <td>0.02</td>\n",
       "      <td>0.11</td>\n",
       "      <td>28.96</td>\n",
       "    </tr>\n",
       "    <tr>\n",
       "      <th>JP_sales</th>\n",
       "      <td>16715.0</td>\n",
       "      <td>0.077617</td>\n",
       "      <td>0.308853</td>\n",
       "      <td>0.0</td>\n",
       "      <td>0.0</td>\n",
       "      <td>0.00</td>\n",
       "      <td>0.04</td>\n",
       "      <td>10.22</td>\n",
       "    </tr>\n",
       "    <tr>\n",
       "      <th>Other_sales</th>\n",
       "      <td>16715.0</td>\n",
       "      <td>0.047342</td>\n",
       "      <td>0.186731</td>\n",
       "      <td>0.0</td>\n",
       "      <td>0.0</td>\n",
       "      <td>0.01</td>\n",
       "      <td>0.03</td>\n",
       "      <td>10.57</td>\n",
       "    </tr>\n",
       "    <tr>\n",
       "      <th>Critic_Score</th>\n",
       "      <td>8137.0</td>\n",
       "      <td>68.967679</td>\n",
       "      <td>13.938165</td>\n",
       "      <td>13.0</td>\n",
       "      <td>60.0</td>\n",
       "      <td>71.00</td>\n",
       "      <td>79.00</td>\n",
       "      <td>98.00</td>\n",
       "    </tr>\n",
       "  </tbody>\n",
       "</table>\n",
       "</div>"
      ],
      "text/plain": [
       "                   count         mean        std     min     25%      50%  \\\n",
       "Year_of_Release  16446.0  2006.484616   5.877050  1980.0  2003.0  2007.00   \n",
       "NA_sales         16715.0     0.263377   0.813604     0.0     0.0     0.08   \n",
       "EU_sales         16715.0     0.145060   0.503339     0.0     0.0     0.02   \n",
       "JP_sales         16715.0     0.077617   0.308853     0.0     0.0     0.00   \n",
       "Other_sales      16715.0     0.047342   0.186731     0.0     0.0     0.01   \n",
       "Critic_Score      8137.0    68.967679  13.938165    13.0    60.0    71.00   \n",
       "\n",
       "                     75%      max  \n",
       "Year_of_Release  2010.00  2016.00  \n",
       "NA_sales            0.24    41.36  \n",
       "EU_sales            0.11    28.96  \n",
       "JP_sales            0.04    10.22  \n",
       "Other_sales         0.03    10.57  \n",
       "Critic_Score       79.00    98.00  "
      ]
     },
     "execution_count": 6,
     "metadata": {},
     "output_type": "execute_result"
    }
   ],
   "source": [
    "data.describe().T"
   ]
  },
  {
   "cell_type": "markdown",
   "id": "cfb34e26-74ad-4a84-989b-29ab6b4ac5cc",
   "metadata": {},
   "source": [
    "**В статистические данные не попал столбец `User_Score`. Это связано в типом переменных в нем, изменим тип на этапе предобработки.**"
   ]
  },
  {
   "cell_type": "code",
   "execution_count": 7,
   "id": "0ebf9167-01d9-4024-b62c-6714a1435c5d",
   "metadata": {},
   "outputs": [
    {
     "data": {
      "text/plain": [
       "Critic_Score       8578\n",
       "Rating             6766\n",
       "User_Score         6701\n",
       "Year_of_Release     269\n",
       "Name                  2\n",
       "Genre                 2\n",
       "Platform              0\n",
       "NA_sales              0\n",
       "EU_sales              0\n",
       "JP_sales              0\n",
       "Other_sales           0\n",
       "dtype: int64"
      ]
     },
     "execution_count": 7,
     "metadata": {},
     "output_type": "execute_result"
    }
   ],
   "source": [
    "# найдем пропущенные значения в данных\n",
    "data.isna().sum().sort_values(ascending=False)"
   ]
  },
  {
   "cell_type": "code",
   "execution_count": 8,
   "id": "240f1e7c-a574-48a8-9b09-dd8990ee07d1",
   "metadata": {},
   "outputs": [
    {
     "data": {
      "text/plain": [
       "Critic_Score       51.319174\n",
       "Rating             40.478612\n",
       "User_Score         40.089740\n",
       "Year_of_Release     1.609333\n",
       "Name                0.011965\n",
       "Genre               0.011965\n",
       "Platform            0.000000\n",
       "NA_sales            0.000000\n",
       "EU_sales            0.000000\n",
       "JP_sales            0.000000\n",
       "Other_sales         0.000000\n",
       "dtype: float64"
      ]
     },
     "execution_count": 8,
     "metadata": {},
     "output_type": "execute_result"
    }
   ],
   "source": [
    "# оценим пропущенные значения в процентах\n",
    "data.isna().mean().sort_values(ascending=False) * 100"
   ]
  },
  {
   "cell_type": "markdown",
   "id": "a295037d-1eb7-46b6-820d-fd1b86e0532d",
   "metadata": {},
   "source": [
    "**Визуализируем пропуски с помощью библиотеки missingno.**"
   ]
  },
  {
   "cell_type": "code",
   "execution_count": 9,
   "id": "d2f00205-c467-4559-89b3-639aefe8896e",
   "metadata": {},
   "outputs": [
    {
     "data": {
      "image/png": "[encoded data removed]",
      "text/plain": [
       "<Figure size 1800x720 with 2 Axes>"
      ]
     },
     "metadata": {
      "needs_background": "light"
     },
     "output_type": "display_data"
    }
   ],
   "source": [
    "import missingno as msno\n",
    "\n",
    "%matplotlib inline\n",
    "msno.matrix(data.sample(300))\n",
    "plt.title(\"Нулевая матрица\")\n",
    "plt.show()"
   ]
  },
  {
   "cell_type": "markdown",
   "id": "9ad52aa0-81b4-4b12-abd6-4bbeaeb9af1f",
   "metadata": {},
   "source": [
    "**Визуализация демонстрирует, что большая часть пропущенных значений содержится в столбцах `critic_score`, `user_score`, `rating`, причем пропуски часто встречаются одновременно в трех столбцах.**"
   ]
  },
  {
   "cell_type": "markdown",
   "id": "d3fc1290-f1bd-45de-819d-e96329e0fb9d",
   "metadata": {},
   "source": [
    "**Выводы:**\n",
    "\n",
    "**В датафрейме 16715 строк и 11 столбцов.**\n",
    "**В 6 столбцах из 11 есть пропущенные значения.**\n",
    "\n",
    "В столбцах `name` и `genre` по 2 пропуска. Это незначительное количество не повлияет на результаты исследования, поэтому удалим их.\n",
    "\n",
    "В столбце `year_of_release` 269 пропусков. Это меньше 5% от общего количества, поэтому удалим их.\n",
    "\n",
    "В столбцах `critic_score`, `user_score`, `rating` пропусков более 40%. Займемся этими попусками на этапе предобработки данных."
   ]
  },
  {
   "cell_type": "markdown",
   "id": "6e59ecb1-1a22-45ab-8bd8-aed705225016",
   "metadata": {},
   "source": [
    "## Предобработка данных"
   ]
  },
  {
   "cell_type": "markdown",
   "id": "a1a13b02-d479-4985-8f26-5e968b28e456",
   "metadata": {},
   "source": [
    "**Прежде чем приступать к исследованию данных, проведем их предобработку.**\n",
    "\n",
    "Ознакомление с общими данными показало, что:\n",
    "- необходимо привести названия столбцов к нижнему регистру;\n",
    "- в даных есть пропущенные значения, обработаем их;\n",
    "- тип данных в некоторых столбцах нужно изменить;\n",
    "- необходимо проверить уникальные значения столбцов."
   ]
  },
  {
   "cell_type": "markdown",
   "id": "5142b50d-5681-4069-a67c-fd517118fbd4",
   "metadata": {},
   "source": [
    "### Переименование столбцов"
   ]
  },
  {
   "cell_type": "code",
   "execution_count": 10,
   "id": "9b0f091e-9fe9-4ac9-a8ae-db6fc2158af4",
   "metadata": {},
   "outputs": [],
   "source": [
    "# переименуем столбцы: приведем их названия к нижнему регистру\n",
    "data.columns = data.columns.str.lower()"
   ]
  },
  {
   "cell_type": "code",
   "execution_count": 11,
   "id": "23a9920f-a79c-4ee5-a51d-43e704a11e78",
   "metadata": {},
   "outputs": [
    {
     "data": {
      "text/plain": [
       "Index(['name', 'platform', 'year_of_release', 'genre', 'na_sales', 'eu_sales',\n",
       "       'jp_sales', 'other_sales', 'critic_score', 'user_score', 'rating'],\n",
       "      dtype='object')"
      ]
     },
     "execution_count": 11,
     "metadata": {},
     "output_type": "execute_result"
    }
   ],
   "source": [
    "# проверим результат\n",
    "data.columns"
   ]
  },
  {
   "cell_type": "markdown",
   "id": "68428055-f0a0-4d1a-af8c-253d35158bda",
   "metadata": {},
   "source": [
    "### Обработка пропущенных значений и изменение типов данных"
   ]
  },
  {
   "cell_type": "markdown",
   "id": "3700e780-00b9-48f0-93db-756d96d80448",
   "metadata": {},
   "source": [
    "**Удалим пропущенные значения в столбцах `name`, `genre`, `year_of_release`**"
   ]
  },
  {
   "cell_type": "markdown",
   "id": "6c3d8e97-cace-494d-882e-acb4aca837c9",
   "metadata": {},
   "source": [
    "Удалим пропущенные значения в столбце `name`."
   ]
  },
  {
   "cell_type": "code",
   "execution_count": 12,
   "id": "29358c8f-8d48-48c5-85f4-6d95a4d08726",
   "metadata": {},
   "outputs": [],
   "source": [
    "data = data.dropna(subset=[\"name\"])"
   ]
  },
  {
   "cell_type": "code",
   "execution_count": 13,
   "id": "9b983c9f-04c4-4f78-85ba-63607517171f",
   "metadata": {},
   "outputs": [
    {
     "data": {
      "text/plain": [
       "0"
      ]
     },
     "execution_count": 13,
     "metadata": {},
     "output_type": "execute_result"
    }
   ],
   "source": [
    "# проверим результат\n",
    "data[\"name\"].isna().sum()"
   ]
  },
  {
   "cell_type": "code",
   "execution_count": 14,
   "id": "db762240-0045-4d3d-9bf8-925ec4ae04f6",
   "metadata": {},
   "outputs": [
    {
     "data": {
      "text/plain": [
       "array(['Wii Sports', 'Super Mario Bros.', 'Mario Kart Wii', ...,\n",
       "       'Woody Woodpecker in Crazy Castle 5', 'LMA Manager 2007',\n",
       "       'Haitaka no Psychedelica'], dtype=object)"
      ]
     },
     "execution_count": 14,
     "metadata": {},
     "output_type": "execute_result"
    }
   ],
   "source": [
    "# посмотрим уникальные значения\n",
    "data[\"name\"].unique()"
   ]
  },
  {
   "cell_type": "markdown",
   "id": "6d70cbc0-9fab-4021-915e-47933230671a",
   "metadata": {},
   "source": [
    "Удалим пропущенные значения в столбце `genre`."
   ]
  },
  {
   "cell_type": "code",
   "execution_count": 15,
   "id": "d833fa9c-c742-4755-ad5f-8a4d0d4a9dc1",
   "metadata": {},
   "outputs": [],
   "source": [
    "data = data.dropna(subset=[\"genre\"])"
   ]
  },
  {
   "cell_type": "code",
   "execution_count": 16,
   "id": "68c2c394-4a7f-4aa8-8d7d-d87e1b510ffa",
   "metadata": {},
   "outputs": [
    {
     "data": {
      "text/plain": [
       "0"
      ]
     },
     "execution_count": 16,
     "metadata": {},
     "output_type": "execute_result"
    }
   ],
   "source": [
    "# проверим результат\n",
    "data[\"genre\"].isna().sum()"
   ]
  },
  {
   "cell_type": "code",
   "execution_count": 17,
   "id": "c7686a6f-2bd1-4885-a974-5758e113e2ec",
   "metadata": {},
   "outputs": [
    {
     "data": {
      "text/plain": [
       "array(['Sports', 'Platform', 'Racing', 'Role-Playing', 'Puzzle', 'Misc',\n",
       "       'Shooter', 'Simulation', 'Action', 'Fighting', 'Adventure',\n",
       "       'Strategy'], dtype=object)"
      ]
     },
     "execution_count": 17,
     "metadata": {},
     "output_type": "execute_result"
    }
   ],
   "source": [
    "# посмотрим уникальные значения\n",
    "data[\"genre\"].unique()"
   ]
  },
  {
   "cell_type": "markdown",
   "id": "2f1e52ce-fa5a-494b-8b9f-16351fc39ced",
   "metadata": {},
   "source": [
    "Удалим пропущенные значения в столбце `year_of_release`."
   ]
  },
  {
   "cell_type": "code",
   "execution_count": 18,
   "id": "5b55194a-d89d-43c3-92b7-74eb44721b32",
   "metadata": {},
   "outputs": [],
   "source": [
    "data = data.dropna(subset=[\"year_of_release\"])"
   ]
  },
  {
   "cell_type": "code",
   "execution_count": 19,
   "id": "9bca21df-48b1-4288-a115-97cbdee074e0",
   "metadata": {},
   "outputs": [
    {
     "data": {
      "text/plain": [
       "0"
      ]
     },
     "execution_count": 19,
     "metadata": {},
     "output_type": "execute_result"
    }
   ],
   "source": [
    "# проверим результат\n",
    "data[\"year_of_release\"].isna().sum()"
   ]
  },
  {
   "cell_type": "code",
   "execution_count": 20,
   "id": "a314b358-8f6c-4f9d-ba83-0f8011bf8562",
   "metadata": {},
   "outputs": [
    {
     "data": {
      "text/plain": [
       "array([2006., 1985., 2008., 2009., 1996., 1989., 1984., 2005., 1999.,\n",
       "       2007., 2010., 2013., 2004., 1990., 1988., 2002., 2001., 2011.,\n",
       "       1998., 2015., 2012., 2014., 1992., 1997., 1993., 1994., 1982.,\n",
       "       2016., 2003., 1986., 2000., 1995., 1991., 1981., 1987., 1980.,\n",
       "       1983.])"
      ]
     },
     "execution_count": 20,
     "metadata": {},
     "output_type": "execute_result"
    }
   ],
   "source": [
    "# посмотрим уникальные значения\n",
    "data[\"year_of_release\"].unique()"
   ]
  },
  {
   "cell_type": "markdown",
   "id": "68b899fa-4848-4d8f-839a-0a2e15c26d80",
   "metadata": {},
   "source": [
    "**Изменим тип данных для столбца `year_of_release` на целое число, поскольку у этих данных не может быть десятичных знаков, с целым числом будет удобнее производить расчеты.**"
   ]
  },
  {
   "cell_type": "code",
   "execution_count": 21,
   "id": "79410e8a-a2f7-4c63-a306-f6e99abf0f3e",
   "metadata": {},
   "outputs": [],
   "source": [
    "data[\"year_of_release\"] = data[\"year_of_release\"].astype(int)"
   ]
  },
  {
   "cell_type": "code",
   "execution_count": 22,
   "id": "991aa8fa-181a-4e71-bf73-dc12c0ed3964",
   "metadata": {},
   "outputs": [
    {
     "data": {
      "text/plain": [
       "0        2006\n",
       "1        1985\n",
       "2        2008\n",
       "3        2009\n",
       "4        1996\n",
       "         ... \n",
       "16710    2016\n",
       "16711    2006\n",
       "16712    2016\n",
       "16713    2003\n",
       "16714    2016\n",
       "Name: year_of_release, Length: 16444, dtype: int64"
      ]
     },
     "execution_count": 22,
     "metadata": {},
     "output_type": "execute_result"
    }
   ],
   "source": [
    "# проверим результат\n",
    "data[\"year_of_release\"]"
   ]
  },
  {
   "cell_type": "markdown",
   "id": "9e09ad04-f0e2-4bad-95f9-485401556001",
   "metadata": {},
   "source": [
    "**Посмотрим на уникальные значения столбца `critic_score`.**"
   ]
  },
  {
   "cell_type": "code",
   "execution_count": 23,
   "id": "29e90ac0-d51d-40d8-8ecf-167a78194371",
   "metadata": {},
   "outputs": [
    {
     "data": {
      "text/plain": [
       "array([76., nan, 82., 80., 89., 58., 87., 91., 61., 97., 95., 77., 88.,\n",
       "       83., 94., 93., 85., 86., 98., 96., 90., 84., 73., 74., 78., 92.,\n",
       "       71., 72., 68., 62., 49., 67., 81., 66., 56., 79., 70., 59., 64.,\n",
       "       75., 60., 63., 69., 50., 25., 42., 44., 55., 48., 57., 29., 47.,\n",
       "       65., 54., 20., 53., 37., 38., 33., 52., 30., 32., 43., 45., 51.,\n",
       "       40., 46., 39., 34., 41., 36., 31., 27., 35., 26., 19., 28., 23.,\n",
       "       24., 21., 17., 13.])"
      ]
     },
     "execution_count": 23,
     "metadata": {},
     "output_type": "execute_result"
    }
   ],
   "source": [
    "data[\"critic_score\"].unique()"
   ]
  },
  {
   "cell_type": "markdown",
   "id": "1840d8d6-dd1c-441b-9f3e-14458d45fe5a",
   "metadata": {},
   "source": [
    "**На этапе просмотра общей информации в столбце `critic_score` обнаружено 8578 пропущенных значений. Поскольку заполнить оценку критиков медианным или средним значением будет не корректно, оставим эти пропуски.**"
   ]
  },
  {
   "cell_type": "markdown",
   "id": "cee903bd-1114-446d-8131-7bb93857ae88",
   "metadata": {},
   "source": [
    "**Посмотрим на уникальные значения столбца `user_score`.**"
   ]
  },
  {
   "cell_type": "code",
   "execution_count": 24,
   "id": "4095558f-02b6-4c23-bd40-a9e796daf00b",
   "metadata": {},
   "outputs": [
    {
     "data": {
      "text/plain": [
       "array(['8', nan, '8.3', '8.5', '6.6', '8.4', '8.6', '7.7', '6.3', '7.4',\n",
       "       '8.2', '9', '7.9', '8.1', '8.7', '7.1', '3.4', '5.3', '4.8', '3.2',\n",
       "       '8.9', '6.4', '7.8', '7.5', '2.6', '7.2', '9.2', '7', '7.3', '4.3',\n",
       "       '7.6', '5.7', '5', '9.1', '6.5', 'tbd', '8.8', '6.9', '9.4', '6.8',\n",
       "       '6.1', '6.7', '5.4', '4', '4.9', '4.5', '9.3', '6.2', '4.2', '6',\n",
       "       '3.7', '4.1', '5.8', '5.6', '5.5', '4.4', '4.6', '5.9', '3.9',\n",
       "       '3.1', '2.9', '5.2', '3.3', '4.7', '5.1', '3.5', '2.5', '1.9', '3',\n",
       "       '2.7', '2.2', '2', '9.5', '2.1', '3.6', '2.8', '1.8', '3.8', '0',\n",
       "       '1.6', '9.6', '2.4', '1.7', '1.1', '0.3', '1.5', '0.7', '1.2',\n",
       "       '2.3', '0.5', '1.3', '0.2', '0.6', '1.4', '0.9', '1', '9.7'],\n",
       "      dtype=object)"
      ]
     },
     "execution_count": 24,
     "metadata": {},
     "output_type": "execute_result"
    }
   ],
   "source": [
    "data[\"user_score\"].unique()"
   ]
  },
  {
   "cell_type": "markdown",
   "id": "45b01f37-3009-4ac3-a3ca-b06d35ea50b5",
   "metadata": {},
   "source": [
    "**Среди значений рейтинга и пропущенных данных в столбце `user_score` встречается 'tbd'. Это означает «To Be Determined», то есть оценка будет определена позже. Логичнее заменить эти значения на пропуски.**"
   ]
  },
  {
   "cell_type": "code",
   "execution_count": 25,
   "id": "aa5023bd-49f9-4583-8691-298443d0cd78",
   "metadata": {},
   "outputs": [],
   "source": [
    "data[\"user_score\"] = data[\"user_score\"].replace(\"tbd\", np.NaN)"
   ]
  },
  {
   "cell_type": "code",
   "execution_count": 26,
   "id": "0e9201e6-f630-4086-a96e-e30b9a50b537",
   "metadata": {},
   "outputs": [
    {
     "data": {
      "text/plain": [
       "array(['8', nan, '8.3', '8.5', '6.6', '8.4', '8.6', '7.7', '6.3', '7.4',\n",
       "       '8.2', '9', '7.9', '8.1', '8.7', '7.1', '3.4', '5.3', '4.8', '3.2',\n",
       "       '8.9', '6.4', '7.8', '7.5', '2.6', '7.2', '9.2', '7', '7.3', '4.3',\n",
       "       '7.6', '5.7', '5', '9.1', '6.5', '8.8', '6.9', '9.4', '6.8', '6.1',\n",
       "       '6.7', '5.4', '4', '4.9', '4.5', '9.3', '6.2', '4.2', '6', '3.7',\n",
       "       '4.1', '5.8', '5.6', '5.5', '4.4', '4.6', '5.9', '3.9', '3.1',\n",
       "       '2.9', '5.2', '3.3', '4.7', '5.1', '3.5', '2.5', '1.9', '3', '2.7',\n",
       "       '2.2', '2', '9.5', '2.1', '3.6', '2.8', '1.8', '3.8', '0', '1.6',\n",
       "       '9.6', '2.4', '1.7', '1.1', '0.3', '1.5', '0.7', '1.2', '2.3',\n",
       "       '0.5', '1.3', '0.2', '0.6', '1.4', '0.9', '1', '9.7'], dtype=object)"
      ]
     },
     "execution_count": 26,
     "metadata": {},
     "output_type": "execute_result"
    }
   ],
   "source": [
    "# проверим результат\n",
    "data[\"user_score\"].unique()"
   ]
  },
  {
   "cell_type": "markdown",
   "id": "c4ffb334-2a8b-46d6-aa26-c4857f93d2dd",
   "metadata": {},
   "source": [
    "**На этапе просмотра общей информации в столбце `user_score` обнаружено 6701 пропущенное значение. Поскольку заполнить оценку пользователей медианным или средним значением будет не корректно, оставим пропуски.**"
   ]
  },
  {
   "cell_type": "markdown",
   "id": "56457eed-c086-4a27-b2bc-4bb2722ac2bf",
   "metadata": {},
   "source": [
    "**Чтобы производить расчеты со столбцом `user_score`, заменим тип данных в нем на тип float.**"
   ]
  },
  {
   "cell_type": "code",
   "execution_count": 27,
   "id": "d973dba0-dbcb-4052-861b-c9207092a6c4",
   "metadata": {},
   "outputs": [],
   "source": [
    "data[\"user_score\"] = data[\"user_score\"].astype(\"float\")"
   ]
  },
  {
   "cell_type": "code",
   "execution_count": 28,
   "id": "5ab51ed8-7bf4-48e6-aa06-826b1f3c19d7",
   "metadata": {},
   "outputs": [
    {
     "data": {
      "text/plain": [
       "0        8.0\n",
       "1        NaN\n",
       "2        8.3\n",
       "3        8.0\n",
       "4        NaN\n",
       "        ... \n",
       "16710    NaN\n",
       "16711    NaN\n",
       "16712    NaN\n",
       "16713    NaN\n",
       "16714    NaN\n",
       "Name: user_score, Length: 16444, dtype: float64"
      ]
     },
     "execution_count": 28,
     "metadata": {},
     "output_type": "execute_result"
    }
   ],
   "source": [
    "# проверим результат\n",
    "data[\"user_score\"]"
   ]
  },
  {
   "cell_type": "markdown",
   "id": "8c0ea123-c7f9-46c1-8ea8-c77d7ea9ee9d",
   "metadata": {},
   "source": [
    "**Посмотрим на уникальные значения столбца `rating`.**"
   ]
  },
  {
   "cell_type": "code",
   "execution_count": 29,
   "id": "db322469-f991-4069-b846-5ffc2e80f653",
   "metadata": {},
   "outputs": [
    {
     "data": {
      "text/plain": [
       "array(['E', nan, 'M', 'T', 'E10+', 'K-A', 'AO', 'EC', 'RP'], dtype=object)"
      ]
     },
     "execution_count": 29,
     "metadata": {},
     "output_type": "execute_result"
    }
   ],
   "source": [
    "data[\"rating\"].unique()"
   ]
  },
  {
   "cell_type": "markdown",
   "id": "7324c975-bf74-4137-a8d8-f69e1da772ed",
   "metadata": {},
   "source": [
    "**На этапе просмотра общей информации в столбце `rating` обнаружено 6766 пропущенных значений. Этот столбцец содержит информацию о рейтинге от организации ESRB (англ. Entertainment Software Rating Board). Эта ассоциация определяет рейтинг компьютерных игр и присваивает им подходящую возрастную категорию. Поскольку объективно заполнить эти пропуски не получится, оставляем их.**\n",
    "\n",
    "**Так же среди уникальных значений в столбце `rating` присутствует оценка \"K-A\". Это аббревиатура использовалась до 1998 года. Означает то же, что и \"E\" - для всех. Поэтому заменим \"K-A\" на \"E\".**"
   ]
  },
  {
   "cell_type": "code",
   "execution_count": 30,
   "id": "88409b4c-3be1-4961-99b1-83911fb9b369",
   "metadata": {},
   "outputs": [],
   "source": [
    "# заменим \"K-A\" на \"E\"\n",
    "data[\"rating\"] = data[\"rating\"].replace(\"K-A\", \"E\")"
   ]
  },
  {
   "cell_type": "code",
   "execution_count": 31,
   "id": "6cf0ef40-6720-4d1c-87d3-fbbee6124875",
   "metadata": {},
   "outputs": [
    {
     "data": {
      "text/plain": [
       "E       3924\n",
       "T       2905\n",
       "M       1536\n",
       "E10+    1393\n",
       "EC         8\n",
       "RP         1\n",
       "AO         1\n",
       "Name: rating, dtype: int64"
      ]
     },
     "execution_count": 31,
     "metadata": {},
     "output_type": "execute_result"
    }
   ],
   "source": [
    "# проверим результат\n",
    "data[\"rating\"].value_counts()"
   ]
  },
  {
   "cell_type": "markdown",
   "id": "f99886cb-a996-4703-b4ad-836b4ec5671e",
   "metadata": {},
   "source": [
    "**Проверим наличие явных дубликатов в данных.**"
   ]
  },
  {
   "cell_type": "code",
   "execution_count": 32,
   "id": "b23ae8d9-20cb-4240-b954-364d3cacdc1e",
   "metadata": {},
   "outputs": [
    {
     "data": {
      "text/plain": [
       "0"
      ]
     },
     "execution_count": 32,
     "metadata": {},
     "output_type": "execute_result"
    }
   ],
   "source": [
    "data.duplicated().sum()"
   ]
  },
  {
   "cell_type": "code",
   "execution_count": 33,
   "id": "17849746-c208-4e12-8987-aee8ffa2d988",
   "metadata": {},
   "outputs": [
    {
     "data": {
      "text/html": [
       "<div>\n",
       "<style scoped>\n",
       "    .dataframe tbody tr th:only-of-type {\n",
       "        vertical-align: middle;\n",
       "    }\n",
       "\n",
       "    .dataframe tbody tr th {\n",
       "        vertical-align: top;\n",
       "    }\n",
       "\n",
       "    .dataframe thead th {\n",
       "        text-align: right;\n",
       "    }\n",
       "</style>\n",
       "<table border=\"1\" class=\"dataframe\">\n",
       "  <thead>\n",
       "    <tr style=\"text-align: right;\">\n",
       "      <th></th>\n",
       "      <th>name</th>\n",
       "      <th>platform</th>\n",
       "      <th>year_of_release</th>\n",
       "      <th>genre</th>\n",
       "      <th>na_sales</th>\n",
       "      <th>eu_sales</th>\n",
       "      <th>jp_sales</th>\n",
       "      <th>other_sales</th>\n",
       "      <th>critic_score</th>\n",
       "      <th>user_score</th>\n",
       "      <th>rating</th>\n",
       "    </tr>\n",
       "  </thead>\n",
       "  <tbody>\n",
       "    <tr>\n",
       "      <th>16230</th>\n",
       "      <td>Madden NFL 13</td>\n",
       "      <td>PS3</td>\n",
       "      <td>2012</td>\n",
       "      <td>Sports</td>\n",
       "      <td>0.0</td>\n",
       "      <td>0.01</td>\n",
       "      <td>0.0</td>\n",
       "      <td>0.0</td>\n",
       "      <td>83.0</td>\n",
       "      <td>5.5</td>\n",
       "      <td>E</td>\n",
       "    </tr>\n",
       "  </tbody>\n",
       "</table>\n",
       "</div>"
      ],
      "text/plain": [
       "                name platform  year_of_release   genre  na_sales  eu_sales  \\\n",
       "16230  Madden NFL 13      PS3             2012  Sports       0.0      0.01   \n",
       "\n",
       "       jp_sales  other_sales  critic_score  user_score rating  \n",
       "16230       0.0          0.0          83.0         5.5      E  "
      ]
     },
     "execution_count": 33,
     "metadata": {},
     "output_type": "execute_result"
    }
   ],
   "source": [
    "# проверим наличие неявных дубликатов в столбцах name, year_of_release, platform\n",
    "data[data.duplicated(subset=[\"name\", \"platform\", \"year_of_release\"])]"
   ]
  },
  {
   "cell_type": "markdown",
   "id": "0221ece2-e188-47d5-a649-e8eaa6f92253",
   "metadata": {},
   "source": [
    "Обнаружен дубликат."
   ]
  },
  {
   "cell_type": "code",
   "execution_count": 34,
   "id": "a4f24a0b-5f8f-4296-8b80-0e6b115031b9",
   "metadata": {},
   "outputs": [
    {
     "data": {
      "text/html": [
       "<div>\n",
       "<style scoped>\n",
       "    .dataframe tbody tr th:only-of-type {\n",
       "        vertical-align: middle;\n",
       "    }\n",
       "\n",
       "    .dataframe tbody tr th {\n",
       "        vertical-align: top;\n",
       "    }\n",
       "\n",
       "    .dataframe thead th {\n",
       "        text-align: right;\n",
       "    }\n",
       "</style>\n",
       "<table border=\"1\" class=\"dataframe\">\n",
       "  <thead>\n",
       "    <tr style=\"text-align: right;\">\n",
       "      <th></th>\n",
       "      <th>name</th>\n",
       "      <th>platform</th>\n",
       "      <th>year_of_release</th>\n",
       "      <th>genre</th>\n",
       "      <th>na_sales</th>\n",
       "      <th>eu_sales</th>\n",
       "      <th>jp_sales</th>\n",
       "      <th>other_sales</th>\n",
       "      <th>critic_score</th>\n",
       "      <th>user_score</th>\n",
       "      <th>rating</th>\n",
       "    </tr>\n",
       "  </thead>\n",
       "  <tbody>\n",
       "    <tr>\n",
       "      <th>507</th>\n",
       "      <td>Madden NFL 13</td>\n",
       "      <td>X360</td>\n",
       "      <td>2012</td>\n",
       "      <td>Sports</td>\n",
       "      <td>2.53</td>\n",
       "      <td>0.15</td>\n",
       "      <td>0.0</td>\n",
       "      <td>0.17</td>\n",
       "      <td>81.0</td>\n",
       "      <td>5.8</td>\n",
       "      <td>E</td>\n",
       "    </tr>\n",
       "    <tr>\n",
       "      <th>604</th>\n",
       "      <td>Madden NFL 13</td>\n",
       "      <td>PS3</td>\n",
       "      <td>2012</td>\n",
       "      <td>Sports</td>\n",
       "      <td>2.11</td>\n",
       "      <td>0.22</td>\n",
       "      <td>0.0</td>\n",
       "      <td>0.23</td>\n",
       "      <td>83.0</td>\n",
       "      <td>5.5</td>\n",
       "      <td>E</td>\n",
       "    </tr>\n",
       "    <tr>\n",
       "      <th>3986</th>\n",
       "      <td>Madden NFL 13</td>\n",
       "      <td>Wii</td>\n",
       "      <td>2012</td>\n",
       "      <td>Sports</td>\n",
       "      <td>0.47</td>\n",
       "      <td>0.00</td>\n",
       "      <td>0.0</td>\n",
       "      <td>0.03</td>\n",
       "      <td>NaN</td>\n",
       "      <td>7.3</td>\n",
       "      <td>E</td>\n",
       "    </tr>\n",
       "    <tr>\n",
       "      <th>5887</th>\n",
       "      <td>Madden NFL 13</td>\n",
       "      <td>PSV</td>\n",
       "      <td>2012</td>\n",
       "      <td>Sports</td>\n",
       "      <td>0.28</td>\n",
       "      <td>0.00</td>\n",
       "      <td>0.0</td>\n",
       "      <td>0.02</td>\n",
       "      <td>63.0</td>\n",
       "      <td>7.3</td>\n",
       "      <td>E</td>\n",
       "    </tr>\n",
       "    <tr>\n",
       "      <th>7066</th>\n",
       "      <td>Madden NFL 13</td>\n",
       "      <td>WiiU</td>\n",
       "      <td>2012</td>\n",
       "      <td>Sports</td>\n",
       "      <td>0.21</td>\n",
       "      <td>0.00</td>\n",
       "      <td>0.0</td>\n",
       "      <td>0.02</td>\n",
       "      <td>75.0</td>\n",
       "      <td>6.7</td>\n",
       "      <td>E</td>\n",
       "    </tr>\n",
       "    <tr>\n",
       "      <th>16230</th>\n",
       "      <td>Madden NFL 13</td>\n",
       "      <td>PS3</td>\n",
       "      <td>2012</td>\n",
       "      <td>Sports</td>\n",
       "      <td>0.00</td>\n",
       "      <td>0.01</td>\n",
       "      <td>0.0</td>\n",
       "      <td>0.00</td>\n",
       "      <td>83.0</td>\n",
       "      <td>5.5</td>\n",
       "      <td>E</td>\n",
       "    </tr>\n",
       "  </tbody>\n",
       "</table>\n",
       "</div>"
      ],
      "text/plain": [
       "                name platform  year_of_release   genre  na_sales  eu_sales  \\\n",
       "507    Madden NFL 13     X360             2012  Sports      2.53      0.15   \n",
       "604    Madden NFL 13      PS3             2012  Sports      2.11      0.22   \n",
       "3986   Madden NFL 13      Wii             2012  Sports      0.47      0.00   \n",
       "5887   Madden NFL 13      PSV             2012  Sports      0.28      0.00   \n",
       "7066   Madden NFL 13     WiiU             2012  Sports      0.21      0.00   \n",
       "16230  Madden NFL 13      PS3             2012  Sports      0.00      0.01   \n",
       "\n",
       "       jp_sales  other_sales  critic_score  user_score rating  \n",
       "507         0.0         0.17          81.0         5.8      E  \n",
       "604         0.0         0.23          83.0         5.5      E  \n",
       "3986        0.0         0.03           NaN         7.3      E  \n",
       "5887        0.0         0.02          63.0         7.3      E  \n",
       "7066        0.0         0.02          75.0         6.7      E  \n",
       "16230       0.0         0.00          83.0         5.5      E  "
      ]
     },
     "execution_count": 34,
     "metadata": {},
     "output_type": "execute_result"
    }
   ],
   "source": [
    "# рассмотрим подробнее строки Madden NFL 13\n",
    "data.loc[data[\"name\"] == \"Madden NFL 13\"]"
   ]
  },
  {
   "cell_type": "markdown",
   "id": "01851a19-dc8b-4846-8d7d-306474df9f9a",
   "metadata": {},
   "source": [
    "Удалим строку 16230."
   ]
  },
  {
   "cell_type": "code",
   "execution_count": 35,
   "id": "abc70317-68e7-49ed-a538-440d9f56a9b7",
   "metadata": {},
   "outputs": [],
   "source": [
    "data = data.drop([16230]).reset_index(drop=True)"
   ]
  },
  {
   "cell_type": "code",
   "execution_count": 36,
   "id": "fe1ef08c-bd30-42cd-bb83-6aa8fd203035",
   "metadata": {},
   "outputs": [
    {
     "data": {
      "text/html": [
       "<div>\n",
       "<style scoped>\n",
       "    .dataframe tbody tr th:only-of-type {\n",
       "        vertical-align: middle;\n",
       "    }\n",
       "\n",
       "    .dataframe tbody tr th {\n",
       "        vertical-align: top;\n",
       "    }\n",
       "\n",
       "    .dataframe thead th {\n",
       "        text-align: right;\n",
       "    }\n",
       "</style>\n",
       "<table border=\"1\" class=\"dataframe\">\n",
       "  <thead>\n",
       "    <tr style=\"text-align: right;\">\n",
       "      <th></th>\n",
       "      <th>name</th>\n",
       "      <th>platform</th>\n",
       "      <th>year_of_release</th>\n",
       "      <th>genre</th>\n",
       "      <th>na_sales</th>\n",
       "      <th>eu_sales</th>\n",
       "      <th>jp_sales</th>\n",
       "      <th>other_sales</th>\n",
       "      <th>critic_score</th>\n",
       "      <th>user_score</th>\n",
       "      <th>rating</th>\n",
       "    </tr>\n",
       "  </thead>\n",
       "  <tbody>\n",
       "    <tr>\n",
       "      <th>503</th>\n",
       "      <td>Madden NFL 13</td>\n",
       "      <td>X360</td>\n",
       "      <td>2012</td>\n",
       "      <td>Sports</td>\n",
       "      <td>2.53</td>\n",
       "      <td>0.15</td>\n",
       "      <td>0.0</td>\n",
       "      <td>0.17</td>\n",
       "      <td>81.0</td>\n",
       "      <td>5.8</td>\n",
       "      <td>E</td>\n",
       "    </tr>\n",
       "    <tr>\n",
       "      <th>600</th>\n",
       "      <td>Madden NFL 13</td>\n",
       "      <td>PS3</td>\n",
       "      <td>2012</td>\n",
       "      <td>Sports</td>\n",
       "      <td>2.11</td>\n",
       "      <td>0.22</td>\n",
       "      <td>0.0</td>\n",
       "      <td>0.23</td>\n",
       "      <td>83.0</td>\n",
       "      <td>5.5</td>\n",
       "      <td>E</td>\n",
       "    </tr>\n",
       "    <tr>\n",
       "      <th>3933</th>\n",
       "      <td>Madden NFL 13</td>\n",
       "      <td>Wii</td>\n",
       "      <td>2012</td>\n",
       "      <td>Sports</td>\n",
       "      <td>0.47</td>\n",
       "      <td>0.00</td>\n",
       "      <td>0.0</td>\n",
       "      <td>0.03</td>\n",
       "      <td>NaN</td>\n",
       "      <td>7.3</td>\n",
       "      <td>E</td>\n",
       "    </tr>\n",
       "    <tr>\n",
       "      <th>5800</th>\n",
       "      <td>Madden NFL 13</td>\n",
       "      <td>PSV</td>\n",
       "      <td>2012</td>\n",
       "      <td>Sports</td>\n",
       "      <td>0.28</td>\n",
       "      <td>0.00</td>\n",
       "      <td>0.0</td>\n",
       "      <td>0.02</td>\n",
       "      <td>63.0</td>\n",
       "      <td>7.3</td>\n",
       "      <td>E</td>\n",
       "    </tr>\n",
       "    <tr>\n",
       "      <th>6956</th>\n",
       "      <td>Madden NFL 13</td>\n",
       "      <td>WiiU</td>\n",
       "      <td>2012</td>\n",
       "      <td>Sports</td>\n",
       "      <td>0.21</td>\n",
       "      <td>0.00</td>\n",
       "      <td>0.0</td>\n",
       "      <td>0.02</td>\n",
       "      <td>75.0</td>\n",
       "      <td>6.7</td>\n",
       "      <td>E</td>\n",
       "    </tr>\n",
       "  </tbody>\n",
       "</table>\n",
       "</div>"
      ],
      "text/plain": [
       "               name platform  year_of_release   genre  na_sales  eu_sales  \\\n",
       "503   Madden NFL 13     X360             2012  Sports      2.53      0.15   \n",
       "600   Madden NFL 13      PS3             2012  Sports      2.11      0.22   \n",
       "3933  Madden NFL 13      Wii             2012  Sports      0.47      0.00   \n",
       "5800  Madden NFL 13      PSV             2012  Sports      0.28      0.00   \n",
       "6956  Madden NFL 13     WiiU             2012  Sports      0.21      0.00   \n",
       "\n",
       "      jp_sales  other_sales  critic_score  user_score rating  \n",
       "503        0.0         0.17          81.0         5.8      E  \n",
       "600        0.0         0.23          83.0         5.5      E  \n",
       "3933       0.0         0.03           NaN         7.3      E  \n",
       "5800       0.0         0.02          63.0         7.3      E  \n",
       "6956       0.0         0.02          75.0         6.7      E  "
      ]
     },
     "execution_count": 36,
     "metadata": {},
     "output_type": "execute_result"
    }
   ],
   "source": [
    "# проверим результат\n",
    "data.loc[data[\"name\"] == \"Madden NFL 13\"]"
   ]
  },
  {
   "cell_type": "markdown",
   "id": "8808b537-6d33-4856-8ec6-0c3607c16ed6",
   "metadata": {},
   "source": [
    "**Выводы**\n",
    "\n",
    "\n",
    "На этапе предобработки проведены следующие действия:\n",
    "\n",
    "- названия столбцов приведены к нижнему регистру;\n",
    "- в столбцах `name`, `genre`, `year_of_release` удалены пропуски;\n",
    "- в столбцах `year_of_release` и `user_score` изменены типы данных;\n",
    "- в столбце `user_score` произведена замена значений 'tbd';\n",
    "- в столбце `rating` произведена замена значений \"K-A\" на \"E\";\n",
    "- пропуски в столбцах `critic_score`, `user_score`, `rating` оставлены;\n",
    "- удален неявный дубликат. "
   ]
  },
  {
   "cell_type": "markdown",
   "id": "cdd6e5e0-7c87-48de-add0-903e58e5c463",
   "metadata": {},
   "source": [
    "### Добавление столбца"
   ]
  },
  {
   "cell_type": "markdown",
   "id": "6b0a020d-fcf3-4e61-be0f-4c9c37368681",
   "metadata": {},
   "source": [
    "**Создадим отдельный столбец `total_sales` с суммарными продажами по всем регионам.**"
   ]
  },
  {
   "cell_type": "code",
   "execution_count": 37,
   "id": "da17829f-dd7f-4c1a-8c48-4ab409a3bbb4",
   "metadata": {},
   "outputs": [],
   "source": [
    "data[\"total_sales\"] = data[[\"na_sales\", \"eu_sales\", \"jp_sales\", \"other_sales\"]].sum(\n",
    "    axis=1\n",
    ")"
   ]
  },
  {
   "cell_type": "code",
   "execution_count": 38,
   "id": "994563b2-255b-4ecc-925b-e26d9b49df22",
   "metadata": {},
   "outputs": [
    {
     "data": {
      "text/html": [
       "<div>\n",
       "<style scoped>\n",
       "    .dataframe tbody tr th:only-of-type {\n",
       "        vertical-align: middle;\n",
       "    }\n",
       "\n",
       "    .dataframe tbody tr th {\n",
       "        vertical-align: top;\n",
       "    }\n",
       "\n",
       "    .dataframe thead th {\n",
       "        text-align: right;\n",
       "    }\n",
       "</style>\n",
       "<table border=\"1\" class=\"dataframe\">\n",
       "  <thead>\n",
       "    <tr style=\"text-align: right;\">\n",
       "      <th></th>\n",
       "      <th>name</th>\n",
       "      <th>platform</th>\n",
       "      <th>year_of_release</th>\n",
       "      <th>genre</th>\n",
       "      <th>na_sales</th>\n",
       "      <th>eu_sales</th>\n",
       "      <th>jp_sales</th>\n",
       "      <th>other_sales</th>\n",
       "      <th>critic_score</th>\n",
       "      <th>user_score</th>\n",
       "      <th>rating</th>\n",
       "      <th>total_sales</th>\n",
       "    </tr>\n",
       "  </thead>\n",
       "  <tbody>\n",
       "    <tr>\n",
       "      <th>0</th>\n",
       "      <td>Wii Sports</td>\n",
       "      <td>Wii</td>\n",
       "      <td>2006</td>\n",
       "      <td>Sports</td>\n",
       "      <td>41.36</td>\n",
       "      <td>28.96</td>\n",
       "      <td>3.77</td>\n",
       "      <td>8.45</td>\n",
       "      <td>76.0</td>\n",
       "      <td>8.0</td>\n",
       "      <td>E</td>\n",
       "      <td>82.54</td>\n",
       "    </tr>\n",
       "    <tr>\n",
       "      <th>1</th>\n",
       "      <td>Super Mario Bros.</td>\n",
       "      <td>NES</td>\n",
       "      <td>1985</td>\n",
       "      <td>Platform</td>\n",
       "      <td>29.08</td>\n",
       "      <td>3.58</td>\n",
       "      <td>6.81</td>\n",
       "      <td>0.77</td>\n",
       "      <td>NaN</td>\n",
       "      <td>NaN</td>\n",
       "      <td>NaN</td>\n",
       "      <td>40.24</td>\n",
       "    </tr>\n",
       "    <tr>\n",
       "      <th>2</th>\n",
       "      <td>Mario Kart Wii</td>\n",
       "      <td>Wii</td>\n",
       "      <td>2008</td>\n",
       "      <td>Racing</td>\n",
       "      <td>15.68</td>\n",
       "      <td>12.76</td>\n",
       "      <td>3.79</td>\n",
       "      <td>3.29</td>\n",
       "      <td>82.0</td>\n",
       "      <td>8.3</td>\n",
       "      <td>E</td>\n",
       "      <td>35.52</td>\n",
       "    </tr>\n",
       "    <tr>\n",
       "      <th>3</th>\n",
       "      <td>Wii Sports Resort</td>\n",
       "      <td>Wii</td>\n",
       "      <td>2009</td>\n",
       "      <td>Sports</td>\n",
       "      <td>15.61</td>\n",
       "      <td>10.93</td>\n",
       "      <td>3.28</td>\n",
       "      <td>2.95</td>\n",
       "      <td>80.0</td>\n",
       "      <td>8.0</td>\n",
       "      <td>E</td>\n",
       "      <td>32.77</td>\n",
       "    </tr>\n",
       "    <tr>\n",
       "      <th>4</th>\n",
       "      <td>Pokemon Red/Pokemon Blue</td>\n",
       "      <td>GB</td>\n",
       "      <td>1996</td>\n",
       "      <td>Role-Playing</td>\n",
       "      <td>11.27</td>\n",
       "      <td>8.89</td>\n",
       "      <td>10.22</td>\n",
       "      <td>1.00</td>\n",
       "      <td>NaN</td>\n",
       "      <td>NaN</td>\n",
       "      <td>NaN</td>\n",
       "      <td>31.38</td>\n",
       "    </tr>\n",
       "    <tr>\n",
       "      <th>5</th>\n",
       "      <td>Tetris</td>\n",
       "      <td>GB</td>\n",
       "      <td>1989</td>\n",
       "      <td>Puzzle</td>\n",
       "      <td>23.20</td>\n",
       "      <td>2.26</td>\n",
       "      <td>4.22</td>\n",
       "      <td>0.58</td>\n",
       "      <td>NaN</td>\n",
       "      <td>NaN</td>\n",
       "      <td>NaN</td>\n",
       "      <td>30.26</td>\n",
       "    </tr>\n",
       "    <tr>\n",
       "      <th>6</th>\n",
       "      <td>New Super Mario Bros.</td>\n",
       "      <td>DS</td>\n",
       "      <td>2006</td>\n",
       "      <td>Platform</td>\n",
       "      <td>11.28</td>\n",
       "      <td>9.14</td>\n",
       "      <td>6.50</td>\n",
       "      <td>2.88</td>\n",
       "      <td>89.0</td>\n",
       "      <td>8.5</td>\n",
       "      <td>E</td>\n",
       "      <td>29.80</td>\n",
       "    </tr>\n",
       "    <tr>\n",
       "      <th>7</th>\n",
       "      <td>Wii Play</td>\n",
       "      <td>Wii</td>\n",
       "      <td>2006</td>\n",
       "      <td>Misc</td>\n",
       "      <td>13.96</td>\n",
       "      <td>9.18</td>\n",
       "      <td>2.93</td>\n",
       "      <td>2.84</td>\n",
       "      <td>58.0</td>\n",
       "      <td>6.6</td>\n",
       "      <td>E</td>\n",
       "      <td>28.91</td>\n",
       "    </tr>\n",
       "    <tr>\n",
       "      <th>8</th>\n",
       "      <td>New Super Mario Bros. Wii</td>\n",
       "      <td>Wii</td>\n",
       "      <td>2009</td>\n",
       "      <td>Platform</td>\n",
       "      <td>14.44</td>\n",
       "      <td>6.94</td>\n",
       "      <td>4.70</td>\n",
       "      <td>2.24</td>\n",
       "      <td>87.0</td>\n",
       "      <td>8.4</td>\n",
       "      <td>E</td>\n",
       "      <td>28.32</td>\n",
       "    </tr>\n",
       "    <tr>\n",
       "      <th>9</th>\n",
       "      <td>Duck Hunt</td>\n",
       "      <td>NES</td>\n",
       "      <td>1984</td>\n",
       "      <td>Shooter</td>\n",
       "      <td>26.93</td>\n",
       "      <td>0.63</td>\n",
       "      <td>0.28</td>\n",
       "      <td>0.47</td>\n",
       "      <td>NaN</td>\n",
       "      <td>NaN</td>\n",
       "      <td>NaN</td>\n",
       "      <td>28.31</td>\n",
       "    </tr>\n",
       "  </tbody>\n",
       "</table>\n",
       "</div>"
      ],
      "text/plain": [
       "                        name platform  year_of_release         genre  \\\n",
       "0                 Wii Sports      Wii             2006        Sports   \n",
       "1          Super Mario Bros.      NES             1985      Platform   \n",
       "2             Mario Kart Wii      Wii             2008        Racing   \n",
       "3          Wii Sports Resort      Wii             2009        Sports   \n",
       "4   Pokemon Red/Pokemon Blue       GB             1996  Role-Playing   \n",
       "5                     Tetris       GB             1989        Puzzle   \n",
       "6      New Super Mario Bros.       DS             2006      Platform   \n",
       "7                   Wii Play      Wii             2006          Misc   \n",
       "8  New Super Mario Bros. Wii      Wii             2009      Platform   \n",
       "9                  Duck Hunt      NES             1984       Shooter   \n",
       "\n",
       "   na_sales  eu_sales  jp_sales  other_sales  critic_score  user_score rating  \\\n",
       "0     41.36     28.96      3.77         8.45          76.0         8.0      E   \n",
       "1     29.08      3.58      6.81         0.77           NaN         NaN    NaN   \n",
       "2     15.68     12.76      3.79         3.29          82.0         8.3      E   \n",
       "3     15.61     10.93      3.28         2.95          80.0         8.0      E   \n",
       "4     11.27      8.89     10.22         1.00           NaN         NaN    NaN   \n",
       "5     23.20      2.26      4.22         0.58           NaN         NaN    NaN   \n",
       "6     11.28      9.14      6.50         2.88          89.0         8.5      E   \n",
       "7     13.96      9.18      2.93         2.84          58.0         6.6      E   \n",
       "8     14.44      6.94      4.70         2.24          87.0         8.4      E   \n",
       "9     26.93      0.63      0.28         0.47           NaN         NaN    NaN   \n",
       "\n",
       "   total_sales  \n",
       "0        82.54  \n",
       "1        40.24  \n",
       "2        35.52  \n",
       "3        32.77  \n",
       "4        31.38  \n",
       "5        30.26  \n",
       "6        29.80  \n",
       "7        28.91  \n",
       "8        28.32  \n",
       "9        28.31  "
      ]
     },
     "execution_count": 38,
     "metadata": {},
     "output_type": "execute_result"
    }
   ],
   "source": [
    "# проверим результат\n",
    "data.head(10)"
   ]
  },
  {
   "cell_type": "markdown",
   "id": "5938d792-505a-49fa-be88-12e293370a18",
   "metadata": {},
   "source": [
    "**Выводы:**\n",
    "\n",
    "\n",
    "На этапе предобработки проведены следующие действия:\n",
    "\n",
    "- названия столбцов приведены к нижнему регистру;\n",
    "- в столбцах `name`, `genre`, `year_of_release` удалены пропуски;\n",
    "- в столбцах `year_of_release` и `user_score` изменены типы данных;\n",
    "- в столбце `user_score` произведена замена значений 'tbd';\n",
    "- в столбце `rating` произведена замена значений \"K-A\" на \"E\";\n",
    "- пропуски в столбцах `critic_score`, `user_score`, `rating` оставлены;\n",
    "- удален неявный дубликат;\n",
    "- создан отдельный столбец `total_sales` с суммарными продажами по всем регионам.\n",
    "\n",
    "**Возможными причинами пропусков в данных могли стать несколько факторов:**\n",
    "\n",
    "\n",
    "- в датасете содержится информация с 1980 года, а рейтинг ESRB стал присваиваться с 1994 года. Это тоже может быть причиной возникновения пропусков в данных; \n",
    "- в данных содержится не вся информация за 2016 год, это тоже часть отсутствующих данных;\n",
    "- так же игра может быть на старте своего выхода на рынок и не собрала еще достаточной обратной связи;\n",
    "- традиционными причинами могли стать человеческий фактор и технические сбои: не все данные могли быть занесены и собраны или возможны сбои с оборудованием или программным обеспечением для сбора данных;\n",
    "- возможно, игры сложно однозначно отнести к четкому возрастному ограничению (столбец `rating`) или у производителей игр нет жестких сроков присвоения рейтинга."
   ]
  },
  {
   "cell_type": "markdown",
   "id": "bb8aa6d9-ef5a-4912-b3e3-338475d5ffc9",
   "metadata": {},
   "source": [
    "## Исследовательский анализ данных"
   ]
  },
  {
   "cell_type": "markdown",
   "id": "186661a0-d734-43b4-a2c5-cb3fa90f8738",
   "metadata": {},
   "source": [
    "**На этапе исследовательского анализа данных:**\n",
    "\n",
    "- проанализируем сколько игр выпускалось в разные годы;\n",
    "- посмотрим, как менялись продажи по платформам;\n",
    "- узнаем какие платформы лидируют по продажам, растут или падают;\n",
    "- увидим, как влияют на продажи отзывы пользователей и критиков;\n",
    "- определим популярные жанры игр.\n",
    "\n",
    "Визуализируем исследования и построим графики."
   ]
  },
  {
   "cell_type": "markdown",
   "id": "59c2c325-4c2b-4250-87ca-2e10562a1fa6",
   "metadata": {},
   "source": [
    "### Выпуск игр в разные годы"
   ]
  },
  {
   "cell_type": "markdown",
   "id": "557f006d-0394-4978-b433-9da31d4a4613",
   "metadata": {},
   "source": [
    "**Проанализируем сколько игр выпускалось в разные годы.**"
   ]
  },
  {
   "cell_type": "code",
   "execution_count": 39,
   "id": "2c53b3cc-706a-4526-a37d-b674fbbe4ef1",
   "metadata": {},
   "outputs": [
    {
     "data": {
      "text/plain": [
       "count    16443.000000\n",
       "mean      2006.485921\n",
       "std          5.875546\n",
       "min       1980.000000\n",
       "25%       2003.000000\n",
       "50%       2007.000000\n",
       "75%       2010.000000\n",
       "max       2016.000000\n",
       "Name: year_of_release, dtype: float64"
      ]
     },
     "execution_count": 39,
     "metadata": {},
     "output_type": "execute_result"
    }
   ],
   "source": [
    "# получим статистичечкие данные столбца 'year_of_release'\n",
    "data[\"year_of_release\"].describe()"
   ]
  },
  {
   "cell_type": "code",
   "execution_count": 40,
   "id": "31c4aafa-5291-40ca-8683-d380d2e62e65",
   "metadata": {},
   "outputs": [
    {
     "data": {
      "text/plain": [
       "1980       9\n",
       "1981      46\n",
       "1982      36\n",
       "1983      17\n",
       "1984      14\n",
       "1985      14\n",
       "1986      21\n",
       "1987      16\n",
       "1988      15\n",
       "1989      17\n",
       "1990      16\n",
       "1991      41\n",
       "1992      43\n",
       "1993      60\n",
       "1994     121\n",
       "1995     219\n",
       "1996     263\n",
       "1997     289\n",
       "1998     379\n",
       "1999     338\n",
       "2000     350\n",
       "2001     482\n",
       "2002     829\n",
       "2003     775\n",
       "2004     762\n",
       "2005     939\n",
       "2006    1006\n",
       "2007    1197\n",
       "2008    1427\n",
       "2009    1426\n",
       "2010    1255\n",
       "2011    1136\n",
       "2012     652\n",
       "2013     544\n",
       "2014     581\n",
       "2015     606\n",
       "2016     502\n",
       "Name: year_of_release, dtype: int64"
      ]
     },
     "execution_count": 40,
     "metadata": {},
     "output_type": "execute_result"
    }
   ],
   "source": [
    "# посмотрим на количество вышедших игр по годам\n",
    "data[\"year_of_release\"].value_counts().sort_index(ascending=True)"
   ]
  },
  {
   "cell_type": "markdown",
   "id": "e1ac1417-85a9-4168-b9a5-6e3ae85db26f",
   "metadata": {},
   "source": [
    "**Для наглядности построим гистограмму распределения количества игр в разные годы.**"
   ]
  },
  {
   "cell_type": "code",
   "execution_count": 41,
   "id": "2cea3c28-bcd5-4e23-b36b-ab36770ef683",
   "metadata": {},
   "outputs": [
    {
     "data": {
      "image/png": "[encoded data removed]",
      "text/plain": [
       "<Figure size 1080x360 with 1 Axes>"
      ]
     },
     "metadata": {
      "needs_background": "light"
     },
     "output_type": "display_data"
    }
   ],
   "source": [
    "data[\"year_of_release\"].value_counts().sort_index(ascending=True).plot.bar(\n",
    "    figsize=(15, 5)\n",
    ")\n",
    "plt.title(\"Распределение количества игр в разные годы\")\n",
    "plt.xlabel(\"Год\")\n",
    "plt.ylabel(\"Количество выпущенных игр\")\n",
    "plt.grid(color=\"grey\", axis=\"both\", alpha=0.5)\n",
    "plt.show()"
   ]
  },
  {
   "cell_type": "markdown",
   "id": "a7250b54-c3a9-4d44-95a1-cc425ae45f75",
   "metadata": {},
   "source": [
    "**На графике видно, что самое большое количество игр было выпущено с 2005 по 2011 годы. Пиковые года - 2008 и 2009.**\n",
    "\n",
    "Рынок компьютерных игр очень изменчив и зависит от трендов. Например, на популярность игр влияет популярность тех или иных устройств. Общий тренд на онлайн-игры, рост мобильного трафика и доступности интернета так же влияют на производителей.\n",
    "\n",
    "\n",
    "**Данные за все годы, возможно, могут пригодиться для истории. Для анализа такого изменчивого рынка, вероятнее всего, важны наиболее свежие данные за 2-3 года. Поскольку за 2016 год в датасете есть не вся информация, будем использовать период 2014 - 2016 гг.**"
   ]
  },
  {
   "cell_type": "markdown",
   "id": "bcb77bde-a78d-4c1a-9091-4e0b2f16669d",
   "metadata": {},
   "source": [
    "### Анализ продаж по платформам"
   ]
  },
  {
   "cell_type": "markdown",
   "id": "5bfa0ba0-024e-4496-806d-3f0ad50bbd56",
   "metadata": {},
   "source": [
    "**Посмотрим, как менялись продажи по платформам.**"
   ]
  },
  {
   "cell_type": "code",
   "execution_count": 42,
   "id": "962e912d-7d66-4076-9ade-66de9f584618",
   "metadata": {},
   "outputs": [],
   "source": [
    "# построим сводную таблицу общих продаж по каждой платформе\n",
    "data_pivot_platform = (\n",
    "    data.pivot_table(index=\"platform\", values=\"total_sales\", aggfunc=\"sum\")\n",
    "    .sort_values(\"total_sales\", ascending=False)\n",
    "    .head(10)\n",
    ")"
   ]
  },
  {
   "cell_type": "code",
   "execution_count": 43,
   "id": "68ba3e0d-815e-4f02-b639-0c0f10b6281f",
   "metadata": {},
   "outputs": [
    {
     "data": {
      "text/html": [
       "<div>\n",
       "<style scoped>\n",
       "    .dataframe tbody tr th:only-of-type {\n",
       "        vertical-align: middle;\n",
       "    }\n",
       "\n",
       "    .dataframe tbody tr th {\n",
       "        vertical-align: top;\n",
       "    }\n",
       "\n",
       "    .dataframe thead th {\n",
       "        text-align: right;\n",
       "    }\n",
       "</style>\n",
       "<table border=\"1\" class=\"dataframe\">\n",
       "  <thead>\n",
       "    <tr style=\"text-align: right;\">\n",
       "      <th></th>\n",
       "      <th>total_sales</th>\n",
       "    </tr>\n",
       "    <tr>\n",
       "      <th>platform</th>\n",
       "      <th></th>\n",
       "    </tr>\n",
       "  </thead>\n",
       "  <tbody>\n",
       "    <tr>\n",
       "      <th>PS2</th>\n",
       "      <td>1233.56</td>\n",
       "    </tr>\n",
       "    <tr>\n",
       "      <th>X360</th>\n",
       "      <td>961.24</td>\n",
       "    </tr>\n",
       "    <tr>\n",
       "      <th>PS3</th>\n",
       "      <td>931.33</td>\n",
       "    </tr>\n",
       "    <tr>\n",
       "      <th>Wii</th>\n",
       "      <td>891.18</td>\n",
       "    </tr>\n",
       "    <tr>\n",
       "      <th>DS</th>\n",
       "      <td>802.78</td>\n",
       "    </tr>\n",
       "    <tr>\n",
       "      <th>PS</th>\n",
       "      <td>727.58</td>\n",
       "    </tr>\n",
       "    <tr>\n",
       "      <th>PS4</th>\n",
       "      <td>314.14</td>\n",
       "    </tr>\n",
       "    <tr>\n",
       "      <th>GBA</th>\n",
       "      <td>312.88</td>\n",
       "    </tr>\n",
       "    <tr>\n",
       "      <th>PSP</th>\n",
       "      <td>289.53</td>\n",
       "    </tr>\n",
       "    <tr>\n",
       "      <th>3DS</th>\n",
       "      <td>257.81</td>\n",
       "    </tr>\n",
       "  </tbody>\n",
       "</table>\n",
       "</div>"
      ],
      "text/plain": [
       "          total_sales\n",
       "platform             \n",
       "PS2           1233.56\n",
       "X360           961.24\n",
       "PS3            931.33\n",
       "Wii            891.18\n",
       "DS             802.78\n",
       "PS             727.58\n",
       "PS4            314.14\n",
       "GBA            312.88\n",
       "PSP            289.53\n",
       "3DS            257.81"
      ]
     },
     "execution_count": 43,
     "metadata": {},
     "output_type": "execute_result"
    }
   ],
   "source": [
    "# выведем первые 10 платформ с сортировкой по убыванию общих продаж\n",
    "data_pivot_platform"
   ]
  },
  {
   "cell_type": "markdown",
   "id": "7ba93f59-c822-4bfc-9da7-f56865203e65",
   "metadata": {},
   "source": [
    "**Построим график распределения общих продаж по каждой платформе за все годы.**"
   ]
  },
  {
   "cell_type": "code",
   "execution_count": 44,
   "id": "104eac56-e5c3-4ae2-ad07-e4f66e7c29d1",
   "metadata": {},
   "outputs": [
    {
     "data": {
      "image/png": "[encoded data removed]",
      "text/plain": [
       "<Figure size 720x360 with 1 Axes>"
      ]
     },
     "metadata": {
      "needs_background": "light"
     },
     "output_type": "display_data"
    }
   ],
   "source": [
    "data_pivot_platform.plot.bar(figsize=(10, 5), legend=False)\n",
    "plt.title(\"Распределение продаж игр по платформам\")\n",
    "plt.xlabel(\"Платформа\")\n",
    "plt.ylabel(\"Общие продажи, млн копий\")\n",
    "plt.grid(color=\"grey\", axis=\"both\", alpha=0.5)\n",
    "plt.show()"
   ]
  },
  {
   "cell_type": "markdown",
   "id": "11f575e0-a863-464a-a5ce-7e5503966dd9",
   "metadata": {},
   "source": [
    "**Из графика видно, что топ-6 платформ по продажам: PS2, X360, PS3, Wii, DS, PS. Продажи по каждой из этих платформ более 600 млн копий.**\n",
    "\n",
    "Для платофрмы PS2 продано более 1200 млн копий игр. Это явный лидер. Меньше всего объемы продаж у платформ PS4, GBA, PSP, 3DS."
   ]
  },
  {
   "cell_type": "markdown",
   "id": "865cca26-c826-4b8a-877f-f79df1c2233d",
   "metadata": {},
   "source": [
    "**Построим сводную таблицу общих продаж по всем годам и платформам.**"
   ]
  },
  {
   "cell_type": "code",
   "execution_count": 45,
   "id": "94a0270b-6dd8-4f4e-9be2-f493da9c5ec9",
   "metadata": {},
   "outputs": [],
   "source": [
    "pivot_platform_years_all = data.pivot_table(\n",
    "    index=\"platform\", columns=\"year_of_release\", values=\"total_sales\", aggfunc=\"sum\"\n",
    ")"
   ]
  },
  {
   "cell_type": "code",
   "execution_count": 46,
   "id": "277a14a8-bc5f-4705-b811-b03846e8c9fd",
   "metadata": {},
   "outputs": [
    {
     "data": {
      "text/html": [
       "<div>\n",
       "<style scoped>\n",
       "    .dataframe tbody tr th:only-of-type {\n",
       "        vertical-align: middle;\n",
       "    }\n",
       "\n",
       "    .dataframe tbody tr th {\n",
       "        vertical-align: top;\n",
       "    }\n",
       "\n",
       "    .dataframe thead th {\n",
       "        text-align: right;\n",
       "    }\n",
       "</style>\n",
       "<table border=\"1\" class=\"dataframe\">\n",
       "  <thead>\n",
       "    <tr style=\"text-align: right;\">\n",
       "      <th>year_of_release</th>\n",
       "      <th>1980</th>\n",
       "      <th>1981</th>\n",
       "      <th>1982</th>\n",
       "      <th>1983</th>\n",
       "      <th>1984</th>\n",
       "      <th>1985</th>\n",
       "      <th>1986</th>\n",
       "      <th>1987</th>\n",
       "      <th>1988</th>\n",
       "      <th>1989</th>\n",
       "      <th>...</th>\n",
       "      <th>2007</th>\n",
       "      <th>2008</th>\n",
       "      <th>2009</th>\n",
       "      <th>2010</th>\n",
       "      <th>2011</th>\n",
       "      <th>2012</th>\n",
       "      <th>2013</th>\n",
       "      <th>2014</th>\n",
       "      <th>2015</th>\n",
       "      <th>2016</th>\n",
       "    </tr>\n",
       "    <tr>\n",
       "      <th>platform</th>\n",
       "      <th></th>\n",
       "      <th></th>\n",
       "      <th></th>\n",
       "      <th></th>\n",
       "      <th></th>\n",
       "      <th></th>\n",
       "      <th></th>\n",
       "      <th></th>\n",
       "      <th></th>\n",
       "      <th></th>\n",
       "      <th></th>\n",
       "      <th></th>\n",
       "      <th></th>\n",
       "      <th></th>\n",
       "      <th></th>\n",
       "      <th></th>\n",
       "      <th></th>\n",
       "      <th></th>\n",
       "      <th></th>\n",
       "      <th></th>\n",
       "      <th></th>\n",
       "    </tr>\n",
       "  </thead>\n",
       "  <tbody>\n",
       "    <tr>\n",
       "      <th>2600</th>\n",
       "      <td>11.38</td>\n",
       "      <td>35.68</td>\n",
       "      <td>28.88</td>\n",
       "      <td>5.84</td>\n",
       "      <td>0.27</td>\n",
       "      <td>0.45</td>\n",
       "      <td>0.67</td>\n",
       "      <td>1.94</td>\n",
       "      <td>0.74</td>\n",
       "      <td>0.63</td>\n",
       "      <td>...</td>\n",
       "      <td>NaN</td>\n",
       "      <td>NaN</td>\n",
       "      <td>NaN</td>\n",
       "      <td>NaN</td>\n",
       "      <td>NaN</td>\n",
       "      <td>NaN</td>\n",
       "      <td>NaN</td>\n",
       "      <td>NaN</td>\n",
       "      <td>NaN</td>\n",
       "      <td>NaN</td>\n",
       "    </tr>\n",
       "    <tr>\n",
       "      <th>3DO</th>\n",
       "      <td>NaN</td>\n",
       "      <td>NaN</td>\n",
       "      <td>NaN</td>\n",
       "      <td>NaN</td>\n",
       "      <td>NaN</td>\n",
       "      <td>NaN</td>\n",
       "      <td>NaN</td>\n",
       "      <td>NaN</td>\n",
       "      <td>NaN</td>\n",
       "      <td>NaN</td>\n",
       "      <td>...</td>\n",
       "      <td>NaN</td>\n",
       "      <td>NaN</td>\n",
       "      <td>NaN</td>\n",
       "      <td>NaN</td>\n",
       "      <td>NaN</td>\n",
       "      <td>NaN</td>\n",
       "      <td>NaN</td>\n",
       "      <td>NaN</td>\n",
       "      <td>NaN</td>\n",
       "      <td>NaN</td>\n",
       "    </tr>\n",
       "    <tr>\n",
       "      <th>3DS</th>\n",
       "      <td>NaN</td>\n",
       "      <td>NaN</td>\n",
       "      <td>NaN</td>\n",
       "      <td>NaN</td>\n",
       "      <td>NaN</td>\n",
       "      <td>NaN</td>\n",
       "      <td>NaN</td>\n",
       "      <td>NaN</td>\n",
       "      <td>NaN</td>\n",
       "      <td>NaN</td>\n",
       "      <td>...</td>\n",
       "      <td>NaN</td>\n",
       "      <td>NaN</td>\n",
       "      <td>NaN</td>\n",
       "      <td>NaN</td>\n",
       "      <td>63.20</td>\n",
       "      <td>51.36</td>\n",
       "      <td>56.57</td>\n",
       "      <td>43.76</td>\n",
       "      <td>27.78</td>\n",
       "      <td>15.14</td>\n",
       "    </tr>\n",
       "    <tr>\n",
       "      <th>DC</th>\n",
       "      <td>NaN</td>\n",
       "      <td>NaN</td>\n",
       "      <td>NaN</td>\n",
       "      <td>NaN</td>\n",
       "      <td>NaN</td>\n",
       "      <td>NaN</td>\n",
       "      <td>NaN</td>\n",
       "      <td>NaN</td>\n",
       "      <td>NaN</td>\n",
       "      <td>NaN</td>\n",
       "      <td>...</td>\n",
       "      <td>0.02</td>\n",
       "      <td>0.04</td>\n",
       "      <td>NaN</td>\n",
       "      <td>NaN</td>\n",
       "      <td>NaN</td>\n",
       "      <td>NaN</td>\n",
       "      <td>NaN</td>\n",
       "      <td>NaN</td>\n",
       "      <td>NaN</td>\n",
       "      <td>NaN</td>\n",
       "    </tr>\n",
       "    <tr>\n",
       "      <th>DS</th>\n",
       "      <td>NaN</td>\n",
       "      <td>NaN</td>\n",
       "      <td>NaN</td>\n",
       "      <td>NaN</td>\n",
       "      <td>NaN</td>\n",
       "      <td>0.02</td>\n",
       "      <td>NaN</td>\n",
       "      <td>NaN</td>\n",
       "      <td>NaN</td>\n",
       "      <td>NaN</td>\n",
       "      <td>...</td>\n",
       "      <td>146.94</td>\n",
       "      <td>145.31</td>\n",
       "      <td>119.54</td>\n",
       "      <td>85.02</td>\n",
       "      <td>26.18</td>\n",
       "      <td>11.01</td>\n",
       "      <td>1.54</td>\n",
       "      <td>NaN</td>\n",
       "      <td>NaN</td>\n",
       "      <td>NaN</td>\n",
       "    </tr>\n",
       "  </tbody>\n",
       "</table>\n",
       "<p>5 rows × 37 columns</p>\n",
       "</div>"
      ],
      "text/plain": [
       "year_of_release   1980   1981   1982  1983  1984  1985  1986  1987  1988  \\\n",
       "platform                                                                   \n",
       "2600             11.38  35.68  28.88  5.84  0.27  0.45  0.67  1.94  0.74   \n",
       "3DO                NaN    NaN    NaN   NaN   NaN   NaN   NaN   NaN   NaN   \n",
       "3DS                NaN    NaN    NaN   NaN   NaN   NaN   NaN   NaN   NaN   \n",
       "DC                 NaN    NaN    NaN   NaN   NaN   NaN   NaN   NaN   NaN   \n",
       "DS                 NaN    NaN    NaN   NaN   NaN  0.02   NaN   NaN   NaN   \n",
       "\n",
       "year_of_release  1989  ...    2007    2008    2009   2010   2011   2012  \\\n",
       "platform               ...                                                \n",
       "2600             0.63  ...     NaN     NaN     NaN    NaN    NaN    NaN   \n",
       "3DO               NaN  ...     NaN     NaN     NaN    NaN    NaN    NaN   \n",
       "3DS               NaN  ...     NaN     NaN     NaN    NaN  63.20  51.36   \n",
       "DC                NaN  ...    0.02    0.04     NaN    NaN    NaN    NaN   \n",
       "DS                NaN  ...  146.94  145.31  119.54  85.02  26.18  11.01   \n",
       "\n",
       "year_of_release   2013   2014   2015   2016  \n",
       "platform                                     \n",
       "2600               NaN    NaN    NaN    NaN  \n",
       "3DO                NaN    NaN    NaN    NaN  \n",
       "3DS              56.57  43.76  27.78  15.14  \n",
       "DC                 NaN    NaN    NaN    NaN  \n",
       "DS                1.54    NaN    NaN    NaN  \n",
       "\n",
       "[5 rows x 37 columns]"
      ]
     },
     "execution_count": 46,
     "metadata": {},
     "output_type": "execute_result"
    }
   ],
   "source": [
    "# проверим результат\n",
    "pivot_platform_years_all.head(5)"
   ]
  },
  {
   "cell_type": "code",
   "execution_count": 47,
   "id": "e9b67d8b-67ee-479e-8e01-f5a2e7da81b3",
   "metadata": {},
   "outputs": [
    {
     "data": {
      "image/png": "[encoded data removed]",
      "text/plain": [
       "<Figure size 1080x1080 with 2 Axes>"
      ]
     },
     "metadata": {
      "needs_background": "light"
     },
     "output_type": "display_data"
    }
   ],
   "source": [
    "# построим тепловую карту для сводной таблицы\n",
    "plt.figure(figsize=(15, 15))\n",
    "sns.heatmap(\n",
    "    pivot_platform_years_all, linewidths=0.003, linecolor=\"grey\", cmap=\"viridis\"\n",
    ")\n",
    "plt.title(\"Тепловая карта продаж игр по платформам и годам\")\n",
    "plt.xlabel(\"Годы\")\n",
    "plt.ylabel(\"Платформы\")\n",
    "plt.show()"
   ]
  },
  {
   "cell_type": "markdown",
   "id": "cbd398e3-2f14-4b52-b033-5d699a39b098",
   "metadata": {},
   "source": [
    "**Построим распределение по годам платформ с наибольшими суммарными продажами.**"
   ]
  },
  {
   "cell_type": "code",
   "execution_count": 48,
   "id": "c65ca85d-3683-4671-b870-e0e36c46f564",
   "metadata": {},
   "outputs": [],
   "source": [
    "# сохраним в переменную топ-6 платформ\n",
    "platform_top6 = data_pivot_platform.head(6)"
   ]
  },
  {
   "cell_type": "code",
   "execution_count": 49,
   "id": "a1f2bda7-d2c4-4146-9753-82e7442c1996",
   "metadata": {},
   "outputs": [],
   "source": [
    "# создадим сводную таблицу по топ-6 платформам по годам и продажам.\n",
    "pivot_platform_years = data.query(\"platform in @platform_top6.index\").pivot_table(\n",
    "    index=\"year_of_release\", columns=\"platform\", values=\"total_sales\", aggfunc=\"sum\"\n",
    ")"
   ]
  },
  {
   "cell_type": "code",
   "execution_count": 50,
   "id": "8a98ca9d-161d-430e-9245-a0a94e469510",
   "metadata": {},
   "outputs": [
    {
     "data": {
      "text/html": [
       "<div>\n",
       "<style scoped>\n",
       "    .dataframe tbody tr th:only-of-type {\n",
       "        vertical-align: middle;\n",
       "    }\n",
       "\n",
       "    .dataframe tbody tr th {\n",
       "        vertical-align: top;\n",
       "    }\n",
       "\n",
       "    .dataframe thead th {\n",
       "        text-align: right;\n",
       "    }\n",
       "</style>\n",
       "<table border=\"1\" class=\"dataframe\">\n",
       "  <thead>\n",
       "    <tr style=\"text-align: right;\">\n",
       "      <th>platform</th>\n",
       "      <th>DS</th>\n",
       "      <th>PS</th>\n",
       "      <th>PS2</th>\n",
       "      <th>PS3</th>\n",
       "      <th>Wii</th>\n",
       "      <th>X360</th>\n",
       "    </tr>\n",
       "    <tr>\n",
       "      <th>year_of_release</th>\n",
       "      <th></th>\n",
       "      <th></th>\n",
       "      <th></th>\n",
       "      <th></th>\n",
       "      <th></th>\n",
       "      <th></th>\n",
       "    </tr>\n",
       "  </thead>\n",
       "  <tbody>\n",
       "    <tr>\n",
       "      <th>1985</th>\n",
       "      <td>0.02</td>\n",
       "      <td>NaN</td>\n",
       "      <td>NaN</td>\n",
       "      <td>NaN</td>\n",
       "      <td>NaN</td>\n",
       "      <td>NaN</td>\n",
       "    </tr>\n",
       "    <tr>\n",
       "      <th>1994</th>\n",
       "      <td>NaN</td>\n",
       "      <td>6.03</td>\n",
       "      <td>NaN</td>\n",
       "      <td>NaN</td>\n",
       "      <td>NaN</td>\n",
       "      <td>NaN</td>\n",
       "    </tr>\n",
       "    <tr>\n",
       "      <th>1995</th>\n",
       "      <td>NaN</td>\n",
       "      <td>35.96</td>\n",
       "      <td>NaN</td>\n",
       "      <td>NaN</td>\n",
       "      <td>NaN</td>\n",
       "      <td>NaN</td>\n",
       "    </tr>\n",
       "    <tr>\n",
       "      <th>1996</th>\n",
       "      <td>NaN</td>\n",
       "      <td>94.70</td>\n",
       "      <td>NaN</td>\n",
       "      <td>NaN</td>\n",
       "      <td>NaN</td>\n",
       "      <td>NaN</td>\n",
       "    </tr>\n",
       "    <tr>\n",
       "      <th>1997</th>\n",
       "      <td>NaN</td>\n",
       "      <td>136.17</td>\n",
       "      <td>NaN</td>\n",
       "      <td>NaN</td>\n",
       "      <td>NaN</td>\n",
       "      <td>NaN</td>\n",
       "    </tr>\n",
       "    <tr>\n",
       "      <th>1998</th>\n",
       "      <td>NaN</td>\n",
       "      <td>169.49</td>\n",
       "      <td>NaN</td>\n",
       "      <td>NaN</td>\n",
       "      <td>NaN</td>\n",
       "      <td>NaN</td>\n",
       "    </tr>\n",
       "    <tr>\n",
       "      <th>1999</th>\n",
       "      <td>NaN</td>\n",
       "      <td>144.53</td>\n",
       "      <td>NaN</td>\n",
       "      <td>NaN</td>\n",
       "      <td>NaN</td>\n",
       "      <td>NaN</td>\n",
       "    </tr>\n",
       "    <tr>\n",
       "      <th>2000</th>\n",
       "      <td>NaN</td>\n",
       "      <td>96.37</td>\n",
       "      <td>39.17</td>\n",
       "      <td>NaN</td>\n",
       "      <td>NaN</td>\n",
       "      <td>NaN</td>\n",
       "    </tr>\n",
       "    <tr>\n",
       "      <th>2001</th>\n",
       "      <td>NaN</td>\n",
       "      <td>35.59</td>\n",
       "      <td>166.43</td>\n",
       "      <td>NaN</td>\n",
       "      <td>NaN</td>\n",
       "      <td>NaN</td>\n",
       "    </tr>\n",
       "    <tr>\n",
       "      <th>2002</th>\n",
       "      <td>NaN</td>\n",
       "      <td>6.67</td>\n",
       "      <td>205.38</td>\n",
       "      <td>NaN</td>\n",
       "      <td>NaN</td>\n",
       "      <td>NaN</td>\n",
       "    </tr>\n",
       "    <tr>\n",
       "      <th>2003</th>\n",
       "      <td>NaN</td>\n",
       "      <td>2.07</td>\n",
       "      <td>184.31</td>\n",
       "      <td>NaN</td>\n",
       "      <td>NaN</td>\n",
       "      <td>NaN</td>\n",
       "    </tr>\n",
       "    <tr>\n",
       "      <th>2004</th>\n",
       "      <td>17.27</td>\n",
       "      <td>NaN</td>\n",
       "      <td>211.81</td>\n",
       "      <td>NaN</td>\n",
       "      <td>NaN</td>\n",
       "      <td>NaN</td>\n",
       "    </tr>\n",
       "    <tr>\n",
       "      <th>2005</th>\n",
       "      <td>130.14</td>\n",
       "      <td>NaN</td>\n",
       "      <td>160.66</td>\n",
       "      <td>NaN</td>\n",
       "      <td>NaN</td>\n",
       "      <td>8.25</td>\n",
       "    </tr>\n",
       "    <tr>\n",
       "      <th>2006</th>\n",
       "      <td>119.81</td>\n",
       "      <td>NaN</td>\n",
       "      <td>103.42</td>\n",
       "      <td>20.96</td>\n",
       "      <td>137.15</td>\n",
       "      <td>51.62</td>\n",
       "    </tr>\n",
       "    <tr>\n",
       "      <th>2007</th>\n",
       "      <td>146.94</td>\n",
       "      <td>NaN</td>\n",
       "      <td>75.99</td>\n",
       "      <td>73.19</td>\n",
       "      <td>152.77</td>\n",
       "      <td>95.41</td>\n",
       "    </tr>\n",
       "    <tr>\n",
       "      <th>2008</th>\n",
       "      <td>145.31</td>\n",
       "      <td>NaN</td>\n",
       "      <td>53.90</td>\n",
       "      <td>118.52</td>\n",
       "      <td>171.32</td>\n",
       "      <td>135.26</td>\n",
       "    </tr>\n",
       "    <tr>\n",
       "      <th>2009</th>\n",
       "      <td>119.54</td>\n",
       "      <td>NaN</td>\n",
       "      <td>26.40</td>\n",
       "      <td>130.93</td>\n",
       "      <td>206.97</td>\n",
       "      <td>120.29</td>\n",
       "    </tr>\n",
       "    <tr>\n",
       "      <th>2010</th>\n",
       "      <td>85.02</td>\n",
       "      <td>NaN</td>\n",
       "      <td>5.64</td>\n",
       "      <td>142.17</td>\n",
       "      <td>127.95</td>\n",
       "      <td>170.03</td>\n",
       "    </tr>\n",
       "    <tr>\n",
       "      <th>2011</th>\n",
       "      <td>26.18</td>\n",
       "      <td>NaN</td>\n",
       "      <td>0.45</td>\n",
       "      <td>156.78</td>\n",
       "      <td>59.65</td>\n",
       "      <td>143.84</td>\n",
       "    </tr>\n",
       "    <tr>\n",
       "      <th>2012</th>\n",
       "      <td>11.01</td>\n",
       "      <td>NaN</td>\n",
       "      <td>NaN</td>\n",
       "      <td>107.35</td>\n",
       "      <td>21.71</td>\n",
       "      <td>99.74</td>\n",
       "    </tr>\n",
       "    <tr>\n",
       "      <th>2013</th>\n",
       "      <td>1.54</td>\n",
       "      <td>NaN</td>\n",
       "      <td>NaN</td>\n",
       "      <td>113.25</td>\n",
       "      <td>8.59</td>\n",
       "      <td>88.58</td>\n",
       "    </tr>\n",
       "    <tr>\n",
       "      <th>2014</th>\n",
       "      <td>NaN</td>\n",
       "      <td>NaN</td>\n",
       "      <td>NaN</td>\n",
       "      <td>47.76</td>\n",
       "      <td>3.75</td>\n",
       "      <td>34.74</td>\n",
       "    </tr>\n",
       "    <tr>\n",
       "      <th>2015</th>\n",
       "      <td>NaN</td>\n",
       "      <td>NaN</td>\n",
       "      <td>NaN</td>\n",
       "      <td>16.82</td>\n",
       "      <td>1.14</td>\n",
       "      <td>11.96</td>\n",
       "    </tr>\n",
       "    <tr>\n",
       "      <th>2016</th>\n",
       "      <td>NaN</td>\n",
       "      <td>NaN</td>\n",
       "      <td>NaN</td>\n",
       "      <td>3.60</td>\n",
       "      <td>0.18</td>\n",
       "      <td>1.52</td>\n",
       "    </tr>\n",
       "  </tbody>\n",
       "</table>\n",
       "</div>"
      ],
      "text/plain": [
       "platform             DS      PS     PS2     PS3     Wii    X360\n",
       "year_of_release                                                \n",
       "1985               0.02     NaN     NaN     NaN     NaN     NaN\n",
       "1994                NaN    6.03     NaN     NaN     NaN     NaN\n",
       "1995                NaN   35.96     NaN     NaN     NaN     NaN\n",
       "1996                NaN   94.70     NaN     NaN     NaN     NaN\n",
       "1997                NaN  136.17     NaN     NaN     NaN     NaN\n",
       "1998                NaN  169.49     NaN     NaN     NaN     NaN\n",
       "1999                NaN  144.53     NaN     NaN     NaN     NaN\n",
       "2000                NaN   96.37   39.17     NaN     NaN     NaN\n",
       "2001                NaN   35.59  166.43     NaN     NaN     NaN\n",
       "2002                NaN    6.67  205.38     NaN     NaN     NaN\n",
       "2003                NaN    2.07  184.31     NaN     NaN     NaN\n",
       "2004              17.27     NaN  211.81     NaN     NaN     NaN\n",
       "2005             130.14     NaN  160.66     NaN     NaN    8.25\n",
       "2006             119.81     NaN  103.42   20.96  137.15   51.62\n",
       "2007             146.94     NaN   75.99   73.19  152.77   95.41\n",
       "2008             145.31     NaN   53.90  118.52  171.32  135.26\n",
       "2009             119.54     NaN   26.40  130.93  206.97  120.29\n",
       "2010              85.02     NaN    5.64  142.17  127.95  170.03\n",
       "2011              26.18     NaN    0.45  156.78   59.65  143.84\n",
       "2012              11.01     NaN     NaN  107.35   21.71   99.74\n",
       "2013               1.54     NaN     NaN  113.25    8.59   88.58\n",
       "2014                NaN     NaN     NaN   47.76    3.75   34.74\n",
       "2015                NaN     NaN     NaN   16.82    1.14   11.96\n",
       "2016                NaN     NaN     NaN    3.60    0.18    1.52"
      ]
     },
     "execution_count": 50,
     "metadata": {},
     "output_type": "execute_result"
    }
   ],
   "source": [
    "# проверим результат\n",
    "pivot_platform_years"
   ]
  },
  {
   "cell_type": "markdown",
   "id": "0be6a7ad-2ceb-4c73-8b56-20dcd3cb0b59",
   "metadata": {},
   "source": [
    "**Построим распределение по годам платформ с наибольшими суммарными продажами.**"
   ]
  },
  {
   "cell_type": "code",
   "execution_count": 53,
   "id": "9c4fc5eb-5b51-47ab-83d7-4a27b0886673",
   "metadata": {},
   "outputs": [
    {
     "data": {
      "image/png": "[encoded data removed]",
      "text/plain": [
       "<Figure size 720x288 with 1 Axes>"
      ]
     },
     "metadata": {
      "needs_background": "light"
     },
     "output_type": "display_data"
    }
   ],
   "source": [
    "pivot_platform_years.plot(figsize=(10, 4))\n",
    "plt.show()"
   ]
  },
  {
   "cell_type": "markdown",
   "id": "3a6a6d9d-d6f6-400b-a7c4-de048fa10291",
   "metadata": {},
   "source": [
    "**Из графика видно, что каждая платформа проходит жизненный цикл: этап выхода на рынок, пик продаж и исчезновение.**\n",
    "\n",
    "Так же из графика заметно, что с момента появления платформы до ее исчезновения проходит 10-12 лет. В последние годы существования платфом наблюдается спад продаж по всем платформам.\n",
    "Актуальность платформ DS, PS, PS2, Wii прошла."
   ]
  },
  {
   "cell_type": "markdown",
   "id": "708af7bb-229c-4230-91c1-f585d24c2190",
   "metadata": {},
   "source": [
    "### Актуальность данных"
   ]
  },
  {
   "cell_type": "markdown",
   "id": "7651fafa-aac1-43fb-851e-e52b86b12c9a",
   "metadata": {},
   "source": [
    "**Возьмем для исследования данные за актуальный период: 2014 - 2016 годы.**"
   ]
  },
  {
   "cell_type": "code",
   "execution_count": 54,
   "id": "5893394f-2607-4a65-89e0-449b47515605",
   "metadata": {},
   "outputs": [],
   "source": [
    "# сохраним датафрейм со строками с 2014 года и выше\n",
    "good_data = data.query(\"year_of_release>=2014\").copy()"
   ]
  },
  {
   "cell_type": "code",
   "execution_count": 55,
   "id": "7821e7ad-5611-4566-ba12-625bd57a67b2",
   "metadata": {},
   "outputs": [
    {
     "data": {
      "text/html": [
       "<div>\n",
       "<style scoped>\n",
       "    .dataframe tbody tr th:only-of-type {\n",
       "        vertical-align: middle;\n",
       "    }\n",
       "\n",
       "    .dataframe tbody tr th {\n",
       "        vertical-align: top;\n",
       "    }\n",
       "\n",
       "    .dataframe thead th {\n",
       "        text-align: right;\n",
       "    }\n",
       "</style>\n",
       "<table border=\"1\" class=\"dataframe\">\n",
       "  <thead>\n",
       "    <tr style=\"text-align: right;\">\n",
       "      <th></th>\n",
       "      <th>name</th>\n",
       "      <th>platform</th>\n",
       "      <th>year_of_release</th>\n",
       "      <th>genre</th>\n",
       "      <th>na_sales</th>\n",
       "      <th>eu_sales</th>\n",
       "      <th>jp_sales</th>\n",
       "      <th>other_sales</th>\n",
       "      <th>critic_score</th>\n",
       "      <th>user_score</th>\n",
       "      <th>rating</th>\n",
       "      <th>total_sales</th>\n",
       "    </tr>\n",
       "  </thead>\n",
       "  <tbody>\n",
       "    <tr>\n",
       "      <th>31</th>\n",
       "      <td>Call of Duty: Black Ops 3</td>\n",
       "      <td>PS4</td>\n",
       "      <td>2015</td>\n",
       "      <td>Shooter</td>\n",
       "      <td>6.03</td>\n",
       "      <td>5.86</td>\n",
       "      <td>0.36</td>\n",
       "      <td>2.38</td>\n",
       "      <td>NaN</td>\n",
       "      <td>NaN</td>\n",
       "      <td>NaN</td>\n",
       "      <td>14.63</td>\n",
       "    </tr>\n",
       "    <tr>\n",
       "      <th>42</th>\n",
       "      <td>Grand Theft Auto V</td>\n",
       "      <td>PS4</td>\n",
       "      <td>2014</td>\n",
       "      <td>Action</td>\n",
       "      <td>3.96</td>\n",
       "      <td>6.31</td>\n",
       "      <td>0.38</td>\n",
       "      <td>1.97</td>\n",
       "      <td>97.0</td>\n",
       "      <td>8.3</td>\n",
       "      <td>M</td>\n",
       "      <td>12.62</td>\n",
       "    </tr>\n",
       "    <tr>\n",
       "      <th>47</th>\n",
       "      <td>Pokemon Omega Ruby/Pokemon Alpha Sapphire</td>\n",
       "      <td>3DS</td>\n",
       "      <td>2014</td>\n",
       "      <td>Role-Playing</td>\n",
       "      <td>4.35</td>\n",
       "      <td>3.49</td>\n",
       "      <td>3.10</td>\n",
       "      <td>0.74</td>\n",
       "      <td>NaN</td>\n",
       "      <td>NaN</td>\n",
       "      <td>NaN</td>\n",
       "      <td>11.68</td>\n",
       "    </tr>\n",
       "    <tr>\n",
       "      <th>77</th>\n",
       "      <td>FIFA 16</td>\n",
       "      <td>PS4</td>\n",
       "      <td>2015</td>\n",
       "      <td>Sports</td>\n",
       "      <td>1.12</td>\n",
       "      <td>6.12</td>\n",
       "      <td>0.06</td>\n",
       "      <td>1.28</td>\n",
       "      <td>82.0</td>\n",
       "      <td>4.3</td>\n",
       "      <td>E</td>\n",
       "      <td>8.58</td>\n",
       "    </tr>\n",
       "    <tr>\n",
       "      <th>87</th>\n",
       "      <td>Star Wars Battlefront (2015)</td>\n",
       "      <td>PS4</td>\n",
       "      <td>2015</td>\n",
       "      <td>Shooter</td>\n",
       "      <td>2.99</td>\n",
       "      <td>3.49</td>\n",
       "      <td>0.22</td>\n",
       "      <td>1.28</td>\n",
       "      <td>NaN</td>\n",
       "      <td>NaN</td>\n",
       "      <td>NaN</td>\n",
       "      <td>7.98</td>\n",
       "    </tr>\n",
       "    <tr>\n",
       "      <th>92</th>\n",
       "      <td>Call of Duty: Advanced Warfare</td>\n",
       "      <td>PS4</td>\n",
       "      <td>2014</td>\n",
       "      <td>Shooter</td>\n",
       "      <td>2.81</td>\n",
       "      <td>3.48</td>\n",
       "      <td>0.14</td>\n",
       "      <td>1.23</td>\n",
       "      <td>83.0</td>\n",
       "      <td>5.7</td>\n",
       "      <td>M</td>\n",
       "      <td>7.66</td>\n",
       "    </tr>\n",
       "    <tr>\n",
       "      <th>94</th>\n",
       "      <td>FIFA 17</td>\n",
       "      <td>PS4</td>\n",
       "      <td>2016</td>\n",
       "      <td>Sports</td>\n",
       "      <td>0.66</td>\n",
       "      <td>5.75</td>\n",
       "      <td>0.08</td>\n",
       "      <td>1.11</td>\n",
       "      <td>85.0</td>\n",
       "      <td>5.0</td>\n",
       "      <td>E</td>\n",
       "      <td>7.60</td>\n",
       "    </tr>\n",
       "    <tr>\n",
       "      <th>96</th>\n",
       "      <td>Super Smash Bros. for Wii U and 3DS</td>\n",
       "      <td>3DS</td>\n",
       "      <td>2014</td>\n",
       "      <td>Fighting</td>\n",
       "      <td>3.27</td>\n",
       "      <td>1.37</td>\n",
       "      <td>2.43</td>\n",
       "      <td>0.48</td>\n",
       "      <td>NaN</td>\n",
       "      <td>NaN</td>\n",
       "      <td>NaN</td>\n",
       "      <td>7.55</td>\n",
       "    </tr>\n",
       "    <tr>\n",
       "      <th>99</th>\n",
       "      <td>Call of Duty: Black Ops 3</td>\n",
       "      <td>XOne</td>\n",
       "      <td>2015</td>\n",
       "      <td>Shooter</td>\n",
       "      <td>4.59</td>\n",
       "      <td>2.11</td>\n",
       "      <td>0.01</td>\n",
       "      <td>0.68</td>\n",
       "      <td>NaN</td>\n",
       "      <td>NaN</td>\n",
       "      <td>NaN</td>\n",
       "      <td>7.39</td>\n",
       "    </tr>\n",
       "    <tr>\n",
       "      <th>105</th>\n",
       "      <td>Fallout 4</td>\n",
       "      <td>PS4</td>\n",
       "      <td>2015</td>\n",
       "      <td>Role-Playing</td>\n",
       "      <td>2.53</td>\n",
       "      <td>3.27</td>\n",
       "      <td>0.24</td>\n",
       "      <td>1.13</td>\n",
       "      <td>87.0</td>\n",
       "      <td>6.5</td>\n",
       "      <td>M</td>\n",
       "      <td>7.17</td>\n",
       "    </tr>\n",
       "  </tbody>\n",
       "</table>\n",
       "</div>"
      ],
      "text/plain": [
       "                                          name platform  year_of_release  \\\n",
       "31                   Call of Duty: Black Ops 3      PS4             2015   \n",
       "42                          Grand Theft Auto V      PS4             2014   \n",
       "47   Pokemon Omega Ruby/Pokemon Alpha Sapphire      3DS             2014   \n",
       "77                                     FIFA 16      PS4             2015   \n",
       "87                Star Wars Battlefront (2015)      PS4             2015   \n",
       "92              Call of Duty: Advanced Warfare      PS4             2014   \n",
       "94                                     FIFA 17      PS4             2016   \n",
       "96         Super Smash Bros. for Wii U and 3DS      3DS             2014   \n",
       "99                   Call of Duty: Black Ops 3     XOne             2015   \n",
       "105                                  Fallout 4      PS4             2015   \n",
       "\n",
       "            genre  na_sales  eu_sales  jp_sales  other_sales  critic_score  \\\n",
       "31        Shooter      6.03      5.86      0.36         2.38           NaN   \n",
       "42         Action      3.96      6.31      0.38         1.97          97.0   \n",
       "47   Role-Playing      4.35      3.49      3.10         0.74           NaN   \n",
       "77         Sports      1.12      6.12      0.06         1.28          82.0   \n",
       "87        Shooter      2.99      3.49      0.22         1.28           NaN   \n",
       "92        Shooter      2.81      3.48      0.14         1.23          83.0   \n",
       "94         Sports      0.66      5.75      0.08         1.11          85.0   \n",
       "96       Fighting      3.27      1.37      2.43         0.48           NaN   \n",
       "99        Shooter      4.59      2.11      0.01         0.68           NaN   \n",
       "105  Role-Playing      2.53      3.27      0.24         1.13          87.0   \n",
       "\n",
       "     user_score rating  total_sales  \n",
       "31          NaN    NaN        14.63  \n",
       "42          8.3      M        12.62  \n",
       "47          NaN    NaN        11.68  \n",
       "77          4.3      E         8.58  \n",
       "87          NaN    NaN         7.98  \n",
       "92          5.7      M         7.66  \n",
       "94          5.0      E         7.60  \n",
       "96          NaN    NaN         7.55  \n",
       "99          NaN    NaN         7.39  \n",
       "105         6.5      M         7.17  "
      ]
     },
     "execution_count": 55,
     "metadata": {},
     "output_type": "execute_result"
    }
   ],
   "source": [
    "# проверим результат\n",
    "good_data.head(10)"
   ]
  },
  {
   "cell_type": "code",
   "execution_count": 56,
   "id": "84bcf262-8846-48c8-bf0a-ff5fbd04d1ee",
   "metadata": {},
   "outputs": [
    {
     "name": "stdout",
     "output_type": "stream",
     "text": [
      "<class 'pandas.core.frame.DataFrame'>\n",
      "Int64Index: 1689 entries, 31 to 16442\n",
      "Data columns (total 12 columns):\n",
      " #   Column           Non-Null Count  Dtype  \n",
      "---  ------           --------------  -----  \n",
      " 0   name             1689 non-null   object \n",
      " 1   platform         1689 non-null   object \n",
      " 2   year_of_release  1689 non-null   int64  \n",
      " 3   genre            1689 non-null   object \n",
      " 4   na_sales         1689 non-null   float64\n",
      " 5   eu_sales         1689 non-null   float64\n",
      " 6   jp_sales         1689 non-null   float64\n",
      " 7   other_sales      1689 non-null   float64\n",
      " 8   critic_score     718 non-null    float64\n",
      " 9   user_score       888 non-null    float64\n",
      " 10  rating           940 non-null    object \n",
      " 11  total_sales      1689 non-null   float64\n",
      "dtypes: float64(7), int64(1), object(4)\n",
      "memory usage: 171.5+ KB\n"
     ]
    }
   ],
   "source": [
    "# посмотрим на количество строк в новом датафрейме\n",
    "good_data.info()"
   ]
  },
  {
   "cell_type": "markdown",
   "id": "b0f1eb73-e760-44d1-97c3-7cba7cb5d44e",
   "metadata": {},
   "source": [
    "**Построим сводную таблицу продаж игр по платформам за период 2014-2016 гг.**"
   ]
  },
  {
   "cell_type": "code",
   "execution_count": 57,
   "id": "7198f626-2216-4396-ab34-fbfe6b3182e9",
   "metadata": {},
   "outputs": [],
   "source": [
    "good_data_pivot_platform = good_data.pivot_table(\n",
    "    index=\"platform\", columns=\"year_of_release\", values=\"total_sales\", aggfunc=\"sum\"\n",
    ")"
   ]
  },
  {
   "cell_type": "code",
   "execution_count": 58,
   "id": "18bd7598-397d-4906-9a58-3bbcee0e1cdd",
   "metadata": {},
   "outputs": [
    {
     "data": {
      "text/html": [
       "<div>\n",
       "<style scoped>\n",
       "    .dataframe tbody tr th:only-of-type {\n",
       "        vertical-align: middle;\n",
       "    }\n",
       "\n",
       "    .dataframe tbody tr th {\n",
       "        vertical-align: top;\n",
       "    }\n",
       "\n",
       "    .dataframe thead th {\n",
       "        text-align: right;\n",
       "    }\n",
       "</style>\n",
       "<table border=\"1\" class=\"dataframe\">\n",
       "  <thead>\n",
       "    <tr style=\"text-align: right;\">\n",
       "      <th>year_of_release</th>\n",
       "      <th>2014</th>\n",
       "      <th>2015</th>\n",
       "      <th>2016</th>\n",
       "    </tr>\n",
       "    <tr>\n",
       "      <th>platform</th>\n",
       "      <th></th>\n",
       "      <th></th>\n",
       "      <th></th>\n",
       "    </tr>\n",
       "  </thead>\n",
       "  <tbody>\n",
       "    <tr>\n",
       "      <th>3DS</th>\n",
       "      <td>43.76</td>\n",
       "      <td>27.78</td>\n",
       "      <td>15.14</td>\n",
       "    </tr>\n",
       "    <tr>\n",
       "      <th>PC</th>\n",
       "      <td>13.28</td>\n",
       "      <td>8.52</td>\n",
       "      <td>5.25</td>\n",
       "    </tr>\n",
       "    <tr>\n",
       "      <th>PS3</th>\n",
       "      <td>47.76</td>\n",
       "      <td>16.82</td>\n",
       "      <td>3.60</td>\n",
       "    </tr>\n",
       "    <tr>\n",
       "      <th>PS4</th>\n",
       "      <td>100.00</td>\n",
       "      <td>118.90</td>\n",
       "      <td>69.25</td>\n",
       "    </tr>\n",
       "    <tr>\n",
       "      <th>PSP</th>\n",
       "      <td>0.24</td>\n",
       "      <td>0.12</td>\n",
       "      <td>NaN</td>\n",
       "    </tr>\n",
       "    <tr>\n",
       "      <th>PSV</th>\n",
       "      <td>11.90</td>\n",
       "      <td>6.25</td>\n",
       "      <td>4.25</td>\n",
       "    </tr>\n",
       "    <tr>\n",
       "      <th>Wii</th>\n",
       "      <td>3.75</td>\n",
       "      <td>1.14</td>\n",
       "      <td>0.18</td>\n",
       "    </tr>\n",
       "    <tr>\n",
       "      <th>WiiU</th>\n",
       "      <td>22.03</td>\n",
       "      <td>16.35</td>\n",
       "      <td>4.60</td>\n",
       "    </tr>\n",
       "    <tr>\n",
       "      <th>X360</th>\n",
       "      <td>34.74</td>\n",
       "      <td>11.96</td>\n",
       "      <td>1.52</td>\n",
       "    </tr>\n",
       "    <tr>\n",
       "      <th>XOne</th>\n",
       "      <td>54.07</td>\n",
       "      <td>60.14</td>\n",
       "      <td>26.15</td>\n",
       "    </tr>\n",
       "  </tbody>\n",
       "</table>\n",
       "</div>"
      ],
      "text/plain": [
       "year_of_release    2014    2015   2016\n",
       "platform                              \n",
       "3DS               43.76   27.78  15.14\n",
       "PC                13.28    8.52   5.25\n",
       "PS3               47.76   16.82   3.60\n",
       "PS4              100.00  118.90  69.25\n",
       "PSP                0.24    0.12    NaN\n",
       "PSV               11.90    6.25   4.25\n",
       "Wii                3.75    1.14   0.18\n",
       "WiiU              22.03   16.35   4.60\n",
       "X360              34.74   11.96   1.52\n",
       "XOne              54.07   60.14  26.15"
      ]
     },
     "execution_count": 58,
     "metadata": {},
     "output_type": "execute_result"
    }
   ],
   "source": [
    "# проверим результат\n",
    "good_data_pivot_platform"
   ]
  },
  {
   "cell_type": "code",
   "execution_count": 59,
   "id": "e8a628d7-bb9a-4822-85cd-85b26d3520b5",
   "metadata": {},
   "outputs": [
    {
     "data": {
      "image/png": "[encoded data removed]",
      "text/plain": [
       "<Figure size 576x288 with 2 Axes>"
      ]
     },
     "metadata": {
      "needs_background": "light"
     },
     "output_type": "display_data"
    }
   ],
   "source": [
    "# построим тепловую карту для сводной таблицы\n",
    "plt.figure(figsize=(8, 4))\n",
    "sns.heatmap(\n",
    "    good_data_pivot_platform, linewidths=0.003, linecolor=\"grey\", cmap=\"viridis\"\n",
    ")\n",
    "plt.title(\"Тепловая карта продаж игр по годам и платформам (2014-2016 гг.)\")\n",
    "plt.xlabel(\"Годы\")\n",
    "plt.ylabel(\"Платформы\")\n",
    "plt.show()"
   ]
  },
  {
   "cell_type": "markdown",
   "id": "189ad1e0-2fb5-40e9-9ad6-2a094a35b295",
   "metadata": {},
   "source": [
    "**Наиболее потенциальные платформы для прогноза на 2017 год - платформы PS4 или XOne. Поскольку только у этих двух платформ в 2016 году продажи игр превысили 20 млн копий.**\n",
    "\n",
    "Все остальные платформы на финише своего жизненного цикла."
   ]
  },
  {
   "cell_type": "markdown",
   "id": "92272a83-430b-4f4e-ab2a-d22b6c789233",
   "metadata": {},
   "source": [
    "**Построим график распределения игр по платформам.**"
   ]
  },
  {
   "cell_type": "code",
   "execution_count": 60,
   "id": "5efd64f2-892b-4609-a43e-c44fe3320d21",
   "metadata": {},
   "outputs": [
    {
     "data": {
      "image/png": "[encoded data removed]",
      "text/plain": [
       "<Figure size 864x432 with 1 Axes>"
      ]
     },
     "metadata": {
      "needs_background": "light"
     },
     "output_type": "display_data"
    }
   ],
   "source": [
    "good_data_pivot_platform.plot(kind=\"bar\", figsize=(12, 6))\n",
    "plt.title(\"Распределение продаж игр по платформам (2014-2016 гг.)\")\n",
    "plt.xlabel(\"Платформа\")\n",
    "plt.ylabel(\"Общие продажи, млн копий\")\n",
    "plt.grid(color=\"grey\", axis=\"both\", alpha=0.5)\n",
    "plt.show()"
   ]
  },
  {
   "cell_type": "markdown",
   "id": "c8ef9e81-b1a0-470a-8504-ff7c9e75b797",
   "metadata": {},
   "source": [
    "**За актуальный период лидеры продаж (более 100 млн копий) платформы: PS4 и XOne.**"
   ]
  },
  {
   "cell_type": "markdown",
   "id": "9b4171e4-76ae-4422-8d9d-07ff150c3e69",
   "metadata": {},
   "source": [
    "**Построим график «ящик с усами» по глобальным продажам игр в разбивке по платформам.**"
   ]
  },
  {
   "cell_type": "code",
   "execution_count": 61,
   "id": "06a07155-8920-4644-ba1b-3e77095205a0",
   "metadata": {},
   "outputs": [
    {
     "data": {
      "image/png": "[encoded data removed]",
      "text/plain": [
       "<Figure size 1080x720 with 1 Axes>"
      ]
     },
     "metadata": {
      "needs_background": "light"
     },
     "output_type": "display_data"
    }
   ],
   "source": [
    "plt.figure(figsize=(15, 10))\n",
    "plt.xlim(0, 2)\n",
    "sns.boxplot(\n",
    "    x=\"total_sales\",\n",
    "    y=\"platform\",\n",
    "    data=good_data.query(\"platform == ['PS4', 'XOne', '3DS', 'PS3', 'X360', 'WiiU']\"),\n",
    ")\n",
    "plt.title(\"Глобальные продажи игр в разбивке по платформам (2014-2016 гг.)\")\n",
    "plt.ylabel(\"Платформа\")\n",
    "plt.xlabel(\"Общие продажи, млн копий\")\n",
    "plt.grid(True)\n",
    "plt.show()"
   ]
  },
  {
   "cell_type": "markdown",
   "id": "4c505b9e-0fe0-445b-9954-7f93676be008",
   "metadata": {},
   "source": [
    "**Столбчатая диаграмма показывает суммарные продажи всех игр по платформам. То есть в сумме PS4, XOne, 3DS, PS3 продали очень много игр. \n",
    "Боксплоты же больше показывают \"индивидуальные\" значения. То есть в среднем игры для платформы Wii продаются хорошо. Но, видимо, их выходит не так много как для PS4 и XOne, поэтому их суммарные продажи меньше.**"
   ]
  },
  {
   "cell_type": "markdown",
   "id": "63a9b0ba-59ea-4f6a-8329-83a69c894439",
   "metadata": {},
   "source": [
    "**Выводы:**\n",
    "\n",
    "**Наиболее потенциальные платформы для прогноза на 2017 год - платформы PS4 или XOne. Для аннализа данных используем актуальный период в 3 года: с 2014 по 2016 гг.**"
   ]
  },
  {
   "cell_type": "markdown",
   "id": "9dfc9a70-b735-40e0-82e2-943387a5344c",
   "metadata": {},
   "source": [
    "### Взаимосвязь между отзывами и продажами"
   ]
  },
  {
   "cell_type": "markdown",
   "id": "65e787b2-960e-4491-b5d2-700dc52b8b6a",
   "metadata": {},
   "source": [
    "**Посмотрим, как влияют на продажи внутри одной популярной платформы отзывы пользователей и критиков. Построим диаграмму рассеяния и узнаем корреляцию между отзывами и продажами.**"
   ]
  },
  {
   "cell_type": "code",
   "execution_count": 62,
   "id": "a86c4c79-bbc5-4b82-a375-e8d7cfe01551",
   "metadata": {},
   "outputs": [],
   "source": [
    "# создадим отдельную перемнную для данных только по платформе PS4\n",
    "good_data_ps4 = good_data[good_data[\"platform\"] == \"PS4\"]"
   ]
  },
  {
   "cell_type": "code",
   "execution_count": 63,
   "id": "ed8ba701-c11b-45f5-bd52-ca265df39ad5",
   "metadata": {},
   "outputs": [
    {
     "data": {
      "image/png": "[encoded data removed]",
      "text/plain": [
       "<Figure size 432x288 with 1 Axes>"
      ]
     },
     "metadata": {
      "needs_background": "light"
     },
     "output_type": "display_data"
    }
   ],
   "source": [
    "# выведем таблицу рассеяния по платформе PS4, отобразив отзывы пользователей\n",
    "good_data_ps4.plot(\n",
    "    x=\"user_score\",\n",
    "    y=\"total_sales\",\n",
    "    kind=\"scatter\",\n",
    "    grid=True,\n",
    ")\n",
    "plt.title(\n",
    "    \"Зависимость общих продаж компьютерных игр платформы PS4 от оценки пользователей\"\n",
    ")\n",
    "plt.ylabel(\"Общие продажи, млн копий\")\n",
    "plt.xlabel(\"Оценка пользователей\")\n",
    "plt.show()"
   ]
  },
  {
   "cell_type": "code",
   "execution_count": 64,
   "id": "bc8c95ff-401e-47b1-804d-02191f9063cc",
   "metadata": {},
   "outputs": [
    {
     "data": {
      "text/plain": [
       "-0.04"
      ]
     },
     "execution_count": 64,
     "metadata": {},
     "output_type": "execute_result"
    }
   ],
   "source": [
    "# посчитаем коэффициент корреляции между общими продажами и отзывами пользователей\n",
    "good_data_ps4[\"user_score\"].corr(good_data_ps4[\"total_sales\"]).round(2)"
   ]
  },
  {
   "cell_type": "markdown",
   "id": "922a577c-f91b-4079-8171-e991ba6e24e5",
   "metadata": {},
   "source": [
    "**Коэфициент Пирсона -0,04 говорит об очень слабой отрицательной зависимости общих продаж игр для платформы PS4 от оценок пользователей.**"
   ]
  },
  {
   "cell_type": "code",
   "execution_count": 65,
   "id": "97622b00-7747-4fdd-b76c-76822754e814",
   "metadata": {},
   "outputs": [
    {
     "data": {
      "image/png": "[encoded data removed]",
      "text/plain": [
       "<Figure size 432x288 with 1 Axes>"
      ]
     },
     "metadata": {
      "needs_background": "light"
     },
     "output_type": "display_data"
    }
   ],
   "source": [
    "# выведем таблицу рассеяния по платформе PS4, отобразив отзывы критиков\n",
    "good_data_ps4.plot(\n",
    "    x=\"critic_score\",\n",
    "    y=\"total_sales\",\n",
    "    kind=\"scatter\",\n",
    "    grid=True,\n",
    ")\n",
    "plt.title(\"Зависимость общих продаж компьютерных игр платформы PS4 от оценки критиков\")\n",
    "plt.ylabel(\"Общие продажи, млн копий\")\n",
    "plt.xlabel(\"Оценка критиков\")\n",
    "plt.show()"
   ]
  },
  {
   "cell_type": "code",
   "execution_count": 66,
   "id": "4ad24506-337e-42c9-a87c-f1ecdb4f28d7",
   "metadata": {},
   "outputs": [
    {
     "data": {
      "text/plain": [
       "0.4"
      ]
     },
     "execution_count": 66,
     "metadata": {},
     "output_type": "execute_result"
    }
   ],
   "source": [
    "# посчитаем коэффициент корреляции между общими продажами и отзывами критиков\n",
    "good_data_ps4[\"critic_score\"].corr(good_data_ps4[\"total_sales\"]).round(2)"
   ]
  },
  {
   "cell_type": "markdown",
   "id": "b9d08b00-09aa-4aeb-91be-be1b67f03c6c",
   "metadata": {},
   "source": [
    "**Коэфициент Пирсона 0,4 говорит о наличие неярко выраженной положительной зависимости общих продаж игр для платформы PS4 от оценок критиков.**"
   ]
  },
  {
   "cell_type": "markdown",
   "id": "74b96268-d089-4e59-881e-3eb6f28c6faa",
   "metadata": {},
   "source": [
    "**Соотнесем выводы с продажами игр на других платформах.**\n",
    "\n",
    "Построим графики рассеяния и посчитаем коэффициенты корреляции для других платформ: PS3, XOne, 3DS."
   ]
  },
  {
   "cell_type": "markdown",
   "id": "50f53c15-daf9-418b-9445-d09266caf002",
   "metadata": {},
   "source": [
    "**Построим графики рассеяния и посчитаем коэффициенты корреляции для платформы PS3.**"
   ]
  },
  {
   "cell_type": "code",
   "execution_count": 67,
   "id": "21d2db24-2ca9-4d34-bf48-362f9a9b240f",
   "metadata": {},
   "outputs": [],
   "source": [
    "# создадим отдельную перемнную для данных только по платформе PS3\n",
    "good_data_ps3 = good_data[good_data[\"platform\"] == \"PS3\"]"
   ]
  },
  {
   "cell_type": "code",
   "execution_count": 68,
   "id": "a5246024-8208-4811-b10e-2825bb5542b7",
   "metadata": {},
   "outputs": [
    {
     "data": {
      "image/png": "[encoded data removed]",
      "text/plain": [
       "<Figure size 432x288 with 1 Axes>"
      ]
     },
     "metadata": {
      "needs_background": "light"
     },
     "output_type": "display_data"
    }
   ],
   "source": [
    "# выведем таблицу рассеяния по платформе PS3, отобразив отзывы пользователей\n",
    "good_data_ps3.plot(\n",
    "    x=\"user_score\",\n",
    "    y=\"total_sales\",\n",
    "    kind=\"scatter\",\n",
    "    grid=True,\n",
    ")\n",
    "plt.title(\n",
    "    \"Зависимость общих продаж компьютерных игр платформы PS3 от оценки пользователей\"\n",
    ")\n",
    "plt.ylabel(\"Общие продажи, млн копий\")\n",
    "plt.xlabel(\"Оценка пользователей\")\n",
    "plt.show()"
   ]
  },
  {
   "cell_type": "code",
   "execution_count": 69,
   "id": "b14e4bd6-4f7f-4838-9413-27b12b620d6f",
   "metadata": {},
   "outputs": [
    {
     "data": {
      "text/plain": [
       "-0.17"
      ]
     },
     "execution_count": 69,
     "metadata": {},
     "output_type": "execute_result"
    }
   ],
   "source": [
    "# посчитаем коэффициент корреляции между общими продажами и отзывами пользователей\n",
    "good_data_ps3[\"user_score\"].corr(good_data_ps3[\"total_sales\"]).round(2)"
   ]
  },
  {
   "cell_type": "markdown",
   "id": "5e875170-205a-4720-b546-ba0309e406fb",
   "metadata": {},
   "source": [
    "**Коэфициент Пирсона -0,17 говорит о слабой отрицательной зависимости общих продаж игр для платформы PS3 от оценок пользователей.**"
   ]
  },
  {
   "cell_type": "code",
   "execution_count": 70,
   "id": "e3b59984-6fbb-45f8-96a2-8ba1cedf6eba",
   "metadata": {},
   "outputs": [
    {
     "data": {
      "image/png": "[encoded data removed]",
      "text/plain": [
       "<Figure size 432x288 with 1 Axes>"
      ]
     },
     "metadata": {
      "needs_background": "light"
     },
     "output_type": "display_data"
    }
   ],
   "source": [
    "# выведем таблицу рассеяния по платформе PS3, отобразив отзывы критиков\n",
    "good_data_ps3.plot(\n",
    "    x=\"critic_score\",\n",
    "    y=\"total_sales\",\n",
    "    kind=\"scatter\",\n",
    "    grid=True,\n",
    ")\n",
    "plt.title(\"Зависимость общих продаж компьютерных игр платформы PS3 от оценки критиков\")\n",
    "plt.ylabel(\"Общие продажи, млн копий\")\n",
    "plt.xlabel(\"Оценка критиков\")\n",
    "plt.show()"
   ]
  },
  {
   "cell_type": "code",
   "execution_count": 71,
   "id": "89c287c3-466c-4307-ab29-44ac4ed84f47",
   "metadata": {},
   "outputs": [
    {
     "data": {
      "text/plain": [
       "0.45"
      ]
     },
     "execution_count": 71,
     "metadata": {},
     "output_type": "execute_result"
    }
   ],
   "source": [
    "# посчитаем коэффициент корреляции между общими продажами и отзывами критиков\n",
    "good_data_ps3[\"critic_score\"].corr(good_data_ps3[\"total_sales\"]).round(2)"
   ]
  },
  {
   "cell_type": "markdown",
   "id": "9958fdfe-e9ed-4e88-838e-694f8978a113",
   "metadata": {},
   "source": [
    "**Коэфициент Пирсона 0,45 говорит о наличие неярко выраженной положительной зависимости общих продаж игр для платформы PS3 от оценок критиков.**"
   ]
  },
  {
   "cell_type": "markdown",
   "id": "e2353960-8c58-48e0-a4dc-5c2b50bc4422",
   "metadata": {},
   "source": [
    "**Построим графики рассеяния и посчитаем коэффициенты корреляции для платформы XOne.**"
   ]
  },
  {
   "cell_type": "code",
   "execution_count": 72,
   "id": "70c2ac93-5554-461f-9e9f-47a6c96ae332",
   "metadata": {},
   "outputs": [],
   "source": [
    "# создадим отдельную перемнную для данных только по платформе XOne\n",
    "good_data_xone = good_data[good_data[\"platform\"] == \"XOne\"]"
   ]
  },
  {
   "cell_type": "code",
   "execution_count": 73,
   "id": "b6e832ec-af7c-4d08-ae7a-c9b6c0373071",
   "metadata": {},
   "outputs": [
    {
     "data": {
      "image/png": "[encoded data removed]",
      "text/plain": [
       "<Figure size 432x288 with 1 Axes>"
      ]
     },
     "metadata": {
      "needs_background": "light"
     },
     "output_type": "display_data"
    }
   ],
   "source": [
    "# выведем таблицу рассеяния по платформе XOne, отобразив отзывы пользователей\n",
    "good_data_xone.plot(\n",
    "    x=\"user_score\",\n",
    "    y=\"total_sales\",\n",
    "    kind=\"scatter\",\n",
    "    grid=True,\n",
    ")\n",
    "plt.title(\n",
    "    \"Зависимость общих продаж компьютерных игр платформы XOne от оценки пользователей\"\n",
    ")\n",
    "plt.ylabel(\"Общие продажи, млн копий\")\n",
    "plt.xlabel(\"Оценка пользователей\")\n",
    "plt.show()"
   ]
  },
  {
   "cell_type": "code",
   "execution_count": 74,
   "id": "759344da-0388-49dc-8142-7c7b45002264",
   "metadata": {},
   "outputs": [
    {
     "data": {
      "text/plain": [
       "-0.07"
      ]
     },
     "execution_count": 74,
     "metadata": {},
     "output_type": "execute_result"
    }
   ],
   "source": [
    "# посчитаем коэффициент корреляции между общими продажами и отзывами пользователей\n",
    "good_data_xone[\"user_score\"].corr(good_data_xone[\"total_sales\"]).round(2)"
   ]
  },
  {
   "cell_type": "markdown",
   "id": "add0bec8-6694-41d1-b590-9ba389432882",
   "metadata": {},
   "source": [
    "**Коэфициент Пирсона -0,07 говорит об очень слабой отрицательной зависимости общих продаж игр для платформы XOne от оценок пользователей.**"
   ]
  },
  {
   "cell_type": "code",
   "execution_count": 75,
   "id": "d447b583-d1ee-43c9-adc6-5cf86b79bd99",
   "metadata": {},
   "outputs": [
    {
     "data": {
      "image/png": "[encoded data removed]",
      "text/plain": [
       "<Figure size 432x288 with 1 Axes>"
      ]
     },
     "metadata": {
      "needs_background": "light"
     },
     "output_type": "display_data"
    }
   ],
   "source": [
    "# выведем таблицу рассеяния по платформе XOne, отобразив отзывы критиков\n",
    "good_data_xone.plot(\n",
    "    x=\"critic_score\",\n",
    "    y=\"total_sales\",\n",
    "    kind=\"scatter\",\n",
    "    grid=True,\n",
    ")\n",
    "plt.title(\"Зависимость общих продаж компьютерных игр платформы XOne от оценки критиков\")\n",
    "plt.ylabel(\"Общие продажи, млн копий\")\n",
    "plt.xlabel(\"Оценка критиков\")\n",
    "plt.show()"
   ]
  },
  {
   "cell_type": "code",
   "execution_count": 76,
   "id": "a2849b77-3d50-45f2-845f-6b37ca470509",
   "metadata": {},
   "outputs": [
    {
     "data": {
      "text/plain": [
       "0.43"
      ]
     },
     "execution_count": 76,
     "metadata": {},
     "output_type": "execute_result"
    }
   ],
   "source": [
    "# посчитаем коэффициент корреляции между общими продажами и отзывами критиков\n",
    "good_data_xone[\"critic_score\"].corr(good_data_xone[\"total_sales\"]).round(2)"
   ]
  },
  {
   "cell_type": "markdown",
   "id": "def1883f-463f-4676-8df5-7a22db3f95c0",
   "metadata": {},
   "source": [
    "**Коэфициент Пирсона 0,43 говорит о наличие неярко выраженной положительной зависимости общих продаж игр для платформы XOne от оценок критиков.**"
   ]
  },
  {
   "cell_type": "markdown",
   "id": "84e371e6-a642-4da8-8287-4bab88a2fa80",
   "metadata": {},
   "source": [
    "**Построим графики рассеяния и посчитаем коэффициенты корреляции для платформы 3DS.**"
   ]
  },
  {
   "cell_type": "code",
   "execution_count": 77,
   "id": "3fcbd71f-19a2-4202-a6c7-d14bde7cad17",
   "metadata": {},
   "outputs": [],
   "source": [
    "# создадим отдельную перемнную для данных только по платформе 3DS\n",
    "good_data_3ds = good_data[good_data[\"platform\"] == \"3DS\"]"
   ]
  },
  {
   "cell_type": "code",
   "execution_count": 78,
   "id": "c9412ac1-332d-42ea-9674-4aaafdf3c2a3",
   "metadata": {},
   "outputs": [
    {
     "data": {
      "image/png": "[encoded data removed]",
      "text/plain": [
       "<Figure size 432x288 with 1 Axes>"
      ]
     },
     "metadata": {
      "needs_background": "light"
     },
     "output_type": "display_data"
    }
   ],
   "source": [
    "# выведем таблицу рассеяния по платформе 3DS, отобразив отзывы пользователей\n",
    "good_data_3ds.plot(\n",
    "    x=\"user_score\",\n",
    "    y=\"total_sales\",\n",
    "    kind=\"scatter\",\n",
    "    grid=True,\n",
    ")\n",
    "plt.title(\n",
    "    \"Зависимость общих продаж компьютерных игр платформы 3DS от оценки пользователей\"\n",
    ")\n",
    "plt.ylabel(\"Общие продажи, млн копий\")\n",
    "plt.xlabel(\"Оценка пользователей\")\n",
    "plt.show()"
   ]
  },
  {
   "cell_type": "code",
   "execution_count": 79,
   "id": "e618d902-6eff-41fc-9a43-b59b7e77281a",
   "metadata": {},
   "outputs": [
    {
     "data": {
      "text/plain": [
       "0.22"
      ]
     },
     "execution_count": 79,
     "metadata": {},
     "output_type": "execute_result"
    }
   ],
   "source": [
    "# посчитаем коэффициент корреляции между общими продажами и отзывами пользователей\n",
    "good_data_3ds[\"user_score\"].corr(good_data_3ds[\"total_sales\"]).round(2)"
   ]
  },
  {
   "cell_type": "markdown",
   "id": "079b4823-13a9-4b0d-995e-be28ba172394",
   "metadata": {},
   "source": [
    "**Коэфициент Пирсона 0,22 говорит о наличие слабой положительной зависимости общих продаж игр для платформы 3DS от оценок пользователей.**"
   ]
  },
  {
   "cell_type": "code",
   "execution_count": 80,
   "id": "7d14f04b-2273-4e11-9e37-a363a3dffbf5",
   "metadata": {},
   "outputs": [
    {
     "data": {
      "image/png": "[encoded data removed]",
      "text/plain": [
       "<Figure size 432x288 with 1 Axes>"
      ]
     },
     "metadata": {
      "needs_background": "light"
     },
     "output_type": "display_data"
    }
   ],
   "source": [
    "# выведем таблицу рассеяния по платформе 3DS, отобразив отзывы критиков\n",
    "good_data_3ds.plot(\n",
    "    x=\"critic_score\",\n",
    "    y=\"total_sales\",\n",
    "    kind=\"scatter\",\n",
    "    grid=True,\n",
    ")\n",
    "plt.title(\"Зависимость общих продаж компьютерных игр платформы 3DS от оценки критиков\")\n",
    "plt.ylabel(\"Общие продажи, млн копий\")\n",
    "plt.xlabel(\"Оценка критиков\")\n",
    "plt.show()"
   ]
  },
  {
   "cell_type": "code",
   "execution_count": 81,
   "id": "85ae57fd-48e6-424a-aadb-e9670f8c0d8c",
   "metadata": {},
   "outputs": [
    {
     "data": {
      "text/plain": [
       "0.31"
      ]
     },
     "execution_count": 81,
     "metadata": {},
     "output_type": "execute_result"
    }
   ],
   "source": [
    "# посчитаем коэффициент корреляции между общими продажами и отзывами критиков\n",
    "good_data_3ds[\"critic_score\"].corr(good_data_3ds[\"total_sales\"]).round(2)"
   ]
  },
  {
   "cell_type": "markdown",
   "id": "0c6fa9dd-83ef-4660-9868-f064dea67e66",
   "metadata": {},
   "source": [
    "**Коэфициент Пирсона 0,31 говорит о наличие слабой положительной зависимости общих продаж игр для платформы 3DS от оценок критиков.**"
   ]
  },
  {
   "cell_type": "markdown",
   "id": "dbd154fb-e38a-425c-abcd-ddf342a4d85f",
   "metadata": {},
   "source": [
    "**Выводы:**\n",
    "\n",
    "**Таким образом, у трех платформ PS4, PS3, XOne зависимость от оценок пользователей отрицательная практически отсутствующая, у 3DS положительная слабая.\n",
    "Зависимость продаж от оценок критиков у трех платформ практически одинаковая положительная неярко выраженная, у 3DS немного меньше.**\n",
    "\n",
    "Оценки пользователей практически не влиляют на продажи игр, оценки критиков оказывают небольшое влияние."
   ]
  },
  {
   "cell_type": "markdown",
   "id": "b1df18fc-7865-4270-a825-75bcce1abde9",
   "metadata": {},
   "source": [
    "### Распределение продаж игр по жанрам"
   ]
  },
  {
   "cell_type": "markdown",
   "id": "8f5606ad-359e-4205-aa20-fc6767656940",
   "metadata": {},
   "source": [
    "**Посмотрим на общее распределение игр по жанрам.**"
   ]
  },
  {
   "cell_type": "code",
   "execution_count": 82,
   "id": "bb7bdd33-f2b2-45c4-b9ac-f5c19289e0ae",
   "metadata": {},
   "outputs": [],
   "source": [
    "# сформируем сводную таблицу общих продаж игр по жанрам\n",
    "# good_data_pivot_genre = good_data.pivot_table(\n",
    "#    index=\"genre\", values=\"total_sales\", aggfunc=\"sum\"\n",
    "# ).sort_values(\"total_sales\", ascending=False)"
   ]
  },
  {
   "cell_type": "code",
   "execution_count": 83,
   "id": "63672fce-16b3-4026-8f92-0e98ff302bcd",
   "metadata": {},
   "outputs": [],
   "source": [
    "# сформируем сводную таблицу продаж (используем средние значения) игр по жанрам\n",
    "good_data_pivot_genre = good_data.pivot_table(\n",
    "    index=\"genre\", values=\"total_sales\", aggfunc=\"mean\"\n",
    ").sort_values(\"total_sales\", ascending=False)"
   ]
  },
  {
   "cell_type": "code",
   "execution_count": 84,
   "id": "fdd8e257-28de-4af8-8928-298e795c3284",
   "metadata": {},
   "outputs": [
    {
     "data": {
      "text/html": [
       "<div>\n",
       "<style scoped>\n",
       "    .dataframe tbody tr th:only-of-type {\n",
       "        vertical-align: middle;\n",
       "    }\n",
       "\n",
       "    .dataframe tbody tr th {\n",
       "        vertical-align: top;\n",
       "    }\n",
       "\n",
       "    .dataframe thead th {\n",
       "        text-align: right;\n",
       "    }\n",
       "</style>\n",
       "<table border=\"1\" class=\"dataframe\">\n",
       "  <thead>\n",
       "    <tr style=\"text-align: right;\">\n",
       "      <th></th>\n",
       "      <th>total_sales</th>\n",
       "    </tr>\n",
       "    <tr>\n",
       "      <th>genre</th>\n",
       "      <th></th>\n",
       "    </tr>\n",
       "  </thead>\n",
       "  <tbody>\n",
       "    <tr>\n",
       "      <th>Shooter</th>\n",
       "      <td>1.335469</td>\n",
       "    </tr>\n",
       "    <tr>\n",
       "      <th>Sports</th>\n",
       "      <td>0.680000</td>\n",
       "    </tr>\n",
       "    <tr>\n",
       "      <th>Platform</th>\n",
       "      <td>0.476053</td>\n",
       "    </tr>\n",
       "    <tr>\n",
       "      <th>Fighting</th>\n",
       "      <td>0.470333</td>\n",
       "    </tr>\n",
       "    <tr>\n",
       "      <th>Role-Playing</th>\n",
       "      <td>0.459005</td>\n",
       "    </tr>\n",
       "    <tr>\n",
       "      <th>Racing</th>\n",
       "      <td>0.398841</td>\n",
       "    </tr>\n",
       "    <tr>\n",
       "      <th>Misc</th>\n",
       "      <td>0.332301</td>\n",
       "    </tr>\n",
       "    <tr>\n",
       "      <th>Action</th>\n",
       "      <td>0.322068</td>\n",
       "    </tr>\n",
       "    <tr>\n",
       "      <th>Simulation</th>\n",
       "      <td>0.298409</td>\n",
       "    </tr>\n",
       "    <tr>\n",
       "      <th>Puzzle</th>\n",
       "      <td>0.157857</td>\n",
       "    </tr>\n",
       "    <tr>\n",
       "      <th>Strategy</th>\n",
       "      <td>0.107027</td>\n",
       "    </tr>\n",
       "    <tr>\n",
       "      <th>Adventure</th>\n",
       "      <td>0.094865</td>\n",
       "    </tr>\n",
       "  </tbody>\n",
       "</table>\n",
       "</div>"
      ],
      "text/plain": [
       "              total_sales\n",
       "genre                    \n",
       "Shooter          1.335469\n",
       "Sports           0.680000\n",
       "Platform         0.476053\n",
       "Fighting         0.470333\n",
       "Role-Playing     0.459005\n",
       "Racing           0.398841\n",
       "Misc             0.332301\n",
       "Action           0.322068\n",
       "Simulation       0.298409\n",
       "Puzzle           0.157857\n",
       "Strategy         0.107027\n",
       "Adventure        0.094865"
      ]
     },
     "execution_count": 84,
     "metadata": {},
     "output_type": "execute_result"
    }
   ],
   "source": [
    "# проверим результат\n",
    "good_data_pivot_genre"
   ]
  },
  {
   "cell_type": "markdown",
   "id": "e868dc8c-6b76-4b9b-9ea7-eb2b11803708",
   "metadata": {},
   "source": [
    "**Построим график распределения игр по жанрам.**"
   ]
  },
  {
   "cell_type": "code",
   "execution_count": 85,
   "id": "1a1d8ccf-554d-49a4-9049-20b9c6f790dd",
   "metadata": {},
   "outputs": [
    {
     "data": {
      "image/png": "[encoded data removed]",
      "text/plain": [
       "<Figure size 936x360 with 1 Axes>"
      ]
     },
     "metadata": {
      "needs_background": "light"
     },
     "output_type": "display_data"
    }
   ],
   "source": [
    "good_data_pivot_genre[\"total_sales\"].plot(\n",
    "    kind=\"barh\", figsize=(13, 5), color=\"steelblue\"\n",
    ")\n",
    "plt.title(\"Распределение продаж игр по жанрам (2014-2016 гг.)\")\n",
    "plt.xlabel(\"Жанр\")\n",
    "plt.ylabel(\"Общие продажи, млн копий\")\n",
    "mean_sales = good_data_pivot_genre[\"total_sales\"].mean()\n",
    "median_sales = good_data_pivot_genre[\"total_sales\"].median()\n",
    "plt.axvline(mean_sales, color=\"r\", linestyle=\"--\", label=f\"Среднее: {mean_sales:.2f}\")\n",
    "plt.axvline(\n",
    "    median_sales, color=\"g\", linestyle=\"-\", label=f\"Медиана: {median_sales:.2f}\"\n",
    ")\n",
    "plt.legend()\n",
    "plt.show()"
   ]
  },
  {
   "cell_type": "markdown",
   "id": "706376b6-25a2-4de5-988d-cccbadcf086a",
   "metadata": {},
   "source": [
    "**Из графика видно, что больше всего игр продается в жанре Shooter.  Так же выше среднего продажи у игр в жанре Sports, Platform, Fighting, Role-Playing.**\n",
    "\n",
    "Есть жанры и с низкими продажами: Adventure и Strategy."
   ]
  },
  {
   "cell_type": "code",
   "execution_count": 86,
   "id": "1b03802b-ab44-4539-9f47-ee6cbf051ec1",
   "metadata": {},
   "outputs": [],
   "source": [
    "# **Из графика видно, что больше всего игр продается в жанре Acton.  Так же выше среднего продажи у игр в жанре Shooter, Sports, Role-Playing.**\n",
    "\n",
    "# Есть жанры и с низкими продажами: Puzzle и Strategy."
   ]
  },
  {
   "cell_type": "markdown",
   "id": "72423fea-99e3-49e6-b234-af5a0d530300",
   "metadata": {},
   "source": [
    "## Портрет пользователя каждого региона"
   ]
  },
  {
   "cell_type": "markdown",
   "id": "ad5cbe5e-2292-4046-8289-c5f01e5d42d2",
   "metadata": {},
   "source": [
    "**Определим для пользователя каждого региона (NA, EU, JP):**\n",
    "- Самые популярные платформы (топ-5).\n",
    "- Самые популярные жанры (топ-5).\n",
    "- Влияет ли рейтинг ESRB на продажи в отдельном регионе?"
   ]
  },
  {
   "cell_type": "markdown",
   "id": "87e073c4-eecd-4928-8eff-faded993110a",
   "metadata": {},
   "source": [
    "### Топ-5 самых популярных платформ для каждого региона"
   ]
  },
  {
   "cell_type": "markdown",
   "id": "e9c1e4fb-8049-440b-8f47-127272eacec0",
   "metadata": {},
   "source": [
    "**Построим сводную таблицу продаж игр по платформам в Северной Америке (NA).**"
   ]
  },
  {
   "cell_type": "code",
   "execution_count": 87,
   "id": "1c917394-9e0e-41e8-b3a6-7ded0b2e77eb",
   "metadata": {},
   "outputs": [],
   "source": [
    "# построим сводную таблицу продаж игр по платформам\n",
    "pivot_platform_na = (\n",
    "    good_data.pivot_table(index=\"platform\", values=[\"na_sales\"], aggfunc=\"sum\")\n",
    "    .sort_values(\"na_sales\", ascending=False)\n",
    "    .head(5)\n",
    ")"
   ]
  },
  {
   "cell_type": "code",
   "execution_count": 88,
   "id": "91fd705b-0332-45b0-99af-c5432cf3418b",
   "metadata": {},
   "outputs": [
    {
     "data": {
      "text/html": [
       "<div>\n",
       "<style scoped>\n",
       "    .dataframe tbody tr th:only-of-type {\n",
       "        vertical-align: middle;\n",
       "    }\n",
       "\n",
       "    .dataframe tbody tr th {\n",
       "        vertical-align: top;\n",
       "    }\n",
       "\n",
       "    .dataframe thead th {\n",
       "        text-align: right;\n",
       "    }\n",
       "</style>\n",
       "<table border=\"1\" class=\"dataframe\">\n",
       "  <thead>\n",
       "    <tr style=\"text-align: right;\">\n",
       "      <th></th>\n",
       "      <th>na_sales</th>\n",
       "    </tr>\n",
       "    <tr>\n",
       "      <th>platform</th>\n",
       "      <th></th>\n",
       "    </tr>\n",
       "  </thead>\n",
       "  <tbody>\n",
       "    <tr>\n",
       "      <th>PS4</th>\n",
       "      <td>98.61</td>\n",
       "    </tr>\n",
       "    <tr>\n",
       "      <th>XOne</th>\n",
       "      <td>81.27</td>\n",
       "    </tr>\n",
       "    <tr>\n",
       "      <th>X360</th>\n",
       "      <td>28.30</td>\n",
       "    </tr>\n",
       "    <tr>\n",
       "      <th>3DS</th>\n",
       "      <td>22.64</td>\n",
       "    </tr>\n",
       "    <tr>\n",
       "      <th>PS3</th>\n",
       "      <td>22.05</td>\n",
       "    </tr>\n",
       "  </tbody>\n",
       "</table>\n",
       "</div>"
      ],
      "text/plain": [
       "          na_sales\n",
       "platform          \n",
       "PS4          98.61\n",
       "XOne         81.27\n",
       "X360         28.30\n",
       "3DS          22.64\n",
       "PS3          22.05"
      ]
     },
     "execution_count": 88,
     "metadata": {},
     "output_type": "execute_result"
    }
   ],
   "source": [
    "# проверим результат\n",
    "pivot_platform_na"
   ]
  },
  {
   "cell_type": "markdown",
   "id": "ebdd72ac-fa8d-49dd-b5c1-2245eccf6d2a",
   "metadata": {},
   "source": [
    "**Построим график топ-5 популярных платформ в Северной Америке.**"
   ]
  },
  {
   "cell_type": "code",
   "execution_count": 89,
   "id": "b60f4b66-f19b-417c-9dbd-9edc89b69eb8",
   "metadata": {},
   "outputs": [
    {
     "data": {
      "image/png": "[encoded data removed]",
      "text/plain": [
       "<Figure size 864x360 with 1 Axes>"
      ]
     },
     "metadata": {
      "needs_background": "light"
     },
     "output_type": "display_data"
    }
   ],
   "source": [
    "pivot_platform_na[\"na_sales\"].plot(kind=\"barh\", figsize=(12, 5), color=\"steelblue\")\n",
    "plt.title(\"Топ-5 самых популярных платформ в Северной Америке (2014-2016 гг.)\")\n",
    "plt.xlabel(\"Продажи, млн копий\")\n",
    "plt.ylabel(\"Платформа\")\n",
    "mean_sales = pivot_platform_na[\"na_sales\"].mean()\n",
    "median_sales = pivot_platform_na[\"na_sales\"].median()\n",
    "plt.axvline(mean_sales, color=\"r\", linestyle=\"--\", label=f\"Среднее: {mean_sales:.2f}\")\n",
    "plt.axvline(\n",
    "    median_sales, color=\"g\", linestyle=\"-\", label=f\"Медиана: {median_sales:.2f}\"\n",
    ")\n",
    "plt.legend()\n",
    "plt.show()"
   ]
  },
  {
   "cell_type": "markdown",
   "id": "819d6567-a894-4ef4-928e-5a4717e1b75a",
   "metadata": {},
   "source": [
    "**Лидеры-платформы в Северной Америке - PS4 и XOne.**\n",
    "\n",
    "\n",
    "Продажи игр для этих платформ составили более 80 млн копий. Продажи для платформы X360 составили около 28 млн копий, что совпадает с медианным значением продаж по платформам в Северной Америке.\n",
    "PS3 и 3DS наименее по популярности платформы.  "
   ]
  },
  {
   "cell_type": "code",
   "execution_count": 90,
   "id": "4b503bf0-f85a-41da-8743-32960684e223",
   "metadata": {},
   "outputs": [],
   "source": [
    "# создадим переменную и сохраним в ней цвета для графиков\n",
    "colors = [\"yellow\", \"Limegreen\", \"teal\", \"steelblue\", \"darkslateblue\"]"
   ]
  },
  {
   "cell_type": "markdown",
   "id": "ad7fb8e3-dbd0-49a0-8ce7-d9df2cb32578",
   "metadata": {},
   "source": [
    "**Для визуализации долей популярных платформ воспользуемся круговой диаграммой.**"
   ]
  },
  {
   "cell_type": "code",
   "execution_count": 91,
   "id": "83938c13-16e8-47db-ac61-59de76e13e13",
   "metadata": {},
   "outputs": [
    {
     "data": {
      "image/png": "[encoded data removed]",
      "text/plain": [
       "<Figure size 432x432 with 1 Axes>"
      ]
     },
     "metadata": {},
     "output_type": "display_data"
    }
   ],
   "source": [
    "# построим круговую диаграмму\n",
    "pivot_platform_na[\"na_sales\"].plot(\n",
    "    kind=\"pie\", figsize=(6, 6), autopct=\"%1.0f%%\", colors=colors\n",
    ")\n",
    "plt.title(\"Доли топ-5 самых популярных платформ в Северной Америке (2014-2016 гг.)\")\n",
    "plt.show()"
   ]
  },
  {
   "cell_type": "markdown",
   "id": "60b02958-ec95-4806-9874-b221c8fc80e9",
   "metadata": {},
   "source": [
    "**Доли самых популярных платформ в Северной Америке PS4 и XOne занимают 39% и 32% соответственно.**\n"
   ]
  },
  {
   "cell_type": "markdown",
   "id": "3a7a5582-f418-458d-b315-1499a80520d2",
   "metadata": {},
   "source": [
    "**Построим сводную таблицу продаж игр по платформам в Европе (EU).**"
   ]
  },
  {
   "cell_type": "code",
   "execution_count": 92,
   "id": "ea2cc306-5450-4916-9f43-fd3cb7868af4",
   "metadata": {},
   "outputs": [],
   "source": [
    "# построим сводную таблицу продаж игр по платформам\n",
    "pivot_platform_eu = (\n",
    "    good_data.pivot_table(index=\"platform\", values=[\"eu_sales\"], aggfunc=\"sum\")\n",
    "    .sort_values(\"eu_sales\", ascending=False)\n",
    "    .head(5)\n",
    ")"
   ]
  },
  {
   "cell_type": "code",
   "execution_count": 93,
   "id": "8797fdc0-3e67-4157-9d9e-23e050431415",
   "metadata": {},
   "outputs": [
    {
     "data": {
      "text/html": [
       "<div>\n",
       "<style scoped>\n",
       "    .dataframe tbody tr th:only-of-type {\n",
       "        vertical-align: middle;\n",
       "    }\n",
       "\n",
       "    .dataframe tbody tr th {\n",
       "        vertical-align: top;\n",
       "    }\n",
       "\n",
       "    .dataframe thead th {\n",
       "        text-align: right;\n",
       "    }\n",
       "</style>\n",
       "<table border=\"1\" class=\"dataframe\">\n",
       "  <thead>\n",
       "    <tr style=\"text-align: right;\">\n",
       "      <th></th>\n",
       "      <th>eu_sales</th>\n",
       "    </tr>\n",
       "    <tr>\n",
       "      <th>platform</th>\n",
       "      <th></th>\n",
       "    </tr>\n",
       "  </thead>\n",
       "  <tbody>\n",
       "    <tr>\n",
       "      <th>PS4</th>\n",
       "      <td>130.04</td>\n",
       "    </tr>\n",
       "    <tr>\n",
       "      <th>XOne</th>\n",
       "      <td>46.25</td>\n",
       "    </tr>\n",
       "    <tr>\n",
       "      <th>PS3</th>\n",
       "      <td>25.54</td>\n",
       "    </tr>\n",
       "    <tr>\n",
       "      <th>PC</th>\n",
       "      <td>17.97</td>\n",
       "    </tr>\n",
       "    <tr>\n",
       "      <th>3DS</th>\n",
       "      <td>16.12</td>\n",
       "    </tr>\n",
       "  </tbody>\n",
       "</table>\n",
       "</div>"
      ],
      "text/plain": [
       "          eu_sales\n",
       "platform          \n",
       "PS4         130.04\n",
       "XOne         46.25\n",
       "PS3          25.54\n",
       "PC           17.97\n",
       "3DS          16.12"
      ]
     },
     "execution_count": 93,
     "metadata": {},
     "output_type": "execute_result"
    }
   ],
   "source": [
    "# проверим результат\n",
    "pivot_platform_eu"
   ]
  },
  {
   "cell_type": "markdown",
   "id": "af7826d2-67a4-4e18-b042-54f4a248b0f7",
   "metadata": {},
   "source": [
    "**Построим график топ-5 популярных платформ в Европе.**"
   ]
  },
  {
   "cell_type": "code",
   "execution_count": 94,
   "id": "033050de-20f8-423e-bce9-1153fdab119a",
   "metadata": {},
   "outputs": [
    {
     "data": {
      "image/png": "[encoded data removed]",
      "text/plain": [
       "<Figure size 864x360 with 1 Axes>"
      ]
     },
     "metadata": {
      "needs_background": "light"
     },
     "output_type": "display_data"
    }
   ],
   "source": [
    "pivot_platform_eu[\"eu_sales\"].plot(kind=\"barh\", figsize=(12, 5), color=\"steelblue\")\n",
    "plt.title(\"Топ-5 самых популярных платформ в Европе (2014-2016 гг.)\")\n",
    "plt.xlabel(\"Продажи, млн копий\")\n",
    "plt.ylabel(\"Платформа\")\n",
    "mean_sales = pivot_platform_eu[\"eu_sales\"].mean()\n",
    "median_sales = pivot_platform_eu[\"eu_sales\"].median()\n",
    "plt.axvline(mean_sales, color=\"r\", linestyle=\"--\", label=f\"Среднее: {mean_sales:.2f}\")\n",
    "plt.axvline(\n",
    "    median_sales, color=\"g\", linestyle=\"-\", label=f\"Медиана: {median_sales:.2f}\"\n",
    ")\n",
    "plt.legend()\n",
    "plt.show()"
   ]
  },
  {
   "cell_type": "markdown",
   "id": "7a3199d7-03a2-4815-bede-f5fbe5b5dd06",
   "metadata": {},
   "source": [
    "**Лидер-платформа с большим отрывом в Европе - PS4. На втором месте по продажам - XOne.**\n",
    "\n",
    "Продажи игр для PS4 составили более 120 млн копий. Продажи для платформы XOne составили чуть ниже среднего значения продажи около 47 млн копий. Продажи платформ PS3, PC и 3DS намного меньше и ниже медианного значения."
   ]
  },
  {
   "cell_type": "markdown",
   "id": "680d1613-f838-42ee-afc8-31ddaee6ef63",
   "metadata": {},
   "source": [
    "**Для визуализации долей популярных платформ воспользуемся круговой диаграммой.**"
   ]
  },
  {
   "cell_type": "code",
   "execution_count": 95,
   "id": "56fd5bbd-7221-4ce1-9711-253874abad26",
   "metadata": {},
   "outputs": [
    {
     "data": {
      "image/png": "[encoded data removed]",
      "text/plain": [
       "<Figure size 432x432 with 1 Axes>"
      ]
     },
     "metadata": {},
     "output_type": "display_data"
    }
   ],
   "source": [
    "pivot_platform_eu[\"eu_sales\"].plot(\n",
    "    kind=\"pie\", figsize=(6, 6), autopct=\"%1.0f%%\", colors=colors\n",
    ")\n",
    "plt.title(\"Доли топ-5 самых популярных платформ в Европе (2014-2016 гг.)\")\n",
    "plt.show()"
   ]
  },
  {
   "cell_type": "markdown",
   "id": "7c47c803-771d-43a8-940e-72d242b1bcf9",
   "metadata": {},
   "source": [
    "**Доля самой популярной платформы в Европе PS4 - 55%. На втором месте XOne - 20%.**"
   ]
  },
  {
   "cell_type": "markdown",
   "id": "88e76163-3090-4330-9efa-45886fa4d774",
   "metadata": {},
   "source": [
    "**Построим сводную таблицу продаж игр по платформам в Японии (JP).**"
   ]
  },
  {
   "cell_type": "code",
   "execution_count": 96,
   "id": "14b8367f-26f5-42ef-a04d-90a9c767ba96",
   "metadata": {},
   "outputs": [],
   "source": [
    "pivot_platform_jp = (\n",
    "    good_data.pivot_table(index=\"platform\", values=[\"jp_sales\"], aggfunc=\"sum\")\n",
    "    .sort_values(\"jp_sales\", ascending=False)\n",
    "    .head(5)\n",
    ")"
   ]
  },
  {
   "cell_type": "code",
   "execution_count": 97,
   "id": "1f7c9b75-22b0-43d1-9d3d-ff62ce5df8a7",
   "metadata": {},
   "outputs": [
    {
     "data": {
      "text/html": [
       "<div>\n",
       "<style scoped>\n",
       "    .dataframe tbody tr th:only-of-type {\n",
       "        vertical-align: middle;\n",
       "    }\n",
       "\n",
       "    .dataframe tbody tr th {\n",
       "        vertical-align: top;\n",
       "    }\n",
       "\n",
       "    .dataframe thead th {\n",
       "        text-align: right;\n",
       "    }\n",
       "</style>\n",
       "<table border=\"1\" class=\"dataframe\">\n",
       "  <thead>\n",
       "    <tr style=\"text-align: right;\">\n",
       "      <th></th>\n",
       "      <th>jp_sales</th>\n",
       "    </tr>\n",
       "    <tr>\n",
       "      <th>platform</th>\n",
       "      <th></th>\n",
       "    </tr>\n",
       "  </thead>\n",
       "  <tbody>\n",
       "    <tr>\n",
       "      <th>3DS</th>\n",
       "      <td>44.24</td>\n",
       "    </tr>\n",
       "    <tr>\n",
       "      <th>PS4</th>\n",
       "      <td>15.02</td>\n",
       "    </tr>\n",
       "    <tr>\n",
       "      <th>PSV</th>\n",
       "      <td>14.54</td>\n",
       "    </tr>\n",
       "    <tr>\n",
       "      <th>PS3</th>\n",
       "      <td>11.22</td>\n",
       "    </tr>\n",
       "    <tr>\n",
       "      <th>WiiU</th>\n",
       "      <td>7.31</td>\n",
       "    </tr>\n",
       "  </tbody>\n",
       "</table>\n",
       "</div>"
      ],
      "text/plain": [
       "          jp_sales\n",
       "platform          \n",
       "3DS          44.24\n",
       "PS4          15.02\n",
       "PSV          14.54\n",
       "PS3          11.22\n",
       "WiiU          7.31"
      ]
     },
     "execution_count": 97,
     "metadata": {},
     "output_type": "execute_result"
    }
   ],
   "source": [
    "# проверим результат\n",
    "pivot_platform_jp"
   ]
  },
  {
   "cell_type": "markdown",
   "id": "5d645193-8846-4f31-a097-ad8d989adb9f",
   "metadata": {},
   "source": [
    "**Построим график топ-5 популярных платформ в Японии.**"
   ]
  },
  {
   "cell_type": "code",
   "execution_count": 98,
   "id": "59656963-fa46-4e40-bcc1-43ab6c7a9847",
   "metadata": {},
   "outputs": [
    {
     "data": {
      "image/png": "[encoded data removed]",
      "text/plain": [
       "<Figure size 864x360 with 1 Axes>"
      ]
     },
     "metadata": {
      "needs_background": "light"
     },
     "output_type": "display_data"
    }
   ],
   "source": [
    "pivot_platform_jp[\"jp_sales\"].plot(kind=\"barh\", figsize=(12, 5), color=\"steelblue\")\n",
    "plt.title(\"Топ-5 самых популярных платформ в Японии (2014-2016 гг.)\")\n",
    "plt.xlabel(\"Продажи, млн копий\")\n",
    "plt.ylabel(\"Платформа\")\n",
    "mean_sales = pivot_platform_jp[\"jp_sales\"].mean()\n",
    "median_sales = pivot_platform_jp[\"jp_sales\"].median()\n",
    "plt.axvline(mean_sales, color=\"r\", linestyle=\"--\", label=f\"Среднее: {mean_sales:.2f}\")\n",
    "plt.axvline(\n",
    "    median_sales, color=\"g\", linestyle=\"-\", label=f\"Медиана: {median_sales:.2f}\"\n",
    ")\n",
    "plt.legend()\n",
    "plt.show()"
   ]
  },
  {
   "cell_type": "markdown",
   "id": "d09246ef-d1e6-443d-95bc-a4a14cada9f8",
   "metadata": {},
   "source": [
    "**Лидер-платформа с большим отрывом в Японии - 3DS. У платформ PS4 и PSV практически одинаковые объемы продаж. В целом объемы продаж игр в Японии ниже, чем в Европе и Северной Америке.**\n",
    "\n",
    "Продажи игр для 3DS составили более 40 млн копий. Продажи для платформы PS4 и PSV составили ниже среднего значения, практически на уровне медианного - около 15 млн копий. Продажи платформ PS3 и WiiU намного меньше и ниже медианного значения."
   ]
  },
  {
   "cell_type": "markdown",
   "id": "ee873f41-2e6b-4095-9fc3-f53f0fe6c36e",
   "metadata": {},
   "source": [
    "**Для визуализации долей популярных платформ воспользуемся круговой диаграммой.**"
   ]
  },
  {
   "cell_type": "code",
   "execution_count": 99,
   "id": "d0dba342-07a3-40ad-8da7-715ef5bf9dfd",
   "metadata": {},
   "outputs": [
    {
     "data": {
      "image/png": "[encoded data removed]",
      "text/plain": [
       "<Figure size 432x432 with 1 Axes>"
      ]
     },
     "metadata": {},
     "output_type": "display_data"
    }
   ],
   "source": [
    "pivot_platform_jp[\"jp_sales\"].plot(\n",
    "    kind=\"pie\", figsize=(6, 6), autopct=\"%1.0f%%\", colors=colors\n",
    ")\n",
    "plt.title(\"Доли топ-5 самых популярных платформ в Японии (2014-2016 гг.)\")\n",
    "plt.show()"
   ]
  },
  {
   "cell_type": "markdown",
   "id": "99c2c406-d275-4b0b-9c91-bb52fceaaf28",
   "metadata": {},
   "source": [
    "**Доля самой популярной платформы в Японии 3DS - 48%. На втором месте PS4 и PSV - по 16%.**"
   ]
  },
  {
   "cell_type": "markdown",
   "id": "0a88f0e7-fd96-452e-8699-e88f8e7c7e97",
   "metadata": {},
   "source": [
    "**Выводы:**\n",
    "\n",
    "**Лидеры-платформы в Северной Америке - PS4 и XOne.** Затем следует платформа X360. PS3 и 3DS наименее по популярности платформы.\n",
    "\n",
    "**Самая популярная платформа в Японии - 3DS.** На втором месте PS4 и PSV - по 16%. Продажи платформ PS3 и WiiU намного меньше.\n",
    "\n",
    "**Лидер-платформа с большим отрывом в Европе - PS4.** На втором месте по продажам - XOne. Продажи платформ PS3, PC и 3DS намного меньше."
   ]
  },
  {
   "cell_type": "markdown",
   "id": "a09d0e11-04c1-4a88-a530-4d82d91ca293",
   "metadata": {},
   "source": [
    "### Топ-5 самых популярных жанров для каждого региона"
   ]
  },
  {
   "cell_type": "markdown",
   "id": "a21efd81-46e8-42c0-a6d6-4964725e9317",
   "metadata": {},
   "source": [
    "**Построим сводную таблицу продаж игр по жанрам в Северной Америке (NA).**"
   ]
  },
  {
   "cell_type": "code",
   "execution_count": 101,
   "id": "93d1f4d5-0ddd-43b5-892e-91b96eb0a1f5",
   "metadata": {},
   "outputs": [],
   "source": [
    "pivot_genre_na = (\n",
    "    good_data.pivot_table(index=\"genre\", values=[\"na_sales\"], aggfunc=\"median\")\n",
    "    .sort_values(\"na_sales\", ascending=False)\n",
    "    .head(5)\n",
    ")"
   ]
  },
  {
   "cell_type": "code",
   "execution_count": 102,
   "id": "1847ff42-d3d6-4f53-b88c-8e288449786c",
   "metadata": {},
   "outputs": [
    {
     "data": {
      "text/html": [
       "<div>\n",
       "<style scoped>\n",
       "    .dataframe tbody tr th:only-of-type {\n",
       "        vertical-align: middle;\n",
       "    }\n",
       "\n",
       "    .dataframe tbody tr th {\n",
       "        vertical-align: top;\n",
       "    }\n",
       "\n",
       "    .dataframe thead th {\n",
       "        text-align: right;\n",
       "    }\n",
       "</style>\n",
       "<table border=\"1\" class=\"dataframe\">\n",
       "  <thead>\n",
       "    <tr style=\"text-align: right;\">\n",
       "      <th></th>\n",
       "      <th>na_sales</th>\n",
       "    </tr>\n",
       "    <tr>\n",
       "      <th>genre</th>\n",
       "      <th></th>\n",
       "    </tr>\n",
       "  </thead>\n",
       "  <tbody>\n",
       "    <tr>\n",
       "      <th>Shooter</th>\n",
       "      <td>0.220</td>\n",
       "    </tr>\n",
       "    <tr>\n",
       "      <th>Platform</th>\n",
       "      <td>0.075</td>\n",
       "    </tr>\n",
       "    <tr>\n",
       "      <th>Sports</th>\n",
       "      <td>0.070</td>\n",
       "    </tr>\n",
       "    <tr>\n",
       "      <th>Fighting</th>\n",
       "      <td>0.040</td>\n",
       "    </tr>\n",
       "    <tr>\n",
       "      <th>Racing</th>\n",
       "      <td>0.030</td>\n",
       "    </tr>\n",
       "  </tbody>\n",
       "</table>\n",
       "</div>"
      ],
      "text/plain": [
       "          na_sales\n",
       "genre             \n",
       "Shooter      0.220\n",
       "Platform     0.075\n",
       "Sports       0.070\n",
       "Fighting     0.040\n",
       "Racing       0.030"
      ]
     },
     "execution_count": 102,
     "metadata": {},
     "output_type": "execute_result"
    }
   ],
   "source": [
    "# проверим результат\n",
    "pivot_genre_na"
   ]
  },
  {
   "cell_type": "markdown",
   "id": "554ce018-43be-47a2-9640-40277e6810a6",
   "metadata": {},
   "source": [
    "**Построим график топ-5 популярных жанров в Северной Америке.**"
   ]
  },
  {
   "cell_type": "code",
   "execution_count": 103,
   "id": "60d6f733-fcc5-4692-87d4-96f6cea37ac2",
   "metadata": {},
   "outputs": [
    {
     "data": {
      "image/png": "[encoded data removed]",
      "text/plain": [
       "<Figure size 864x360 with 1 Axes>"
      ]
     },
     "metadata": {
      "needs_background": "light"
     },
     "output_type": "display_data"
    }
   ],
   "source": [
    "pivot_genre_na[\"na_sales\"].plot(kind=\"barh\", figsize=(12, 5), color=\"steelblue\")\n",
    "plt.title(\"Топ-5 самых популярных жанров в Северной Америке (2014-2016 гг.)\")\n",
    "plt.xlabel(\"Продажи, млн копий\")\n",
    "plt.ylabel(\"Жанр\")\n",
    "mean_sales = pivot_genre_na[\"na_sales\"].mean()\n",
    "median_sales = pivot_genre_na[\"na_sales\"].median()\n",
    "plt.axvline(mean_sales, color=\"r\", linestyle=\"--\", label=f\"Среднее: {mean_sales:.2f}\")\n",
    "plt.axvline(\n",
    "    median_sales, color=\"g\", linestyle=\"-\", label=f\"Медиана: {median_sales:.2f}\"\n",
    ")\n",
    "plt.legend()\n",
    "plt.show()"
   ]
  },
  {
   "cell_type": "markdown",
   "id": "438931fe-71e7-4e08-b378-70c776bb9ab5",
   "metadata": {},
   "source": [
    "**Самый популярный жанр в Северной Америке - Shooter. Затем идет жанр Platform. На третьем месте - жанр Sports.**"
   ]
  },
  {
   "cell_type": "markdown",
   "id": "a3dd32db-1334-40ec-a3b8-8b526f39055c",
   "metadata": {},
   "source": [
    "**Построим сводную таблицу продаж игр по платформам в Европе (EU).**"
   ]
  },
  {
   "cell_type": "code",
   "execution_count": 106,
   "id": "04bd7c56-dd62-4a93-a3ec-8e098514fe61",
   "metadata": {},
   "outputs": [],
   "source": [
    "pivot_genre_eu = (\n",
    "    good_data.pivot_table(index=\"genre\", values=[\"eu_sales\"], aggfunc=\"median\")\n",
    "    .sort_values(\"eu_sales\", ascending=False)\n",
    "    .head(5)\n",
    ")"
   ]
  },
  {
   "cell_type": "code",
   "execution_count": 107,
   "id": "74644c5c-1124-4e63-846c-f3516038ea1f",
   "metadata": {},
   "outputs": [
    {
     "data": {
      "text/html": [
       "<div>\n",
       "<style scoped>\n",
       "    .dataframe tbody tr th:only-of-type {\n",
       "        vertical-align: middle;\n",
       "    }\n",
       "\n",
       "    .dataframe tbody tr th {\n",
       "        vertical-align: top;\n",
       "    }\n",
       "\n",
       "    .dataframe thead th {\n",
       "        text-align: right;\n",
       "    }\n",
       "</style>\n",
       "<table border=\"1\" class=\"dataframe\">\n",
       "  <thead>\n",
       "    <tr style=\"text-align: right;\">\n",
       "      <th></th>\n",
       "      <th>eu_sales</th>\n",
       "    </tr>\n",
       "    <tr>\n",
       "      <th>genre</th>\n",
       "      <th></th>\n",
       "    </tr>\n",
       "  </thead>\n",
       "  <tbody>\n",
       "    <tr>\n",
       "      <th>Shooter</th>\n",
       "      <td>0.220</td>\n",
       "    </tr>\n",
       "    <tr>\n",
       "      <th>Platform</th>\n",
       "      <td>0.055</td>\n",
       "    </tr>\n",
       "    <tr>\n",
       "      <th>Racing</th>\n",
       "      <td>0.050</td>\n",
       "    </tr>\n",
       "    <tr>\n",
       "      <th>Sports</th>\n",
       "      <td>0.050</td>\n",
       "    </tr>\n",
       "    <tr>\n",
       "      <th>Simulation</th>\n",
       "      <td>0.030</td>\n",
       "    </tr>\n",
       "  </tbody>\n",
       "</table>\n",
       "</div>"
      ],
      "text/plain": [
       "            eu_sales\n",
       "genre               \n",
       "Shooter        0.220\n",
       "Platform       0.055\n",
       "Racing         0.050\n",
       "Sports         0.050\n",
       "Simulation     0.030"
      ]
     },
     "execution_count": 107,
     "metadata": {},
     "output_type": "execute_result"
    }
   ],
   "source": [
    "# проверим результат\n",
    "pivot_genre_eu"
   ]
  },
  {
   "cell_type": "markdown",
   "id": "ea1117b2-2aee-4b71-bf7a-5557ad7207ed",
   "metadata": {},
   "source": [
    "**Построим график топ-5 популярных жанров в Европе.**"
   ]
  },
  {
   "cell_type": "code",
   "execution_count": 108,
   "id": "7d5ec123-54b8-4e96-8a34-c2d98ddb45b4",
   "metadata": {},
   "outputs": [
    {
     "data": {
      "image/png": "[encoded data removed]",
      "text/plain": [
       "<Figure size 864x360 with 1 Axes>"
      ]
     },
     "metadata": {
      "needs_background": "light"
     },
     "output_type": "display_data"
    }
   ],
   "source": [
    "pivot_genre_eu[\"eu_sales\"].plot(kind=\"barh\", figsize=(12, 5), color=\"steelblue\")\n",
    "plt.title(\"Топ-5 самых популярных жанров в Европе (2014-2016 гг.)\")\n",
    "plt.xlabel(\"Продажи, млн копий\")\n",
    "plt.ylabel(\"Жанр\")\n",
    "mean_sales = pivot_genre_eu[\"eu_sales\"].mean()\n",
    "median_sales = pivot_genre_eu[\"eu_sales\"].median()\n",
    "plt.axvline(mean_sales, color=\"r\", linestyle=\"--\", label=f\"Среднее: {mean_sales:.2f}\")\n",
    "plt.axvline(\n",
    "    median_sales, color=\"g\", linestyle=\"-\", label=f\"Медиана: {median_sales:.2f}\"\n",
    ")\n",
    "plt.legend()\n",
    "plt.show()"
   ]
  },
  {
   "cell_type": "markdown",
   "id": "c9c333c6-97d6-4dcf-ba47-1fdde23789dd",
   "metadata": {},
   "source": [
    "**Самый популярный жанр в Европе - Shooter. Далее идет жанр Platform. Одинаковы по полуярности жанры Racing и Sports.**"
   ]
  },
  {
   "cell_type": "markdown",
   "id": "02096661-89f5-47e6-80d0-6765125cd5e8",
   "metadata": {},
   "source": [
    "**Построим сводную таблицу продаж игр по жанрам в Японии (JP).**"
   ]
  },
  {
   "cell_type": "code",
   "execution_count": 111,
   "id": "1d78954b-66e4-4471-9201-ea527b2cf7a2",
   "metadata": {},
   "outputs": [],
   "source": [
    "pivot_genre_jp = (\n",
    "    good_data.pivot_table(index=\"genre\", values=[\"jp_sales\"], aggfunc=\"median\")\n",
    "    .sort_values(\"jp_sales\", ascending=False)\n",
    "    .head(5)\n",
    ")"
   ]
  },
  {
   "cell_type": "code",
   "execution_count": 112,
   "id": "561a1682-b7c9-432b-8c11-756ee075148e",
   "metadata": {},
   "outputs": [
    {
     "data": {
      "text/html": [
       "<div>\n",
       "<style scoped>\n",
       "    .dataframe tbody tr th:only-of-type {\n",
       "        vertical-align: middle;\n",
       "    }\n",
       "\n",
       "    .dataframe tbody tr th {\n",
       "        vertical-align: top;\n",
       "    }\n",
       "\n",
       "    .dataframe thead th {\n",
       "        text-align: right;\n",
       "    }\n",
       "</style>\n",
       "<table border=\"1\" class=\"dataframe\">\n",
       "  <thead>\n",
       "    <tr style=\"text-align: right;\">\n",
       "      <th></th>\n",
       "      <th>jp_sales</th>\n",
       "    </tr>\n",
       "    <tr>\n",
       "      <th>genre</th>\n",
       "      <th></th>\n",
       "    </tr>\n",
       "  </thead>\n",
       "  <tbody>\n",
       "    <tr>\n",
       "      <th>Role-Playing</th>\n",
       "      <td>0.05</td>\n",
       "    </tr>\n",
       "    <tr>\n",
       "      <th>Fighting</th>\n",
       "      <td>0.03</td>\n",
       "    </tr>\n",
       "    <tr>\n",
       "      <th>Puzzle</th>\n",
       "      <td>0.03</td>\n",
       "    </tr>\n",
       "    <tr>\n",
       "      <th>Action</th>\n",
       "      <td>0.01</td>\n",
       "    </tr>\n",
       "    <tr>\n",
       "      <th>Adventure</th>\n",
       "      <td>0.01</td>\n",
       "    </tr>\n",
       "  </tbody>\n",
       "</table>\n",
       "</div>"
      ],
      "text/plain": [
       "              jp_sales\n",
       "genre                 \n",
       "Role-Playing      0.05\n",
       "Fighting          0.03\n",
       "Puzzle            0.03\n",
       "Action            0.01\n",
       "Adventure         0.01"
      ]
     },
     "execution_count": 112,
     "metadata": {},
     "output_type": "execute_result"
    }
   ],
   "source": [
    "# проверим результат\n",
    "pivot_genre_jp"
   ]
  },
  {
   "cell_type": "markdown",
   "id": "5383f275-eac0-4117-a9ab-a0f227d4b3ee",
   "metadata": {},
   "source": [
    "**Построим график топ-5 популярных жанров в Японии.**"
   ]
  },
  {
   "cell_type": "code",
   "execution_count": 113,
   "id": "ac6adaeb-40d6-47af-a75e-d48c45ed7da1",
   "metadata": {},
   "outputs": [
    {
     "data": {
      "image/png": "[encoded data removed]",
      "text/plain": [
       "<Figure size 864x360 with 1 Axes>"
      ]
     },
     "metadata": {
      "needs_background": "light"
     },
     "output_type": "display_data"
    }
   ],
   "source": [
    "pivot_genre_jp[\"jp_sales\"].plot(kind=\"barh\", figsize=(12, 5), color=\"steelblue\")\n",
    "plt.title(\"Топ-5 самых популярных жанров в Японии (2014-2016 гг.)\")\n",
    "plt.xlabel(\"Продажи, млн копий\")\n",
    "plt.ylabel(\"Жанр\")\n",
    "mean_sales = pivot_genre_jp[\"jp_sales\"].mean()\n",
    "median_sales = pivot_genre_jp[\"jp_sales\"].median()\n",
    "plt.axvline(mean_sales, color=\"r\", linestyle=\"--\", label=f\"Среднее: {mean_sales:.2f}\")\n",
    "plt.axvline(\n",
    "    median_sales, color=\"g\", linestyle=\"-\", label=f\"Медиана: {median_sales:.2f}\"\n",
    ")\n",
    "plt.legend()\n",
    "plt.show()"
   ]
  },
  {
   "cell_type": "markdown",
   "id": "56180944-c541-45a9-ac7a-dd0d535a486c",
   "metadata": {},
   "source": [
    "**Самый популярный жанр в Японии c большим отрывом - Role-Playing. Затем примерно с одинаковыми сборами идут жанры Fighting и Puzzle.**"
   ]
  },
  {
   "cell_type": "markdown",
   "id": "63e8aa98-c2a3-4690-9f0e-6919ad6c615f",
   "metadata": {},
   "source": [
    "**Выводы:**\n",
    "\n",
    "**Самый популярный жанр в Северной Америке - Shooter.** Затем идет жанр Platform. На третьем месте - жанр Sports.\n",
    "\n",
    "**Самый популярный жанр в Европе - Shooter. Далее идет жанр Platform.** Одинаковы по полуярности жанры Racing и Sports.\n",
    "\n",
    "**Самый популярный жанр в Японии c большим отрывом - Role-Playing.** Затем примерно с одинаковыми сборами идут жанры Fighting и Puzzle."
   ]
  },
  {
   "cell_type": "markdown",
   "id": "88d59d38-f230-416f-ac4e-05137ee89a1e",
   "metadata": {},
   "source": [
    "### Влияние рейтинга ESRB на продажи в регионах."
   ]
  },
  {
   "cell_type": "markdown",
   "id": "9639c608-f9c5-4049-ac5b-439ba6202f47",
   "metadata": {},
   "source": [
    "**Построим сводную таблицу продаж игр по рейтингу в Северной Америке (NA).**"
   ]
  },
  {
   "cell_type": "code",
   "execution_count": 115,
   "id": "6305b62a-b372-4c8f-9432-b11cb1e7d6a0",
   "metadata": {},
   "outputs": [],
   "source": [
    "pivot_rating_na = good_data.pivot_table(\n",
    "    index=\"rating\", values=[\"na_sales\"], aggfunc=\"sum\"\n",
    ").sort_values(\"na_sales\", ascending=False)"
   ]
  },
  {
   "cell_type": "code",
   "execution_count": 116,
   "id": "09d60936-b5ef-4b97-8b40-23e7605fb28b",
   "metadata": {},
   "outputs": [
    {
     "data": {
      "text/html": [
       "<div>\n",
       "<style scoped>\n",
       "    .dataframe tbody tr th:only-of-type {\n",
       "        vertical-align: middle;\n",
       "    }\n",
       "\n",
       "    .dataframe tbody tr th {\n",
       "        vertical-align: top;\n",
       "    }\n",
       "\n",
       "    .dataframe thead th {\n",
       "        text-align: right;\n",
       "    }\n",
       "</style>\n",
       "<table border=\"1\" class=\"dataframe\">\n",
       "  <thead>\n",
       "    <tr style=\"text-align: right;\">\n",
       "      <th></th>\n",
       "      <th>na_sales</th>\n",
       "    </tr>\n",
       "    <tr>\n",
       "      <th>rating</th>\n",
       "      <th></th>\n",
       "    </tr>\n",
       "  </thead>\n",
       "  <tbody>\n",
       "    <tr>\n",
       "      <th>M</th>\n",
       "      <td>96.42</td>\n",
       "    </tr>\n",
       "    <tr>\n",
       "      <th>E</th>\n",
       "      <td>50.74</td>\n",
       "    </tr>\n",
       "    <tr>\n",
       "      <th>T</th>\n",
       "      <td>38.95</td>\n",
       "    </tr>\n",
       "    <tr>\n",
       "      <th>E10+</th>\n",
       "      <td>33.23</td>\n",
       "    </tr>\n",
       "  </tbody>\n",
       "</table>\n",
       "</div>"
      ],
      "text/plain": [
       "        na_sales\n",
       "rating          \n",
       "M          96.42\n",
       "E          50.74\n",
       "T          38.95\n",
       "E10+       33.23"
      ]
     },
     "execution_count": 116,
     "metadata": {},
     "output_type": "execute_result"
    }
   ],
   "source": [
    "# проверим результат\n",
    "pivot_rating_na"
   ]
  },
  {
   "cell_type": "markdown",
   "id": "b2cbd263-eaa2-4649-8562-757fe69a1232",
   "metadata": {},
   "source": [
    "**Построим график распределения продаж по рейтингу в Северной Америке.**"
   ]
  },
  {
   "cell_type": "code",
   "execution_count": 117,
   "id": "c3058e7f-142c-4d74-889e-66bde3b4c0f6",
   "metadata": {},
   "outputs": [
    {
     "data": {
      "image/png": "[encoded data removed]",
      "text/plain": [
       "<Figure size 576x360 with 1 Axes>"
      ]
     },
     "metadata": {
      "needs_background": "light"
     },
     "output_type": "display_data"
    }
   ],
   "source": [
    "pivot_rating_na.plot(kind=\"bar\", figsize=(8, 5), color=\"steelblue\")\n",
    "plt.title(\"Распределение продаж по рейтингу игр в Северной Америке (2014-2016 гг.)\")\n",
    "plt.xlabel(\"Рейтинг\")\n",
    "plt.ylabel(\"Продажи, млн копий\")\n",
    "plt.grid(color=\"grey\", axis=\"both\", alpha=0.5)\n",
    "plt.show()"
   ]
  },
  {
   "cell_type": "markdown",
   "id": "71aa53f8-4274-4e19-a45d-56f5f93aabe5",
   "metadata": {},
   "source": [
    "**Самые высокие продажи в Северной Америке у игр с рейтингом «M» («Mature») — «Для взрослых»: материалы игры не подходят для лиц младше 17 лет.** \n",
    "\n",
    "Затем идут игры с рейтингом «E» («Everyone» — «Для всех»: Содержание вполне подходит для всех возрастов), «T» («Teen» — «Подросткам»: Игра подходит для лиц от 13 лет), «E10+» («Everyone 10 and older» — «Для всех от 10 лет и старше»)."
   ]
  },
  {
   "cell_type": "markdown",
   "id": "660124d3-be05-448e-9f9c-65b94da36406",
   "metadata": {},
   "source": [
    "**Построим сводную таблицу продаж игр по рейтингу в Европе (EU).**"
   ]
  },
  {
   "cell_type": "code",
   "execution_count": 118,
   "id": "9a5e557e-e207-46fd-9005-2679d826e426",
   "metadata": {},
   "outputs": [],
   "source": [
    "pivot_rating_eu = good_data.pivot_table(\n",
    "    index=\"rating\", values=[\"eu_sales\"], aggfunc=\"sum\"\n",
    ").sort_values(\"eu_sales\", ascending=False)"
   ]
  },
  {
   "cell_type": "code",
   "execution_count": 119,
   "id": "0dd7fc1b-59b5-4f06-b4b8-16378fe70d43",
   "metadata": {},
   "outputs": [
    {
     "data": {
      "text/html": [
       "<div>\n",
       "<style scoped>\n",
       "    .dataframe tbody tr th:only-of-type {\n",
       "        vertical-align: middle;\n",
       "    }\n",
       "\n",
       "    .dataframe tbody tr th {\n",
       "        vertical-align: top;\n",
       "    }\n",
       "\n",
       "    .dataframe thead th {\n",
       "        text-align: right;\n",
       "    }\n",
       "</style>\n",
       "<table border=\"1\" class=\"dataframe\">\n",
       "  <thead>\n",
       "    <tr style=\"text-align: right;\">\n",
       "      <th></th>\n",
       "      <th>eu_sales</th>\n",
       "    </tr>\n",
       "    <tr>\n",
       "      <th>rating</th>\n",
       "      <th></th>\n",
       "    </tr>\n",
       "  </thead>\n",
       "  <tbody>\n",
       "    <tr>\n",
       "      <th>M</th>\n",
       "      <td>93.44</td>\n",
       "    </tr>\n",
       "    <tr>\n",
       "      <th>E</th>\n",
       "      <td>58.06</td>\n",
       "    </tr>\n",
       "    <tr>\n",
       "      <th>T</th>\n",
       "      <td>34.07</td>\n",
       "    </tr>\n",
       "    <tr>\n",
       "      <th>E10+</th>\n",
       "      <td>26.16</td>\n",
       "    </tr>\n",
       "  </tbody>\n",
       "</table>\n",
       "</div>"
      ],
      "text/plain": [
       "        eu_sales\n",
       "rating          \n",
       "M          93.44\n",
       "E          58.06\n",
       "T          34.07\n",
       "E10+       26.16"
      ]
     },
     "execution_count": 119,
     "metadata": {},
     "output_type": "execute_result"
    }
   ],
   "source": [
    "# проверим результат\n",
    "pivot_rating_eu"
   ]
  },
  {
   "cell_type": "code",
   "execution_count": 120,
   "id": "a679332b-6fb7-4fb0-9ae5-9063098688f1",
   "metadata": {},
   "outputs": [
    {
     "data": {
      "image/png": "[encoded data removed]",
      "text/plain": [
       "<Figure size 576x360 with 1 Axes>"
      ]
     },
     "metadata": {
      "needs_background": "light"
     },
     "output_type": "display_data"
    }
   ],
   "source": [
    "# построим график\n",
    "pivot_rating_eu.plot(kind=\"bar\", figsize=(8, 5), color=\"steelblue\")\n",
    "plt.title(\"Распределение продаж по рейтингу игр в Европе (2014-2016 гг.)\")\n",
    "plt.xlabel(\"Рейтинг\")\n",
    "plt.ylabel(\"Продажи, млн копий\")\n",
    "plt.grid(color=\"grey\", axis=\"both\", alpha=0.5)\n",
    "plt.show()"
   ]
  },
  {
   "cell_type": "markdown",
   "id": "9cc9f70e-b4f1-469a-a4be-dff5d8e5af21",
   "metadata": {},
   "source": [
    "**Самые высокие продажи в Европе у игр с рейтингом «M» («Mature») — «Для взрослых»: материалы игры не подходят для лиц младше 17 лет.**\n",
    "\n",
    "Затем идут игры с рейтингом «E» («Everyone» — «Для всех»: Содержание вполне подходит для всех возрастов), «T» («Teen» — «Подросткам»: Игра подходит для лиц от 13 лет), «E10+» («Everyone 10 and older» — «Для всех от 10 лет и старше»).\n",
    "\n",
    "\n",
    "Популярность рейтингов в Европе очень схожа с Северной Америкой."
   ]
  },
  {
   "cell_type": "markdown",
   "id": "f3adbbdf-f48a-4e4f-bf81-6f507e59bd42",
   "metadata": {},
   "source": [
    "**Построим сводную таблицу продаж игр по рейтингу в Японии (JP).**"
   ]
  },
  {
   "cell_type": "code",
   "execution_count": 121,
   "id": "fe1be179-6a43-481a-9d9f-60d7fecc4bb1",
   "metadata": {},
   "outputs": [],
   "source": [
    "pivot_rating_jp = good_data.pivot_table(\n",
    "    index=\"rating\", values=[\"jp_sales\"], aggfunc=\"sum\"\n",
    ").sort_values(\"jp_sales\", ascending=False)"
   ]
  },
  {
   "cell_type": "code",
   "execution_count": 122,
   "id": "1a6939cd-b23b-4717-91d0-23aa5f6f94ed",
   "metadata": {},
   "outputs": [
    {
     "data": {
      "text/html": [
       "<div>\n",
       "<style scoped>\n",
       "    .dataframe tbody tr th:only-of-type {\n",
       "        vertical-align: middle;\n",
       "    }\n",
       "\n",
       "    .dataframe tbody tr th {\n",
       "        vertical-align: top;\n",
       "    }\n",
       "\n",
       "    .dataframe thead th {\n",
       "        text-align: right;\n",
       "    }\n",
       "</style>\n",
       "<table border=\"1\" class=\"dataframe\">\n",
       "  <thead>\n",
       "    <tr style=\"text-align: right;\">\n",
       "      <th></th>\n",
       "      <th>jp_sales</th>\n",
       "    </tr>\n",
       "    <tr>\n",
       "      <th>rating</th>\n",
       "      <th></th>\n",
       "    </tr>\n",
       "  </thead>\n",
       "  <tbody>\n",
       "    <tr>\n",
       "      <th>T</th>\n",
       "      <td>14.78</td>\n",
       "    </tr>\n",
       "    <tr>\n",
       "      <th>E</th>\n",
       "      <td>8.94</td>\n",
       "    </tr>\n",
       "    <tr>\n",
       "      <th>M</th>\n",
       "      <td>8.01</td>\n",
       "    </tr>\n",
       "    <tr>\n",
       "      <th>E10+</th>\n",
       "      <td>4.46</td>\n",
       "    </tr>\n",
       "  </tbody>\n",
       "</table>\n",
       "</div>"
      ],
      "text/plain": [
       "        jp_sales\n",
       "rating          \n",
       "T          14.78\n",
       "E           8.94\n",
       "M           8.01\n",
       "E10+        4.46"
      ]
     },
     "execution_count": 122,
     "metadata": {},
     "output_type": "execute_result"
    }
   ],
   "source": [
    "# проверим результат\n",
    "pivot_rating_jp"
   ]
  },
  {
   "cell_type": "code",
   "execution_count": 123,
   "id": "f6fcc5f0-2b1d-4415-a361-1cc13f94e65a",
   "metadata": {},
   "outputs": [
    {
     "data": {
      "image/png": "[encoded data removed]",
      "text/plain": [
       "<Figure size 576x360 with 1 Axes>"
      ]
     },
     "metadata": {
      "needs_background": "light"
     },
     "output_type": "display_data"
    }
   ],
   "source": [
    "# построим график\n",
    "pivot_rating_jp.plot(kind=\"bar\", figsize=(8, 5), color=\"steelblue\")\n",
    "plt.title(\"Распределение продаж по рейтингу игр в Японии (2014-2016 гг.)\")\n",
    "plt.xlabel(\"Рейтинг\")\n",
    "plt.ylabel(\"Продажи, млн копий\")\n",
    "plt.grid(color=\"grey\", axis=\"both\", alpha=0.5)\n",
    "plt.show()"
   ]
  },
  {
   "cell_type": "markdown",
   "id": "b92b061f-195d-4ae4-88b9-a63e5ef5e728",
   "metadata": {},
   "source": [
    "**Самые высокие продажи в Японии у игр с рейтингом «T» («Teen» — «Подросткам»: Игра подходит для лиц от 13 лет).**\n",
    "\n",
    "Затем идут игры с рейтингом «E» («Everyone» — «Для всех»: Содержание вполне подходит для всех возрастов), «M» («Mature» — «Для взрослых»: материалы игры не подходят для лиц младше 17 лет), «E10+» («Everyone 10 and older» — «Для всех от 10 лет и старше»)."
   ]
  },
  {
   "cell_type": "markdown",
   "id": "be81ab83-50cf-4217-9529-a7b456801027",
   "metadata": {},
   "source": [
    "**Построим общую сводную таблицу по всем регионам.**"
   ]
  },
  {
   "cell_type": "code",
   "execution_count": 124,
   "id": "849331e0-3203-402b-87f7-932a9ffc7a5f",
   "metadata": {},
   "outputs": [],
   "source": [
    "pivot_rating = good_data.pivot_table(\n",
    "    index=\"rating\", values=[\"eu_sales\", \"na_sales\", \"jp_sales\"], aggfunc=\"sum\"\n",
    ").sort_values(by=[\"eu_sales\", \"na_sales\", \"jp_sales\"], ascending=False)"
   ]
  },
  {
   "cell_type": "code",
   "execution_count": 125,
   "id": "5d3f4945-62c8-4718-a077-a9ed6d3e2bac",
   "metadata": {},
   "outputs": [],
   "source": [
    "# для удобства переименуем столбцы\n",
    "pivot_rating.columns = [\"Европа\", \"Япония\", \"Северная Америка\"]"
   ]
  },
  {
   "cell_type": "code",
   "execution_count": 126,
   "id": "6341f458-04a9-4c35-b925-361555f411b9",
   "metadata": {},
   "outputs": [
    {
     "data": {
      "text/html": [
       "<div>\n",
       "<style scoped>\n",
       "    .dataframe tbody tr th:only-of-type {\n",
       "        vertical-align: middle;\n",
       "    }\n",
       "\n",
       "    .dataframe tbody tr th {\n",
       "        vertical-align: top;\n",
       "    }\n",
       "\n",
       "    .dataframe thead th {\n",
       "        text-align: right;\n",
       "    }\n",
       "</style>\n",
       "<table border=\"1\" class=\"dataframe\">\n",
       "  <thead>\n",
       "    <tr style=\"text-align: right;\">\n",
       "      <th></th>\n",
       "      <th>Европа</th>\n",
       "      <th>Япония</th>\n",
       "      <th>Северная Америка</th>\n",
       "    </tr>\n",
       "    <tr>\n",
       "      <th>rating</th>\n",
       "      <th></th>\n",
       "      <th></th>\n",
       "      <th></th>\n",
       "    </tr>\n",
       "  </thead>\n",
       "  <tbody>\n",
       "    <tr>\n",
       "      <th>M</th>\n",
       "      <td>93.44</td>\n",
       "      <td>8.01</td>\n",
       "      <td>96.42</td>\n",
       "    </tr>\n",
       "    <tr>\n",
       "      <th>E</th>\n",
       "      <td>58.06</td>\n",
       "      <td>8.94</td>\n",
       "      <td>50.74</td>\n",
       "    </tr>\n",
       "    <tr>\n",
       "      <th>T</th>\n",
       "      <td>34.07</td>\n",
       "      <td>14.78</td>\n",
       "      <td>38.95</td>\n",
       "    </tr>\n",
       "    <tr>\n",
       "      <th>E10+</th>\n",
       "      <td>26.16</td>\n",
       "      <td>4.46</td>\n",
       "      <td>33.23</td>\n",
       "    </tr>\n",
       "  </tbody>\n",
       "</table>\n",
       "</div>"
      ],
      "text/plain": [
       "        Европа  Япония  Северная Америка\n",
       "rating                                  \n",
       "M        93.44    8.01             96.42\n",
       "E        58.06    8.94             50.74\n",
       "T        34.07   14.78             38.95\n",
       "E10+     26.16    4.46             33.23"
      ]
     },
     "execution_count": 126,
     "metadata": {},
     "output_type": "execute_result"
    }
   ],
   "source": [
    "# выведем на экран таблицу\n",
    "pivot_rating"
   ]
  },
  {
   "cell_type": "markdown",
   "id": "af4a6073-96e2-4344-aee8-978a1d7a695f",
   "metadata": {},
   "source": [
    "**Построим график по всем регионам.**"
   ]
  },
  {
   "cell_type": "code",
   "execution_count": 127,
   "id": "cff8dc97-56a0-48e6-aa58-22b3a18a490a",
   "metadata": {},
   "outputs": [
    {
     "data": {
      "image/png": "[encoded data removed]",
      "text/plain": [
       "<Figure size 576x288 with 1 Axes>"
      ]
     },
     "metadata": {
      "needs_background": "light"
     },
     "output_type": "display_data"
    }
   ],
   "source": [
    "pivot_rating.plot.bar(figsize=(8, 4))\n",
    "plt.title(\n",
    "    \"Распределение продаж по рейтингу игр в Европе, Северной Америке и Японии (2014-2016 гг.)\"\n",
    ")\n",
    "plt.xlabel(\"Рейтинг\")\n",
    "plt.ylabel(\"Продажи, млн копий\")\n",
    "plt.grid(color=\"grey\", axis=\"both\", alpha=0.5)\n",
    "plt.show()"
   ]
  },
  {
   "cell_type": "code",
   "execution_count": 128,
   "id": "fb4a92f8-cb00-49a3-9f54-47d946e35bc9",
   "metadata": {},
   "outputs": [
    {
     "data": {
      "image/png": "[encoded data removed]",
      "text/plain": [
       "<Figure size 432x288 with 2 Axes>"
      ]
     },
     "metadata": {
      "needs_background": "light"
     },
     "output_type": "display_data"
    }
   ],
   "source": [
    "# построим тепловую карту для сводной таблицы\n",
    "sns.heatmap(pivot_rating, linewidths=0.003, linecolor=\"grey\", cmap=\"viridis\")\n",
    "plt.title(\n",
    "    \"Распределение продаж по рейтингу игр в Европе, Северной Америке и Японии (2014-2016 гг.)\"\n",
    ")\n",
    "plt.xlabel(\"Регион\")\n",
    "plt.ylabel(\"Рейтинг\")\n",
    "plt.show()"
   ]
  },
  {
   "cell_type": "markdown",
   "id": "65df4bef-1e3a-4776-bfd5-51111f29c629",
   "metadata": {},
   "source": [
    "**Тепловая карта подтверждает, что картина с популярностью рейтингов в Европе и в Северной Америке одинаковы: чаще продаются игры для взрослых. В Японии чаще продаются игры для подростков.**"
   ]
  },
  {
   "cell_type": "markdown",
   "id": "9400726e-da0a-4683-8ba2-9492ae817c4c",
   "metadata": {},
   "source": [
    "**Выводы:**\n",
    "\n",
    "\n",
    "**Самые высокие продажи в Европе у игр с рейтингом «M» («Mature») — «Для взрослых»: материалы игры не подходят для лиц младше 17 лет.**\n",
    "Затем идут игры с рейтингом «E» («Everyone» — «Для всех»: Содержание вполне подходит для всех возрастов), «T» («Teen» — «Подросткам»: Игра подходит для лиц от 13 лет), «E10+» («Everyone 10 and older» — «Для всех от 10 лет и старше»).\n",
    "\n",
    "\n",
    "**Самые высокие продажи в Японии у игр с рейтингом «T» («Teen» — «Подросткам»: Игра подходит для лиц от 13 лет).**\n",
    "Затем идут игры с рейтингом «E» («Everyone» — «Для всех»: Содержание вполне подходит для всех возрастов), «M» («Mature» — «Для взрослых»: материалы игры не подходят для лиц младше 17 лет), «E10+» («Everyone 10 and older» — «Для всех от 10 лет и старше»).\n",
    "\n",
    "\n",
    "**Самые высокие продажи в Северной Америке у игр с рейтингом «M» («Mature») — «Для взрослых»: материалы игры не подходят для лиц младше 17 лет.**\n",
    "Затем идут игры с рейтингом «E» («Everyone» — «Для всех»: Содержание вполне подходит для всех возрастов), «T» («Teen» — «Подросткам»: Игра подходит для лиц от 13 лет), «E10+» («Everyone 10 and older» — «Для всех от 10 лет и старше»)."
   ]
  },
  {
   "cell_type": "markdown",
   "id": "2d2af440-d5fa-41ae-b553-97ae3e05c569",
   "metadata": {},
   "source": [
    "# 5. Общие выводы"
   ]
  },
  {
   "cell_type": "markdown",
   "id": "d623d1e7-0b31-4251-b867-ce0d3b79a1ac",
   "metadata": {},
   "source": [
    "**В ходе исследования были проанализированы исторические данные из открытых источников о продажах игр, оценки пользователей и экспертов, жанры и платформы, чтобы выявить определяющие успешность игры закономерности. Это позволит сделать ставку на потенциально популярный продукт и спланировать рекламные кампании.**\n",
    "\n",
    "\n",
    "**Была выполнена предобработка данных:**\n",
    "\n",
    "\n",
    "- названия столбцов приведены к нижнему регистру;\n",
    "- незначительная часть пропущенных значений была удалена;\n",
    "- пропуски в данных, которые не возможно заменить объективно, сохранены;\n",
    "- в двух столбцах произведена замена значений на актуальные;\n",
    "- добавлен новый столбец с суммарными продажами по всем регионам.\n",
    "\n",
    "В трех столбцах `critic_score`, `user_score`, `rating` более 40% пропусков. \n",
    "\n",
    "\n",
    "**Возможными причинами пропусков в данных могли стать несколько факторов:**\n",
    "\n",
    "\n",
    "- в датасете содержится информация с 1980 года, а рейтинг ESRB стал присваиваться с 1994 года. Это может быть причиной возникновения пропусков в данных; \n",
    "- в данных содержится не вся информация за 2016 год, это тоже часть отсутствующих данных;\n",
    "- так же игра может быть на старте своего выхода на рынок и не собрала еще достаточной обратной связи;\n",
    "- традиционными причинами могли стать человеческий фактор и технические сбои: не все данные могли быть занесены и собраны или возможны сбои с оборудованием или программным обеспечением для сбора данных;\n",
    "- возможно, игры сложно однозначно отнести к четкому возрастному ограничению или у производителей игр нет жестких сроков присвоения рейтинга.\n",
    "\n",
    "**На этапе исследовательского анализа данных выявлены закономерности и особенности:**\n",
    "\n",
    "- проанализировали сколько игр выпускалось в разные годы: **самое большое количество игр было выпущено с 2005 по 2011 годы. Пиковые года - 2008 и 2009**;\n",
    "- изменения продаж по платформам за все года: **топ-6 платформ по продажам - PS2, X360, PS3, Wii, DS, PS**;\n",
    "- выявлено, что **с момента появления платформы до ее исчезновения проходит 10-12 лет**;\n",
    "- для анализа изменчивого рынка компьютерных игр был выбран **период в 3 года: с 2014 по 2016 гг**;\n",
    "- **платформы PS4 или XOne наиболее перспективны**, поскольку они примерно в середине своего жизненного цикла. Все остальные платформы актуального периода на финише своего жизненного цикла;\n",
    "- влияние на продажи отзывов пользователей и критиков: у трех платформ PS4, PS3, XOne зависимость от оценок пользователей отрицательная практически отсутствующая, у 3DS положительная слабая. Зависимость продаж от оценок критиков у трех платформ практически одинаковая положительная неярко выраженная, у 3DS немного меньше. **Оценки пользователей практически не влиляют на продажи игр, оценки критиков оказывают совсем небольшое влияние**;\n",
    "- определили популярные жанры игр: **больше всего игр продается в жанре Shooter. Так же выше среднего продажи у игр в жанре Sports, Platform, Fighting, Role-Playing;**\n",
    "- **визуализировали исследование с помощью графиков.**\n",
    "\n",
    "  \n",
    "\n",
    "\n",
    "\n",
    "\n",
    "**Сформировали портрет пользователя игр в Северной Америке, Европе и Японии.** \n",
    "\n",
    "**Большинство пользователей в Северной Америке** предпочитают платформы PS4 и XOne. Играют на этих платформах чаще всего в игры жанров Shooter и Action, так же многие пользователи выбирают жанры Platform и  Sports. Чаще всего пользователь взрослый, так же играют подростки и дети старше 10 лет.\n",
    "\n",
    "**У большинства пользователей в Европе** схожие предпочтения по платформам: PS4 и XOne. Самый популярный жанр в Европе - Shooter, так же многие предпочитают жанр Platform. Чаще всего пользователь взрослый, так же играют подростки и дети старше 10 лет.\n",
    "\n",
    "**В Японии большинство пользователей** выбирают платформу 3DS, затем по полуярности: PS4 и PSV. Чаще всего играют в игры жанров Role-Playing, так же некоторые пользователи предпочитают жанры Fighting и Puzzle.\n",
    "Чаще всего играют подростки, так же играют взрослые и дети страше 10 лет.\n",
    "\n",
    "\n",
    "\n",
    "\n",
    "\n",
    "**Рынок компьютерных игр очень изменчив и зависит от трендов. Например, на популярность игр влияет популярность тех или иных устройств. Общий тренд на онлайн-игры, рост мобильного трафика и доступности интернета тоже оказывают влияние на интересы пользователей. Так же производителям игр стоит обратить внимание на предпочтения пользователей в разных регионах, поскольку есть схожие по интересам, а есть сильно различающиеся по предпочтениям.**\n"
   ]
  }
 ],
 "metadata": {
  "ExecuteTimeLog": [
   {
    "duration": 1396,
    "start_time": "2024-09-05T18:51:42.427Z"
   },
   {
    "duration": 0,
    "start_time": "2024-09-05T18:51:43.829Z"
   },
   {
    "duration": 0,
    "start_time": "2024-09-05T18:51:43.830Z"
   },
   {
    "duration": 0,
    "start_time": "2024-09-05T18:51:43.831Z"
   },
   {
    "duration": 0,
    "start_time": "2024-09-05T18:51:43.832Z"
   },
   {
    "duration": 0,
    "start_time": "2024-09-05T18:51:43.834Z"
   },
   {
    "duration": 0,
    "start_time": "2024-09-05T18:51:43.834Z"
   },
   {
    "duration": 0,
    "start_time": "2024-09-05T18:51:43.836Z"
   },
   {
    "duration": 0,
    "start_time": "2024-09-05T18:51:43.837Z"
   },
   {
    "duration": 0,
    "start_time": "2024-09-05T18:51:43.851Z"
   },
   {
    "duration": 0,
    "start_time": "2024-09-05T18:51:43.853Z"
   },
   {
    "duration": 0,
    "start_time": "2024-09-05T18:51:43.854Z"
   },
   {
    "duration": 0,
    "start_time": "2024-09-05T18:51:43.854Z"
   },
   {
    "duration": 0,
    "start_time": "2024-09-05T18:51:43.855Z"
   },
   {
    "duration": 0,
    "start_time": "2024-09-05T18:51:43.856Z"
   },
   {
    "duration": 0,
    "start_time": "2024-09-05T18:51:43.857Z"
   },
   {
    "duration": 0,
    "start_time": "2024-09-05T18:51:43.858Z"
   },
   {
    "duration": 0,
    "start_time": "2024-09-05T18:51:43.859Z"
   },
   {
    "duration": 0,
    "start_time": "2024-09-05T18:51:43.860Z"
   },
   {
    "duration": 0,
    "start_time": "2024-09-05T18:51:43.862Z"
   },
   {
    "duration": 0,
    "start_time": "2024-09-05T18:51:43.863Z"
   },
   {
    "duration": 0,
    "start_time": "2024-09-05T18:51:43.866Z"
   },
   {
    "duration": 0,
    "start_time": "2024-09-05T18:51:43.868Z"
   },
   {
    "duration": 0,
    "start_time": "2024-09-05T18:51:43.869Z"
   },
   {
    "duration": 0,
    "start_time": "2024-09-05T18:51:43.870Z"
   },
   {
    "duration": 0,
    "start_time": "2024-09-05T18:51:43.871Z"
   },
   {
    "duration": 1,
    "start_time": "2024-09-05T18:51:43.872Z"
   },
   {
    "duration": 0,
    "start_time": "2024-09-05T18:51:43.873Z"
   },
   {
    "duration": 0,
    "start_time": "2024-09-05T18:51:43.875Z"
   },
   {
    "duration": 0,
    "start_time": "2024-09-05T18:51:43.876Z"
   },
   {
    "duration": 0,
    "start_time": "2024-09-05T18:51:43.878Z"
   },
   {
    "duration": 0,
    "start_time": "2024-09-05T18:51:43.879Z"
   },
   {
    "duration": 0,
    "start_time": "2024-09-05T18:51:43.880Z"
   },
   {
    "duration": 0,
    "start_time": "2024-09-05T18:51:43.885Z"
   },
   {
    "duration": 0,
    "start_time": "2024-09-05T18:51:43.886Z"
   },
   {
    "duration": 0,
    "start_time": "2024-09-05T18:51:43.887Z"
   },
   {
    "duration": 0,
    "start_time": "2024-09-05T18:51:43.888Z"
   },
   {
    "duration": 0,
    "start_time": "2024-09-05T18:51:43.889Z"
   },
   {
    "duration": 0,
    "start_time": "2024-09-05T18:51:43.890Z"
   },
   {
    "duration": 0,
    "start_time": "2024-09-05T18:51:43.891Z"
   },
   {
    "duration": 0,
    "start_time": "2024-09-05T18:51:43.892Z"
   },
   {
    "duration": 0,
    "start_time": "2024-09-05T18:51:43.955Z"
   },
   {
    "duration": 0,
    "start_time": "2024-09-05T18:51:43.957Z"
   },
   {
    "duration": 0,
    "start_time": "2024-09-05T18:51:43.958Z"
   },
   {
    "duration": 0,
    "start_time": "2024-09-05T18:51:43.960Z"
   },
   {
    "duration": 0,
    "start_time": "2024-09-05T18:51:43.963Z"
   },
   {
    "duration": 0,
    "start_time": "2024-09-05T18:51:43.965Z"
   },
   {
    "duration": 0,
    "start_time": "2024-09-05T18:51:43.966Z"
   },
   {
    "duration": 0,
    "start_time": "2024-09-05T18:51:43.968Z"
   },
   {
    "duration": 0,
    "start_time": "2024-09-05T18:51:43.969Z"
   },
   {
    "duration": 0,
    "start_time": "2024-09-05T18:51:43.970Z"
   },
   {
    "duration": 0,
    "start_time": "2024-09-05T18:51:43.971Z"
   },
   {
    "duration": 0,
    "start_time": "2024-09-05T18:51:43.972Z"
   },
   {
    "duration": 0,
    "start_time": "2024-09-05T18:51:43.974Z"
   },
   {
    "duration": 0,
    "start_time": "2024-09-05T18:51:43.977Z"
   },
   {
    "duration": 0,
    "start_time": "2024-09-05T18:51:43.979Z"
   },
   {
    "duration": 0,
    "start_time": "2024-09-05T18:51:43.981Z"
   },
   {
    "duration": 0,
    "start_time": "2024-09-05T18:51:43.982Z"
   },
   {
    "duration": 0,
    "start_time": "2024-09-05T18:51:43.984Z"
   },
   {
    "duration": 0,
    "start_time": "2024-09-05T18:51:43.986Z"
   },
   {
    "duration": 0,
    "start_time": "2024-09-05T18:51:43.988Z"
   },
   {
    "duration": 0,
    "start_time": "2024-09-05T18:51:43.989Z"
   },
   {
    "duration": 0,
    "start_time": "2024-09-05T18:51:43.990Z"
   },
   {
    "duration": 0,
    "start_time": "2024-09-05T18:51:43.992Z"
   },
   {
    "duration": 0,
    "start_time": "2024-09-05T18:51:43.993Z"
   },
   {
    "duration": 0,
    "start_time": "2024-09-05T18:51:43.994Z"
   },
   {
    "duration": 0,
    "start_time": "2024-09-05T18:51:43.995Z"
   },
   {
    "duration": 0,
    "start_time": "2024-09-05T18:51:44.052Z"
   },
   {
    "duration": 0,
    "start_time": "2024-09-05T18:51:44.054Z"
   },
   {
    "duration": 0,
    "start_time": "2024-09-05T18:51:44.055Z"
   },
   {
    "duration": 0,
    "start_time": "2024-09-05T18:51:44.056Z"
   },
   {
    "duration": 0,
    "start_time": "2024-09-05T18:51:44.057Z"
   },
   {
    "duration": 0,
    "start_time": "2024-09-05T18:51:44.059Z"
   },
   {
    "duration": 0,
    "start_time": "2024-09-05T18:51:44.060Z"
   },
   {
    "duration": 0,
    "start_time": "2024-09-05T18:51:44.061Z"
   },
   {
    "duration": 0,
    "start_time": "2024-09-05T18:51:44.062Z"
   },
   {
    "duration": 0,
    "start_time": "2024-09-05T18:51:44.063Z"
   },
   {
    "duration": 0,
    "start_time": "2024-09-05T18:51:44.064Z"
   },
   {
    "duration": 0,
    "start_time": "2024-09-05T18:51:44.065Z"
   },
   {
    "duration": 0,
    "start_time": "2024-09-05T18:51:44.066Z"
   },
   {
    "duration": 0,
    "start_time": "2024-09-05T18:51:44.067Z"
   },
   {
    "duration": 0,
    "start_time": "2024-09-05T18:51:44.068Z"
   },
   {
    "duration": 0,
    "start_time": "2024-09-05T18:51:44.069Z"
   },
   {
    "duration": 0,
    "start_time": "2024-09-05T18:51:44.070Z"
   },
   {
    "duration": 0,
    "start_time": "2024-09-05T18:51:44.072Z"
   },
   {
    "duration": 0,
    "start_time": "2024-09-05T18:51:44.073Z"
   },
   {
    "duration": 0,
    "start_time": "2024-09-05T18:51:44.074Z"
   },
   {
    "duration": 0,
    "start_time": "2024-09-05T18:51:44.075Z"
   },
   {
    "duration": 0,
    "start_time": "2024-09-05T18:51:44.077Z"
   },
   {
    "duration": 0,
    "start_time": "2024-09-05T18:51:44.078Z"
   },
   {
    "duration": 0,
    "start_time": "2024-09-05T18:51:44.079Z"
   },
   {
    "duration": 0,
    "start_time": "2024-09-05T18:51:44.080Z"
   },
   {
    "duration": 0,
    "start_time": "2024-09-05T18:51:44.082Z"
   },
   {
    "duration": 0,
    "start_time": "2024-09-05T18:51:44.083Z"
   },
   {
    "duration": 0,
    "start_time": "2024-09-05T18:51:44.084Z"
   },
   {
    "duration": 0,
    "start_time": "2024-09-05T18:51:44.085Z"
   },
   {
    "duration": 0,
    "start_time": "2024-09-05T18:51:44.086Z"
   },
   {
    "duration": 0,
    "start_time": "2024-09-05T18:51:44.151Z"
   },
   {
    "duration": 0,
    "start_time": "2024-09-05T18:51:44.153Z"
   },
   {
    "duration": 0,
    "start_time": "2024-09-05T18:51:44.153Z"
   },
   {
    "duration": 0,
    "start_time": "2024-09-05T18:51:44.155Z"
   },
   {
    "duration": 1,
    "start_time": "2024-09-05T18:51:44.155Z"
   },
   {
    "duration": 0,
    "start_time": "2024-09-05T18:51:44.157Z"
   },
   {
    "duration": 0,
    "start_time": "2024-09-05T18:51:44.158Z"
   },
   {
    "duration": 0,
    "start_time": "2024-09-05T18:51:44.159Z"
   },
   {
    "duration": 0,
    "start_time": "2024-09-05T18:51:44.160Z"
   },
   {
    "duration": 0,
    "start_time": "2024-09-05T18:51:44.161Z"
   },
   {
    "duration": 0,
    "start_time": "2024-09-05T18:51:44.162Z"
   },
   {
    "duration": 0,
    "start_time": "2024-09-05T18:51:44.163Z"
   },
   {
    "duration": 0,
    "start_time": "2024-09-05T18:51:44.164Z"
   },
   {
    "duration": 0,
    "start_time": "2024-09-05T18:51:44.165Z"
   },
   {
    "duration": 0,
    "start_time": "2024-09-05T18:51:44.166Z"
   },
   {
    "duration": 0,
    "start_time": "2024-09-05T18:51:44.167Z"
   },
   {
    "duration": 0,
    "start_time": "2024-09-05T18:51:44.168Z"
   },
   {
    "duration": 0,
    "start_time": "2024-09-05T18:51:44.169Z"
   },
   {
    "duration": 0,
    "start_time": "2024-09-05T18:51:44.170Z"
   },
   {
    "duration": 0,
    "start_time": "2024-09-05T18:51:44.172Z"
   },
   {
    "duration": 3311,
    "start_time": "2024-09-05T18:53:55.872Z"
   },
   {
    "duration": 5682,
    "start_time": "2024-09-05T18:54:02.974Z"
   },
   {
    "duration": 2529,
    "start_time": "2024-09-05T18:54:16.319Z"
   },
   {
    "duration": 3957,
    "start_time": "2024-09-05T18:54:18.850Z"
   },
   {
    "duration": 19,
    "start_time": "2024-09-05T18:54:22.809Z"
   },
   {
    "duration": 34,
    "start_time": "2024-09-05T18:54:22.830Z"
   },
   {
    "duration": 17,
    "start_time": "2024-09-05T18:54:22.866Z"
   },
   {
    "duration": 35,
    "start_time": "2024-09-05T18:54:22.884Z"
   },
   {
    "duration": 32,
    "start_time": "2024-09-05T18:54:22.921Z"
   },
   {
    "duration": 13,
    "start_time": "2024-09-05T18:54:22.955Z"
   },
   {
    "duration": 707,
    "start_time": "2024-09-05T18:54:22.970Z"
   },
   {
    "duration": 6,
    "start_time": "2024-09-05T18:54:23.680Z"
   },
   {
    "duration": 12,
    "start_time": "2024-09-05T18:54:23.687Z"
   },
   {
    "duration": 9,
    "start_time": "2024-09-05T18:54:23.700Z"
   },
   {
    "duration": 7,
    "start_time": "2024-09-05T18:54:23.711Z"
   },
   {
    "duration": 8,
    "start_time": "2024-09-05T18:54:23.719Z"
   },
   {
    "duration": 9,
    "start_time": "2024-09-05T18:54:23.752Z"
   },
   {
    "duration": 6,
    "start_time": "2024-09-05T18:54:23.763Z"
   },
   {
    "duration": 6,
    "start_time": "2024-09-05T18:54:23.771Z"
   },
   {
    "duration": 16,
    "start_time": "2024-09-05T18:54:23.778Z"
   },
   {
    "duration": 7,
    "start_time": "2024-09-05T18:54:23.796Z"
   },
   {
    "duration": 7,
    "start_time": "2024-09-05T18:54:23.805Z"
   },
   {
    "duration": 6,
    "start_time": "2024-09-05T18:54:23.813Z"
   },
   {
    "duration": 35,
    "start_time": "2024-09-05T18:54:23.821Z"
   },
   {
    "duration": 13,
    "start_time": "2024-09-05T18:54:23.857Z"
   },
   {
    "duration": 9,
    "start_time": "2024-09-05T18:54:23.872Z"
   },
   {
    "duration": 8,
    "start_time": "2024-09-05T18:54:23.883Z"
   },
   {
    "duration": 10,
    "start_time": "2024-09-05T18:54:23.892Z"
   },
   {
    "duration": 11,
    "start_time": "2024-09-05T18:54:23.904Z"
   },
   {
    "duration": 13,
    "start_time": "2024-09-05T18:54:23.957Z"
   },
   {
    "duration": 14,
    "start_time": "2024-09-05T18:54:23.973Z"
   },
   {
    "duration": 7,
    "start_time": "2024-09-05T18:54:23.990Z"
   },
   {
    "duration": 10,
    "start_time": "2024-09-05T18:54:23.999Z"
   },
   {
    "duration": 16,
    "start_time": "2024-09-05T18:54:24.010Z"
   },
   {
    "duration": 40,
    "start_time": "2024-09-05T18:54:24.028Z"
   },
   {
    "duration": 17,
    "start_time": "2024-09-05T18:54:24.070Z"
   },
   {
    "duration": 7,
    "start_time": "2024-09-05T18:54:24.089Z"
   },
   {
    "duration": 17,
    "start_time": "2024-09-05T18:54:24.097Z"
   },
   {
    "duration": 37,
    "start_time": "2024-09-05T18:54:24.116Z"
   },
   {
    "duration": 17,
    "start_time": "2024-09-05T18:54:24.155Z"
   },
   {
    "duration": 9,
    "start_time": "2024-09-05T18:54:24.174Z"
   },
   {
    "duration": 8,
    "start_time": "2024-09-05T18:54:24.184Z"
   },
   {
    "duration": 387,
    "start_time": "2024-09-05T18:54:24.193Z"
   },
   {
    "duration": 104,
    "start_time": "2024-09-05T18:54:24.581Z"
   },
   {
    "duration": 7,
    "start_time": "2024-09-05T18:54:24.687Z"
   },
   {
    "duration": 198,
    "start_time": "2024-09-05T18:54:24.695Z"
   },
   {
    "duration": 17,
    "start_time": "2024-09-05T18:54:24.894Z"
   },
   {
    "duration": 23,
    "start_time": "2024-09-05T18:54:24.912Z"
   },
   {
    "duration": 922,
    "start_time": "2024-09-05T18:54:24.952Z"
   },
   {
    "duration": 5,
    "start_time": "2024-09-05T18:54:25.876Z"
   },
   {
    "duration": 23,
    "start_time": "2024-09-05T18:54:25.882Z"
   },
   {
    "duration": 25,
    "start_time": "2024-09-05T18:54:25.906Z"
   },
   {
    "duration": 435,
    "start_time": "2024-09-05T18:54:25.932Z"
   },
   {
    "duration": 8,
    "start_time": "2024-09-05T18:54:26.368Z"
   },
   {
    "duration": 18,
    "start_time": "2024-09-05T18:54:26.378Z"
   },
   {
    "duration": 13,
    "start_time": "2024-09-05T18:54:26.397Z"
   },
   {
    "duration": 15,
    "start_time": "2024-09-05T18:54:26.412Z"
   },
   {
    "duration": 10,
    "start_time": "2024-09-05T18:54:26.452Z"
   },
   {
    "duration": 300,
    "start_time": "2024-09-05T18:54:26.464Z"
   },
   {
    "duration": 253,
    "start_time": "2024-09-05T18:54:26.765Z"
   },
   {
    "duration": 271,
    "start_time": "2024-09-05T18:54:27.019Z"
   },
   {
    "duration": 6,
    "start_time": "2024-09-05T18:54:27.291Z"
   },
   {
    "duration": 188,
    "start_time": "2024-09-05T18:54:27.299Z"
   },
   {
    "duration": 8,
    "start_time": "2024-09-05T18:54:27.489Z"
   },
   {
    "duration": 288,
    "start_time": "2024-09-05T18:54:27.498Z"
   },
   {
    "duration": 7,
    "start_time": "2024-09-05T18:54:27.788Z"
   },
   {
    "duration": 6,
    "start_time": "2024-09-05T18:54:27.797Z"
   },
   {
    "duration": 170,
    "start_time": "2024-09-05T18:54:27.804Z"
   },
   {
    "duration": 7,
    "start_time": "2024-09-05T18:54:27.975Z"
   },
   {
    "duration": 177,
    "start_time": "2024-09-05T18:54:27.984Z"
   },
   {
    "duration": 7,
    "start_time": "2024-09-05T18:54:28.162Z"
   },
   {
    "duration": 11,
    "start_time": "2024-09-05T18:54:28.170Z"
   },
   {
    "duration": 185,
    "start_time": "2024-09-05T18:54:28.182Z"
   },
   {
    "duration": 7,
    "start_time": "2024-09-05T18:54:28.369Z"
   },
   {
    "duration": 179,
    "start_time": "2024-09-05T18:54:28.378Z"
   },
   {
    "duration": 7,
    "start_time": "2024-09-05T18:54:28.559Z"
   },
   {
    "duration": 6,
    "start_time": "2024-09-05T18:54:28.567Z"
   },
   {
    "duration": 196,
    "start_time": "2024-09-05T18:54:28.574Z"
   },
   {
    "duration": 7,
    "start_time": "2024-09-05T18:54:28.771Z"
   },
   {
    "duration": 189,
    "start_time": "2024-09-05T18:54:28.780Z"
   },
   {
    "duration": 7,
    "start_time": "2024-09-05T18:54:28.971Z"
   },
   {
    "duration": 14,
    "start_time": "2024-09-05T18:54:28.979Z"
   },
   {
    "duration": 8,
    "start_time": "2024-09-05T18:54:28.994Z"
   },
   {
    "duration": 397,
    "start_time": "2024-09-05T18:54:29.008Z"
   },
   {
    "duration": 15,
    "start_time": "2024-09-05T18:54:29.406Z"
   },
   {
    "duration": 8,
    "start_time": "2024-09-05T18:54:29.422Z"
   },
   {
    "duration": 331,
    "start_time": "2024-09-05T18:54:29.432Z"
   },
   {
    "duration": 6,
    "start_time": "2024-09-05T18:54:29.764Z"
   },
   {
    "duration": 132,
    "start_time": "2024-09-05T18:54:29.771Z"
   },
   {
    "duration": 15,
    "start_time": "2024-09-05T18:54:29.905Z"
   },
   {
    "duration": 7,
    "start_time": "2024-09-05T18:54:29.922Z"
   },
   {
    "duration": 306,
    "start_time": "2024-09-05T18:54:29.931Z"
   },
   {
    "duration": 218,
    "start_time": "2024-09-05T18:54:30.239Z"
   },
   {
    "duration": 14,
    "start_time": "2024-09-05T18:54:30.459Z"
   },
   {
    "duration": 9,
    "start_time": "2024-09-05T18:54:30.474Z"
   },
   {
    "duration": 332,
    "start_time": "2024-09-05T18:54:30.484Z"
   },
   {
    "duration": 128,
    "start_time": "2024-09-05T18:54:30.818Z"
   },
   {
    "duration": 16,
    "start_time": "2024-09-05T18:54:30.948Z"
   },
   {
    "duration": 8,
    "start_time": "2024-09-05T18:54:30.966Z"
   },
   {
    "duration": 295,
    "start_time": "2024-09-05T18:54:30.976Z"
   },
   {
    "duration": 13,
    "start_time": "2024-09-05T18:54:31.273Z"
   },
   {
    "duration": 8,
    "start_time": "2024-09-05T18:54:31.288Z"
   },
   {
    "duration": 333,
    "start_time": "2024-09-05T18:54:31.297Z"
   },
   {
    "duration": 21,
    "start_time": "2024-09-05T18:54:31.632Z"
   },
   {
    "duration": 14,
    "start_time": "2024-09-05T18:54:31.654Z"
   },
   {
    "duration": 297,
    "start_time": "2024-09-05T18:54:31.669Z"
   },
   {
    "duration": 14,
    "start_time": "2024-09-05T18:54:31.967Z"
   },
   {
    "duration": 19,
    "start_time": "2024-09-05T18:54:31.982Z"
   },
   {
    "duration": 161,
    "start_time": "2024-09-05T18:54:32.002Z"
   },
   {
    "duration": 13,
    "start_time": "2024-09-05T18:54:32.164Z"
   },
   {
    "duration": 8,
    "start_time": "2024-09-05T18:54:32.178Z"
   },
   {
    "duration": 165,
    "start_time": "2024-09-05T18:54:32.187Z"
   },
   {
    "duration": 17,
    "start_time": "2024-09-05T18:54:32.354Z"
   },
   {
    "duration": 11,
    "start_time": "2024-09-05T18:54:32.373Z"
   },
   {
    "duration": 197,
    "start_time": "2024-09-05T18:54:32.386Z"
   },
   {
    "duration": 17,
    "start_time": "2024-09-05T18:54:32.584Z"
   },
   {
    "duration": 7,
    "start_time": "2024-09-05T18:54:32.603Z"
   },
   {
    "duration": 10,
    "start_time": "2024-09-05T18:54:32.612Z"
   },
   {
    "duration": 218,
    "start_time": "2024-09-05T18:54:32.623Z"
   },
   {
    "duration": 280,
    "start_time": "2024-09-05T18:54:32.842Z"
   },
   {
    "duration": 2586,
    "start_time": "2024-09-05T19:09:46.599Z"
   },
   {
    "duration": 3976,
    "start_time": "2024-09-05T19:09:49.187Z"
   },
   {
    "duration": 20,
    "start_time": "2024-09-05T19:09:53.168Z"
   },
   {
    "duration": 52,
    "start_time": "2024-09-05T19:09:53.190Z"
   },
   {
    "duration": 19,
    "start_time": "2024-09-05T19:09:53.243Z"
   },
   {
    "duration": 52,
    "start_time": "2024-09-05T19:09:53.264Z"
   },
   {
    "duration": 12,
    "start_time": "2024-09-05T19:09:53.318Z"
   },
   {
    "duration": 23,
    "start_time": "2024-09-05T19:09:53.331Z"
   },
   {
    "duration": 762,
    "start_time": "2024-09-05T19:09:53.357Z"
   },
   {
    "duration": 6,
    "start_time": "2024-09-05T19:09:54.120Z"
   },
   {
    "duration": 27,
    "start_time": "2024-09-05T19:09:54.127Z"
   },
   {
    "duration": 8,
    "start_time": "2024-09-05T19:09:54.156Z"
   },
   {
    "duration": 30,
    "start_time": "2024-09-05T19:09:54.166Z"
   },
   {
    "duration": 23,
    "start_time": "2024-09-05T19:09:54.198Z"
   },
   {
    "duration": 9,
    "start_time": "2024-09-05T19:09:54.222Z"
   },
   {
    "duration": 14,
    "start_time": "2024-09-05T19:09:54.233Z"
   },
   {
    "duration": 10,
    "start_time": "2024-09-05T19:09:54.248Z"
   },
   {
    "duration": 44,
    "start_time": "2024-09-05T19:09:54.260Z"
   },
   {
    "duration": 40,
    "start_time": "2024-09-05T19:09:54.306Z"
   },
   {
    "duration": 8,
    "start_time": "2024-09-05T19:09:54.348Z"
   },
   {
    "duration": 11,
    "start_time": "2024-09-05T19:09:54.359Z"
   },
   {
    "duration": 12,
    "start_time": "2024-09-05T19:09:54.372Z"
   },
   {
    "duration": 13,
    "start_time": "2024-09-05T19:09:54.386Z"
   },
   {
    "duration": 7,
    "start_time": "2024-09-05T19:09:54.401Z"
   },
   {
    "duration": 7,
    "start_time": "2024-09-05T19:09:54.409Z"
   },
   {
    "duration": 6,
    "start_time": "2024-09-05T19:09:54.417Z"
   },
   {
    "duration": 8,
    "start_time": "2024-09-05T19:09:54.455Z"
   },
   {
    "duration": 8,
    "start_time": "2024-09-05T19:09:54.465Z"
   },
   {
    "duration": 8,
    "start_time": "2024-09-05T19:09:54.475Z"
   },
   {
    "duration": 22,
    "start_time": "2024-09-05T19:09:54.484Z"
   },
   {
    "duration": 10,
    "start_time": "2024-09-05T19:09:54.507Z"
   },
   {
    "duration": 19,
    "start_time": "2024-09-05T19:09:54.518Z"
   },
   {
    "duration": 21,
    "start_time": "2024-09-05T19:09:54.551Z"
   },
   {
    "duration": 19,
    "start_time": "2024-09-05T19:09:54.574Z"
   },
   {
    "duration": 10,
    "start_time": "2024-09-05T19:09:54.594Z"
   },
   {
    "duration": 18,
    "start_time": "2024-09-05T19:09:54.606Z"
   },
   {
    "duration": 9,
    "start_time": "2024-09-05T19:09:54.653Z"
   },
   {
    "duration": 20,
    "start_time": "2024-09-05T19:09:54.664Z"
   },
   {
    "duration": 10,
    "start_time": "2024-09-05T19:09:54.685Z"
   },
   {
    "duration": 9,
    "start_time": "2024-09-05T19:09:54.696Z"
   },
   {
    "duration": 386,
    "start_time": "2024-09-05T19:09:54.706Z"
   },
   {
    "duration": 105,
    "start_time": "2024-09-05T19:09:55.093Z"
   },
   {
    "duration": 13,
    "start_time": "2024-09-05T19:09:55.200Z"
   },
   {
    "duration": 205,
    "start_time": "2024-09-05T19:09:55.215Z"
   },
   {
    "duration": 18,
    "start_time": "2024-09-05T19:09:55.421Z"
   },
   {
    "duration": 44,
    "start_time": "2024-09-05T19:09:55.451Z"
   },
   {
    "duration": 1061,
    "start_time": "2024-09-05T19:09:55.497Z"
   },
   {
    "duration": 6,
    "start_time": "2024-09-05T19:09:56.559Z"
   },
   {
    "duration": 29,
    "start_time": "2024-09-05T19:09:56.567Z"
   },
   {
    "duration": 26,
    "start_time": "2024-09-05T19:09:56.597Z"
   },
   {
    "duration": 475,
    "start_time": "2024-09-05T19:09:56.625Z"
   },
   {
    "duration": 9,
    "start_time": "2024-09-05T19:09:57.102Z"
   },
   {
    "duration": 35,
    "start_time": "2024-09-05T19:09:57.113Z"
   },
   {
    "duration": 16,
    "start_time": "2024-09-05T19:09:57.149Z"
   },
   {
    "duration": 25,
    "start_time": "2024-09-05T19:09:57.167Z"
   },
   {
    "duration": 11,
    "start_time": "2024-09-05T19:09:57.194Z"
   },
   {
    "duration": 394,
    "start_time": "2024-09-05T19:09:57.207Z"
   },
   {
    "duration": 287,
    "start_time": "2024-09-05T19:09:57.602Z"
   },
   {
    "duration": 348,
    "start_time": "2024-09-05T19:09:57.891Z"
   },
   {
    "duration": 9,
    "start_time": "2024-09-05T19:09:58.252Z"
   },
   {
    "duration": 236,
    "start_time": "2024-09-05T19:09:58.263Z"
   },
   {
    "duration": 99,
    "start_time": "2024-09-05T19:09:58.501Z"
   },
   {
    "duration": 195,
    "start_time": "2024-09-05T19:09:58.602Z"
   },
   {
    "duration": 8,
    "start_time": "2024-09-05T19:09:58.799Z"
   },
   {
    "duration": 6,
    "start_time": "2024-09-05T19:09:58.809Z"
   },
   {
    "duration": 170,
    "start_time": "2024-09-05T19:09:58.816Z"
   },
   {
    "duration": 8,
    "start_time": "2024-09-05T19:09:58.987Z"
   },
   {
    "duration": 179,
    "start_time": "2024-09-05T19:09:58.996Z"
   },
   {
    "duration": 8,
    "start_time": "2024-09-05T19:09:59.177Z"
   },
   {
    "duration": 6,
    "start_time": "2024-09-05T19:09:59.187Z"
   },
   {
    "duration": 187,
    "start_time": "2024-09-05T19:09:59.194Z"
   },
   {
    "duration": 7,
    "start_time": "2024-09-05T19:09:59.383Z"
   },
   {
    "duration": 180,
    "start_time": "2024-09-05T19:09:59.392Z"
   },
   {
    "duration": 8,
    "start_time": "2024-09-05T19:09:59.574Z"
   },
   {
    "duration": 8,
    "start_time": "2024-09-05T19:09:59.584Z"
   },
   {
    "duration": 197,
    "start_time": "2024-09-05T19:09:59.594Z"
   },
   {
    "duration": 8,
    "start_time": "2024-09-05T19:09:59.793Z"
   },
   {
    "duration": 208,
    "start_time": "2024-09-05T19:09:59.802Z"
   },
   {
    "duration": 7,
    "start_time": "2024-09-05T19:10:00.012Z"
   },
   {
    "duration": 37,
    "start_time": "2024-09-05T19:10:00.020Z"
   },
   {
    "duration": 8,
    "start_time": "2024-09-05T19:10:00.065Z"
   },
   {
    "duration": 354,
    "start_time": "2024-09-05T19:10:00.075Z"
   },
   {
    "duration": 27,
    "start_time": "2024-09-05T19:10:00.432Z"
   },
   {
    "duration": 25,
    "start_time": "2024-09-05T19:10:00.461Z"
   },
   {
    "duration": 367,
    "start_time": "2024-09-05T19:10:00.489Z"
   },
   {
    "duration": 8,
    "start_time": "2024-09-05T19:10:00.858Z"
   },
   {
    "duration": 190,
    "start_time": "2024-09-05T19:10:00.868Z"
   },
   {
    "duration": 15,
    "start_time": "2024-09-05T19:10:01.060Z"
   },
   {
    "duration": 50,
    "start_time": "2024-09-05T19:10:01.077Z"
   },
   {
    "duration": 315,
    "start_time": "2024-09-05T19:10:01.129Z"
   },
   {
    "duration": 234,
    "start_time": "2024-09-05T19:10:01.445Z"
   },
   {
    "duration": 16,
    "start_time": "2024-09-05T19:10:01.681Z"
   },
   {
    "duration": 18,
    "start_time": "2024-09-05T19:10:01.698Z"
   },
   {
    "duration": 311,
    "start_time": "2024-09-05T19:10:01.718Z"
   },
   {
    "duration": 135,
    "start_time": "2024-09-05T19:10:02.031Z"
   },
   {
    "duration": 14,
    "start_time": "2024-09-05T19:10:02.168Z"
   },
   {
    "duration": 26,
    "start_time": "2024-09-05T19:10:02.184Z"
   },
   {
    "duration": 360,
    "start_time": "2024-09-05T19:10:02.211Z"
   },
   {
    "duration": 15,
    "start_time": "2024-09-05T19:10:02.572Z"
   },
   {
    "duration": 26,
    "start_time": "2024-09-05T19:10:02.589Z"
   },
   {
    "duration": 336,
    "start_time": "2024-09-05T19:10:02.617Z"
   },
   {
    "duration": 16,
    "start_time": "2024-09-05T19:10:02.955Z"
   },
   {
    "duration": 20,
    "start_time": "2024-09-05T19:10:02.972Z"
   },
   {
    "duration": 346,
    "start_time": "2024-09-05T19:10:02.994Z"
   },
   {
    "duration": 17,
    "start_time": "2024-09-05T19:10:03.342Z"
   },
   {
    "duration": 9,
    "start_time": "2024-09-05T19:10:03.360Z"
   },
   {
    "duration": 183,
    "start_time": "2024-09-05T19:10:03.371Z"
   },
   {
    "duration": 15,
    "start_time": "2024-09-05T19:10:03.556Z"
   },
   {
    "duration": 23,
    "start_time": "2024-09-05T19:10:03.573Z"
   },
   {
    "duration": 157,
    "start_time": "2024-09-05T19:10:03.597Z"
   },
   {
    "duration": 14,
    "start_time": "2024-09-05T19:10:03.755Z"
   },
   {
    "duration": 9,
    "start_time": "2024-09-05T19:10:03.770Z"
   },
   {
    "duration": 233,
    "start_time": "2024-09-05T19:10:03.780Z"
   },
   {
    "duration": 17,
    "start_time": "2024-09-05T19:10:04.015Z"
   },
   {
    "duration": 18,
    "start_time": "2024-09-05T19:10:04.034Z"
   },
   {
    "duration": 10,
    "start_time": "2024-09-05T19:10:04.053Z"
   },
   {
    "duration": 208,
    "start_time": "2024-09-05T19:10:04.064Z"
   },
   {
    "duration": 262,
    "start_time": "2024-09-05T19:10:04.273Z"
   },
   {
    "duration": 3259,
    "start_time": "2024-09-07T15:20:22.521Z"
   },
   {
    "duration": 6862,
    "start_time": "2024-09-07T15:20:25.784Z"
   },
   {
    "duration": 18,
    "start_time": "2024-09-07T15:20:32.650Z"
   },
   {
    "duration": 71,
    "start_time": "2024-09-07T15:20:32.670Z"
   },
   {
    "duration": 16,
    "start_time": "2024-09-07T15:20:32.742Z"
   },
   {
    "duration": 32,
    "start_time": "2024-09-07T15:20:32.760Z"
   },
   {
    "duration": 13,
    "start_time": "2024-09-07T15:20:32.794Z"
   },
   {
    "duration": 15,
    "start_time": "2024-09-07T15:20:32.809Z"
   },
   {
    "duration": 682,
    "start_time": "2024-09-07T15:20:32.826Z"
   },
   {
    "duration": 6,
    "start_time": "2024-09-07T15:20:33.512Z"
   },
   {
    "duration": 18,
    "start_time": "2024-09-07T15:20:33.519Z"
   },
   {
    "duration": 9,
    "start_time": "2024-09-07T15:20:33.539Z"
   },
   {
    "duration": 7,
    "start_time": "2024-09-07T15:20:33.550Z"
   },
   {
    "duration": 8,
    "start_time": "2024-09-07T15:20:33.559Z"
   },
   {
    "duration": 9,
    "start_time": "2024-09-07T15:20:33.569Z"
   },
   {
    "duration": 8,
    "start_time": "2024-09-07T15:20:33.579Z"
   },
   {
    "duration": 10,
    "start_time": "2024-09-07T15:20:33.588Z"
   },
   {
    "duration": 16,
    "start_time": "2024-09-07T15:20:33.599Z"
   },
   {
    "duration": 7,
    "start_time": "2024-09-07T15:20:33.617Z"
   },
   {
    "duration": 7,
    "start_time": "2024-09-07T15:20:33.652Z"
   },
   {
    "duration": 6,
    "start_time": "2024-09-07T15:20:33.661Z"
   },
   {
    "duration": 6,
    "start_time": "2024-09-07T15:20:33.668Z"
   },
   {
    "duration": 6,
    "start_time": "2024-09-07T15:20:33.676Z"
   },
   {
    "duration": 19,
    "start_time": "2024-09-07T15:20:33.683Z"
   },
   {
    "duration": 15,
    "start_time": "2024-09-07T15:20:33.703Z"
   },
   {
    "duration": 9,
    "start_time": "2024-09-07T15:20:33.719Z"
   },
   {
    "duration": 29,
    "start_time": "2024-09-07T15:20:33.729Z"
   },
   {
    "duration": 7,
    "start_time": "2024-09-07T15:20:33.762Z"
   },
   {
    "duration": 7,
    "start_time": "2024-09-07T15:20:33.770Z"
   },
   {
    "duration": 6,
    "start_time": "2024-09-07T15:20:33.778Z"
   },
   {
    "duration": 14,
    "start_time": "2024-09-07T15:20:33.785Z"
   },
   {
    "duration": 18,
    "start_time": "2024-09-07T15:20:33.801Z"
   },
   {
    "duration": 48,
    "start_time": "2024-09-07T15:20:33.820Z"
   },
   {
    "duration": 25,
    "start_time": "2024-09-07T15:20:33.870Z"
   },
   {
    "duration": 17,
    "start_time": "2024-09-07T15:20:33.897Z"
   },
   {
    "duration": 69,
    "start_time": "2024-09-07T15:20:33.920Z"
   },
   {
    "duration": 16,
    "start_time": "2024-09-07T15:20:33.991Z"
   },
   {
    "duration": 20,
    "start_time": "2024-09-07T15:20:34.009Z"
   },
   {
    "duration": 10,
    "start_time": "2024-09-07T15:20:34.030Z"
   },
   {
    "duration": 8,
    "start_time": "2024-09-07T15:20:34.041Z"
   },
   {
    "duration": 359,
    "start_time": "2024-09-07T15:20:34.050Z"
   },
   {
    "duration": 95,
    "start_time": "2024-09-07T15:20:34.411Z"
   },
   {
    "duration": 8,
    "start_time": "2024-09-07T15:20:34.508Z"
   },
   {
    "duration": 188,
    "start_time": "2024-09-07T15:20:34.517Z"
   },
   {
    "duration": 17,
    "start_time": "2024-09-07T15:20:34.707Z"
   },
   {
    "duration": 33,
    "start_time": "2024-09-07T15:20:34.726Z"
   },
   {
    "duration": 916,
    "start_time": "2024-09-07T15:20:34.761Z"
   },
   {
    "duration": 5,
    "start_time": "2024-09-07T15:20:35.678Z"
   },
   {
    "duration": 57,
    "start_time": "2024-09-07T15:20:35.685Z"
   },
   {
    "duration": 17,
    "start_time": "2024-09-07T15:20:35.744Z"
   },
   {
    "duration": 4,
    "start_time": "2024-09-07T15:20:35.763Z"
   },
   {
    "duration": 4,
    "start_time": "2024-09-07T15:20:35.769Z"
   },
   {
    "duration": 206,
    "start_time": "2024-09-07T15:20:35.775Z"
   },
   {
    "duration": 10,
    "start_time": "2024-09-07T15:20:35.983Z"
   },
   {
    "duration": 27,
    "start_time": "2024-09-07T15:20:35.995Z"
   },
   {
    "duration": 31,
    "start_time": "2024-09-07T15:20:36.023Z"
   },
   {
    "duration": 28,
    "start_time": "2024-09-07T15:20:36.056Z"
   },
   {
    "duration": 41,
    "start_time": "2024-09-07T15:20:36.085Z"
   },
   {
    "duration": 314,
    "start_time": "2024-09-07T15:20:36.128Z"
   },
   {
    "duration": 255,
    "start_time": "2024-09-07T15:20:36.444Z"
   },
   {
    "duration": 253,
    "start_time": "2024-09-07T15:20:36.700Z"
   },
   {
    "duration": 5,
    "start_time": "2024-09-07T15:20:36.955Z"
   },
   {
    "duration": 173,
    "start_time": "2024-09-07T15:20:36.961Z"
   },
   {
    "duration": 7,
    "start_time": "2024-09-07T15:20:37.136Z"
   },
   {
    "duration": 237,
    "start_time": "2024-09-07T15:20:37.152Z"
   },
   {
    "duration": 6,
    "start_time": "2024-09-07T15:20:37.391Z"
   },
   {
    "duration": 96,
    "start_time": "2024-09-07T15:20:37.398Z"
   },
   {
    "duration": 149,
    "start_time": "2024-09-07T15:20:37.496Z"
   },
   {
    "duration": 7,
    "start_time": "2024-09-07T15:20:37.647Z"
   },
   {
    "duration": 157,
    "start_time": "2024-09-07T15:20:37.655Z"
   },
   {
    "duration": 6,
    "start_time": "2024-09-07T15:20:37.814Z"
   },
   {
    "duration": 5,
    "start_time": "2024-09-07T15:20:37.822Z"
   },
   {
    "duration": 169,
    "start_time": "2024-09-07T15:20:37.828Z"
   },
   {
    "duration": 7,
    "start_time": "2024-09-07T15:20:37.998Z"
   },
   {
    "duration": 180,
    "start_time": "2024-09-07T15:20:38.006Z"
   },
   {
    "duration": 8,
    "start_time": "2024-09-07T15:20:38.187Z"
   },
   {
    "duration": 32,
    "start_time": "2024-09-07T15:20:38.196Z"
   },
   {
    "duration": 167,
    "start_time": "2024-09-07T15:20:38.229Z"
   },
   {
    "duration": 8,
    "start_time": "2024-09-07T15:20:38.398Z"
   },
   {
    "duration": 182,
    "start_time": "2024-09-07T15:20:38.407Z"
   },
   {
    "duration": 6,
    "start_time": "2024-09-07T15:20:38.591Z"
   },
   {
    "duration": 3,
    "start_time": "2024-09-07T15:20:38.605Z"
   },
   {
    "duration": 14,
    "start_time": "2024-09-07T15:20:38.609Z"
   },
   {
    "duration": 32,
    "start_time": "2024-09-07T15:20:38.625Z"
   },
   {
    "duration": 415,
    "start_time": "2024-09-07T15:20:38.659Z"
   },
   {
    "duration": 3,
    "start_time": "2024-09-07T15:20:39.076Z"
   },
   {
    "duration": 23,
    "start_time": "2024-09-07T15:20:39.081Z"
   },
   {
    "duration": 7,
    "start_time": "2024-09-07T15:20:39.105Z"
   },
   {
    "duration": 321,
    "start_time": "2024-09-07T15:20:39.113Z"
   },
   {
    "duration": 5,
    "start_time": "2024-09-07T15:20:39.436Z"
   },
   {
    "duration": 137,
    "start_time": "2024-09-07T15:20:39.442Z"
   },
   {
    "duration": 14,
    "start_time": "2024-09-07T15:20:39.581Z"
   },
   {
    "duration": 8,
    "start_time": "2024-09-07T15:20:39.596Z"
   },
   {
    "duration": 328,
    "start_time": "2024-09-07T15:20:39.605Z"
   },
   {
    "duration": 210,
    "start_time": "2024-09-07T15:20:39.935Z"
   },
   {
    "duration": 13,
    "start_time": "2024-09-07T15:20:40.147Z"
   },
   {
    "duration": 12,
    "start_time": "2024-09-07T15:20:40.162Z"
   },
   {
    "duration": 277,
    "start_time": "2024-09-07T15:20:40.175Z"
   },
   {
    "duration": 122,
    "start_time": "2024-09-07T15:20:40.454Z"
   },
   {
    "duration": 2,
    "start_time": "2024-09-07T15:20:40.578Z"
   },
   {
    "duration": 13,
    "start_time": "2024-09-07T15:20:40.582Z"
   },
   {
    "duration": 7,
    "start_time": "2024-09-07T15:20:40.597Z"
   },
   {
    "duration": 321,
    "start_time": "2024-09-07T15:20:40.605Z"
   },
   {
    "duration": 3,
    "start_time": "2024-09-07T15:20:40.928Z"
   },
   {
    "duration": 5,
    "start_time": "2024-09-07T15:20:40.932Z"
   },
   {
    "duration": 13,
    "start_time": "2024-09-07T15:20:40.952Z"
   },
   {
    "duration": 7,
    "start_time": "2024-09-07T15:20:40.967Z"
   },
   {
    "duration": 278,
    "start_time": "2024-09-07T15:20:40.975Z"
   },
   {
    "duration": 3,
    "start_time": "2024-09-07T15:20:41.255Z"
   },
   {
    "duration": 3,
    "start_time": "2024-09-07T15:20:41.259Z"
   },
   {
    "duration": 13,
    "start_time": "2024-09-07T15:20:41.264Z"
   },
   {
    "duration": 7,
    "start_time": "2024-09-07T15:20:41.278Z"
   },
   {
    "duration": 336,
    "start_time": "2024-09-07T15:20:41.287Z"
   },
   {
    "duration": 3,
    "start_time": "2024-09-07T15:20:41.624Z"
   },
   {
    "duration": 25,
    "start_time": "2024-09-07T15:20:41.629Z"
   },
   {
    "duration": 13,
    "start_time": "2024-09-07T15:20:41.655Z"
   },
   {
    "duration": 179,
    "start_time": "2024-09-07T15:20:41.670Z"
   },
   {
    "duration": 13,
    "start_time": "2024-09-07T15:20:41.850Z"
   },
   {
    "duration": 17,
    "start_time": "2024-09-07T15:20:41.865Z"
   },
   {
    "duration": 152,
    "start_time": "2024-09-07T15:20:41.884Z"
   },
   {
    "duration": 23,
    "start_time": "2024-09-07T15:20:42.038Z"
   },
   {
    "duration": 12,
    "start_time": "2024-09-07T15:20:42.062Z"
   },
   {
    "duration": 167,
    "start_time": "2024-09-07T15:20:42.076Z"
   },
   {
    "duration": 21,
    "start_time": "2024-09-07T15:20:42.244Z"
   },
   {
    "duration": 5,
    "start_time": "2024-09-07T15:20:42.267Z"
   },
   {
    "duration": 10,
    "start_time": "2024-09-07T15:20:42.273Z"
   },
   {
    "duration": 211,
    "start_time": "2024-09-07T15:20:42.285Z"
   },
   {
    "duration": 311,
    "start_time": "2024-09-07T15:20:42.497Z"
   }
  ],
  "kernelspec": {
   "display_name": "Python 3 (ipykernel)",
   "language": "python",
   "name": "python3"
  },
  "language_info": {
   "codemirror_mode": {
    "name": "ipython",
    "version": 3
   },
   "file_extension": ".py",
   "mimetype": "text/x-python",
   "name": "python",
   "nbconvert_exporter": "python",
   "pygments_lexer": "ipython3",
   "version": "3.12.4"
  },
  "toc": {
   "base_numbering": 1,
   "nav_menu": {},
   "number_sections": true,
   "sideBar": true,
   "skip_h1_title": true,
   "title_cell": "Table of Contents",
   "title_sidebar": "Contents",
   "toc_cell": false,
   "toc_position": {},
   "toc_section_display": true,
   "toc_window_display": false
  }
 },
 "nbformat": 4,
 "nbformat_minor": 5
}
